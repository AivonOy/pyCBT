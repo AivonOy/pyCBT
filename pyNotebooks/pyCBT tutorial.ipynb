{
 "metadata": {
  "name": "",
  "signature": "sha256:736677c59a03f0641730478eea5e79cb42e0b669366f196b88f323841a123fe4"
 },
 "nbformat": 3,
 "nbformat_minor": 0,
 "worksheets": [
  {
   "cells": [
    {
     "cell_type": "heading",
     "level": 1,
     "metadata": {},
     "source": [
      "pyCBT tutorial"
     ]
    },
    {
     "cell_type": "markdown",
     "metadata": {},
     "source": [
      "*29.10.2013 Leif Roschier/Aivon Oy (Finland)*\n",
      "\n",
      "*26.05.2014 Angelo Di Marco/LPMMC - Grenoble (France)*\n",
      "\n",
      "\n",
      ">**Note: this document is written with [ipython notebook](http://ipython.org/notebook.html) . You can install ipython, download this document and run it with your own computer.**\n",
      "\n",
      "The python library [pyCBT](https://github.com/AivonOy/pyCBT/src) allows one to calculate the temperature of a Coulomb Blockade Thermometer (CBT) as well as other parameters of the temperature sensor. The values of all these quantities are extracted from the numerical fit of the CBT measured conductance curve $G^\\textrm{meas}(V^\\textrm{meas})$. All the calculations are based on the theory explained in the papers\n",
      "\n",
      "[1] J. P. Pekola, *et. al.* , *Physical Review Letters*, volume **73**, page 2903 (1994)\n",
      "\n",
      "[2] Sh. Farhangfar, *et. al.* , *Journal of Low Temperature Physics*, volume **108**, page 191 (1997).\n",
      "\n",
      "[3] M. Meschke, J. P. Pekola, F. Gay, R. E. Rapp, and H. Godfrin, *J. Low Temp. Phys B* **134**, 1119 (2004). \n",
      "\n",
      "The main python file for the measured conductance fit is **fit_and_plot.py**. In the following, we go through it step-by-step."
     ]
    },
    {
     "cell_type": "markdown",
     "metadata": {},
     "source": [
      "First of all, the folder containing the needed libraries is added to the path."
     ]
    },
    {
     "cell_type": "code",
     "collapsed": false,
     "input": [
      "import sys, time\n",
      "sys.path.append( '../src' ) # path indicating the folder where the libraries is\n",
      "# this makes figures to pop up in this notebook\n",
      "%pylab inline "
     ],
     "language": "python",
     "metadata": {},
     "outputs": [
      {
       "output_type": "stream",
       "stream": "stdout",
       "text": [
        "Populating the interactive namespace from numpy and matplotlib\n"
       ]
      }
     ],
     "prompt_number": 3
    },
    {
     "cell_type": "markdown",
     "metadata": {},
     "source": [
      "Next we import the needed libraries"
     ]
    },
    {
     "cell_type": "code",
     "collapsed": false,
     "input": [
      "from CBT_lib import * # main lib # it contains the functions used to calculate numerically the current (Eq. (4) of the  \n",
      "                                 # paper [1]) and its first derivative, i.e., the conductance, through one symmetric double \n",
      "                                 # junction array (one island case)\n",
      "from CBT_fit_lib import * # lib for fitting the measured data\n",
      "from CBT_plot_data_pyx import * # lib for plotting with pyx\n",
      "from CBT_fit_multi_T import * # lib for fitting multiple curves simultaneously"
     ],
     "language": "python",
     "metadata": {},
     "outputs": [],
     "prompt_number": 4
    },
    {
     "cell_type": "markdown",
     "metadata": {},
     "source": [
      "and we set the main parameters that we use in the calculations"
     ]
    },
    {
     "cell_type": "code",
     "collapsed": false,
     "input": [
      "N_junctions=33.0        # number of junctions in each array\n",
      "parallel_arrays = 20.0  # number of arrays in parallel \n",
      "island_size_init=400.0 # 1e-15 m^3 # island size used to evaluate its heating due to the electron-phonon coupling\n",
      "excitation = 30e-6/N_junctions  # AC voltage excitation of measurement"
     ],
     "language": "python",
     "metadata": {},
     "outputs": [],
     "prompt_number": 5
    },
    {
     "cell_type": "markdown",
     "metadata": {},
     "source": [
      "as well as the initial values of the variables used in the optimization (REMARK: the fit is very sensitive to the choice of these initial guesses)"
     ]
    },
    {
     "cell_type": "code",
     "collapsed": false,
     "input": [
      "T_init = 10e-3 # K  # initial guess for the temperature\n",
      "R_tunnel_init=28.0 # kOhm # initial guess for the tunnel resistance of the single junction\n",
      "TEC_init=5e-3 # K # double charging energy of the single island\n",
      "# If bounds given, they are used to limit optimization\n",
      "#R,C,T\n",
      "bounds = [(1.0,100.0),(230.0,240.0),(5.0,250.0)] #(min,max)"
     ],
     "language": "python",
     "metadata": {},
     "outputs": [],
     "prompt_number": 6
    },
    {
     "cell_type": "markdown",
     "metadata": {},
     "source": [
      "Then we load the file containing the real measured data, $G^\\textrm{meas}(V^\\textrm{meas})$, (data file has one voltage column $(V^\\textrm{meas})$ and one resistance column $(1/G^\\textrm{meas})$) and we introduce the **fitter** object, used to have access to the fitting functions which are defined in the class CBT_fitter()."
     ]
    },
    {
     "cell_type": "code",
     "collapsed": false,
     "input": [
      "filename = \"../src/data/sample_T2.txt\"   # load of the real measured data \n",
      "fitter=CBT_fitter(filename=filename,T_init=T_init,island_size_init=island_size_init,\n",
      "                      R_tunnel_init=R_tunnel_init,TEC_init=TEC_init,\n",
      "                        bounds=bounds,const_P=500e-18,\n",
      "                        excitation=excitation,parallel_arrays=parallel_arrays,\n",
      "                        junctions_in_series = N_junctions)  # fitting class defined in CBT_fit_lib.py"
     ],
     "language": "python",
     "metadata": {},
     "outputs": [],
     "prompt_number": 8
    },
    {
     "cell_type": "markdown",
     "metadata": {},
     "source": [
      "Besides the parameters already mentioned, in **fitter** two more variables are introduced. \n",
      "\n",
      "1) The number of junctions **N** of the array to which the whole system is reduced to simplify the calculations. Note that, in general, the minimum value of $N$ is 2. Indeed, the case $N=1$ corresponds to just a single junction CBT, whose current does not depend on temperature anymore (at least according to the formalism used in the papers [1] and [2]) because of the absence of an island where charge can be localized. In order to use Eq.(4) of the paper [1], in all the calculations the case $N=2$ is considered. \n",
      "\n",
      "2) The constant heat power noise **const_P** which typically affects measurements even when the bias voltage is zero.\n",
      "\n",
      "\n",
      "Before the fitting procedure starts, the offset of the experimental data introduced by the voltmeter has to be calculated and the conductance curve corrected accordingly. The offset is obtained as the position in the voltage axis of the minimum of the parabola which fits the region around the zero-bias measured conductance."
     ]
    },
    {
     "cell_type": "code",
     "collapsed": false,
     "input": [
      "fitter.find_offset(5) # find the offset using 5 points around the minimum of the measured conductance curve and shift the \n",
      "                      # measured data by the obtained offset value\n",
      "fitter.print_offset_curve()  # plot of the shifted conductance curve and on top of it the shifted data points used to \n",
      "                             # determine the position of the minimum (red dots) as well as the corresponding points belonging \n",
      "                             # to the fitting parabola (blue dots)"
     ],
     "language": "python",
     "metadata": {},
     "outputs": [
      {
       "output_type": "stream",
       "stream": "stdout",
       "text": [
        "============================================\n",
        " Calculated Voltage Offset = 1.51966e-06\n",
        "============================================\n"
       ]
      },
      {
       "metadata": {},
       "output_type": "display_data",
       "png": "[encoded data removed]",
       "text": [
        "<matplotlib.figure.Figure at 0x2e314f0>"
       ]
      }
     ],
     "prompt_number": 9
    },
    {
     "cell_type": "markdown",
     "metadata": {},
     "source": [
      "The fitting procedure consists of two stages."
     ]
    },
    {
     "cell_type": "markdown",
     "metadata": {},
     "source": [
      "First of all, the experimental data $G^\\textrm{meas}(V^\\textrm{meas})$ are fitted using the classical first-order analytical conductance, $G_\\textrm{first}(V)$, valid in the high temperature limit. In this way, one is able to find rapidly the set of good starting parameters that will be used later when the data will be fitted with the numerical derivative of the current (4) of paper [1].\n",
      "\n",
      "The high-temperature conductance of an array of $N$ junctions is (see Eq.(3) of paper [2]):\n",
      "\n",
      "\\begin{equation}\n",
      "G_\\textrm{first}(v_N) = \\frac{G_T}{N}\\left[1 - 2\\left(\\frac{N-1}{N}\\right)\\left(\\frac{e^2/C_\\Sigma}{k_B T}\\right) \\left(\\frac{v_N \\sinh(v_N)-4\\sinh^2(v_N/2)}{8\\sinh^4(v_N/2)}\\right)\\right] \\ .\n",
      "\\end{equation}\n",
      "\n",
      "Here $T$ is the temperature of both electrons and phonons of the CBT; $v_N = eV/Nk_BT$ is the bias voltage $V$ scaled with $T$; $e^2/C_\\Sigma$ is twice the charging energy $E_C=e^2/2C_\\Sigma$ of the single island with total capacitance $C_\\Sigma=2C+C_0$, for the symmetric case; $C$ and $C_0$ are the capacitance of the single junction and the ground capacitance of the island respectively; $G_T=1/R_T$ is the tunnel conductance of each single junction of the array, obtained when $V\\rightarrow\\pm\\infty$. Throughout the fitting procedure we set N=2.\n",
      "\n",
      "In order to find the optimal parameters $G_T$, $T$ and $e^2/C_\\Sigma/k_B$ such that $G_\\textrm{first}(v_N)$ approximates the experimental conductance, we minimize the quadratic error\n",
      "\n",
      "\\begin{equation}\n",
      "\\varepsilon_1=\\sum_{i=1}^{n_\\textrm{points}}\\left[ G_i^{meas}-G_\\textrm{first}(V_i^{meas})\\right]^2\n",
      "\\end{equation}\n",
      "\n",
      "In this equation, $n_\\textrm{points}$ is the number of the measured data points, $G_i^{meas}$ the $i$-th measured conductance and $G_\\textrm{first}(V_i^{meas})$ the first-order conductance $G_\\textrm{first}(v_N)$ evaluated at the $i$-th measured voltage drop $V_i^{meas}$. To minimize the error $\\varepsilon$ we make use of the Broyden-Fletcher-Goldfarb-Shanno (BFGS) method.\n",
      "\n",
      "Numbers below show how [ $G_T$ , $T$ , $e^2/C_\\Sigma/k_B$ ] = [ single junction tunnel conductance ($1 / k\\Omega$) , temperature ($\\textrm{K}$) , double charging energy ($\\textrm{K}$) ] evolve during the optimization."
     ]
    },
    {
     "cell_type": "code",
     "collapsed": false,
     "input": [
      "fitter.fit_classic_curve() # fit of the measured data with the high-temperature analytical conductance\n",
      "fitter.plot_result_initial() # plot of the measured curve (blue) and of the optimized high-temperature analytical\n",
      "                             # conductance (red)"
     ],
     "language": "python",
     "metadata": {},
     "outputs": [
      {
       "output_type": "stream",
       "stream": "stdout",
       "text": [
        "=================================================\n",
        "==============  Starting Values   ===============\n",
        "=================================================\n",
        "Rt_init: 28 KOhm T_init: 10 mK E_C_init: 5 mK\n",
        "=================================================\n",
        "[ 0.03915237  0.01001382  0.0048053 ]"
       ]
      },
      {
       "output_type": "stream",
       "stream": "stdout",
       "text": [
        "\n",
        "[ 0.0391171   0.01138984  0.0041191 ]"
       ]
      },
      {
       "output_type": "stream",
       "stream": "stdout",
       "text": [
        "\n",
        "[ 0.03916554  0.0132456   0.00497234]\n",
        "[ 0.03928886  0.01792446  0.00689672]"
       ]
      },
      {
       "output_type": "stream",
       "stream": "stdout",
       "text": [
        "\n",
        "[ 0.03934074  0.02011412  0.00771578]\n",
        "[ 0.03935972  0.02106672  0.00801648]"
       ]
      },
      {
       "output_type": "stream",
       "stream": "stdout",
       "text": [
        "\n",
        "[ 0.0393632   0.02135119  0.00807016]\n",
        "[ 0.03936275  0.02145251  0.00806182]"
       ]
      },
      {
       "output_type": "stream",
       "stream": "stdout",
       "text": [
        "\n",
        "[ 0.0393613   0.02144963  0.00803803]\n",
        "[ 0.03936074  0.02143222  0.00802909]"
       ]
      },
      {
       "output_type": "stream",
       "stream": "stdout",
       "text": [
        "\n",
        "[ 0.03936067  0.02142794  0.00802796]\n",
        "[ 0.03936066  0.02142768  0.00802795]"
       ]
      },
      {
       "output_type": "stream",
       "stream": "stdout",
       "text": [
        "\n",
        "[ 0.03936067  0.02142766  0.00802795]\n",
        "[ 0.03936067  0.02142767  0.00802796]"
       ]
      },
      {
       "output_type": "stream",
       "stream": "stdout",
       "text": [
        "\n",
        "Warning: Desired error not necessarily achieved due to precision loss."
       ]
      },
      {
       "output_type": "stream",
       "stream": "stdout",
       "text": [
        "\n",
        "         Current function value: 0.033274\n",
        "         Iterations: 14\n",
        "         Function evaluations: 271\n",
        "         Gradient evaluations: 52\n",
        "=========================================\n",
        "====== After initial optimization: ======\n",
        "=========================================\n",
        "R_T = 25.4061 kOhm\n",
        "R_T_arrays = 41.92 kOhm\n",
        "T = 21.4277 mK\n",
        "Ec = 4.01398 mK\n",
        "Csigma = 231.597 fF\n"
       ]
      },
      {
       "metadata": {},
       "output_type": "display_data",
       "png": "[encoded data removed]",
       "text": [
        "<matplotlib.figure.Figure at 0xd1f8e50>"
       ]
      }
     ],
     "prompt_number": 10
    },
    {
     "cell_type": "markdown",
     "metadata": {},
     "source": [
      "Once we obtained the optimal parameters [ $G_T^\\textrm{opt}$ , $T^\\textrm{opt}$ , $(e^2/C_\\Sigma/k_B)^\\textrm{opt}$ ], we use them as starting values for the second fitting stage where the measured data $G^\\textrm{meas}(V^\\textrm{meas})$ are fitted with the first derivative of the current $I$ given by Eq.(4) of the paper [1], which is valid at all orders in $T$.\n",
      "\n",
      "The derivative $dI/dV=G_\\textrm{all}$ is calculated numerically using the five-point stencil formula:\n",
      "\n",
      "\\begin{equation}\n",
      "G_\\textrm{all}(V_i^\\textrm{meas})=\\left.\\frac{dI}{dV}\\right|_{V_i^\\textrm{meas}}\\simeq \\frac{1}{12 h}\\left[ -I(V_i^\\textrm{meas}+2h)+8 \\ I(V_i^\\textrm{meas}+h)-8 \\ I(V_i^\\textrm{meas}-h)+I(V_i^\\textrm{meas}-2h)  \\right]+O(h^4) \\ .\n",
      "\\end{equation}\n",
      "\n",
      "The spacing $h$ between two adjacent points of the stencil is chosen equal to the parameter *excitation* defined and initialized at the beginning of the fitting procedure.\n",
      "\n",
      "The optimal fitting parameters that now we want to calculate are the tunnel resistance of the single junction $R_T$, the total capacitance of the single island $C_\\Sigma$, and the phonons temperature $T_\\textrm{ph}$. The latter is assumed different from the electronic temperature $T_\\textrm{el}$ because of the heat exchange between the island and the substrate. In order to have $I$ and its first derivative as a function of $T_\\textrm{ph}$, we replace $T_\\textrm{el}$ in $I$ with the electron-phonon coupling relation\n",
      "\n",
      "\\begin{equation}\n",
      "T_\\textrm{el}=\\left( \\frac{P_\\textrm{per junc}}{\\Sigma\\Omega}+T_\\textrm{ph}^5 \\right)^{1/5} \\ .\n",
      "\\end{equation}\n",
      "\n",
      "Here $\\Sigma$ and $\\Omega$ are the electron-phonon coupling constant and the volume of the island respectively, and $P_\\textrm{per junc}$ is the sum of the heat power of the single junction $(V/N)^2/R_T$ and the constant heat noise *const_P*.\n",
      "\n",
      "As in the previous stage, the fit of $G^\\textrm{meas}(V^\\textrm{meas})$ with $G_\\textrm{all}(V^\\textrm{meas})$ is performed minimizing the quadratic error\n",
      "\n",
      "\\begin{equation}\n",
      "\\varepsilon_2=\\sum_{i=1}^{n_\\textrm{points}}\\left[ G_i^{meas}-G_\\textrm{all}(V_i^{meas})\\right]^2\n",
      "\\end{equation}\n",
      "\n",
      "by means of the Broyden-Fletcher-Goldfarb-Shanno (BFGS) method. During the optimization the tunnel resistance per junction $R_T$ (Rt), the total capacitance $C_\\Sigma$ (Csigma), the phonon temperature $T_\\textrm{ph}$ (Tp) and the error function (res) are shown (see below). Fitting takes some time in this second stage that is measured and printed. At the end, the calculated optimal parameters are printed together with a plot showing the measured data and the fitting curve."
     ]
    },
    {
     "cell_type": "code",
     "collapsed": false,
     "input": [
      "tic = time.clock() # start timing\n",
      "fitter.fit_full_curve() # fit of the conductance data with the first derivative of the current given by Eq.(4) of paper [1]\n",
      "fitter.plot_nonlin_results() # plot of the results\n",
      "toc = time.clock() # take time\n",
      "print \"Optimization took %g seconds = %g minutes\"%(toc-tic,(toc-tic)/60.0) # print time"
     ],
     "language": "python",
     "metadata": {},
     "outputs": [
      {
       "output_type": "stream",
       "stream": "stdout",
       "text": [
        "Rt: 25406.1 Csigma: 2.31597e-13 Tp: 0.0214277 res: 0.00384685\n",
        "Rt: 25406.1 Csigma: 2.31597e-13 Tp: 0.0214277 res: 0.00384685"
       ]
      },
      {
       "output_type": "stream",
       "stream": "stdout",
       "text": [
        "\n",
        "Rt: 25406.1 Csigma: 2.31597e-13 Tp: 0.0214277 res: 0.00384685"
       ]
      },
      {
       "output_type": "stream",
       "stream": "stdout",
       "text": [
        "\n",
        "Rt: 25406.1 Csigma: 2.31597e-13 Tp: 0.0214277 res: 0.00384685"
       ]
      },
      {
       "output_type": "stream",
       "stream": "stdout",
       "text": [
        "\n",
        "Rt: 25406.1 Csigma: 2.31597e-13 Tp: 0.0214277 res: 0.00384685"
       ]
      },
      {
       "output_type": "stream",
       "stream": "stdout",
       "text": [
        "\n",
        "Rt: 25405 Csigma: 2.31597e-13 Tp: 0.0214266 res: 0.00384594"
       ]
      },
      {
       "output_type": "stream",
       "stream": "stdout",
       "text": [
        "\n",
        "Rt: 25405 Csigma: 2.31597e-13 Tp: 0.0214266 res: 0.00384594"
       ]
      },
      {
       "output_type": "stream",
       "stream": "stdout",
       "text": [
        "\n",
        "Rt: 25405 Csigma: 2.31597e-13 Tp: 0.0214266 res: 0.00384594"
       ]
      },
      {
       "output_type": "stream",
       "stream": "stdout",
       "text": [
        "\n",
        "Rt: 25405 Csigma: 2.31597e-13 Tp: 0.0214266 res: 0.00384594"
       ]
      },
      {
       "output_type": "stream",
       "stream": "stdout",
       "text": [
        "\n",
        "Rt: 25405 Csigma: 2.31597e-13 Tp: 0.0214266 res: 0.00384594"
       ]
      },
      {
       "output_type": "stream",
       "stream": "stdout",
       "text": [
        "\n",
        "Rt: 25405.2 Csigma: 2.31597e-13 Tp: 0.0214259 res: 0.00384497"
       ]
      },
      {
       "output_type": "stream",
       "stream": "stdout",
       "text": [
        "\n",
        "Rt: 25405.2 Csigma: 2.31597e-13 Tp: 0.0214259 res: 0.00384497"
       ]
      },
      {
       "output_type": "stream",
       "stream": "stdout",
       "text": [
        "\n",
        "Rt: 25405.2 Csigma: 2.31597e-13 Tp: 0.0214259 res: 0.00384497"
       ]
      },
      {
       "output_type": "stream",
       "stream": "stdout",
       "text": [
        "\n",
        "Rt: 25405.2 Csigma: 2.31597e-13 Tp: 0.0214259 res: 0.00384497"
       ]
      },
      {
       "output_type": "stream",
       "stream": "stdout",
       "text": [
        "\n",
        "Rt: 25405.2 Csigma: 2.31597e-13 Tp: 0.0214259 res: 0.00384497"
       ]
      },
      {
       "output_type": "stream",
       "stream": "stdout",
       "text": [
        "\n",
        "Rt: 25406 Csigma: 2.31596e-13 Tp: 0.0214232 res: 0.00384202"
       ]
      },
      {
       "output_type": "stream",
       "stream": "stdout",
       "text": [
        "\n",
        "Rt: 25406 Csigma: 2.31596e-13 Tp: 0.0214232 res: 0.00384202"
       ]
      },
      {
       "output_type": "stream",
       "stream": "stdout",
       "text": [
        "\n",
        "Rt: 25406 Csigma: 2.31596e-13 Tp: 0.0214232 res: 0.00384202"
       ]
      },
      {
       "output_type": "stream",
       "stream": "stdout",
       "text": [
        "\n",
        "Rt: 25406 Csigma: 2.31596e-13 Tp: 0.0214232 res: 0.00384202"
       ]
      },
      {
       "output_type": "stream",
       "stream": "stdout",
       "text": [
        "\n",
        "Rt: 25406 Csigma: 2.31596e-13 Tp: 0.0214232 res: 0.00384202"
       ]
      },
      {
       "output_type": "stream",
       "stream": "stdout",
       "text": [
        "\n",
        "Rt: 25407.1 Csigma: 2.31595e-13 Tp: 0.0214096 res: 0.00383028"
       ]
      },
      {
       "output_type": "stream",
       "stream": "stdout",
       "text": [
        "\n",
        "Rt: 25407.1 Csigma: 2.31595e-13 Tp: 0.0214096 res: 0.00383028"
       ]
      },
      {
       "output_type": "stream",
       "stream": "stdout",
       "text": [
        "\n",
        "Rt: 25407.1 Csigma: 2.31595e-13 Tp: 0.0214096 res: 0.00383028"
       ]
      },
      {
       "output_type": "stream",
       "stream": "stdout",
       "text": [
        "\n",
        "Rt: 25407.1 Csigma: 2.31595e-13 Tp: 0.0214096 res: 0.00383028"
       ]
      },
      {
       "output_type": "stream",
       "stream": "stdout",
       "text": [
        "\n",
        "Rt: 25407.1 Csigma: 2.31595e-13 Tp: 0.0214096 res: 0.00383028"
       ]
      },
      {
       "output_type": "stream",
       "stream": "stdout",
       "text": [
        "\n",
        "Rt: 25410.4 Csigma: 2.31589e-13 Tp: 0.0213336 res: 0.00377807"
       ]
      },
      {
       "output_type": "stream",
       "stream": "stdout",
       "text": [
        "\n",
        "Rt: 25410.4 Csigma: 2.31589e-13 Tp: 0.0213336 res: 0.00377807"
       ]
      },
      {
       "output_type": "stream",
       "stream": "stdout",
       "text": [
        "\n",
        "Rt: 25410.4 Csigma: 2.31589e-13 Tp: 0.0213336 res: 0.00377807"
       ]
      },
      {
       "output_type": "stream",
       "stream": "stdout",
       "text": [
        "\n",
        "Rt: 25410.4 Csigma: 2.31589e-13 Tp: 0.0213336 res: 0.00377807"
       ]
      },
      {
       "output_type": "stream",
       "stream": "stdout",
       "text": [
        "\n",
        "Rt: 25410.4 Csigma: 2.31589e-13 Tp: 0.0213336 res: 0.00377807"
       ]
      },
      {
       "output_type": "stream",
       "stream": "stdout",
       "text": [
        "\n",
        "Rt: 25413.7 Csigma: 2.31577e-13 Tp: 0.0211757 res: 0.00368573"
       ]
      },
      {
       "output_type": "stream",
       "stream": "stdout",
       "text": [
        "\n",
        "Rt: 25413.7 Csigma: 2.31577e-13 Tp: 0.0211757 res: 0.00368573"
       ]
      },
      {
       "output_type": "stream",
       "stream": "stdout",
       "text": [
        "\n",
        "Rt: 25413.7 Csigma: 2.31577e-13 Tp: 0.0211757 res: 0.00368573"
       ]
      },
      {
       "output_type": "stream",
       "stream": "stdout",
       "text": [
        "\n",
        "Rt: 25413.7 Csigma: 2.31577e-13 Tp: 0.0211757 res: 0.00368573"
       ]
      },
      {
       "output_type": "stream",
       "stream": "stdout",
       "text": [
        "\n",
        "Rt: 25413.7 Csigma: 2.31577e-13 Tp: 0.0211757 res: 0.00368573"
       ]
      },
      {
       "output_type": "stream",
       "stream": "stdout",
       "text": [
        "\n",
        "Rt: 25415.7 Csigma: 2.31552e-13 Tp: 0.0208561 res: 0.00352468"
       ]
      },
      {
       "output_type": "stream",
       "stream": "stdout",
       "text": [
        "\n",
        "Rt: 25415.7 Csigma: 2.31552e-13 Tp: 0.0208561 res: 0.00352468"
       ]
      },
      {
       "output_type": "stream",
       "stream": "stdout",
       "text": [
        "\n",
        "Rt: 25415.7 Csigma: 2.31552e-13 Tp: 0.0208561 res: 0.00352468"
       ]
      },
      {
       "output_type": "stream",
       "stream": "stdout",
       "text": [
        "\n",
        "Rt: 25415.7 Csigma: 2.31552e-13 Tp: 0.0208561 res: 0.00352468"
       ]
      },
      {
       "output_type": "stream",
       "stream": "stdout",
       "text": [
        "\n",
        "Rt: 25415.7 Csigma: 2.31552e-13 Tp: 0.0208561 res: 0.00352468"
       ]
      },
      {
       "output_type": "stream",
       "stream": "stdout",
       "text": [
        "\n",
        "Rt: 25413.1 Csigma: 2.31526e-13 Tp: 0.0205334 res: 0.00338404"
       ]
      },
      {
       "output_type": "stream",
       "stream": "stdout",
       "text": [
        "\n",
        "Rt: 25413.1 Csigma: 2.31526e-13 Tp: 0.0205334 res: 0.00338404"
       ]
      },
      {
       "output_type": "stream",
       "stream": "stdout",
       "text": [
        "\n",
        "Rt: 25413.1 Csigma: 2.31526e-13 Tp: 0.0205334 res: 0.00338404"
       ]
      },
      {
       "output_type": "stream",
       "stream": "stdout",
       "text": [
        "\n",
        "Rt: 25413.1 Csigma: 2.31526e-13 Tp: 0.0205334 res: 0.00338404"
       ]
      },
      {
       "output_type": "stream",
       "stream": "stdout",
       "text": [
        "\n",
        "Rt: 25413.1 Csigma: 2.31526e-13 Tp: 0.0205334 res: 0.00338404"
       ]
      },
      {
       "output_type": "stream",
       "stream": "stdout",
       "text": [
        "\n",
        "Rt: 25408.3 Csigma: 2.31517e-13 Tp: 0.020427 res: 0.00332773"
       ]
      },
      {
       "output_type": "stream",
       "stream": "stdout",
       "text": [
        "\n",
        "Rt: 25408.3 Csigma: 2.31517e-13 Tp: 0.020427 res: 0.00332773"
       ]
      },
      {
       "output_type": "stream",
       "stream": "stdout",
       "text": [
        "\n",
        "Rt: 25408.3 Csigma: 2.31517e-13 Tp: 0.020427 res: 0.00332773"
       ]
      },
      {
       "output_type": "stream",
       "stream": "stdout",
       "text": [
        "\n",
        "Rt: 25408.3 Csigma: 2.31517e-13 Tp: 0.020427 res: 0.00332773"
       ]
      },
      {
       "output_type": "stream",
       "stream": "stdout",
       "text": [
        "\n",
        "Rt: 25408.3 Csigma: 2.31517e-13 Tp: 0.020427 res: 0.00332773"
       ]
      },
      {
       "output_type": "stream",
       "stream": "stdout",
       "text": [
        "\n",
        "Rt: 25406.1 Csigma: 2.3152e-13 Tp: 0.020456 res: 0.00332039"
       ]
      },
      {
       "output_type": "stream",
       "stream": "stdout",
       "text": [
        "\n",
        "Rt: 25406.1 Csigma: 2.3152e-13 Tp: 0.020456 res: 0.00332039"
       ]
      },
      {
       "output_type": "stream",
       "stream": "stdout",
       "text": [
        "\n",
        "Rt: 25406.1 Csigma: 2.3152e-13 Tp: 0.020456 res: 0.00332039"
       ]
      },
      {
       "output_type": "stream",
       "stream": "stdout",
       "text": [
        "\n",
        "Rt: 25406.1 Csigma: 2.3152e-13 Tp: 0.020456 res: 0.00332039"
       ]
      },
      {
       "output_type": "stream",
       "stream": "stdout",
       "text": [
        "\n",
        "Rt: 25406.1 Csigma: 2.3152e-13 Tp: 0.020456 res: 0.00332039"
       ]
      },
      {
       "output_type": "stream",
       "stream": "stdout",
       "text": [
        "\n",
        "Rt: 25405.9 Csigma: 2.31521e-13 Tp: 0.0204683 res: 0.00332026"
       ]
      },
      {
       "output_type": "stream",
       "stream": "stdout",
       "text": [
        "\n",
        "Rt: 25405.9 Csigma: 2.31521e-13 Tp: 0.0204683 res: 0.00332026"
       ]
      },
      {
       "output_type": "stream",
       "stream": "stdout",
       "text": [
        "\n",
        "Rt: 25405.9 Csigma: 2.31521e-13 Tp: 0.0204683 res: 0.00332026"
       ]
      },
      {
       "output_type": "stream",
       "stream": "stdout",
       "text": [
        "\n",
        "Rt: 25405.9 Csigma: 2.31521e-13 Tp: 0.0204683 res: 0.00332026"
       ]
      },
      {
       "output_type": "stream",
       "stream": "stdout",
       "text": [
        "\n",
        "Rt: 25405.9 Csigma: 2.31521e-13 Tp: 0.0204683 res: 0.00332026"
       ]
      },
      {
       "output_type": "stream",
       "stream": "stdout",
       "text": [
        "\n",
        "Rt: 25405.9 Csigma: 2.31521e-13 Tp: 0.0204688 res: 0.00332026"
       ]
      },
      {
       "output_type": "stream",
       "stream": "stdout",
       "text": [
        "\n",
        "Rt: 25405.9 Csigma: 2.31521e-13 Tp: 0.0204688 res: 0.00332026"
       ]
      },
      {
       "output_type": "stream",
       "stream": "stdout",
       "text": [
        "\n",
        "Rt: 25405.9 Csigma: 2.31521e-13 Tp: 0.0204688 res: 0.00332026"
       ]
      },
      {
       "output_type": "stream",
       "stream": "stdout",
       "text": [
        "\n",
        "Rt: 25405.9 Csigma: 2.31521e-13 Tp: 0.0204688 res: 0.00332026"
       ]
      },
      {
       "output_type": "stream",
       "stream": "stdout",
       "text": [
        "\n",
        "Rt: 25405.9 Csigma: 2.31521e-13 Tp: 0.0204688 res: 0.00332026"
       ]
      },
      {
       "output_type": "stream",
       "stream": "stdout",
       "text": [
        "\n",
        "Rt: 25405.9 Csigma: 2.31521e-13 Tp: 0.0204706 res: 0.00332026"
       ]
      },
      {
       "output_type": "stream",
       "stream": "stdout",
       "text": [
        "\n",
        "Rt: 25405.9 Csigma: 2.31521e-13 Tp: 0.0204706 res: 0.00332026"
       ]
      },
      {
       "output_type": "stream",
       "stream": "stdout",
       "text": [
        "\n",
        "Rt: 25405.9 Csigma: 2.31521e-13 Tp: 0.0204706 res: 0.00332026"
       ]
      },
      {
       "output_type": "stream",
       "stream": "stdout",
       "text": [
        "\n",
        "Rt: 25405.9 Csigma: 2.31521e-13 Tp: 0.0204706 res: 0.00332026"
       ]
      },
      {
       "output_type": "stream",
       "stream": "stdout",
       "text": [
        "\n",
        "Rt: 25405.9 Csigma: 2.31521e-13 Tp: 0.0204706 res: 0.00332026"
       ]
      },
      {
       "output_type": "stream",
       "stream": "stdout",
       "text": [
        "\n",
        "==========================================\n",
        "======   After main optimization:   ======\n",
        "==========================================\n",
        "R_T = 25.4059\n",
        "T = 20.4706 mK\n",
        "C_sigma = 231.521 \n"
       ]
      },
      {
       "metadata": {},
       "output_type": "display_data",
       "png": "[encoded data removed]",
       "text": [
        "<matplotlib.figure.Figure at 0xd253410>"
       ]
      },
      {
       "output_type": "stream",
       "stream": "stdout",
       "text": [
        "Optimization took 100.452 seconds = 1.6742 minutes\n"
       ]
      }
     ],
     "prompt_number": 11
    },
    {
     "cell_type": "markdown",
     "metadata": {},
     "source": [
      "Finally, the plot of the measured data and the fitting curve is saved as a *res_8p5_50_100.pdf*."
     ]
    },
    {
     "cell_type": "code",
     "collapsed": false,
     "input": [
      "cc = CBT_plot_data_pyx(fitters)\n",
      "cc.plot_data(filename=\"res_8p5_50_100\")"
     ],
     "language": "python",
     "metadata": {},
     "outputs": []
    },
    {
     "cell_type": "markdown",
     "metadata": {},
     "source": [
      "Informations about the python platform used in the notebook:"
     ]
    },
    {
     "cell_type": "code",
     "collapsed": false,
     "input": [
      "import platform\n",
      "print(\"Platform:%s\"%platform.platform())\n",
      "print(\"Processor:%s\"%platform.processor())\n",
      "print(\"Python implementation:%s\"%platform.python_implementation())\n",
      "print(\"Python version:%s\"%platform.python_version())\n",
      "print(\"machine:%s\"%platform.machine())\n",
      "print(\"Python compiler:%s\"%platform.python_compiler())\n",
      "print(\"Version:%s\"%platform.version())"
     ],
     "language": "python",
     "metadata": {},
     "outputs": [
      {
       "output_type": "stream",
       "stream": "stdout",
       "text": [
        "Platform:Windows-7-6.1.7601-SP1\n",
        "Processor:x86 Family 6 Model 37 Stepping 2, GenuineIntel\n",
        "Python implementation:CPython\n",
        "Python version:2.7.6\n",
        "machine:x86\n",
        "Python compiler:MSC v.1500 32 bit (Intel)\n",
        "Version:6.1.7601\n"
       ]
      }
     ],
     "prompt_number": 12
    },
    {
     "cell_type": "markdown",
     "metadata": {},
     "source": [
      "Authors thank M. Meschke for useful discussions."
     ]
    },
    {
     "cell_type": "code",
     "collapsed": false,
     "input": [],
     "language": "python",
     "metadata": {},
     "outputs": []
    }
   ],
   "metadata": {}
  }
 ]
}