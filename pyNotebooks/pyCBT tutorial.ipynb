{
 "metadata": {
  "name": "pyCBT tutorial"
 },
 "nbformat": 3,
 "nbformat_minor": 0,
 "worksheets": [
  {
   "cells": [
    {
     "cell_type": "heading",
     "level": 1,
     "metadata": {},
     "source": [
      "pyCBT tutorial"
     ]
    },
    {
     "cell_type": "markdown",
     "metadata": {},
     "source": [
      "*29.10.2013 Leif Roschier/Aivon Oy*\n",
      "\n",
      ">**Note: this document is written with [ipython notebook](http://ipython.org/notebook.html) . You can install ipython, download this document and run it with your own computer.**\n",
      "\n",
      "This is tutorial for using PyCBT, python library for Coulomb Blockade Thermometer (CBT) calculations. Calculations are based on [J.Pekola *et. al.*, PRL **73** 2903 (1994)].\n",
      "\n",
      "First of all, let's add the folder where libraries reside to the path.\n",
      "\n"
     ]
    },
    {
     "cell_type": "code",
     "collapsed": false,
     "input": [
      "import sys, time\n",
      "sys.path.append( '../src' ) # path where source is\n",
      "# this makes figures to pop up in this notebook\n",
      "%pylab inline "
     ],
     "language": "python",
     "metadata": {},
     "outputs": [
      {
       "output_type": "stream",
       "stream": "stdout",
       "text": [
        "\n",
        "Welcome to pylab, a matplotlib-based Python environment [backend: module://IPython.zmq.pylab.backend_inline].\n",
        "For more information, type 'help(pylab)'.\n"
       ]
      }
     ],
     "prompt_number": 1
    },
    {
     "cell_type": "markdown",
     "metadata": {},
     "source": [
      "Next we import the needed libraries."
     ]
    },
    {
     "cell_type": "code",
     "collapsed": false,
     "input": [
      "from CBT_lib import * # main lib\n",
      "from CBT_fit_lib import * # lib for fitting\n",
      "from CBT_plot_data_pyx import * # lib for plotting with pyx\n",
      "from CBT_fit_multi_T import * # lib for fitting multiple curves simultaneously"
     ],
     "language": "python",
     "metadata": {},
     "outputs": [],
     "prompt_number": 2
    },
    {
     "cell_type": "markdown",
     "metadata": {},
     "source": [
      "Next we set parameters for calculations."
     ]
    },
    {
     "cell_type": "code",
     "collapsed": false,
     "input": [
      "parallel_arrays = 20.0  # arrays parallel    \n",
      "N_junctions=33.0        # junctions in each array\n",
      "excitation = 30e-6/N_junctions  # AC voltage excitation of measurement\n",
      "island_size_init=400.0 #x 1e-15 m3, island size for heating calculations"
     ],
     "language": "python",
     "metadata": {},
     "outputs": [],
     "prompt_number": 3
    },
    {
     "cell_type": "markdown",
     "metadata": {},
     "source": [
      "and initial values for optimization"
     ]
    },
    {
     "cell_type": "code",
     "collapsed": false,
     "input": [
      "# initial values for optimization\n",
      "T_init = 10e-3 # K, initial guess for temperature\n",
      "R_tunnel_init=28.0 # kOhm \n",
      "TEC_init=5e-3 # K\n",
      "# If bounds given, they are used to limit optimization\n",
      "#R,C,T\n",
      "bounds = [(1.0,100.0),(230.0,240.0),(5.0,250.0)] #(min,max)"
     ],
     "language": "python",
     "metadata": {},
     "outputs": [],
     "prompt_number": 4
    },
    {
     "cell_type": "markdown",
     "metadata": {},
     "source": [
      "Then we setup single fitter with actual data. Data file has one voltage column and one resistance column."
     ]
    },
    {
     "cell_type": "code",
     "collapsed": false,
     "input": [
      "filename = \"../src/data/sample_T2.txt\"   # real measurement data \n",
      "fitter=CBT_fitter(filename=filename,T_init=T_init,island_size_init=island_size_init,\n",
      "                      R_tunnel_init=R_tunnel_init,TEC_init=TEC_init,\n",
      "                        bounds=bounds,const_P=500e-18,\n",
      "                        excitation=excitation,parallel_arrays=parallel_arrays,\n",
      "                        junctions_in_series = N_junctions)\n"
     ],
     "language": "python",
     "metadata": {},
     "outputs": [],
     "prompt_number": 5
    },
    {
     "cell_type": "markdown",
     "metadata": {},
     "source": [
      "First offset need to be found from the file in order to correct it. "
     ]
    },
    {
     "cell_type": "code",
     "collapsed": false,
     "input": [
      "fitter.find_offset(5) # finds offset with 5 points from minimum each direction\n",
      "fitter.print_offset_curve()"
     ],
     "language": "python",
     "metadata": {},
     "outputs": [
      {
       "output_type": "stream",
       "stream": "stdout",
       "text": [
        "offset:1.51966e-06\n"
       ]
      },
      {
       "output_type": "display_data",
       "png": "[encoded data removed]"
      }
     ],
     "prompt_number": 6
    },
    {
     "cell_type": "markdown",
     "metadata": {},
     "source": [
      "Next we fit classic analytic curve to the data. Actually one should fit always the classic curve first to get good starting guess for the full optimization. Numbers below show how [G,T,T_ec] evolve during optimization. (G=tunnel junction conductance, T=temperature, T_ec= charging energy in Kelvins). Equation for classic curve:\n",
      "\n",
      "\\begin{equation}\n",
      "\\frac{G(v_n)}{G_T} = 1 - \\frac{2(N-1)E_C}{N k_B T} \\frac{v_n \\sinh(v_n)-4\\sinh^2(v_n/2)}{8\\sinh^4(v_n/2)}\n",
      "\\end{equation}\n",
      "\\begin{equation}\n",
      "v_n = eV/NkB_T\n",
      "\\end{equation}"
     ]
    },
    {
     "cell_type": "code",
     "collapsed": false,
     "input": [
      "fitter.fit_classic_curve() # fit analytic curve to get starting point for nonlin fit\n",
      "fitter.plot_result_initial() # show results"
     ],
     "language": "python",
     "metadata": {},
     "outputs": [
      {
       "output_type": "stream",
       "stream": "stdout",
       "text": [
        "[ 0.01994462  0.01003104  0.00582879]\n",
        "[ 0.01973693  0.01180331  0.00190353]"
       ]
      },
      {
       "output_type": "stream",
       "stream": "stdout",
       "text": [
        "\n",
        "[ 0.01982602  0.01670705  0.00342867]"
       ]
      },
      {
       "output_type": "stream",
       "stream": "stdout",
       "text": [
        "\n",
        "[ 0.01971443  0.01727895  0.00459032]"
       ]
      },
      {
       "output_type": "stream",
       "stream": "stdout",
       "text": [
        "\n",
        "[ 0.01962324  0.01886164  0.00646592]\n",
        "[ 0.01964247  0.02022374  0.00717298]"
       ]
      },
      {
       "output_type": "stream",
       "stream": "stdout",
       "text": [
        "\n",
        "[ 0.01967208  0.02145745  0.00788482]\n",
        "[ 0.01967946  0.02157336  0.00803158]"
       ]
      },
      {
       "output_type": "stream",
       "stream": "stdout",
       "text": [
        "\n",
        "[ 0.01968067  0.02150332  0.00804498]\n",
        "[ 0.01968052  0.02144207  0.00803388]"
       ]
      },
      {
       "output_type": "stream",
       "stream": "stdout",
       "text": [
        "\n",
        "[ 0.01968035  0.02142812  0.0080285 ]\n",
        "[ 0.01968033  0.02142742  0.00802787]"
       ]
      },
      {
       "output_type": "stream",
       "stream": "stdout",
       "text": [
        "\n",
        "[ 0.01968033  0.02142742  0.00802787]"
       ]
      },
      {
       "output_type": "stream",
       "stream": "stdout",
       "text": [
        "\n",
        "[ 0.01968033  0.02142742  0.00802787]"
       ]
      },
      {
       "output_type": "stream",
       "stream": "stdout",
       "text": [
        "\n",
        "[ 0.01968033  0.02142742  0.00802787]"
       ]
      },
      {
       "output_type": "stream",
       "stream": "stdout",
       "text": [
        "\n",
        "[ 0.01968033  0.02142742  0.00802787]"
       ]
      },
      {
       "output_type": "stream",
       "stream": "stdout",
       "text": [
        "\n",
        "[ 0.01968033  0.02142742  0.00802787]"
       ]
      },
      {
       "output_type": "stream",
       "stream": "stdout",
       "text": [
        "\n",
        "[ 0.01968033  0.02142742  0.00802787]"
       ]
      },
      {
       "output_type": "stream",
       "stream": "stdout",
       "text": [
        "\n",
        "[ 0.01968033  0.02142742  0.00802787]"
       ]
      },
      {
       "output_type": "stream",
       "stream": "stdout",
       "text": [
        "\n",
        "[ 0.01968033  0.02142742  0.00802787]"
       ]
      },
      {
       "output_type": "stream",
       "stream": "stdout",
       "text": [
        "\n",
        "[ 0.01968033  0.02142742  0.00802787]"
       ]
      },
      {
       "output_type": "stream",
       "stream": "stdout",
       "text": [
        "\n",
        "[ 0.01968033  0.02142742  0.00802787]"
       ]
      },
      {
       "output_type": "stream",
       "stream": "stdout",
       "text": [
        "\n",
        "[ 0.01968033  0.02142742  0.00802787]"
       ]
      },
      {
       "output_type": "stream",
       "stream": "stdout",
       "text": [
        "\n",
        "[ 0.01968033  0.02142742  0.00802787]"
       ]
      },
      {
       "output_type": "stream",
       "stream": "stdout",
       "text": [
        "\n",
        "[ 0.01968033  0.02142742  0.00802787]"
       ]
      },
      {
       "output_type": "stream",
       "stream": "stdout",
       "text": [
        "\n",
        "[ 0.01968033  0.02142742  0.00802787]"
       ]
      },
      {
       "output_type": "stream",
       "stream": "stdout",
       "text": [
        "\n",
        "[ 0.01968033  0.02142742  0.00802787]"
       ]
      },
      {
       "output_type": "stream",
       "stream": "stdout",
       "text": [
        "\n",
        "[ 0.01968033  0.02142742  0.00802787]"
       ]
      },
      {
       "output_type": "stream",
       "stream": "stdout",
       "text": [
        "\n",
        "[ 0.01968033  0.02142742  0.00802787]"
       ]
      },
      {
       "output_type": "stream",
       "stream": "stdout",
       "text": [
        "\n",
        "[ 0.01968033  0.02142742  0.00802787]"
       ]
      },
      {
       "output_type": "stream",
       "stream": "stdout",
       "text": [
        "\n",
        "Warning: Desired error not necessarily achieved due to precision loss.\n",
        "         Current function value: 0.033274\n",
        "         Iterations: 30\n",
        "         Function evaluations: 2171\n",
        "         Gradient evaluations: 400\n",
        "==== After initial optimization: ====\n",
        "R_T = 25.4061 kOhm\n",
        "T = 21.4274 mK\n",
        "Ec = 4.01393 mK\n",
        "Csigma = 231.599 fF\n"
       ]
      },
      {
       "output_type": "display_data",
       "png": "[encoded data removed]"
      }
     ],
     "prompt_number": 7
    },
    {
     "cell_type": "markdown",
     "metadata": {},
     "source": [
      "Finally the full nonlinear fit is done. During optimization tunnelling resistance per junction $R_T$, $C_\\Sigma$, temperature $T$ and error function are shown. Fitting takes some time that is measured and printed."
     ]
    },
    {
     "cell_type": "code",
     "collapsed": false,
     "input": [
      "tic = time.clock() # start timing\n",
      "fitter.fit_full_curve() # nonlin fitting\n",
      "fitter.plot_nonlin_results() # plot results\n",
      "toc = time.clock() # take time\n",
      "print \"Optimization took %g seconds = %g minutes\"%(toc-tic,(toc-tic)/60.0) # print time"
     ],
     "language": "python",
     "metadata": {},
     "outputs": [
      {
       "output_type": "stream",
       "stream": "stdout",
       "text": [
        "Rt:25406.1 Csigma:2.31599e-13 Tp:0.0214274 res:0.00384681\n",
        "Rt:25406.1 Csigma:2.31599e-13 Tp:0.0214274 res:0.00384681"
       ]
      },
      {
       "output_type": "stream",
       "stream": "stdout",
       "text": [
        "\n",
        "Rt:25406.1 Csigma:2.31599e-13 Tp:0.0214274 res:0.00384681"
       ]
      },
      {
       "output_type": "stream",
       "stream": "stdout",
       "text": [
        "\n",
        "Rt:25406.1 Csigma:2.31599e-13 Tp:0.0214274 res:0.00384681"
       ]
      },
      {
       "output_type": "stream",
       "stream": "stdout",
       "text": [
        "\n",
        "Rt:25406.1 Csigma:2.31599e-13 Tp:0.0214274 res:0.00384681"
       ]
      },
      {
       "output_type": "stream",
       "stream": "stdout",
       "text": [
        "\n",
        "Rt:25405 Csigma:2.31599e-13 Tp:0.0214264 res:0.0038459"
       ]
      },
      {
       "output_type": "stream",
       "stream": "stdout",
       "text": [
        "\n",
        "Rt:25405 Csigma:2.31599e-13 Tp:0.0214264 res:0.0038459"
       ]
      },
      {
       "output_type": "stream",
       "stream": "stdout",
       "text": [
        "\n",
        "Rt:25405 Csigma:2.31599e-13 Tp:0.0214264 res:0.0038459"
       ]
      },
      {
       "output_type": "stream",
       "stream": "stdout",
       "text": [
        "\n",
        "Rt:25405 Csigma:2.31599e-13 Tp:0.0214264 res:0.0038459"
       ]
      },
      {
       "output_type": "stream",
       "stream": "stdout",
       "text": [
        "\n",
        "Rt:25405 Csigma:2.31599e-13 Tp:0.0214264 res:0.0038459"
       ]
      },
      {
       "output_type": "stream",
       "stream": "stdout",
       "text": [
        "\n",
        "Rt:25405.2 Csigma:2.31599e-13 Tp:0.0214257 res:0.00384494"
       ]
      },
      {
       "output_type": "stream",
       "stream": "stdout",
       "text": [
        "\n",
        "Rt:25405.2 Csigma:2.31599e-13 Tp:0.0214257 res:0.00384494"
       ]
      },
      {
       "output_type": "stream",
       "stream": "stdout",
       "text": [
        "\n",
        "Rt:25405.2 Csigma:2.31599e-13 Tp:0.0214257 res:0.00384494"
       ]
      },
      {
       "output_type": "stream",
       "stream": "stdout",
       "text": [
        "\n",
        "Rt:25405.2 Csigma:2.31599e-13 Tp:0.0214257 res:0.00384494"
       ]
      },
      {
       "output_type": "stream",
       "stream": "stdout",
       "text": [
        "\n",
        "Rt:25405.2 Csigma:2.31599e-13 Tp:0.0214257 res:0.00384494"
       ]
      },
      {
       "output_type": "stream",
       "stream": "stdout",
       "text": [
        "\n",
        "Rt:25407 Csigma:2.31598e-13 Tp:0.0214114 res:0.00383202"
       ]
      },
      {
       "output_type": "stream",
       "stream": "stdout",
       "text": [
        "\n",
        "Rt:25407 Csigma:2.31598e-13 Tp:0.0214114 res:0.00383202"
       ]
      },
      {
       "output_type": "stream",
       "stream": "stdout",
       "text": [
        "\n",
        "Rt:25407 Csigma:2.31598e-13 Tp:0.0214114 res:0.00383202"
       ]
      },
      {
       "output_type": "stream",
       "stream": "stdout",
       "text": [
        "\n",
        "Rt:25407 Csigma:2.31598e-13 Tp:0.0214114 res:0.00383202"
       ]
      },
      {
       "output_type": "stream",
       "stream": "stdout",
       "text": [
        "\n",
        "Rt:25407 Csigma:2.31598e-13 Tp:0.0214114 res:0.00383202"
       ]
      },
      {
       "output_type": "stream",
       "stream": "stdout",
       "text": [
        "\n",
        "Rt:25409 Csigma:2.31596e-13 Tp:0.0213795 res:0.00380976"
       ]
      },
      {
       "output_type": "stream",
       "stream": "stdout",
       "text": [
        "\n",
        "Rt:25409 Csigma:2.31596e-13 Tp:0.0213795 res:0.00380976"
       ]
      },
      {
       "output_type": "stream",
       "stream": "stdout",
       "text": [
        "\n",
        "Rt:25409 Csigma:2.31596e-13 Tp:0.0213795 res:0.00380976"
       ]
      },
      {
       "output_type": "stream",
       "stream": "stdout",
       "text": [
        "\n",
        "Rt:25409 Csigma:2.31596e-13 Tp:0.0213795 res:0.00380976"
       ]
      },
      {
       "output_type": "stream",
       "stream": "stdout",
       "text": [
        "\n",
        "Rt:25409 Csigma:2.31596e-13 Tp:0.0213795 res:0.00380976"
       ]
      },
      {
       "output_type": "stream",
       "stream": "stdout",
       "text": [
        "\n",
        "Rt:25412.2 Csigma:2.31587e-13 Tp:0.0212758 res:0.00374682"
       ]
      },
      {
       "output_type": "stream",
       "stream": "stdout",
       "text": [
        "\n",
        "Rt:25412.2 Csigma:2.31587e-13 Tp:0.0212758 res:0.00374682"
       ]
      },
      {
       "output_type": "stream",
       "stream": "stdout",
       "text": [
        "\n",
        "Rt:25412.2 Csigma:2.31587e-13 Tp:0.0212758 res:0.00374682"
       ]
      },
      {
       "output_type": "stream",
       "stream": "stdout",
       "text": [
        "\n",
        "Rt:25412.2 Csigma:2.31587e-13 Tp:0.0212758 res:0.00374682"
       ]
      },
      {
       "output_type": "stream",
       "stream": "stdout",
       "text": [
        "\n",
        "Rt:25412.2 Csigma:2.31587e-13 Tp:0.0212758 res:0.00374682"
       ]
      },
      {
       "output_type": "stream",
       "stream": "stdout",
       "text": [
        "\n",
        "Rt:25415.2 Csigma:2.3157e-13 Tp:0.0210585 res:0.00362964"
       ]
      },
      {
       "output_type": "stream",
       "stream": "stdout",
       "text": [
        "\n",
        "Rt:25415.2 Csigma:2.3157e-13 Tp:0.0210585 res:0.00362964"
       ]
      },
      {
       "output_type": "stream",
       "stream": "stdout",
       "text": [
        "\n",
        "Rt:25415.2 Csigma:2.3157e-13 Tp:0.0210585 res:0.00362964"
       ]
      },
      {
       "output_type": "stream",
       "stream": "stdout",
       "text": [
        "\n",
        "Rt:25415.2 Csigma:2.3157e-13 Tp:0.0210585 res:0.00362964"
       ]
      },
      {
       "output_type": "stream",
       "stream": "stdout",
       "text": [
        "\n",
        "Rt:25415.2 Csigma:2.3157e-13 Tp:0.0210585 res:0.00362964"
       ]
      },
      {
       "output_type": "stream",
       "stream": "stdout",
       "text": [
        "\n",
        "Rt:25415.5 Csigma:2.31543e-13 Tp:0.0207111 res:0.00346612"
       ]
      },
      {
       "output_type": "stream",
       "stream": "stdout",
       "text": [
        "\n",
        "Rt:25415.5 Csigma:2.31543e-13 Tp:0.0207111 res:0.00346612"
       ]
      },
      {
       "output_type": "stream",
       "stream": "stdout",
       "text": [
        "\n",
        "Rt:25415.5 Csigma:2.31543e-13 Tp:0.0207111 res:0.00346612"
       ]
      },
      {
       "output_type": "stream",
       "stream": "stdout",
       "text": [
        "\n",
        "Rt:25415.5 Csigma:2.31543e-13 Tp:0.0207111 res:0.00346612"
       ]
      },
      {
       "output_type": "stream",
       "stream": "stdout",
       "text": [
        "\n",
        "Rt:25415.5 Csigma:2.31543e-13 Tp:0.0207111 res:0.00346612"
       ]
      },
      {
       "output_type": "stream",
       "stream": "stdout",
       "text": [
        "\n",
        "Rt:25408.3 Csigma:2.3152e-13 Tp:0.020456 res:0.00332677"
       ]
      },
      {
       "output_type": "stream",
       "stream": "stdout",
       "text": [
        "\n",
        "Rt:25408.3 Csigma:2.3152e-13 Tp:0.020456 res:0.00332677"
       ]
      },
      {
       "output_type": "stream",
       "stream": "stdout",
       "text": [
        "\n",
        "Rt:25408.3 Csigma:2.3152e-13 Tp:0.020456 res:0.00332677"
       ]
      },
      {
       "output_type": "stream",
       "stream": "stdout",
       "text": [
        "\n",
        "Rt:25408.3 Csigma:2.3152e-13 Tp:0.020456 res:0.00332677"
       ]
      },
      {
       "output_type": "stream",
       "stream": "stdout",
       "text": [
        "\n",
        "Rt:25408.3 Csigma:2.3152e-13 Tp:0.020456 res:0.00332677"
       ]
      },
      {
       "output_type": "stream",
       "stream": "stdout",
       "text": [
        "\n",
        "Rt:25406.1 Csigma:2.3152e-13 Tp:0.0204603 res:0.00332033"
       ]
      },
      {
       "output_type": "stream",
       "stream": "stdout",
       "text": [
        "\n",
        "Rt:25406.1 Csigma:2.3152e-13 Tp:0.0204603 res:0.00332033"
       ]
      },
      {
       "output_type": "stream",
       "stream": "stdout",
       "text": [
        "\n",
        "Rt:25406.1 Csigma:2.3152e-13 Tp:0.0204603 res:0.00332033"
       ]
      },
      {
       "output_type": "stream",
       "stream": "stdout",
       "text": [
        "\n",
        "Rt:25406.1 Csigma:2.3152e-13 Tp:0.0204603 res:0.00332033"
       ]
      },
      {
       "output_type": "stream",
       "stream": "stdout",
       "text": [
        "\n",
        "Rt:25406.1 Csigma:2.3152e-13 Tp:0.0204603 res:0.00332033"
       ]
      },
      {
       "output_type": "stream",
       "stream": "stdout",
       "text": [
        "\n",
        "Rt:25405.9 Csigma:2.3152e-13 Tp:0.0204693 res:0.00332025"
       ]
      },
      {
       "output_type": "stream",
       "stream": "stdout",
       "text": [
        "\n",
        "Rt:25405.9 Csigma:2.3152e-13 Tp:0.0204693 res:0.00332025"
       ]
      },
      {
       "output_type": "stream",
       "stream": "stdout",
       "text": [
        "\n",
        "Rt:25405.9 Csigma:2.3152e-13 Tp:0.0204693 res:0.00332025"
       ]
      },
      {
       "output_type": "stream",
       "stream": "stdout",
       "text": [
        "\n",
        "Rt:25405.9 Csigma:2.3152e-13 Tp:0.0204693 res:0.00332025"
       ]
      },
      {
       "output_type": "stream",
       "stream": "stdout",
       "text": [
        "\n",
        "Rt:25405.9 Csigma:2.3152e-13 Tp:0.0204693 res:0.00332025"
       ]
      },
      {
       "output_type": "stream",
       "stream": "stdout",
       "text": [
        "\n",
        "Rt:25405.9 Csigma:2.3152e-13 Tp:0.0204695 res:0.00332025"
       ]
      },
      {
       "output_type": "stream",
       "stream": "stdout",
       "text": [
        "\n",
        "Rt:25405.9 Csigma:2.3152e-13 Tp:0.0204695 res:0.00332025"
       ]
      },
      {
       "output_type": "stream",
       "stream": "stdout",
       "text": [
        "\n",
        "Rt:25405.9 Csigma:2.3152e-13 Tp:0.0204695 res:0.00332025"
       ]
      },
      {
       "output_type": "stream",
       "stream": "stdout",
       "text": [
        "\n",
        "Rt:25405.9 Csigma:2.3152e-13 Tp:0.0204695 res:0.00332025"
       ]
      },
      {
       "output_type": "stream",
       "stream": "stdout",
       "text": [
        "\n",
        "Rt:25405.9 Csigma:2.3152e-13 Tp:0.0204695 res:0.00332025"
       ]
      },
      {
       "output_type": "stream",
       "stream": "stdout",
       "text": [
        "\n",
        "Rt:25405.9 Csigma:2.3152e-13 Tp:0.0204702 res:0.00332025"
       ]
      },
      {
       "output_type": "stream",
       "stream": "stdout",
       "text": [
        "\n",
        "Rt:25405.9 Csigma:2.3152e-13 Tp:0.0204702 res:0.00332025"
       ]
      },
      {
       "output_type": "stream",
       "stream": "stdout",
       "text": [
        "\n",
        "Rt:25405.9 Csigma:2.3152e-13 Tp:0.0204702 res:0.00332025"
       ]
      },
      {
       "output_type": "stream",
       "stream": "stdout",
       "text": [
        "\n",
        "Rt:25405.9 Csigma:2.3152e-13 Tp:0.0204702 res:0.00332025"
       ]
      },
      {
       "output_type": "stream",
       "stream": "stdout",
       "text": [
        "\n",
        "Rt:25405.9 Csigma:2.3152e-13 Tp:0.0204702 res:0.00332025"
       ]
      },
      {
       "output_type": "stream",
       "stream": "stdout",
       "text": [
        "\n",
        "==== After main optimization: ====\n",
        "R_T = 25.4059\n",
        "T = 20.4702 mK\n",
        "C_sigma = 231.52 \n"
       ]
      },
      {
       "output_type": "display_data",
       "png": "[encoded data removed]"
      },
      {
       "output_type": "stream",
       "stream": "stdout",
       "text": [
        "Optimization took 123.489 seconds = 2.05815 minutes\n"
       ]
      }
     ],
     "prompt_number": 9
    },
    {
     "cell_type": "markdown",
     "metadata": {},
     "source": [
      "Information about python platform used in the notebook."
     ]
    },
    {
     "cell_type": "code",
     "collapsed": false,
     "input": [
      "import platform\n",
      "print(\"Platform:%s\"%platform.platform())\n",
      "print(\"Processor:%s\"%platform.processor())\n",
      "print(\"Python implementation:%s\"%platform.python_implementation())\n",
      "print(\"Python version:%s\"%platform.python_version())\n",
      "print(\"machine:%s\"%platform.machine())\n",
      "print(\"Python compiler:%s\"%platform.python_compiler())\n",
      "print(\"Version:%s\"%platform.version())"
     ],
     "language": "python",
     "metadata": {},
     "outputs": [
      {
       "output_type": "stream",
       "stream": "stdout",
       "text": [
        "Platform:Windows-7-6.1.7601-SP1\n",
        "Processor:x86 Family 6 Model 37 Stepping 2, GenuineIntel\n",
        "Python implementation:CPython\n",
        "Python version:2.7.5\n",
        "machine:x86\n",
        "Python compiler:MSC v.1500 32 bit (Intel)\n",
        "Version:6.1.7601\n"
       ]
      }
     ],
     "prompt_number": 30
    },
    {
     "cell_type": "code",
     "collapsed": false,
     "input": [],
     "language": "python",
     "metadata": {},
     "outputs": []
    }
   ],
   "metadata": {}
  }
 ]
}