{
 "metadata": {
  "name": ""
 },
 "nbformat": 3,
 "nbformat_minor": 0,
 "worksheets": [
  {
   "cells": [
    {
     "cell_type": "markdown",
     "metadata": {},
     "source": [
      "*2.6.2014 Leif Roschier/Aivon Oy (Finland)*\n",
      "\n",
      "\n",
      ">**Note: this document is written with [ipython notebook](http://ipython.org/notebook.html) . You can install ipython, download this document and run it with your own computer.**\n",
      "\n",
      "In the following we go through fitting measurement data using **multi_fit.py** file. For more through explanation, see [pyCBT_multifit_tutorial.ipynb](https://github.com/AivonOy/pyCBT/src)\n",
      "\n"
     ]
    },
    {
     "cell_type": "markdown",
     "metadata": {},
     "source": [
      "Setup the libraries and environment:"
     ]
    },
    {
     "cell_type": "code",
     "collapsed": false,
     "input": [
      "import sys, time\n",
      "sys.path.append( '../src' ) # path indicating the folder where the libraries is\n",
      "# this makes figures to pop up in this notebook\n",
      "%pylab inline\n",
      "from CBT_lib import * # main lib # it contains the functions used to calculate numerically the current (Eq. (4) of the  \n",
      "                                 # paper [1]) and its first derivative, i.e., the conductance, through one symmetric double \n",
      "                                 # junction array (one island case)\n",
      "from CBT_fit_lib import * # lib for fitting the measured data\n",
      "from CBT_plot_data_pyx import * # lib for plotting with pyx\n",
      "from CBT_fit_multi_T import * # lib for fitting multiple curves simultaneously\n",
      "import time       #  it imports the current time which is used to calculate the time of the single fit and the total \n",
      "                  #  time of the calibration\n",
      "start = time.time()  #  and sets it as starting time"
     ],
     "language": "python",
     "metadata": {},
     "outputs": [
      {
       "output_type": "stream",
       "stream": "stdout",
       "text": [
        "Populating the interactive namespace from numpy and matplotlib\n"
       ]
      }
     ],
     "prompt_number": 1
    },
    {
     "cell_type": "markdown",
     "metadata": {},
     "source": [
      "Define measurement files that are used for fitting:"
     ]
    },
    {
     "cell_type": "code",
     "collapsed": false,
     "input": [
      "filenames = [                # REMARK: in order to use your own measured data modify the paths and the file names!!!\n",
      "\"../src/data/sample_T2.txt\",\n",
      "\"../src/data/sample_T3.txt\",\n",
      "\"../src/data/sample_T4.txt\",\n",
      "\"../src/data/sample_T5.txt\",\n",
      "\"../src/data/sample_T6.txt\",\n",
      "]"
     ],
     "language": "python",
     "metadata": {},
     "outputs": [],
     "prompt_number": 2
    },
    {
     "cell_type": "markdown",
     "metadata": {},
     "source": [
      "Define the files where the final results will be stored."
     ]
    },
    {
     "cell_type": "code",
     "collapsed": false,
     "input": [
      "results_txt_file = \"mfit_results_41A4_t.txt\" # C_sigma and R_T of fit\n",
      "result_pdf_1=\"41A4_multifit1.pdf\" # conductance curves and fitting curves obtained with the multi-fit procedure\n",
      "result_pdf_2=\"41A4_multifit2.pdf\" # conductance curves and fitting curves obtained with the single-fit procedure\n",
      "interpolation_filename=\"41A4_interpolation_table.txt\""
     ],
     "language": "python",
     "metadata": {},
     "outputs": [],
     "prompt_number": 3
    },
    {
     "cell_type": "markdown",
     "metadata": {},
     "source": [
      "Define the sensor and measurement characteristics"
     ]
    },
    {
     "cell_type": "code",
     "collapsed": false,
     "input": [
      "N_junctions = 33.0        # number of junctions in each array\n",
      "parallel_arrays = 20.0  # number of arrays in parallel \n",
      "island_size_init = 400.0  # 1e-15 m^3 # island size used to evaluate its heating due to the electron-phonon coupling\n",
      "excitation = 30e-6/N_junctions  # AC voltage excitation of measurement"
     ],
     "language": "python",
     "metadata": {},
     "outputs": [],
     "prompt_number": 4
    },
    {
     "cell_type": "markdown",
     "metadata": {},
     "source": [
      "as well as the initial values of the variables used in the optimization"
     ]
    },
    {
     "cell_type": "code",
     "collapsed": false,
     "input": [
      "T_init = 10e-3 # K  # initial guess for the temperature\n",
      "R_tunnel_init = 28.0 # kOhm # initial guess for the tunnel resistance of the single junction\n",
      "TEC_init = 5e-3 # K # double charging energy of the single island\n",
      "# If bounds given, they are used to limit optimization\n",
      "#R,C,T\n",
      "bounds = [(1.0,100.0),(230.0,240.0),(5.0,250.0)] #(min,max)"
     ],
     "language": "python",
     "metadata": {},
     "outputs": [],
     "prompt_number": 5
    },
    {
     "cell_type": "markdown",
     "metadata": {},
     "source": [
      "Do the fitting:"
     ]
    },
    {
     "cell_type": "code",
     "collapsed": false,
     "input": [
      "fitters=[] # list of classes CBT_fitter that also store results\n",
      "for i,filename in enumerate(filenames):\n",
      "    fitter=CBT_fitter(filename=filename,T_init=T_init,island_size_init=island_size_init,\n",
      "                      R_tunnel_init=R_tunnel_init,TEC_init=TEC_init,\n",
      "                        bounds=bounds,const_P=500e-18,\n",
      "                        excitation=excitation,parallel_arrays=parallel_arrays,\n",
      "                        junctions_in_series = N_junctions)\n",
      "    fitter.find_offset(5) # finds offset with 5 points from minimum each direction\n",
      "    #fitter.print_offset_curve()\n",
      "    fitter.fit_classic_curve() # fit analytic curve to get starting point for nonlin fit\n",
      "    #fitter.plot_result_initial()\n",
      "    fitter.fit_full_curve() # nonlin fitting\n",
      "    fitter.print_elapset_time()\n",
      "    #fitter.plot_nonlin_results()\n",
      "    fitters.append(fitter) # save results\n",
      "\n",
      "multi_fitter = CBT_multi_fitter(fitters,             #  calibration class defined in CBT_fit_multi_T.py\n",
      "                                result_text_filename=results_txt_file,\n",
      "                                interpolation_table_file=interpolation_filename)"
     ],
     "language": "python",
     "metadata": {},
     "outputs": [
      {
       "output_type": "stream",
       "stream": "stdout",
       "text": [
        "============================================\n",
        " Calculated Voltage Offset = 1.51966e-06\n",
        "============================================\n",
        "=================================================\n",
        "==============  Starting Values   ===============\n",
        "=================================================\n",
        "Rt_init: 28 KOhm T_init: 10 mK E_C_init: 5 mK\n",
        "=================================================\n",
        "[ 0.03915237  0.01001382  0.0048053 ]"
       ]
      },
      {
       "output_type": "stream",
       "stream": "stdout",
       "text": [
        "\n",
        "[ 0.03911708  0.01139047  0.00411879]"
       ]
      },
      {
       "output_type": "stream",
       "stream": "stdout",
       "text": [
        "\n",
        "[ 0.03916552  0.01324601  0.00497188]\n",
        "[ 0.03928882  0.01792405  0.00689606]"
       ]
      },
      {
       "output_type": "stream",
       "stream": "stdout",
       "text": [
        "\n",
        "[ 0.03934072  0.02011427  0.00771554]\n",
        "[ 0.03935972  0.02106679  0.00801637]"
       ]
      },
      {
       "output_type": "stream",
       "stream": "stdout",
       "text": [
        "\n",
        "[ 0.03936319  0.02135113  0.00807008]\n",
        "[ 0.03936275  0.02145242  0.0080618 ]"
       ]
      },
      {
       "output_type": "stream",
       "stream": "stdout",
       "text": [
        "\n",
        "[ 0.0393613   0.0214496   0.00803803]\n",
        "[ 0.03936074  0.02143221  0.00802909]"
       ]
      },
      {
       "output_type": "stream",
       "stream": "stdout",
       "text": [
        "\n",
        "[ 0.03936067  0.02142793  0.00802795]\n",
        "[ 0.03936066  0.02142765  0.00802795]"
       ]
      },
      {
       "output_type": "stream",
       "stream": "stdout",
       "text": [
        "\n",
        "[ 0.03936067  0.02142767  0.00802796]\n",
        "Warning: Desired error not necessarily achieved due to precision loss."
       ]
      },
      {
       "output_type": "stream",
       "stream": "stdout",
       "text": [
        "\n",
        "         Current function value: 0.033274\n",
        "         Iterations: 13\n",
        "         Function evaluations: 201\n",
        "         Gradient evaluations: 38\n",
        "=========================================\n",
        "====== After initial optimization: ======\n",
        "=========================================\n",
        "R_T = 25.4061 kOhm\n",
        "R_T_arrays = 41.92 kOhm\n",
        "T = 21.4277 mK\n",
        "Ec = 4.01398 mK\n",
        "Csigma = 231.597 fF\n",
        "Rt: 25406.1 Csigma: 2.31597e-13 Tp: 0.0214277 res: 0.00384685"
       ]
      },
      {
       "output_type": "stream",
       "stream": "stdout",
       "text": [
        "\n",
        "Rt: 25406.1 Csigma: 2.31597e-13 Tp: 0.0214277 res: 0.00384685"
       ]
      },
      {
       "output_type": "stream",
       "stream": "stdout",
       "text": [
        "\n",
        "Rt: 25406.1 Csigma: 2.31597e-13 Tp: 0.0214277 res: 0.00384685"
       ]
      },
      {
       "output_type": "stream",
       "stream": "stdout",
       "text": [
        "\n",
        "Rt: 25406.1 Csigma: 2.31597e-13 Tp: 0.0214277 res: 0.00384685"
       ]
      },
      {
       "output_type": "stream",
       "stream": "stdout",
       "text": [
        "\n",
        "Rt: 25406.1 Csigma: 2.31597e-13 Tp: 0.0214277 res: 0.00384685"
       ]
      },
      {
       "output_type": "stream",
       "stream": "stdout",
       "text": [
        "\n",
        "Rt: 25405 Csigma: 2.31597e-13 Tp: 0.0214266 res: 0.00384594"
       ]
      },
      {
       "output_type": "stream",
       "stream": "stdout",
       "text": [
        "\n",
        "Rt: 25405 Csigma: 2.31597e-13 Tp: 0.0214266 res: 0.00384594"
       ]
      },
      {
       "output_type": "stream",
       "stream": "stdout",
       "text": [
        "\n",
        "Rt: 25405 Csigma: 2.31597e-13 Tp: 0.0214266 res: 0.00384594"
       ]
      },
      {
       "output_type": "stream",
       "stream": "stdout",
       "text": [
        "\n",
        "Rt: 25405 Csigma: 2.31597e-13 Tp: 0.0214266 res: 0.00384594"
       ]
      },
      {
       "output_type": "stream",
       "stream": "stdout",
       "text": [
        "\n",
        "Rt: 25405 Csigma: 2.31597e-13 Tp: 0.0214266 res: 0.00384594"
       ]
      },
      {
       "output_type": "stream",
       "stream": "stdout",
       "text": [
        "\n",
        "Rt: 25405.2 Csigma: 2.31597e-13 Tp: 0.0214259 res: 0.00384497"
       ]
      },
      {
       "output_type": "stream",
       "stream": "stdout",
       "text": [
        "\n",
        "Rt: 25405.2 Csigma: 2.31597e-13 Tp: 0.0214259 res: 0.00384497"
       ]
      },
      {
       "output_type": "stream",
       "stream": "stdout",
       "text": [
        "\n",
        "Rt: 25405.2 Csigma: 2.31597e-13 Tp: 0.0214259 res: 0.00384497"
       ]
      },
      {
       "output_type": "stream",
       "stream": "stdout",
       "text": [
        "\n",
        "Rt: 25405.2 Csigma: 2.31597e-13 Tp: 0.0214259 res: 0.00384497"
       ]
      },
      {
       "output_type": "stream",
       "stream": "stdout",
       "text": [
        "\n",
        "Rt: 25405.2 Csigma: 2.31597e-13 Tp: 0.0214259 res: 0.00384497"
       ]
      },
      {
       "output_type": "stream",
       "stream": "stdout",
       "text": [
        "\n",
        "Rt: 25406 Csigma: 2.31596e-13 Tp: 0.0214232 res: 0.00384202"
       ]
      },
      {
       "output_type": "stream",
       "stream": "stdout",
       "text": [
        "\n",
        "Rt: 25406 Csigma: 2.31596e-13 Tp: 0.0214232 res: 0.00384202"
       ]
      },
      {
       "output_type": "stream",
       "stream": "stdout",
       "text": [
        "\n",
        "Rt: 25406 Csigma: 2.31596e-13 Tp: 0.0214232 res: 0.00384202"
       ]
      },
      {
       "output_type": "stream",
       "stream": "stdout",
       "text": [
        "\n",
        "Rt: 25406 Csigma: 2.31596e-13 Tp: 0.0214232 res: 0.00384202"
       ]
      },
      {
       "output_type": "stream",
       "stream": "stdout",
       "text": [
        "\n",
        "Rt: 25406 Csigma: 2.31596e-13 Tp: 0.0214232 res: 0.00384202"
       ]
      },
      {
       "output_type": "stream",
       "stream": "stdout",
       "text": [
        "\n",
        "Rt: 25407.1 Csigma: 2.31595e-13 Tp: 0.0214096 res: 0.00383031"
       ]
      },
      {
       "output_type": "stream",
       "stream": "stdout",
       "text": [
        "\n",
        "Rt: 25407.1 Csigma: 2.31595e-13 Tp: 0.0214096 res: 0.00383031"
       ]
      },
      {
       "output_type": "stream",
       "stream": "stdout",
       "text": [
        "\n",
        "Rt: 25407.1 Csigma: 2.31595e-13 Tp: 0.0214096 res: 0.00383031"
       ]
      },
      {
       "output_type": "stream",
       "stream": "stdout",
       "text": [
        "\n",
        "Rt: 25407.1 Csigma: 2.31595e-13 Tp: 0.0214096 res: 0.00383031"
       ]
      },
      {
       "output_type": "stream",
       "stream": "stdout",
       "text": [
        "\n",
        "Rt: 25407.1 Csigma: 2.31595e-13 Tp: 0.0214096 res: 0.00383031"
       ]
      },
      {
       "output_type": "stream",
       "stream": "stdout",
       "text": [
        "\n",
        "Rt: 25410.4 Csigma: 2.31589e-13 Tp: 0.0213347 res: 0.00377879"
       ]
      },
      {
       "output_type": "stream",
       "stream": "stdout",
       "text": [
        "\n",
        "Rt: 25410.4 Csigma: 2.31589e-13 Tp: 0.0213347 res: 0.00377879"
       ]
      },
      {
       "output_type": "stream",
       "stream": "stdout",
       "text": [
        "\n",
        "Rt: 25410.4 Csigma: 2.31589e-13 Tp: 0.0213347 res: 0.00377879"
       ]
      },
      {
       "output_type": "stream",
       "stream": "stdout",
       "text": [
        "\n",
        "Rt: 25410.4 Csigma: 2.31589e-13 Tp: 0.0213347 res: 0.00377879"
       ]
      },
      {
       "output_type": "stream",
       "stream": "stdout",
       "text": [
        "\n",
        "Rt: 25410.4 Csigma: 2.31589e-13 Tp: 0.0213347 res: 0.00377879"
       ]
      },
      {
       "output_type": "stream",
       "stream": "stdout",
       "text": [
        "\n",
        "Rt: 25413.6 Csigma: 2.31577e-13 Tp: 0.0211771 res: 0.00368656"
       ]
      },
      {
       "output_type": "stream",
       "stream": "stdout",
       "text": [
        "\n",
        "Rt: 25413.6 Csigma: 2.31577e-13 Tp: 0.0211771 res: 0.00368656"
       ]
      },
      {
       "output_type": "stream",
       "stream": "stdout",
       "text": [
        "\n",
        "Rt: 25413.6 Csigma: 2.31577e-13 Tp: 0.0211771 res: 0.00368656"
       ]
      },
      {
       "output_type": "stream",
       "stream": "stdout",
       "text": [
        "\n",
        "Rt: 25413.6 Csigma: 2.31577e-13 Tp: 0.0211771 res: 0.00368656"
       ]
      },
      {
       "output_type": "stream",
       "stream": "stdout",
       "text": [
        "\n",
        "Rt: 25413.6 Csigma: 2.31577e-13 Tp: 0.0211771 res: 0.00368656"
       ]
      },
      {
       "output_type": "stream",
       "stream": "stdout",
       "text": [
        "\n",
        "Rt: 25415.7 Csigma: 2.31551e-13 Tp: 0.0208583 res: 0.00352605"
       ]
      },
      {
       "output_type": "stream",
       "stream": "stdout",
       "text": [
        "\n",
        "Rt: 25415.7 Csigma: 2.31551e-13 Tp: 0.0208583 res: 0.00352605"
       ]
      },
      {
       "output_type": "stream",
       "stream": "stdout",
       "text": [
        "\n",
        "Rt: 25415.7 Csigma: 2.31551e-13 Tp: 0.0208583 res: 0.00352605"
       ]
      },
      {
       "output_type": "stream",
       "stream": "stdout",
       "text": [
        "\n",
        "Rt: 25415.7 Csigma: 2.31551e-13 Tp: 0.0208583 res: 0.00352605"
       ]
      },
      {
       "output_type": "stream",
       "stream": "stdout",
       "text": [
        "\n",
        "Rt: 25415.7 Csigma: 2.31551e-13 Tp: 0.0208583 res: 0.00352605"
       ]
      },
      {
       "output_type": "stream",
       "stream": "stdout",
       "text": [
        "\n",
        "Rt: 25413.2 Csigma: 2.31526e-13 Tp: 0.0205363 res: 0.00338516"
       ]
      },
      {
       "output_type": "stream",
       "stream": "stdout",
       "text": [
        "\n",
        "Rt: 25413.2 Csigma: 2.31526e-13 Tp: 0.0205363 res: 0.00338516"
       ]
      },
      {
       "output_type": "stream",
       "stream": "stdout",
       "text": [
        "\n",
        "Rt: 25413.2 Csigma: 2.31526e-13 Tp: 0.0205363 res: 0.00338516"
       ]
      },
      {
       "output_type": "stream",
       "stream": "stdout",
       "text": [
        "\n",
        "Rt: 25413.2 Csigma: 2.31526e-13 Tp: 0.0205363 res: 0.00338516"
       ]
      },
      {
       "output_type": "stream",
       "stream": "stdout",
       "text": [
        "\n",
        "Rt: 25413.2 Csigma: 2.31526e-13 Tp: 0.0205363 res: 0.00338516"
       ]
      },
      {
       "output_type": "stream",
       "stream": "stdout",
       "text": [
        "\n",
        "Rt: 25408.3 Csigma: 2.31517e-13 Tp: 0.0204272 res: 0.00332786"
       ]
      },
      {
       "output_type": "stream",
       "stream": "stdout",
       "text": [
        "\n",
        "Rt: 25408.3 Csigma: 2.31517e-13 Tp: 0.0204272 res: 0.00332786"
       ]
      },
      {
       "output_type": "stream",
       "stream": "stdout",
       "text": [
        "\n",
        "Rt: 25408.3 Csigma: 2.31517e-13 Tp: 0.0204272 res: 0.00332786"
       ]
      },
      {
       "output_type": "stream",
       "stream": "stdout",
       "text": [
        "\n",
        "Rt: 25408.3 Csigma: 2.31517e-13 Tp: 0.0204272 res: 0.00332786"
       ]
      },
      {
       "output_type": "stream",
       "stream": "stdout",
       "text": [
        "\n",
        "Rt: 25408.3 Csigma: 2.31517e-13 Tp: 0.0204272 res: 0.00332786"
       ]
      },
      {
       "output_type": "stream",
       "stream": "stdout",
       "text": [
        "\n",
        "Rt: 25406.1 Csigma: 2.31519e-13 Tp: 0.0204556 res: 0.0033204"
       ]
      },
      {
       "output_type": "stream",
       "stream": "stdout",
       "text": [
        "\n",
        "Rt: 25406.1 Csigma: 2.31519e-13 Tp: 0.0204556 res: 0.0033204"
       ]
      },
      {
       "output_type": "stream",
       "stream": "stdout",
       "text": [
        "\n",
        "Rt: 25406.1 Csigma: 2.31519e-13 Tp: 0.0204556 res: 0.0033204"
       ]
      },
      {
       "output_type": "stream",
       "stream": "stdout",
       "text": [
        "\n",
        "Rt: 25406.1 Csigma: 2.31519e-13 Tp: 0.0204556 res: 0.0033204"
       ]
      },
      {
       "output_type": "stream",
       "stream": "stdout",
       "text": [
        "\n",
        "Rt: 25406.1 Csigma: 2.31519e-13 Tp: 0.0204556 res: 0.0033204"
       ]
      },
      {
       "output_type": "stream",
       "stream": "stdout",
       "text": [
        "\n",
        "Rt: 25405.9 Csigma: 2.3152e-13 Tp: 0.0204688 res: 0.00332025"
       ]
      },
      {
       "output_type": "stream",
       "stream": "stdout",
       "text": [
        "\n",
        "Rt: 25405.9 Csigma: 2.3152e-13 Tp: 0.0204688 res: 0.00332025"
       ]
      },
      {
       "output_type": "stream",
       "stream": "stdout",
       "text": [
        "\n",
        "Rt: 25405.9 Csigma: 2.3152e-13 Tp: 0.0204688 res: 0.00332025"
       ]
      },
      {
       "output_type": "stream",
       "stream": "stdout",
       "text": [
        "\n",
        "Rt: 25405.9 Csigma: 2.3152e-13 Tp: 0.0204688 res: 0.00332025"
       ]
      },
      {
       "output_type": "stream",
       "stream": "stdout",
       "text": [
        "\n",
        "Rt: 25405.9 Csigma: 2.3152e-13 Tp: 0.0204688 res: 0.00332025"
       ]
      },
      {
       "output_type": "stream",
       "stream": "stdout",
       "text": [
        "\n",
        "Rt: 25405.9 Csigma: 2.3152e-13 Tp: 0.0204696 res: 0.00332025"
       ]
      },
      {
       "output_type": "stream",
       "stream": "stdout",
       "text": [
        "\n",
        "Rt: 25405.9 Csigma: 2.3152e-13 Tp: 0.0204696 res: 0.00332025"
       ]
      },
      {
       "output_type": "stream",
       "stream": "stdout",
       "text": [
        "\n",
        "Rt: 25405.9 Csigma: 2.3152e-13 Tp: 0.0204696 res: 0.00332025"
       ]
      },
      {
       "output_type": "stream",
       "stream": "stdout",
       "text": [
        "\n",
        "Rt: 25405.9 Csigma: 2.3152e-13 Tp: 0.0204696 res: 0.00332025"
       ]
      },
      {
       "output_type": "stream",
       "stream": "stdout",
       "text": [
        "\n",
        "Rt: 25405.9 Csigma: 2.3152e-13 Tp: 0.0204696 res: 0.00332025"
       ]
      },
      {
       "output_type": "stream",
       "stream": "stdout",
       "text": [
        "\n",
        "==========================================\n",
        "======   After main optimization:   ======\n",
        "==========================================\n",
        "R_T = 25.4059\n",
        "T = 20.4696 mK\n",
        "C_sigma = 231.52 \n",
        "It has taken 81.7051 seconds = 1.36175 minutes\n",
        "============================================\n",
        " Calculated Voltage Offset = 8.77639e-07\n",
        "============================================\n",
        "=================================================\n",
        "==============  Starting Values   ===============\n",
        "=================================================\n",
        "Rt_init: 28 KOhm T_init: 10 mK E_C_init: 5 mK\n",
        "=================================================\n",
        "[ 0.03921878  0.010014    0.00484839]"
       ]
      },
      {
       "output_type": "stream",
       "stream": "stdout",
       "text": [
        "\n",
        "[ 0.03915953  0.01112273  0.00314859]"
       ]
      },
      {
       "output_type": "stream",
       "stream": "stdout",
       "text": [
        "\n",
        "[ 0.03927712  0.0190609   0.00622555]\n",
        "[ 0.0393353   0.02382065  0.00748713]\n",
        "[ 0.03935863  0.02689384  0.00802116]"
       ]
      },
      {
       "output_type": "stream",
       "stream": "stdout",
       "text": [
        "\n",
        "[ 0.03936381  0.02883543  0.00813707]\n",
        "[ 0.03935935  0.02966826  0.00802795]\n",
        "[ 0.03935477  0.02974837  0.00791895]"
       ]
      },
      {
       "output_type": "stream",
       "stream": "stdout",
       "text": [
        "\n",
        "[ 0.03935306  0.02966309  0.00787865]\n",
        "[ 0.03935248  0.02960353  0.00786492]\n",
        "[ 0.03935244  0.02959159  0.00786401]"
       ]
      },
      {
       "output_type": "stream",
       "stream": "stdout",
       "text": [
        "\n",
        "[ 0.03935245  0.02959119  0.00786421]\n",
        "[ 0.03935245  0.02959123  0.00786423]\n",
        "[ 0.03935245  0.02959123  0.00786423]"
       ]
      },
      {
       "output_type": "stream",
       "stream": "stdout",
       "text": [
        "\n",
        "Warning: Desired error not necessarily achieved due to precision loss."
       ]
      },
      {
       "output_type": "stream",
       "stream": "stdout",
       "text": [
        "\n",
        "         Current function value: 0.028808\n",
        "         Iterations: 14\n",
        "         Function evaluations: 164\n",
        "         Gradient evaluations: 31\n",
        "=========================================\n",
        "====== After initial optimization: ======\n",
        "=========================================\n",
        "R_T = 25.4114 kOhm\n",
        "R_T_arrays = 41.9288 kOhm\n",
        "T = 29.5912 mK\n",
        "Ec = 3.93211 mK\n",
        "Csigma = 236.419 fF\n",
        "Rt: 25411.4 Csigma: 2.36419e-13 Tp: 0.0295912 res: 0.00306865"
       ]
      },
      {
       "output_type": "stream",
       "stream": "stdout",
       "text": [
        "\n",
        "Rt: 25411.4 Csigma: 2.36419e-13 Tp: 0.0295912 res: 0.00306865"
       ]
      },
      {
       "output_type": "stream",
       "stream": "stdout",
       "text": [
        "\n",
        "Rt: 25411.4 Csigma: 2.36419e-13 Tp: 0.0295912 res: 0.00306865"
       ]
      },
      {
       "output_type": "stream",
       "stream": "stdout",
       "text": [
        "\n",
        "Rt: 25411.4 Csigma: 2.36419e-13 Tp: 0.0295912 res: 0.00306865"
       ]
      },
      {
       "output_type": "stream",
       "stream": "stdout",
       "text": [
        "\n",
        "Rt: 25411.4 Csigma: 2.36419e-13 Tp: 0.0295912 res: 0.00306865"
       ]
      },
      {
       "output_type": "stream",
       "stream": "stdout",
       "text": [
        "\n",
        "Rt: 25411 Csigma: 2.36418e-13 Tp: 0.029591 res: 0.0030686"
       ]
      },
      {
       "output_type": "stream",
       "stream": "stdout",
       "text": [
        "\n",
        "Rt: 25411 Csigma: 2.36418e-13 Tp: 0.029591 res: 0.0030686"
       ]
      },
      {
       "output_type": "stream",
       "stream": "stdout",
       "text": [
        "\n",
        "Rt: 25411 Csigma: 2.36418e-13 Tp: 0.029591 res: 0.0030686"
       ]
      },
      {
       "output_type": "stream",
       "stream": "stdout",
       "text": [
        "\n",
        "Rt: 25411 Csigma: 2.36418e-13 Tp: 0.029591 res: 0.0030686"
       ]
      },
      {
       "output_type": "stream",
       "stream": "stdout",
       "text": [
        "\n",
        "Rt: 25411 Csigma: 2.36418e-13 Tp: 0.029591 res: 0.0030686"
       ]
      },
      {
       "output_type": "stream",
       "stream": "stdout",
       "text": [
        "\n",
        "Rt: 25411.1 Csigma: 2.36418e-13 Tp: 0.0295909 res: 0.00306853"
       ]
      },
      {
       "output_type": "stream",
       "stream": "stdout",
       "text": [
        "\n",
        "Rt: 25411.1 Csigma: 2.36418e-13 Tp: 0.0295909 res: 0.00306853"
       ]
      },
      {
       "output_type": "stream",
       "stream": "stdout",
       "text": [
        "\n",
        "Rt: 25411.1 Csigma: 2.36418e-13 Tp: 0.0295909 res: 0.00306853"
       ]
      },
      {
       "output_type": "stream",
       "stream": "stdout",
       "text": [
        "\n",
        "Rt: 25411.1 Csigma: 2.36418e-13 Tp: 0.0295909 res: 0.00306853"
       ]
      },
      {
       "output_type": "stream",
       "stream": "stdout",
       "text": [
        "\n",
        "Rt: 25411.1 Csigma: 2.36418e-13 Tp: 0.0295909 res: 0.00306853"
       ]
      },
      {
       "output_type": "stream",
       "stream": "stdout",
       "text": [
        "\n",
        "Rt: 25411.3 Csigma: 2.36418e-13 Tp: 0.0295905 res: 0.00306843"
       ]
      },
      {
       "output_type": "stream",
       "stream": "stdout",
       "text": [
        "\n",
        "Rt: 25411.3 Csigma: 2.36418e-13 Tp: 0.0295905 res: 0.00306843"
       ]
      },
      {
       "output_type": "stream",
       "stream": "stdout",
       "text": [
        "\n",
        "Rt: 25411.3 Csigma: 2.36418e-13 Tp: 0.0295905 res: 0.00306843"
       ]
      },
      {
       "output_type": "stream",
       "stream": "stdout",
       "text": [
        "\n",
        "Rt: 25411.3 Csigma: 2.36418e-13 Tp: 0.0295905 res: 0.00306843"
       ]
      },
      {
       "output_type": "stream",
       "stream": "stdout",
       "text": [
        "\n",
        "Rt: 25411.3 Csigma: 2.36418e-13 Tp: 0.0295905 res: 0.00306843"
       ]
      },
      {
       "output_type": "stream",
       "stream": "stdout",
       "text": [
        "\n",
        "Rt: 25411.5 Csigma: 2.36418e-13 Tp: 0.0295888 res: 0.00306807"
       ]
      },
      {
       "output_type": "stream",
       "stream": "stdout",
       "text": [
        "\n",
        "Rt: 25411.5 Csigma: 2.36418e-13 Tp: 0.0295888 res: 0.00306807"
       ]
      },
      {
       "output_type": "stream",
       "stream": "stdout",
       "text": [
        "\n",
        "Rt: 25411.5 Csigma: 2.36418e-13 Tp: 0.0295888 res: 0.00306807"
       ]
      },
      {
       "output_type": "stream",
       "stream": "stdout",
       "text": [
        "\n",
        "Rt: 25411.5 Csigma: 2.36418e-13 Tp: 0.0295888 res: 0.00306807"
       ]
      },
      {
       "output_type": "stream",
       "stream": "stdout",
       "text": [
        "\n",
        "Rt: 25411.5 Csigma: 2.36418e-13 Tp: 0.0295888 res: 0.00306807"
       ]
      },
      {
       "output_type": "stream",
       "stream": "stdout",
       "text": [
        "\n",
        "Rt: 25411.9 Csigma: 2.36418e-13 Tp: 0.0295839 res: 0.00306723"
       ]
      },
      {
       "output_type": "stream",
       "stream": "stdout",
       "text": [
        "\n",
        "Rt: 25411.9 Csigma: 2.36418e-13 Tp: 0.0295839 res: 0.00306723"
       ]
      },
      {
       "output_type": "stream",
       "stream": "stdout",
       "text": [
        "\n",
        "Rt: 25411.9 Csigma: 2.36418e-13 Tp: 0.0295839 res: 0.00306723"
       ]
      },
      {
       "output_type": "stream",
       "stream": "stdout",
       "text": [
        "\n",
        "Rt: 25411.9 Csigma: 2.36418e-13 Tp: 0.0295839 res: 0.00306723"
       ]
      },
      {
       "output_type": "stream",
       "stream": "stdout",
       "text": [
        "\n",
        "Rt: 25411.9 Csigma: 2.36418e-13 Tp: 0.0295839 res: 0.00306723"
       ]
      },
      {
       "output_type": "stream",
       "stream": "stdout",
       "text": [
        "\n",
        "Rt: 25412.7 Csigma: 2.36416e-13 Tp: 0.0295676 res: 0.0030648"
       ]
      },
      {
       "output_type": "stream",
       "stream": "stdout",
       "text": [
        "\n",
        "Rt: 25412.7 Csigma: 2.36416e-13 Tp: 0.0295676 res: 0.0030648"
       ]
      },
      {
       "output_type": "stream",
       "stream": "stdout",
       "text": [
        "\n",
        "Rt: 25412.7 Csigma: 2.36416e-13 Tp: 0.0295676 res: 0.0030648"
       ]
      },
      {
       "output_type": "stream",
       "stream": "stdout",
       "text": [
        "\n",
        "Rt: 25412.7 Csigma: 2.36416e-13 Tp: 0.0295676 res: 0.0030648"
       ]
      },
      {
       "output_type": "stream",
       "stream": "stdout",
       "text": [
        "\n",
        "Rt: 25412.7 Csigma: 2.36416e-13 Tp: 0.0295676 res: 0.0030648"
       ]
      },
      {
       "output_type": "stream",
       "stream": "stdout",
       "text": [
        "\n",
        "Rt: 25413.6 Csigma: 2.36412e-13 Tp: 0.0295329 res: 0.00305972"
       ]
      },
      {
       "output_type": "stream",
       "stream": "stdout",
       "text": [
        "\n",
        "Rt: 25413.6 Csigma: 2.36412e-13 Tp: 0.0295329 res: 0.00305972"
       ]
      },
      {
       "output_type": "stream",
       "stream": "stdout",
       "text": [
        "\n",
        "Rt: 25413.6 Csigma: 2.36412e-13 Tp: 0.0295329 res: 0.00305972"
       ]
      },
      {
       "output_type": "stream",
       "stream": "stdout",
       "text": [
        "\n",
        "Rt: 25413.6 Csigma: 2.36412e-13 Tp: 0.0295329 res: 0.00305972"
       ]
      },
      {
       "output_type": "stream",
       "stream": "stdout",
       "text": [
        "\n",
        "Rt: 25413.6 Csigma: 2.36412e-13 Tp: 0.0295329 res: 0.00305972"
       ]
      },
      {
       "output_type": "stream",
       "stream": "stdout",
       "text": [
        "\n",
        "Rt: 25415 Csigma: 2.36402e-13 Tp: 0.0294317 res: 0.0030454"
       ]
      },
      {
       "output_type": "stream",
       "stream": "stdout",
       "text": [
        "\n",
        "Rt: 25415 Csigma: 2.36402e-13 Tp: 0.0294317 res: 0.0030454"
       ]
      },
      {
       "output_type": "stream",
       "stream": "stdout",
       "text": [
        "\n",
        "Rt: 25415 Csigma: 2.36402e-13 Tp: 0.0294317 res: 0.0030454"
       ]
      },
      {
       "output_type": "stream",
       "stream": "stdout",
       "text": [
        "\n",
        "Rt: 25415 Csigma: 2.36402e-13 Tp: 0.0294317 res: 0.0030454"
       ]
      },
      {
       "output_type": "stream",
       "stream": "stdout",
       "text": [
        "\n",
        "Rt: 25415 Csigma: 2.36402e-13 Tp: 0.0294317 res: 0.0030454"
       ]
      },
      {
       "output_type": "stream",
       "stream": "stdout",
       "text": [
        "\n",
        "Rt: 25416.4 Csigma: 2.3638e-13 Tp: 0.0292138 res: 0.00301738"
       ]
      },
      {
       "output_type": "stream",
       "stream": "stdout",
       "text": [
        "\n",
        "Rt: 25416.4 Csigma: 2.3638e-13 Tp: 0.0292138 res: 0.00301738"
       ]
      },
      {
       "output_type": "stream",
       "stream": "stdout",
       "text": [
        "\n",
        "Rt: 25416.4 Csigma: 2.3638e-13 Tp: 0.0292138 res: 0.00301738"
       ]
      },
      {
       "output_type": "stream",
       "stream": "stdout",
       "text": [
        "\n",
        "Rt: 25416.4 Csigma: 2.3638e-13 Tp: 0.0292138 res: 0.00301738"
       ]
      },
      {
       "output_type": "stream",
       "stream": "stdout",
       "text": [
        "\n",
        "Rt: 25416.4 Csigma: 2.3638e-13 Tp: 0.0292138 res: 0.00301738"
       ]
      },
      {
       "output_type": "stream",
       "stream": "stdout",
       "text": [
        "\n",
        "Rt: 25416.3 Csigma: 2.36349e-13 Tp: 0.0289149 res: 0.00298033"
       ]
      },
      {
       "output_type": "stream",
       "stream": "stdout",
       "text": [
        "\n",
        "Rt: 25416.3 Csigma: 2.36349e-13 Tp: 0.0289149 res: 0.00298033"
       ]
      },
      {
       "output_type": "stream",
       "stream": "stdout",
       "text": [
        "\n",
        "Rt: 25416.3 Csigma: 2.36349e-13 Tp: 0.0289149 res: 0.00298033"
       ]
      },
      {
       "output_type": "stream",
       "stream": "stdout",
       "text": [
        "\n",
        "Rt: 25416.3 Csigma: 2.36349e-13 Tp: 0.0289149 res: 0.00298033"
       ]
      },
      {
       "output_type": "stream",
       "stream": "stdout",
       "text": [
        "\n",
        "Rt: 25416.3 Csigma: 2.36349e-13 Tp: 0.0289149 res: 0.00298033"
       ]
      },
      {
       "output_type": "stream",
       "stream": "stdout",
       "text": [
        "\n",
        "Rt: 25413.5 Csigma: 2.36318e-13 Tp: 0.028642 res: 0.00294703"
       ]
      },
      {
       "output_type": "stream",
       "stream": "stdout",
       "text": [
        "\n",
        "Rt: 25413.5 Csigma: 2.36318e-13 Tp: 0.028642 res: 0.00294703"
       ]
      },
      {
       "output_type": "stream",
       "stream": "stdout",
       "text": [
        "\n",
        "Rt: 25413.5 Csigma: 2.36318e-13 Tp: 0.028642 res: 0.00294703"
       ]
      },
      {
       "output_type": "stream",
       "stream": "stdout",
       "text": [
        "\n",
        "Rt: 25413.5 Csigma: 2.36318e-13 Tp: 0.028642 res: 0.00294703"
       ]
      },
      {
       "output_type": "stream",
       "stream": "stdout",
       "text": [
        "\n",
        "Rt: 25413.5 Csigma: 2.36318e-13 Tp: 0.028642 res: 0.00294703"
       ]
      },
      {
       "output_type": "stream",
       "stream": "stdout",
       "text": [
        "\n",
        "Rt: 25411.7 Csigma: 2.36317e-13 Tp: 0.0286429 res: 0.00294132"
       ]
      },
      {
       "output_type": "stream",
       "stream": "stdout",
       "text": [
        "\n",
        "Rt: 25411.7 Csigma: 2.36317e-13 Tp: 0.0286429 res: 0.00294132"
       ]
      },
      {
       "output_type": "stream",
       "stream": "stdout",
       "text": [
        "\n",
        "Rt: 25411.7 Csigma: 2.36317e-13 Tp: 0.0286429 res: 0.00294132"
       ]
      },
      {
       "output_type": "stream",
       "stream": "stdout",
       "text": [
        "\n",
        "Rt: 25411.7 Csigma: 2.36317e-13 Tp: 0.0286429 res: 0.00294132"
       ]
      },
      {
       "output_type": "stream",
       "stream": "stdout",
       "text": [
        "\n",
        "Rt: 25411.7 Csigma: 2.36317e-13 Tp: 0.0286429 res: 0.00294132"
       ]
      },
      {
       "output_type": "stream",
       "stream": "stdout",
       "text": [
        "\n",
        "Rt: 25411.2 Csigma: 2.3632e-13 Tp: 0.0286707 res: 0.00294099"
       ]
      },
      {
       "output_type": "stream",
       "stream": "stdout",
       "text": [
        "\n",
        "Rt: 25411.2 Csigma: 2.3632e-13 Tp: 0.0286707 res: 0.00294099"
       ]
      },
      {
       "output_type": "stream",
       "stream": "stdout",
       "text": [
        "\n",
        "Rt: 25411.2 Csigma: 2.3632e-13 Tp: 0.0286707 res: 0.00294099"
       ]
      },
      {
       "output_type": "stream",
       "stream": "stdout",
       "text": [
        "\n",
        "Rt: 25411.2 Csigma: 2.3632e-13 Tp: 0.0286707 res: 0.00294099"
       ]
      },
      {
       "output_type": "stream",
       "stream": "stdout",
       "text": [
        "\n",
        "Rt: 25411.2 Csigma: 2.3632e-13 Tp: 0.0286707 res: 0.00294099"
       ]
      },
      {
       "output_type": "stream",
       "stream": "stdout",
       "text": [
        "\n",
        "==========================================\n",
        "======   After main optimization:   ======\n",
        "==========================================\n",
        "R_T = 25.4112\n",
        "T = 28.6707 mK\n",
        "C_sigma = 236.32 \n",
        "It has taken 110.754 seconds = 1.84591 minutes\n",
        "============================================\n",
        " Calculated Voltage Offset = -2.21378e-08\n",
        "============================================\n",
        "=================================================\n",
        "==============  Starting Values   ===============\n",
        "=================================================\n",
        "Rt_init: 28 KOhm T_init: 10 mK E_C_init: 5 mK\n",
        "=================================================\n",
        "[ 0.03924834  0.01001196  0.00487675]"
       ]
      },
      {
       "output_type": "stream",
       "stream": "stdout",
       "text": [
        "\n",
        "[ 0.03919009  0.01111368  0.00262623]"
       ]
      },
      {
       "output_type": "stream",
       "stream": "stdout",
       "text": [
        "\n",
        "[ 0.03941575  0.03266316  0.01054066]\n",
        "[ 0.03936704  0.02900887  0.00851368]\n",
        "[ 0.03930037  0.02667862  0.00620288]"
       ]
      },
      {
       "output_type": "stream",
       "stream": "stdout",
       "text": [
        "\n",
        "[ 0.03932352  0.02993509  0.00693993]\n",
        "[ 0.03934486  0.03550784  0.00770711]\n",
        "[ 0.03934987  0.03755552  0.00787463]"
       ]
      },
      {
       "output_type": "stream",
       "stream": "stdout",
       "text": [
        "\n",
        "[ 0.03935114  0.03839173  0.00791316]\n",
        "[ 0.03935112  0.03851608  0.00791222]\n",
        "[ 0.03935106  0.03851849  0.0079104 ]"
       ]
      },
      {
       "output_type": "stream",
       "stream": "stdout",
       "text": [
        "\n",
        "[ 0.03935104  0.03851668  0.00790982]\n",
        "Warning: Desired error not necessarily achieved due to precision loss."
       ]
      },
      {
       "output_type": "stream",
       "stream": "stdout",
       "text": [
        "\n",
        "         Current function value: 0.032912\n",
        "         Iterations: 12\n",
        "         Function evaluations: 256\n",
        "         Gradient evaluations: 49\n",
        "=========================================\n",
        "====== After initial optimization: ======\n",
        "=========================================\n",
        "R_T = 25.4123 kOhm\n",
        "R_T_arrays = 41.9303 kOhm\n",
        "T = 38.5167 mK\n",
        "Ec = 3.95491 mK\n",
        "Csigma = 235.056 fF\n",
        "Rt: 25412.3 Csigma: 2.35056e-13 Tp: 0.0385167 res: 0.00335254"
       ]
      },
      {
       "output_type": "stream",
       "stream": "stdout",
       "text": [
        "\n",
        "Rt: 25412.3 Csigma: 2.35056e-13 Tp: 0.0385167 res: 0.00335254"
       ]
      },
      {
       "output_type": "stream",
       "stream": "stdout",
       "text": [
        "\n",
        "Rt: 25412.3 Csigma: 2.35056e-13 Tp: 0.0385167 res: 0.00335254"
       ]
      },
      {
       "output_type": "stream",
       "stream": "stdout",
       "text": [
        "\n",
        "Rt: 25412.3 Csigma: 2.35056e-13 Tp: 0.0385167 res: 0.00335254"
       ]
      },
      {
       "output_type": "stream",
       "stream": "stdout",
       "text": [
        "\n",
        "Rt: 25412.3 Csigma: 2.35056e-13 Tp: 0.0385167 res: 0.00335254"
       ]
      },
      {
       "output_type": "stream",
       "stream": "stdout",
       "text": [
        "\n",
        "Rt: 25412 Csigma: 2.35056e-13 Tp: 0.0385166 res: 0.00335255"
       ]
      },
      {
       "output_type": "stream",
       "stream": "stdout",
       "text": [
        "\n",
        "Rt: 25412 Csigma: 2.35056e-13 Tp: 0.0385166 res: 0.00335255"
       ]
      },
      {
       "output_type": "stream",
       "stream": "stdout",
       "text": [
        "\n",
        "Rt: 25412 Csigma: 2.35056e-13 Tp: 0.0385166 res: 0.00335255"
       ]
      },
      {
       "output_type": "stream",
       "stream": "stdout",
       "text": [
        "\n",
        "Rt: 25412 Csigma: 2.35056e-13 Tp: 0.0385166 res: 0.00335255"
       ]
      },
      {
       "output_type": "stream",
       "stream": "stdout",
       "text": [
        "\n",
        "Rt: 25412 Csigma: 2.35056e-13 Tp: 0.0385166 res: 0.00335255"
       ]
      },
      {
       "output_type": "stream",
       "stream": "stdout",
       "text": [
        "\n",
        "Rt: 25412.2 Csigma: 2.35056e-13 Tp: 0.0385166 res: 0.00335252"
       ]
      },
      {
       "output_type": "stream",
       "stream": "stdout",
       "text": [
        "\n",
        "Rt: 25412.2 Csigma: 2.35056e-13 Tp: 0.0385166 res: 0.00335252"
       ]
      },
      {
       "output_type": "stream",
       "stream": "stdout",
       "text": [
        "\n",
        "Rt: 25412.2 Csigma: 2.35056e-13 Tp: 0.0385166 res: 0.00335252"
       ]
      },
      {
       "output_type": "stream",
       "stream": "stdout",
       "text": [
        "\n",
        "Rt: 25412.2 Csigma: 2.35056e-13 Tp: 0.0385166 res: 0.00335252"
       ]
      },
      {
       "output_type": "stream",
       "stream": "stdout",
       "text": [
        "\n",
        "Rt: 25412.2 Csigma: 2.35056e-13 Tp: 0.0385166 res: 0.00335252"
       ]
      },
      {
       "output_type": "stream",
       "stream": "stdout",
       "text": [
        "\n",
        "Rt: 25412.2 Csigma: 2.35056e-13 Tp: 0.0385166 res: 0.00335252"
       ]
      },
      {
       "output_type": "stream",
       "stream": "stdout",
       "text": [
        "\n",
        "Rt: 25412.2 Csigma: 2.35056e-13 Tp: 0.0385166 res: 0.00335252"
       ]
      },
      {
       "output_type": "stream",
       "stream": "stdout",
       "text": [
        "\n",
        "Rt: 25412.2 Csigma: 2.35056e-13 Tp: 0.0385166 res: 0.00335252"
       ]
      },
      {
       "output_type": "stream",
       "stream": "stdout",
       "text": [
        "\n",
        "Rt: 25412.2 Csigma: 2.35056e-13 Tp: 0.0385166 res: 0.00335252"
       ]
      },
      {
       "output_type": "stream",
       "stream": "stdout",
       "text": [
        "\n",
        "Rt: 25412.2 Csigma: 2.35056e-13 Tp: 0.0385166 res: 0.00335252"
       ]
      },
      {
       "output_type": "stream",
       "stream": "stdout",
       "text": [
        "\n",
        "Rt: 25412.2 Csigma: 2.35056e-13 Tp: 0.0385164 res: 0.0033525"
       ]
      },
      {
       "output_type": "stream",
       "stream": "stdout",
       "text": [
        "\n",
        "Rt: 25412.2 Csigma: 2.35056e-13 Tp: 0.0385164 res: 0.0033525"
       ]
      },
      {
       "output_type": "stream",
       "stream": "stdout",
       "text": [
        "\n",
        "Rt: 25412.2 Csigma: 2.35056e-13 Tp: 0.0385164 res: 0.0033525"
       ]
      },
      {
       "output_type": "stream",
       "stream": "stdout",
       "text": [
        "\n",
        "Rt: 25412.2 Csigma: 2.35056e-13 Tp: 0.0385164 res: 0.0033525"
       ]
      },
      {
       "output_type": "stream",
       "stream": "stdout",
       "text": [
        "\n",
        "Rt: 25412.2 Csigma: 2.35056e-13 Tp: 0.0385164 res: 0.0033525"
       ]
      },
      {
       "output_type": "stream",
       "stream": "stdout",
       "text": [
        "\n",
        "Rt: 25412.1 Csigma: 2.35056e-13 Tp: 0.0385157 res: 0.00335244"
       ]
      },
      {
       "output_type": "stream",
       "stream": "stdout",
       "text": [
        "\n",
        "Rt: 25412.1 Csigma: 2.35056e-13 Tp: 0.0385157 res: 0.00335244"
       ]
      },
      {
       "output_type": "stream",
       "stream": "stdout",
       "text": [
        "\n",
        "Rt: 25412.1 Csigma: 2.35056e-13 Tp: 0.0385157 res: 0.00335244"
       ]
      },
      {
       "output_type": "stream",
       "stream": "stdout",
       "text": [
        "\n",
        "Rt: 25412.1 Csigma: 2.35056e-13 Tp: 0.0385157 res: 0.00335244"
       ]
      },
      {
       "output_type": "stream",
       "stream": "stdout",
       "text": [
        "\n",
        "Rt: 25412.1 Csigma: 2.35056e-13 Tp: 0.0385157 res: 0.00335244"
       ]
      },
      {
       "output_type": "stream",
       "stream": "stdout",
       "text": [
        "\n",
        "Rt: 25412 Csigma: 2.35055e-13 Tp: 0.0385128 res: 0.00335218"
       ]
      },
      {
       "output_type": "stream",
       "stream": "stdout",
       "text": [
        "\n",
        "Rt: 25412 Csigma: 2.35055e-13 Tp: 0.0385128 res: 0.00335218"
       ]
      },
      {
       "output_type": "stream",
       "stream": "stdout",
       "text": [
        "\n",
        "Rt: 25412 Csigma: 2.35055e-13 Tp: 0.0385128 res: 0.00335218"
       ]
      },
      {
       "output_type": "stream",
       "stream": "stdout",
       "text": [
        "\n",
        "Rt: 25412 Csigma: 2.35055e-13 Tp: 0.0385128 res: 0.00335218"
       ]
      },
      {
       "output_type": "stream",
       "stream": "stdout",
       "text": [
        "\n",
        "Rt: 25412 Csigma: 2.35055e-13 Tp: 0.0385128 res: 0.00335218"
       ]
      },
      {
       "output_type": "stream",
       "stream": "stdout",
       "text": [
        "\n",
        "Rt: 25411.5 Csigma: 2.35049e-13 Tp: 0.0384653 res: 0.00334839"
       ]
      },
      {
       "output_type": "stream",
       "stream": "stdout",
       "text": [
        "\n",
        "Rt: 25411.5 Csigma: 2.35049e-13 Tp: 0.0384653 res: 0.00334839"
       ]
      },
      {
       "output_type": "stream",
       "stream": "stdout",
       "text": [
        "\n",
        "Rt: 25411.5 Csigma: 2.35049e-13 Tp: 0.0384653 res: 0.00334839"
       ]
      },
      {
       "output_type": "stream",
       "stream": "stdout",
       "text": [
        "\n",
        "Rt: 25411.5 Csigma: 2.35049e-13 Tp: 0.0384653 res: 0.00334839"
       ]
      },
      {
       "output_type": "stream",
       "stream": "stdout",
       "text": [
        "\n",
        "Rt: 25411.5 Csigma: 2.35049e-13 Tp: 0.0384653 res: 0.00334839"
       ]
      },
      {
       "output_type": "stream",
       "stream": "stdout",
       "text": [
        "\n",
        "Rt: 25409.4 Csigma: 2.35004e-13 Tp: 0.0381435 res: 0.00333337"
       ]
      },
      {
       "output_type": "stream",
       "stream": "stdout",
       "text": [
        "\n",
        "Rt: 25409.4 Csigma: 2.35004e-13 Tp: 0.0381435 res: 0.00333337"
       ]
      },
      {
       "output_type": "stream",
       "stream": "stdout",
       "text": [
        "\n",
        "Rt: 25409.4 Csigma: 2.35004e-13 Tp: 0.0381435 res: 0.00333337"
       ]
      },
      {
       "output_type": "stream",
       "stream": "stdout",
       "text": [
        "\n",
        "Rt: 25409.4 Csigma: 2.35004e-13 Tp: 0.0381435 res: 0.00333337"
       ]
      },
      {
       "output_type": "stream",
       "stream": "stdout",
       "text": [
        "\n",
        "Rt: 25409.4 Csigma: 2.35004e-13 Tp: 0.0381435 res: 0.00333337"
       ]
      },
      {
       "output_type": "stream",
       "stream": "stdout",
       "text": [
        "\n",
        "Rt: 25409.6 Csigma: 2.34982e-13 Tp: 0.0379813 res: 0.00332436"
       ]
      },
      {
       "output_type": "stream",
       "stream": "stdout",
       "text": [
        "\n",
        "Rt: 25409.6 Csigma: 2.34982e-13 Tp: 0.0379813 res: 0.00332436"
       ]
      },
      {
       "output_type": "stream",
       "stream": "stdout",
       "text": [
        "\n",
        "Rt: 25409.6 Csigma: 2.34982e-13 Tp: 0.0379813 res: 0.00332436"
       ]
      },
      {
       "output_type": "stream",
       "stream": "stdout",
       "text": [
        "\n",
        "Rt: 25409.6 Csigma: 2.34982e-13 Tp: 0.0379813 res: 0.00332436"
       ]
      },
      {
       "output_type": "stream",
       "stream": "stdout",
       "text": [
        "\n",
        "Rt: 25409.6 Csigma: 2.34982e-13 Tp: 0.0379813 res: 0.00332436"
       ]
      },
      {
       "output_type": "stream",
       "stream": "stdout",
       "text": [
        "\n",
        "Rt: 25411.6 Csigma: 2.34924e-13 Tp: 0.0375651 res: 0.00331005"
       ]
      },
      {
       "output_type": "stream",
       "stream": "stdout",
       "text": [
        "\n",
        "Rt: 25411.6 Csigma: 2.34924e-13 Tp: 0.0375651 res: 0.00331005"
       ]
      },
      {
       "output_type": "stream",
       "stream": "stdout",
       "text": [
        "\n",
        "Rt: 25411.6 Csigma: 2.34924e-13 Tp: 0.0375651 res: 0.00331005"
       ]
      },
      {
       "output_type": "stream",
       "stream": "stdout",
       "text": [
        "\n",
        "Rt: 25411.6 Csigma: 2.34924e-13 Tp: 0.0375651 res: 0.00331005"
       ]
      },
      {
       "output_type": "stream",
       "stream": "stdout",
       "text": [
        "\n",
        "Rt: 25411.6 Csigma: 2.34924e-13 Tp: 0.0375651 res: 0.00331005"
       ]
      },
      {
       "output_type": "stream",
       "stream": "stdout",
       "text": [
        "\n",
        "Rt: 25412.1 Csigma: 2.3493e-13 Tp: 0.0376081 res: 0.00330957"
       ]
      },
      {
       "output_type": "stream",
       "stream": "stdout",
       "text": [
        "\n",
        "Rt: 25412.1 Csigma: 2.3493e-13 Tp: 0.0376081 res: 0.00330957"
       ]
      },
      {
       "output_type": "stream",
       "stream": "stdout",
       "text": [
        "\n",
        "Rt: 25412.1 Csigma: 2.3493e-13 Tp: 0.0376081 res: 0.00330957"
       ]
      },
      {
       "output_type": "stream",
       "stream": "stdout",
       "text": [
        "\n",
        "Rt: 25412.1 Csigma: 2.3493e-13 Tp: 0.0376081 res: 0.00330957"
       ]
      },
      {
       "output_type": "stream",
       "stream": "stdout",
       "text": [
        "\n",
        "Rt: 25412.1 Csigma: 2.3493e-13 Tp: 0.0376081 res: 0.00330957"
       ]
      },
      {
       "output_type": "stream",
       "stream": "stdout",
       "text": [
        "\n",
        "Rt: 25412.2 Csigma: 2.34931e-13 Tp: 0.0376146 res: 0.00330955"
       ]
      },
      {
       "output_type": "stream",
       "stream": "stdout",
       "text": [
        "\n",
        "Rt: 25412.2 Csigma: 2.34931e-13 Tp: 0.0376146 res: 0.00330955"
       ]
      },
      {
       "output_type": "stream",
       "stream": "stdout",
       "text": [
        "\n",
        "Rt: 25412.2 Csigma: 2.34931e-13 Tp: 0.0376146 res: 0.00330955"
       ]
      },
      {
       "output_type": "stream",
       "stream": "stdout",
       "text": [
        "\n",
        "Rt: 25412.2 Csigma: 2.34931e-13 Tp: 0.0376146 res: 0.00330955"
       ]
      },
      {
       "output_type": "stream",
       "stream": "stdout",
       "text": [
        "\n",
        "Rt: 25412.2 Csigma: 2.34931e-13 Tp: 0.0376146 res: 0.00330955"
       ]
      },
      {
       "output_type": "stream",
       "stream": "stdout",
       "text": [
        "\n",
        "==========================================\n",
        "======   After main optimization:   ======\n",
        "==========================================\n",
        "R_T = 25.4122\n",
        "T = 37.6146 mK\n",
        "C_sigma = 234.931 \n",
        "It has taken 117.21 seconds = 1.95349 minutes\n",
        "============================================\n",
        " Calculated Voltage Offset = 7.67849e-07\n",
        "============================================\n",
        "=================================================\n",
        "==============  Starting Values   ===============\n",
        "=================================================\n",
        "Rt_init: 28 KOhm T_init: 10 mK E_C_init: 5 mK\n",
        "=================================================\n",
        "[ 0.03650152  0.0100023   0.00497662]"
       ]
      },
      {
       "output_type": "stream",
       "stream": "stdout",
       "text": [
        "\n",
        "[ 0.03642465  0.01138732  0.00097695]"
       ]
      },
      {
       "output_type": "stream",
       "stream": "stdout",
       "text": [
        "\n",
        "[ 0.03652799  0.0278936   0.00565095]\n",
        "[ 0.03758116  0.0276196   0.00533286]"
       ]
      },
      {
       "output_type": "stream",
       "stream": "stdout",
       "text": [
        "\n",
        "[ 0.03928364  0.02944957  0.00515881]\n",
        "[ 0.03932103  0.03625809  0.00676252]\n",
        "[ 0.03934576  0.04079869  0.00768272]"
       ]
      },
      {
       "output_type": "stream",
       "stream": "stdout",
       "text": [
        "\n",
        "[ 0.03935527  0.04324006  0.00805095]\n",
        "[ 0.03936088  0.04572175  0.00827013]\n",
        "[ 0.03936011  0.04754344  0.0082419 ]"
       ]
      },
      {
       "output_type": "stream",
       "stream": "stdout",
       "text": [
        "\n",
        "[ 0.03935494  0.04799197  0.00804201]\n",
        "[ 0.03935177  0.04770641  0.0079198 ]\n",
        "[ 0.03935087  0.04748975  0.00788504]"
       ]
      },
      {
       "output_type": "stream",
       "stream": "stdout",
       "text": [
        "\n",
        "[ 0.03935071  0.04741119  0.00787898]\n",
        "[ 0.03935073  0.04740806  0.00787955]\n",
        "[ 0.03935073  0.04740827  0.00787965]"
       ]
      },
      {
       "output_type": "stream",
       "stream": "stdout",
       "text": [
        "\n",
        "[ 0.03935073  0.04740828  0.00787965]\n",
        "Optimization terminated successfully.\n",
        "         Current function value: 0.014466\n",
        "         Iterations: 17\n",
        "         Function evaluations: 125\n",
        "         Gradient evaluations: 25\n",
        "=========================================\n",
        "====== After initial optimization: ======\n",
        "=========================================\n",
        "R_T = 25.4125 kOhm\n",
        "R_T_arrays = 41.9306 kOhm\n",
        "T = 47.4083 mK\n",
        "Ec = 3.93982 mK\n",
        "Csigma = 235.956 fF\n",
        "Rt: 25412.5 Csigma: 2.35956e-13 Tp: 0.0474083 res: 0.00146885"
       ]
      },
      {
       "output_type": "stream",
       "stream": "stdout",
       "text": [
        "\n",
        "Rt: 25412.5 Csigma: 2.35956e-13 Tp: 0.0474083 res: 0.00146885"
       ]
      },
      {
       "output_type": "stream",
       "stream": "stdout",
       "text": [
        "\n",
        "Rt: 25412.5 Csigma: 2.35956e-13 Tp: 0.0474083 res: 0.00146885"
       ]
      },
      {
       "output_type": "stream",
       "stream": "stdout",
       "text": [
        "\n",
        "Rt: 25412.5 Csigma: 2.35956e-13 Tp: 0.0474083 res: 0.00146885"
       ]
      },
      {
       "output_type": "stream",
       "stream": "stdout",
       "text": [
        "\n",
        "Rt: 25412.5 Csigma: 2.35956e-13 Tp: 0.0474083 res: 0.00146885"
       ]
      },
      {
       "output_type": "stream",
       "stream": "stdout",
       "text": [
        "\n",
        "Rt: 25412.4 Csigma: 2.35956e-13 Tp: 0.0474082 res: 0.00146885"
       ]
      },
      {
       "output_type": "stream",
       "stream": "stdout",
       "text": [
        "\n",
        "Rt: 25412.4 Csigma: 2.35956e-13 Tp: 0.0474082 res: 0.00146885"
       ]
      },
      {
       "output_type": "stream",
       "stream": "stdout",
       "text": [
        "\n",
        "Rt: 25412.4 Csigma: 2.35956e-13 Tp: 0.0474082 res: 0.00146885"
       ]
      },
      {
       "output_type": "stream",
       "stream": "stdout",
       "text": [
        "\n",
        "Rt: 25412.4 Csigma: 2.35956e-13 Tp: 0.0474082 res: 0.00146885"
       ]
      },
      {
       "output_type": "stream",
       "stream": "stdout",
       "text": [
        "\n",
        "Rt: 25412.4 Csigma: 2.35956e-13 Tp: 0.0474082 res: 0.00146885"
       ]
      },
      {
       "output_type": "stream",
       "stream": "stdout",
       "text": [
        "\n",
        "Rt: 25412.4 Csigma: 2.35956e-13 Tp: 0.0474083 res: 0.00146884"
       ]
      },
      {
       "output_type": "stream",
       "stream": "stdout",
       "text": [
        "\n",
        "Rt: 25412.4 Csigma: 2.35956e-13 Tp: 0.0474083 res: 0.00146884"
       ]
      },
      {
       "output_type": "stream",
       "stream": "stdout",
       "text": [
        "\n",
        "Rt: 25412.4 Csigma: 2.35956e-13 Tp: 0.0474083 res: 0.00146884"
       ]
      },
      {
       "output_type": "stream",
       "stream": "stdout",
       "text": [
        "\n",
        "Rt: 25412.4 Csigma: 2.35956e-13 Tp: 0.0474083 res: 0.00146884"
       ]
      },
      {
       "output_type": "stream",
       "stream": "stdout",
       "text": [
        "\n",
        "Rt: 25412.4 Csigma: 2.35956e-13 Tp: 0.0474083 res: 0.00146884"
       ]
      },
      {
       "output_type": "stream",
       "stream": "stdout",
       "text": [
        "\n",
        "Rt: 25412.4 Csigma: 2.35956e-13 Tp: 0.0474082 res: 0.00146884"
       ]
      },
      {
       "output_type": "stream",
       "stream": "stdout",
       "text": [
        "\n",
        "Rt: 25412.4 Csigma: 2.35956e-13 Tp: 0.0474082 res: 0.00146884"
       ]
      },
      {
       "output_type": "stream",
       "stream": "stdout",
       "text": [
        "\n",
        "Rt: 25412.4 Csigma: 2.35956e-13 Tp: 0.0474082 res: 0.00146884"
       ]
      },
      {
       "output_type": "stream",
       "stream": "stdout",
       "text": [
        "\n",
        "Rt: 25412.4 Csigma: 2.35956e-13 Tp: 0.0474082 res: 0.00146884"
       ]
      },
      {
       "output_type": "stream",
       "stream": "stdout",
       "text": [
        "\n",
        "Rt: 25412.4 Csigma: 2.35956e-13 Tp: 0.0474082 res: 0.00146884"
       ]
      },
      {
       "output_type": "stream",
       "stream": "stdout",
       "text": [
        "\n",
        "Rt: 25412.4 Csigma: 2.35956e-13 Tp: 0.0474082 res: 0.00146884"
       ]
      },
      {
       "output_type": "stream",
       "stream": "stdout",
       "text": [
        "\n",
        "Rt: 25412.4 Csigma: 2.35956e-13 Tp: 0.0474082 res: 0.00146884"
       ]
      },
      {
       "output_type": "stream",
       "stream": "stdout",
       "text": [
        "\n",
        "Rt: 25412.4 Csigma: 2.35956e-13 Tp: 0.0474082 res: 0.00146884"
       ]
      },
      {
       "output_type": "stream",
       "stream": "stdout",
       "text": [
        "\n",
        "Rt: 25412.4 Csigma: 2.35956e-13 Tp: 0.0474082 res: 0.00146884"
       ]
      },
      {
       "output_type": "stream",
       "stream": "stdout",
       "text": [
        "\n",
        "Rt: 25412.4 Csigma: 2.35956e-13 Tp: 0.0474082 res: 0.00146884"
       ]
      },
      {
       "output_type": "stream",
       "stream": "stdout",
       "text": [
        "\n",
        "Rt: 25412.4 Csigma: 2.35956e-13 Tp: 0.0474079 res: 0.00146883"
       ]
      },
      {
       "output_type": "stream",
       "stream": "stdout",
       "text": [
        "\n",
        "Rt: 25412.4 Csigma: 2.35956e-13 Tp: 0.0474079 res: 0.00146883"
       ]
      },
      {
       "output_type": "stream",
       "stream": "stdout",
       "text": [
        "\n",
        "Rt: 25412.4 Csigma: 2.35956e-13 Tp: 0.0474079 res: 0.00146883"
       ]
      },
      {
       "output_type": "stream",
       "stream": "stdout",
       "text": [
        "\n",
        "Rt: 25412.4 Csigma: 2.35956e-13 Tp: 0.0474079 res: 0.00146883"
       ]
      },
      {
       "output_type": "stream",
       "stream": "stdout",
       "text": [
        "\n",
        "Rt: 25412.4 Csigma: 2.35956e-13 Tp: 0.0474079 res: 0.00146883"
       ]
      },
      {
       "output_type": "stream",
       "stream": "stdout",
       "text": [
        "\n",
        "Rt: 25412.4 Csigma: 2.35955e-13 Tp: 0.0474032 res: 0.00146864"
       ]
      },
      {
       "output_type": "stream",
       "stream": "stdout",
       "text": [
        "\n",
        "Rt: 25412.4 Csigma: 2.35955e-13 Tp: 0.0474032 res: 0.00146864"
       ]
      },
      {
       "output_type": "stream",
       "stream": "stdout",
       "text": [
        "\n",
        "Rt: 25412.4 Csigma: 2.35955e-13 Tp: 0.0474032 res: 0.00146864"
       ]
      },
      {
       "output_type": "stream",
       "stream": "stdout",
       "text": [
        "\n",
        "Rt: 25412.4 Csigma: 2.35955e-13 Tp: 0.0474032 res: 0.00146864"
       ]
      },
      {
       "output_type": "stream",
       "stream": "stdout",
       "text": [
        "\n",
        "Rt: 25412.4 Csigma: 2.35955e-13 Tp: 0.0474032 res: 0.00146864"
       ]
      },
      {
       "output_type": "stream",
       "stream": "stdout",
       "text": [
        "\n",
        "Rt: 25412.2 Csigma: 2.35953e-13 Tp: 0.0473843 res: 0.00146797"
       ]
      },
      {
       "output_type": "stream",
       "stream": "stdout",
       "text": [
        "\n",
        "Rt: 25412.2 Csigma: 2.35953e-13 Tp: 0.0473843 res: 0.00146797"
       ]
      },
      {
       "output_type": "stream",
       "stream": "stdout",
       "text": [
        "\n",
        "Rt: 25412.2 Csigma: 2.35953e-13 Tp: 0.0473843 res: 0.00146797"
       ]
      },
      {
       "output_type": "stream",
       "stream": "stdout",
       "text": [
        "\n",
        "Rt: 25412.2 Csigma: 2.35953e-13 Tp: 0.0473843 res: 0.00146797"
       ]
      },
      {
       "output_type": "stream",
       "stream": "stdout",
       "text": [
        "\n",
        "Rt: 25412.2 Csigma: 2.35953e-13 Tp: 0.0473843 res: 0.00146797"
       ]
      },
      {
       "output_type": "stream",
       "stream": "stdout",
       "text": [
        "\n",
        "Rt: 25409.3 Csigma: 2.35897e-13 Tp: 0.0469566 res: 0.00146669"
       ]
      },
      {
       "output_type": "stream",
       "stream": "stdout",
       "text": [
        "\n",
        "Rt: 25409.3 Csigma: 2.35897e-13 Tp: 0.0469566 res: 0.00146669"
       ]
      },
      {
       "output_type": "stream",
       "stream": "stdout",
       "text": [
        "\n",
        "Rt: 25409.3 Csigma: 2.35897e-13 Tp: 0.0469566 res: 0.00146669"
       ]
      },
      {
       "output_type": "stream",
       "stream": "stdout",
       "text": [
        "\n",
        "Rt: 25409.3 Csigma: 2.35897e-13 Tp: 0.0469566 res: 0.00146669"
       ]
      },
      {
       "output_type": "stream",
       "stream": "stdout",
       "text": [
        "\n",
        "Rt: 25409.3 Csigma: 2.35897e-13 Tp: 0.0469566 res: 0.00146669"
       ]
      },
      {
       "output_type": "stream",
       "stream": "stdout",
       "text": [
        "\n",
        "Rt: 25410.8 Csigma: 2.35913e-13 Tp: 0.0470833 res: 0.00146128"
       ]
      },
      {
       "output_type": "stream",
       "stream": "stdout",
       "text": [
        "\n",
        "Rt: 25410.8 Csigma: 2.35913e-13 Tp: 0.0470833 res: 0.00146128"
       ]
      },
      {
       "output_type": "stream",
       "stream": "stdout",
       "text": [
        "\n",
        "Rt: 25410.8 Csigma: 2.35913e-13 Tp: 0.0470833 res: 0.00146128"
       ]
      },
      {
       "output_type": "stream",
       "stream": "stdout",
       "text": [
        "\n",
        "Rt: 25410.8 Csigma: 2.35913e-13 Tp: 0.0470833 res: 0.00146128"
       ]
      },
      {
       "output_type": "stream",
       "stream": "stdout",
       "text": [
        "\n",
        "Rt: 25410.8 Csigma: 2.35913e-13 Tp: 0.0470833 res: 0.00146128"
       ]
      },
      {
       "output_type": "stream",
       "stream": "stdout",
       "text": [
        "\n",
        "Rt: 25411.5 Csigma: 2.35907e-13 Tp: 0.0470382 res: 0.0014579"
       ]
      },
      {
       "output_type": "stream",
       "stream": "stdout",
       "text": [
        "\n",
        "Rt: 25411.5 Csigma: 2.35907e-13 Tp: 0.0470382 res: 0.0014579"
       ]
      },
      {
       "output_type": "stream",
       "stream": "stdout",
       "text": [
        "\n",
        "Rt: 25411.5 Csigma: 2.35907e-13 Tp: 0.0470382 res: 0.0014579"
       ]
      },
      {
       "output_type": "stream",
       "stream": "stdout",
       "text": [
        "\n",
        "Rt: 25411.5 Csigma: 2.35907e-13 Tp: 0.0470382 res: 0.0014579"
       ]
      },
      {
       "output_type": "stream",
       "stream": "stdout",
       "text": [
        "\n",
        "Rt: 25411.5 Csigma: 2.35907e-13 Tp: 0.0470382 res: 0.0014579"
       ]
      },
      {
       "output_type": "stream",
       "stream": "stdout",
       "text": [
        "\n",
        "Rt: 25412.7 Csigma: 2.35873e-13 Tp: 0.0467748 res: 0.00145228"
       ]
      },
      {
       "output_type": "stream",
       "stream": "stdout",
       "text": [
        "\n",
        "Rt: 25412.7 Csigma: 2.35873e-13 Tp: 0.0467748 res: 0.00145228"
       ]
      },
      {
       "output_type": "stream",
       "stream": "stdout",
       "text": [
        "\n",
        "Rt: 25412.7 Csigma: 2.35873e-13 Tp: 0.0467748 res: 0.00145228"
       ]
      },
      {
       "output_type": "stream",
       "stream": "stdout",
       "text": [
        "\n",
        "Rt: 25412.7 Csigma: 2.35873e-13 Tp: 0.0467748 res: 0.00145228"
       ]
      },
      {
       "output_type": "stream",
       "stream": "stdout",
       "text": [
        "\n",
        "Rt: 25412.7 Csigma: 2.35873e-13 Tp: 0.0467748 res: 0.00145228"
       ]
      },
      {
       "output_type": "stream",
       "stream": "stdout",
       "text": [
        "\n",
        "Rt: 25412.7 Csigma: 2.35845e-13 Tp: 0.0465596 res: 0.00145084"
       ]
      },
      {
       "output_type": "stream",
       "stream": "stdout",
       "text": [
        "\n",
        "Rt: 25412.7 Csigma: 2.35845e-13 Tp: 0.0465596 res: 0.00145084"
       ]
      },
      {
       "output_type": "stream",
       "stream": "stdout",
       "text": [
        "\n",
        "Rt: 25412.7 Csigma: 2.35845e-13 Tp: 0.0465596 res: 0.00145084"
       ]
      },
      {
       "output_type": "stream",
       "stream": "stdout",
       "text": [
        "\n",
        "Rt: 25412.7 Csigma: 2.35845e-13 Tp: 0.0465596 res: 0.00145084"
       ]
      },
      {
       "output_type": "stream",
       "stream": "stdout",
       "text": [
        "\n",
        "Rt: 25412.7 Csigma: 2.35845e-13 Tp: 0.0465596 res: 0.00145084"
       ]
      },
      {
       "output_type": "stream",
       "stream": "stdout",
       "text": [
        "\n",
        "Rt: 25412.5 Csigma: 2.35834e-13 Tp: 0.0464811 res: 0.00145071"
       ]
      },
      {
       "output_type": "stream",
       "stream": "stdout",
       "text": [
        "\n",
        "Rt: 25412.5 Csigma: 2.35834e-13 Tp: 0.0464811 res: 0.00145071"
       ]
      },
      {
       "output_type": "stream",
       "stream": "stdout",
       "text": [
        "\n",
        "Rt: 25412.5 Csigma: 2.35834e-13 Tp: 0.0464811 res: 0.00145071"
       ]
      },
      {
       "output_type": "stream",
       "stream": "stdout",
       "text": [
        "\n",
        "Rt: 25412.5 Csigma: 2.35834e-13 Tp: 0.0464811 res: 0.00145071"
       ]
      },
      {
       "output_type": "stream",
       "stream": "stdout",
       "text": [
        "\n",
        "Rt: 25412.5 Csigma: 2.35834e-13 Tp: 0.0464811 res: 0.00145071"
       ]
      },
      {
       "output_type": "stream",
       "stream": "stdout",
       "text": [
        "\n",
        "Rt: 25412.4 Csigma: 2.35836e-13 Tp: 0.0464968 res: 0.00145068"
       ]
      },
      {
       "output_type": "stream",
       "stream": "stdout",
       "text": [
        "\n",
        "Rt: 25412.4 Csigma: 2.35836e-13 Tp: 0.0464968 res: 0.00145068"
       ]
      },
      {
       "output_type": "stream",
       "stream": "stdout",
       "text": [
        "\n",
        "Rt: 25412.4 Csigma: 2.35836e-13 Tp: 0.0464968 res: 0.00145068"
       ]
      },
      {
       "output_type": "stream",
       "stream": "stdout",
       "text": [
        "\n",
        "Rt: 25412.4 Csigma: 2.35836e-13 Tp: 0.0464968 res: 0.00145068"
       ]
      },
      {
       "output_type": "stream",
       "stream": "stdout",
       "text": [
        "\n",
        "Rt: 25412.4 Csigma: 2.35836e-13 Tp: 0.0464968 res: 0.00145068"
       ]
      },
      {
       "output_type": "stream",
       "stream": "stdout",
       "text": [
        "\n",
        "Rt: 25412.1 Csigma: 2.35845e-13 Tp: 0.0465594 res: 0.00145083"
       ]
      },
      {
       "output_type": "stream",
       "stream": "stdout",
       "text": [
        "\n",
        "Rt: 25412.1 Csigma: 2.35845e-13 Tp: 0.0465594 res: 0.00145083"
       ]
      },
      {
       "output_type": "stream",
       "stream": "stdout",
       "text": [
        "\n",
        "Rt: 25412.1 Csigma: 2.35845e-13 Tp: 0.0465594 res: 0.00145083"
       ]
      },
      {
       "output_type": "stream",
       "stream": "stdout",
       "text": [
        "\n",
        "Rt: 25412.1 Csigma: 2.35845e-13 Tp: 0.0465594 res: 0.00145083"
       ]
      },
      {
       "output_type": "stream",
       "stream": "stdout",
       "text": [
        "\n",
        "Rt: 25412.1 Csigma: 2.35845e-13 Tp: 0.0465594 res: 0.00145083"
       ]
      },
      {
       "output_type": "stream",
       "stream": "stdout",
       "text": [
        "\n",
        "Rt: 25412.4 Csigma: 2.35838e-13 Tp: 0.0465081 res: 0.00145067"
       ]
      },
      {
       "output_type": "stream",
       "stream": "stdout",
       "text": [
        "\n",
        "Rt: 25412.4 Csigma: 2.35838e-13 Tp: 0.0465081 res: 0.00145067"
       ]
      },
      {
       "output_type": "stream",
       "stream": "stdout",
       "text": [
        "\n",
        "Rt: 25412.4 Csigma: 2.35838e-13 Tp: 0.0465081 res: 0.00145067"
       ]
      },
      {
       "output_type": "stream",
       "stream": "stdout",
       "text": [
        "\n",
        "Rt: 25412.4 Csigma: 2.35838e-13 Tp: 0.0465081 res: 0.00145067"
       ]
      },
      {
       "output_type": "stream",
       "stream": "stdout",
       "text": [
        "\n",
        "Rt: 25412.4 Csigma: 2.35838e-13 Tp: 0.0465081 res: 0.00145067"
       ]
      },
      {
       "output_type": "stream",
       "stream": "stdout",
       "text": [
        "\n",
        "Rt: 25412.4 Csigma: 2.35836e-13 Tp: 0.0464972 res: 0.00145068"
       ]
      },
      {
       "output_type": "stream",
       "stream": "stdout",
       "text": [
        "\n",
        "Rt: 25412.4 Csigma: 2.35836e-13 Tp: 0.0464972 res: 0.00145068"
       ]
      },
      {
       "output_type": "stream",
       "stream": "stdout",
       "text": [
        "\n",
        "Rt: 25412.4 Csigma: 2.35836e-13 Tp: 0.0464972 res: 0.00145068"
       ]
      },
      {
       "output_type": "stream",
       "stream": "stdout",
       "text": [
        "\n",
        "Rt: 25412.4 Csigma: 2.35836e-13 Tp: 0.0464972 res: 0.00145068"
       ]
      },
      {
       "output_type": "stream",
       "stream": "stdout",
       "text": [
        "\n",
        "Rt: 25412.4 Csigma: 2.35836e-13 Tp: 0.0464972 res: 0.00145068"
       ]
      },
      {
       "output_type": "stream",
       "stream": "stdout",
       "text": [
        "\n",
        "Rt: 25412.4 Csigma: 2.35838e-13 Tp: 0.0465056 res: 0.00145067"
       ]
      },
      {
       "output_type": "stream",
       "stream": "stdout",
       "text": [
        "\n",
        "Rt: 25412.4 Csigma: 2.35838e-13 Tp: 0.0465056 res: 0.00145067"
       ]
      },
      {
       "output_type": "stream",
       "stream": "stdout",
       "text": [
        "\n",
        "Rt: 25412.4 Csigma: 2.35838e-13 Tp: 0.0465056 res: 0.00145067"
       ]
      },
      {
       "output_type": "stream",
       "stream": "stdout",
       "text": [
        "\n",
        "Rt: 25412.4 Csigma: 2.35838e-13 Tp: 0.0465056 res: 0.00145067"
       ]
      },
      {
       "output_type": "stream",
       "stream": "stdout",
       "text": [
        "\n",
        "Rt: 25412.4 Csigma: 2.35838e-13 Tp: 0.0465056 res: 0.00145067"
       ]
      },
      {
       "output_type": "stream",
       "stream": "stdout",
       "text": [
        "\n",
        "Rt: 25412.4 Csigma: 2.35838e-13 Tp: 0.0465072 res: 0.00145067"
       ]
      },
      {
       "output_type": "stream",
       "stream": "stdout",
       "text": [
        "\n",
        "Rt: 25412.4 Csigma: 2.35838e-13 Tp: 0.0465072 res: 0.00145067"
       ]
      },
      {
       "output_type": "stream",
       "stream": "stdout",
       "text": [
        "\n",
        "Rt: 25412.4 Csigma: 2.35838e-13 Tp: 0.0465072 res: 0.00145067"
       ]
      },
      {
       "output_type": "stream",
       "stream": "stdout",
       "text": [
        "\n",
        "Rt: 25412.4 Csigma: 2.35838e-13 Tp: 0.0465072 res: 0.00145067"
       ]
      },
      {
       "output_type": "stream",
       "stream": "stdout",
       "text": [
        "\n",
        "Rt: 25412.4 Csigma: 2.35838e-13 Tp: 0.0465072 res: 0.00145067"
       ]
      },
      {
       "output_type": "stream",
       "stream": "stdout",
       "text": [
        "\n",
        "==========================================\n",
        "======   After main optimization:   ======\n",
        "==========================================\n",
        "R_T = 25.4124\n",
        "T = 46.5072 mK\n",
        "C_sigma = 235.838 \n",
        "It has taken 198.716 seconds = 3.31193 minutes\n",
        "============================================\n",
        " Calculated Voltage Offset = -5.95347e-07\n",
        "============================================\n",
        "=================================================\n",
        "==============  Starting Values   ===============\n",
        "=================================================\n",
        "Rt_init: 28 KOhm T_init: 10 mK E_C_init: 5 mK\n",
        "=================================================\n",
        "[ 0.03615224  0.01000102  0.00498894]"
       ]
      },
      {
       "output_type": "stream",
       "stream": "stdout",
       "text": [
        "\n",
        "[ 0.03601963  0.01265821 -0.00351831]\n",
        "[ 0.0360371   0.02105239 -0.00276264]"
       ]
      },
      {
       "output_type": "stream",
       "stream": "stdout",
       "text": [
        "\n",
        "[ 0.03665856  0.02201573 -0.0025448 ]"
       ]
      },
      {
       "output_type": "stream",
       "stream": "stdout",
       "text": [
        "\n",
        "[ 0.03807842  0.0236649  -0.00131376]\n",
        "[ 0.03920807  0.02260567  0.00090838]\n",
        "[ 0.03924057  0.02087617  0.00194466]"
       ]
      },
      {
       "output_type": "stream",
       "stream": "stdout",
       "text": [
        "\n",
        "[ 0.03925826  0.02007821  0.00336687]\n",
        "[ 0.03925923  0.02314301  0.00362209]\n",
        "[ 0.03927514  0.02962174  0.0045059 ]"
       ]
      },
      {
       "output_type": "stream",
       "stream": "stdout",
       "text": [
        "\n",
        "[ 0.03932352  0.04520225  0.00671332]\n",
        "[ 0.03933915  0.05034457  0.00736507]\n",
        "[ 0.03934579  0.05326806  0.0076653 ]"
       ]
      },
      {
       "output_type": "stream",
       "stream": "stdout",
       "text": [
        "\n",
        "[ 0.0393469   0.05442406  0.00772377]\n",
        "[ 0.03934593  0.05502984  0.00768791]\n",
        "[ 0.03934434  0.05497115  0.00761948]"
       ]
      },
      {
       "output_type": "stream",
       "stream": "stdout",
       "text": [
        "\n",
        "[ 0.03934364  0.05479908  0.00758814]\n",
        "[ 0.03934353  0.05474051  0.00758284]\n",
        "[ 0.03934353  0.05473492  0.00758286]"
       ]
      },
      {
       "output_type": "stream",
       "stream": "stdout",
       "text": [
        "\n",
        "[ 0.03934353  0.0547349   0.0075829 ]\n",
        "[ 0.03934353  0.05473496  0.00758291]\n",
        "Warning: Desired error not necessarily achieved due to precision loss."
       ]
      },
      {
       "output_type": "stream",
       "stream": "stdout",
       "text": [
        "\n",
        "         Current function value: 0.019289\n",
        "         Iterations: 21\n",
        "         Function evaluations: 300\n",
        "         Gradient evaluations: 58\n",
        "=========================================\n",
        "====== After initial optimization: ======\n",
        "=========================================\n",
        "R_T = 25.4171 kOhm\n",
        "R_T_arrays = 41.9383 kOhm\n",
        "T = 54.735 mK\n",
        "Ec = 3.79145 mK\n",
        "Csigma = 245.189 fF\n",
        "Rt: 25417.1 Csigma: 2.4e-13 Tp: 0.054735 res: 0.00193513"
       ]
      },
      {
       "output_type": "stream",
       "stream": "stdout",
       "text": [
        "\n",
        "Rt: 25417.1 Csigma: 2.4e-13 Tp: 0.054735 res: 0.00193513"
       ]
      },
      {
       "output_type": "stream",
       "stream": "stdout",
       "text": [
        "\n",
        "Rt: 25417.1 Csigma: 2.4e-13 Tp: 0.054735 res: 0.00193513"
       ]
      },
      {
       "output_type": "stream",
       "stream": "stdout",
       "text": [
        "\n",
        "Rt: 25417.1 Csigma: 2.4e-13 Tp: 0.054735 res: 0.00193513"
       ]
      },
      {
       "output_type": "stream",
       "stream": "stdout",
       "text": [
        "\n",
        "Rt: 25417.1 Csigma: 2.4e-13 Tp: 0.054735 res: 0.00193513"
       ]
      },
      {
       "output_type": "stream",
       "stream": "stdout",
       "text": [
        "\n",
        "Rt: 25411.8 Csigma: 2.4e-13 Tp: 0.054735 res: 0.00194066"
       ]
      },
      {
       "output_type": "stream",
       "stream": "stdout",
       "text": [
        "\n",
        "Rt: 25411.8 Csigma: 2.4e-13 Tp: 0.054735 res: 0.00194066"
       ]
      },
      {
       "output_type": "stream",
       "stream": "stdout",
       "text": [
        "\n",
        "Rt: 25411.8 Csigma: 2.4e-13 Tp: 0.054735 res: 0.00194066"
       ]
      },
      {
       "output_type": "stream",
       "stream": "stdout",
       "text": [
        "\n",
        "Rt: 25411.8 Csigma: 2.4e-13 Tp: 0.054735 res: 0.00194066"
       ]
      },
      {
       "output_type": "stream",
       "stream": "stdout",
       "text": [
        "\n",
        "Rt: 25411.8 Csigma: 2.4e-13 Tp: 0.054735 res: 0.00194066"
       ]
      },
      {
       "output_type": "stream",
       "stream": "stdout",
       "text": [
        "\n",
        "Rt: 25414.9 Csigma: 2.4e-13 Tp: 0.054735 res: 0.00192916"
       ]
      },
      {
       "output_type": "stream",
       "stream": "stdout",
       "text": [
        "\n",
        "Rt: 25414.9 Csigma: 2.4e-13 Tp: 0.054735 res: 0.00192916"
       ]
      },
      {
       "output_type": "stream",
       "stream": "stdout",
       "text": [
        "\n",
        "Rt: 25414.9 Csigma: 2.4e-13 Tp: 0.054735 res: 0.00192916"
       ]
      },
      {
       "output_type": "stream",
       "stream": "stdout",
       "text": [
        "\n",
        "Rt: 25414.9 Csigma: 2.4e-13 Tp: 0.054735 res: 0.00192916"
       ]
      },
      {
       "output_type": "stream",
       "stream": "stdout",
       "text": [
        "\n",
        "Rt: 25414.9 Csigma: 2.4e-13 Tp: 0.054735 res: 0.00192916"
       ]
      },
      {
       "output_type": "stream",
       "stream": "stdout",
       "text": [
        "\n",
        "==========================================\n",
        "======   After main optimization:   ======\n",
        "==========================================\n",
        "R_T = 25.4149\n",
        "T = 54.735 mK\n",
        "C_sigma = 240 \n",
        "It has taken 33.8537 seconds = 0.564229 minutes\n",
        "Average C_sigma:235.722\n",
        "Average R_T:25.4113\n",
        "Initial vector\n",
        "[25.411321693051626, 235.7216902128558, 20.469601228531815, 28.670715216205707, 37.614645717008912, 46.507232218661066, 54.734957845658883]\n",
        "Idx:0,Rt:25411.3 Csigma:2.35722e-13 Tp:0.0204696 res:0.00346409"
       ]
      },
      {
       "output_type": "stream",
       "stream": "stdout",
       "text": [
        "\n",
        "Idx:1,Rt:25411.3 Csigma:2.35722e-13 Tp:0.0286707 res:0.00640417"
       ]
      },
      {
       "output_type": "stream",
       "stream": "stdout",
       "text": [
        "\n",
        "Idx:2,Rt:25411.3 Csigma:2.35722e-13 Tp:0.0376146 res:0.00971829"
       ]
      },
      {
       "output_type": "stream",
       "stream": "stdout",
       "text": [
        "\n",
        "Idx:3,Rt:25411.3 Csigma:2.35722e-13 Tp:0.0465072 res:0.0111701"
       ]
      },
      {
       "output_type": "stream",
       "stream": "stdout",
       "text": [
        "\n",
        "Idx:4,Rt:25411.3 Csigma:2.35722e-13 Tp:0.054735 res:0.0131263"
       ]
      },
      {
       "output_type": "stream",
       "stream": "stdout",
       "text": [
        "\n",
        "Idx:0,Rt:25411.3 Csigma:2.35722e-13 Tp:0.0204696 res:0.00346409"
       ]
      },
      {
       "output_type": "stream",
       "stream": "stdout",
       "text": [
        "\n",
        "Idx:1,Rt:25411.3 Csigma:2.35722e-13 Tp:0.0286707 res:0.00640417"
       ]
      },
      {
       "output_type": "stream",
       "stream": "stdout",
       "text": [
        "\n",
        "Idx:2,Rt:25411.3 Csigma:2.35722e-13 Tp:0.0376146 res:0.00971829"
       ]
      },
      {
       "output_type": "stream",
       "stream": "stdout",
       "text": [
        "\n",
        "Idx:3,Rt:25411.3 Csigma:2.35722e-13 Tp:0.0465072 res:0.0111701"
       ]
      },
      {
       "output_type": "stream",
       "stream": "stdout",
       "text": [
        "\n",
        "Idx:4,Rt:25411.3 Csigma:2.35722e-13 Tp:0.054735 res:0.0131263"
       ]
      },
      {
       "output_type": "stream",
       "stream": "stdout",
       "text": [
        "\n",
        "Idx:0,Rt:25411.3 Csigma:2.35722e-13 Tp:0.0204696 res:0.00346409"
       ]
      },
      {
       "output_type": "stream",
       "stream": "stdout",
       "text": [
        "\n",
        "Idx:1,Rt:25411.3 Csigma:2.35722e-13 Tp:0.0286707 res:0.00640417"
       ]
      },
      {
       "output_type": "stream",
       "stream": "stdout",
       "text": [
        "\n",
        "Idx:2,Rt:25411.3 Csigma:2.35722e-13 Tp:0.0376146 res:0.00971829"
       ]
      },
      {
       "output_type": "stream",
       "stream": "stdout",
       "text": [
        "\n",
        "Idx:3,Rt:25411.3 Csigma:2.35722e-13 Tp:0.0465072 res:0.0111701"
       ]
      },
      {
       "output_type": "stream",
       "stream": "stdout",
       "text": [
        "\n",
        "Idx:4,Rt:25411.3 Csigma:2.35722e-13 Tp:0.054735 res:0.0131263"
       ]
      },
      {
       "output_type": "stream",
       "stream": "stdout",
       "text": [
        "\n",
        "Idx:0,Rt:25411.3 Csigma:2.35722e-13 Tp:0.0204696 res:0.00346409"
       ]
      },
      {
       "output_type": "stream",
       "stream": "stdout",
       "text": [
        "\n",
        "Idx:1,Rt:25411.3 Csigma:2.35722e-13 Tp:0.0286707 res:0.00640417"
       ]
      },
      {
       "output_type": "stream",
       "stream": "stdout",
       "text": [
        "\n",
        "Idx:2,Rt:25411.3 Csigma:2.35722e-13 Tp:0.0376146 res:0.00971829"
       ]
      },
      {
       "output_type": "stream",
       "stream": "stdout",
       "text": [
        "\n",
        "Idx:3,Rt:25411.3 Csigma:2.35722e-13 Tp:0.0465072 res:0.0111701"
       ]
      },
      {
       "output_type": "stream",
       "stream": "stdout",
       "text": [
        "\n",
        "Idx:4,Rt:25411.3 Csigma:2.35722e-13 Tp:0.054735 res:0.0131263"
       ]
      },
      {
       "output_type": "stream",
       "stream": "stdout",
       "text": [
        "\n",
        "Idx:0,Rt:25411.3 Csigma:2.35722e-13 Tp:0.0204696 res:0.00346409"
       ]
      },
      {
       "output_type": "stream",
       "stream": "stdout",
       "text": [
        "\n",
        "Idx:1,Rt:25411.3 Csigma:2.35722e-13 Tp:0.0286707 res:0.00640417"
       ]
      },
      {
       "output_type": "stream",
       "stream": "stdout",
       "text": [
        "\n",
        "Idx:2,Rt:25411.3 Csigma:2.35722e-13 Tp:0.0376146 res:0.00971829"
       ]
      },
      {
       "output_type": "stream",
       "stream": "stdout",
       "text": [
        "\n",
        "Idx:3,Rt:25411.3 Csigma:2.35722e-13 Tp:0.0465072 res:0.0111701"
       ]
      },
      {
       "output_type": "stream",
       "stream": "stdout",
       "text": [
        "\n",
        "Idx:4,Rt:25411.3 Csigma:2.35722e-13 Tp:0.054735 res:0.0131263"
       ]
      },
      {
       "output_type": "stream",
       "stream": "stdout",
       "text": [
        "\n",
        "Idx:0,Rt:25411.3 Csigma:2.35722e-13 Tp:0.0204696 res:0.00346409"
       ]
      },
      {
       "output_type": "stream",
       "stream": "stdout",
       "text": [
        "\n",
        "Idx:1,Rt:25411.3 Csigma:2.35722e-13 Tp:0.0286707 res:0.00640417"
       ]
      },
      {
       "output_type": "stream",
       "stream": "stdout",
       "text": [
        "\n",
        "Idx:2,Rt:25411.3 Csigma:2.35722e-13 Tp:0.0376146 res:0.00971829"
       ]
      },
      {
       "output_type": "stream",
       "stream": "stdout",
       "text": [
        "\n",
        "Idx:3,Rt:25411.3 Csigma:2.35722e-13 Tp:0.0465072 res:0.0111701"
       ]
      },
      {
       "output_type": "stream",
       "stream": "stdout",
       "text": [
        "\n",
        "Idx:4,Rt:25411.3 Csigma:2.35722e-13 Tp:0.054735 res:0.0131263"
       ]
      },
      {
       "output_type": "stream",
       "stream": "stdout",
       "text": [
        "\n",
        "Idx:0,Rt:25411.3 Csigma:2.35722e-13 Tp:0.0204696 res:0.00346409"
       ]
      },
      {
       "output_type": "stream",
       "stream": "stdout",
       "text": [
        "\n",
        "Idx:1,Rt:25411.3 Csigma:2.35722e-13 Tp:0.0286707 res:0.00640417"
       ]
      },
      {
       "output_type": "stream",
       "stream": "stdout",
       "text": [
        "\n",
        "Idx:2,Rt:25411.3 Csigma:2.35722e-13 Tp:0.0376146 res:0.00971829"
       ]
      },
      {
       "output_type": "stream",
       "stream": "stdout",
       "text": [
        "\n",
        "Idx:3,Rt:25411.3 Csigma:2.35722e-13 Tp:0.0465072 res:0.0111701"
       ]
      },
      {
       "output_type": "stream",
       "stream": "stdout",
       "text": [
        "\n",
        "Idx:4,Rt:25411.3 Csigma:2.35722e-13 Tp:0.054735 res:0.0131263"
       ]
      },
      {
       "output_type": "stream",
       "stream": "stdout",
       "text": [
        "\n",
        "Idx:0,Rt:25411.3 Csigma:2.35722e-13 Tp:0.0204696 res:0.00346409"
       ]
      },
      {
       "output_type": "stream",
       "stream": "stdout",
       "text": [
        "\n",
        "Idx:1,Rt:25411.3 Csigma:2.35722e-13 Tp:0.0286707 res:0.00640417"
       ]
      },
      {
       "output_type": "stream",
       "stream": "stdout",
       "text": [
        "\n",
        "Idx:2,Rt:25411.3 Csigma:2.35722e-13 Tp:0.0376146 res:0.00971829"
       ]
      },
      {
       "output_type": "stream",
       "stream": "stdout",
       "text": [
        "\n",
        "Idx:3,Rt:25411.3 Csigma:2.35722e-13 Tp:0.0465072 res:0.0111701"
       ]
      },
      {
       "output_type": "stream",
       "stream": "stdout",
       "text": [
        "\n",
        "Idx:4,Rt:25411.3 Csigma:2.35722e-13 Tp:0.054735 res:0.0131263"
       ]
      },
      {
       "output_type": "stream",
       "stream": "stdout",
       "text": [
        "\n",
        "Idx:0,Rt:25411.3 Csigma:2.35722e-13 Tp:0.0204696 res:0.00346409"
       ]
      },
      {
       "output_type": "stream",
       "stream": "stdout",
       "text": [
        "\n",
        "Idx:1,Rt:25411.3 Csigma:2.35722e-13 Tp:0.0286707 res:0.00640417"
       ]
      },
      {
       "output_type": "stream",
       "stream": "stdout",
       "text": [
        "\n",
        "Idx:2,Rt:25411.3 Csigma:2.35722e-13 Tp:0.0376146 res:0.00971829"
       ]
      },
      {
       "output_type": "stream",
       "stream": "stdout",
       "text": [
        "\n",
        "Idx:3,Rt:25411.3 Csigma:2.35722e-13 Tp:0.0465072 res:0.0111701"
       ]
      },
      {
       "output_type": "stream",
       "stream": "stdout",
       "text": [
        "\n",
        "Idx:4,Rt:25411.3 Csigma:2.35722e-13 Tp:0.054735 res:0.0131263"
       ]
      },
      {
       "output_type": "stream",
       "stream": "stdout",
       "text": [
        "\n",
        "Idx:0,Rt:25420.2 Csigma:2.35722e-13 Tp:0.0204693 res:0.00355169"
       ]
      },
      {
       "output_type": "stream",
       "stream": "stdout",
       "text": [
        "\n",
        "Idx:1,Rt:25420.2 Csigma:2.35722e-13 Tp:0.0286707 res:0.00659722"
       ]
      },
      {
       "output_type": "stream",
       "stream": "stdout",
       "text": [
        "\n",
        "Idx:2,Rt:25420.2 Csigma:2.35722e-13 Tp:0.0376146 res:0.00997559"
       ]
      },
      {
       "output_type": "stream",
       "stream": "stdout",
       "text": [
        "\n",
        "Idx:3,Rt:25420.2 Csigma:2.35722e-13 Tp:0.0465072 res:0.0114993"
       ]
      },
      {
       "output_type": "stream",
       "stream": "stdout",
       "text": [
        "\n",
        "Idx:4,Rt:25420.2 Csigma:2.35722e-13 Tp:0.054735 res:0.0135131"
       ]
      },
      {
       "output_type": "stream",
       "stream": "stdout",
       "text": [
        "\n",
        "Idx:0,Rt:25420.2 Csigma:2.35722e-13 Tp:0.0204693 res:0.00355169"
       ]
      },
      {
       "output_type": "stream",
       "stream": "stdout",
       "text": [
        "\n",
        "Idx:1,Rt:25420.2 Csigma:2.35722e-13 Tp:0.0286707 res:0.00659722"
       ]
      },
      {
       "output_type": "stream",
       "stream": "stdout",
       "text": [
        "\n",
        "Idx:2,Rt:25420.2 Csigma:2.35722e-13 Tp:0.0376146 res:0.00997559"
       ]
      },
      {
       "output_type": "stream",
       "stream": "stdout",
       "text": [
        "\n",
        "Idx:3,Rt:25420.2 Csigma:2.35722e-13 Tp:0.0465072 res:0.0114993"
       ]
      },
      {
       "output_type": "stream",
       "stream": "stdout",
       "text": [
        "\n",
        "Idx:4,Rt:25420.2 Csigma:2.35722e-13 Tp:0.054735 res:0.0135131"
       ]
      },
      {
       "output_type": "stream",
       "stream": "stdout",
       "text": [
        "\n",
        "Idx:0,Rt:25420.2 Csigma:2.35722e-13 Tp:0.0204693 res:0.00355169"
       ]
      },
      {
       "output_type": "stream",
       "stream": "stdout",
       "text": [
        "\n",
        "Idx:1,Rt:25420.2 Csigma:2.35722e-13 Tp:0.0286707 res:0.00659722"
       ]
      },
      {
       "output_type": "stream",
       "stream": "stdout",
       "text": [
        "\n",
        "Idx:2,Rt:25420.2 Csigma:2.35722e-13 Tp:0.0376146 res:0.00997559"
       ]
      },
      {
       "output_type": "stream",
       "stream": "stdout",
       "text": [
        "\n",
        "Idx:3,Rt:25420.2 Csigma:2.35722e-13 Tp:0.0465072 res:0.0114993"
       ]
      },
      {
       "output_type": "stream",
       "stream": "stdout",
       "text": [
        "\n",
        "Idx:4,Rt:25420.2 Csigma:2.35722e-13 Tp:0.054735 res:0.0135131"
       ]
      },
      {
       "output_type": "stream",
       "stream": "stdout",
       "text": [
        "\n",
        "Idx:0,Rt:25420.2 Csigma:2.35722e-13 Tp:0.0204693 res:0.00355169"
       ]
      },
      {
       "output_type": "stream",
       "stream": "stdout",
       "text": [
        "\n",
        "Idx:1,Rt:25420.2 Csigma:2.35722e-13 Tp:0.0286707 res:0.00659722"
       ]
      },
      {
       "output_type": "stream",
       "stream": "stdout",
       "text": [
        "\n",
        "Idx:2,Rt:25420.2 Csigma:2.35722e-13 Tp:0.0376146 res:0.00997559"
       ]
      },
      {
       "output_type": "stream",
       "stream": "stdout",
       "text": [
        "\n",
        "Idx:3,Rt:25420.2 Csigma:2.35722e-13 Tp:0.0465072 res:0.0114993"
       ]
      },
      {
       "output_type": "stream",
       "stream": "stdout",
       "text": [
        "\n",
        "Idx:4,Rt:25420.2 Csigma:2.35722e-13 Tp:0.054735 res:0.0135131"
       ]
      },
      {
       "output_type": "stream",
       "stream": "stdout",
       "text": [
        "\n",
        "Idx:0,Rt:25420.2 Csigma:2.35722e-13 Tp:0.0204693 res:0.00355169"
       ]
      },
      {
       "output_type": "stream",
       "stream": "stdout",
       "text": [
        "\n",
        "Idx:1,Rt:25420.2 Csigma:2.35722e-13 Tp:0.0286707 res:0.00659722"
       ]
      },
      {
       "output_type": "stream",
       "stream": "stdout",
       "text": [
        "\n",
        "Idx:2,Rt:25420.2 Csigma:2.35722e-13 Tp:0.0376146 res:0.00997559"
       ]
      },
      {
       "output_type": "stream",
       "stream": "stdout",
       "text": [
        "\n",
        "Idx:3,Rt:25420.2 Csigma:2.35722e-13 Tp:0.0465072 res:0.0114993"
       ]
      },
      {
       "output_type": "stream",
       "stream": "stdout",
       "text": [
        "\n",
        "Idx:4,Rt:25420.2 Csigma:2.35722e-13 Tp:0.054735 res:0.0135131"
       ]
      },
      {
       "output_type": "stream",
       "stream": "stdout",
       "text": [
        "\n",
        "Idx:0,Rt:25420.2 Csigma:2.35722e-13 Tp:0.0204693 res:0.00355169"
       ]
      },
      {
       "output_type": "stream",
       "stream": "stdout",
       "text": [
        "\n",
        "Idx:1,Rt:25420.2 Csigma:2.35722e-13 Tp:0.0286707 res:0.00659722"
       ]
      },
      {
       "output_type": "stream",
       "stream": "stdout",
       "text": [
        "\n",
        "Idx:2,Rt:25420.2 Csigma:2.35722e-13 Tp:0.0376146 res:0.00997559"
       ]
      },
      {
       "output_type": "stream",
       "stream": "stdout",
       "text": [
        "\n",
        "Idx:3,Rt:25420.2 Csigma:2.35722e-13 Tp:0.0465072 res:0.0114993"
       ]
      },
      {
       "output_type": "stream",
       "stream": "stdout",
       "text": [
        "\n",
        "Idx:4,Rt:25420.2 Csigma:2.35722e-13 Tp:0.054735 res:0.0135131"
       ]
      },
      {
       "output_type": "stream",
       "stream": "stdout",
       "text": [
        "\n",
        "Idx:0,Rt:25420.2 Csigma:2.35722e-13 Tp:0.0204693 res:0.00355169"
       ]
      },
      {
       "output_type": "stream",
       "stream": "stdout",
       "text": [
        "\n",
        "Idx:1,Rt:25420.2 Csigma:2.35722e-13 Tp:0.0286707 res:0.00659722"
       ]
      },
      {
       "output_type": "stream",
       "stream": "stdout",
       "text": [
        "\n",
        "Idx:2,Rt:25420.2 Csigma:2.35722e-13 Tp:0.0376146 res:0.00997559"
       ]
      },
      {
       "output_type": "stream",
       "stream": "stdout",
       "text": [
        "\n",
        "Idx:3,Rt:25420.2 Csigma:2.35722e-13 Tp:0.0465072 res:0.0114993"
       ]
      },
      {
       "output_type": "stream",
       "stream": "stdout",
       "text": [
        "\n",
        "Idx:4,Rt:25420.2 Csigma:2.35722e-13 Tp:0.054735 res:0.0135131"
       ]
      },
      {
       "output_type": "stream",
       "stream": "stdout",
       "text": [
        "\n",
        "Idx:0,Rt:25420.2 Csigma:2.35722e-13 Tp:0.0204693 res:0.00355169"
       ]
      },
      {
       "output_type": "stream",
       "stream": "stdout",
       "text": [
        "\n",
        "Idx:1,Rt:25420.2 Csigma:2.35722e-13 Tp:0.0286707 res:0.00659722"
       ]
      },
      {
       "output_type": "stream",
       "stream": "stdout",
       "text": [
        "\n",
        "Idx:2,Rt:25420.2 Csigma:2.35722e-13 Tp:0.0376146 res:0.00997559"
       ]
      },
      {
       "output_type": "stream",
       "stream": "stdout",
       "text": [
        "\n",
        "Idx:3,Rt:25420.2 Csigma:2.35722e-13 Tp:0.0465072 res:0.0114993"
       ]
      },
      {
       "output_type": "stream",
       "stream": "stdout",
       "text": [
        "\n",
        "Idx:4,Rt:25420.2 Csigma:2.35722e-13 Tp:0.054735 res:0.0135131"
       ]
      },
      {
       "output_type": "stream",
       "stream": "stdout",
       "text": [
        "\n",
        "Idx:0,Rt:25420.2 Csigma:2.35722e-13 Tp:0.0204693 res:0.00355169"
       ]
      },
      {
       "output_type": "stream",
       "stream": "stdout",
       "text": [
        "\n",
        "Idx:1,Rt:25420.2 Csigma:2.35722e-13 Tp:0.0286707 res:0.00659722"
       ]
      },
      {
       "output_type": "stream",
       "stream": "stdout",
       "text": [
        "\n",
        "Idx:2,Rt:25420.2 Csigma:2.35722e-13 Tp:0.0376146 res:0.00997559"
       ]
      },
      {
       "output_type": "stream",
       "stream": "stdout",
       "text": [
        "\n",
        "Idx:3,Rt:25420.2 Csigma:2.35722e-13 Tp:0.0465072 res:0.0114993"
       ]
      },
      {
       "output_type": "stream",
       "stream": "stdout",
       "text": [
        "\n",
        "Idx:4,Rt:25420.2 Csigma:2.35722e-13 Tp:0.054735 res:0.0135131"
       ]
      },
      {
       "output_type": "stream",
       "stream": "stdout",
       "text": [
        "\n",
        "Idx:0,Rt:25412.1 Csigma:2.35722e-13 Tp:0.0204696 res:0.00346437"
       ]
      },
      {
       "output_type": "stream",
       "stream": "stdout",
       "text": [
        "\n",
        "Idx:1,Rt:25412.1 Csigma:2.35722e-13 Tp:0.0286707 res:0.00640616"
       ]
      },
      {
       "output_type": "stream",
       "stream": "stdout",
       "text": [
        "\n",
        "Idx:2,Rt:25412.1 Csigma:2.35722e-13 Tp:0.0376146 res:0.0097185"
       ]
      },
      {
       "output_type": "stream",
       "stream": "stdout",
       "text": [
        "\n",
        "Idx:3,Rt:25412.1 Csigma:2.35722e-13 Tp:0.0465072 res:0.0111692"
       ]
      },
      {
       "output_type": "stream",
       "stream": "stdout",
       "text": [
        "\n",
        "Idx:4,Rt:25412.1 Csigma:2.35722e-13 Tp:0.054735 res:0.0131229"
       ]
      },
      {
       "output_type": "stream",
       "stream": "stdout",
       "text": [
        "\n",
        "Idx:0,Rt:25412.1 Csigma:2.35722e-13 Tp:0.0204696 res:0.00346437"
       ]
      },
      {
       "output_type": "stream",
       "stream": "stdout",
       "text": [
        "\n",
        "Idx:1,Rt:25412.1 Csigma:2.35722e-13 Tp:0.0286707 res:0.00640616"
       ]
      },
      {
       "output_type": "stream",
       "stream": "stdout",
       "text": [
        "\n",
        "Idx:2,Rt:25412.1 Csigma:2.35722e-13 Tp:0.0376146 res:0.0097185"
       ]
      },
      {
       "output_type": "stream",
       "stream": "stdout",
       "text": [
        "\n",
        "Idx:3,Rt:25412.1 Csigma:2.35722e-13 Tp:0.0465072 res:0.0111692"
       ]
      },
      {
       "output_type": "stream",
       "stream": "stdout",
       "text": [
        "\n",
        "Idx:4,Rt:25412.1 Csigma:2.35722e-13 Tp:0.054735 res:0.0131229"
       ]
      },
      {
       "output_type": "stream",
       "stream": "stdout",
       "text": [
        "\n",
        "Idx:0,Rt:25412.1 Csigma:2.35722e-13 Tp:0.0204696 res:0.00346437"
       ]
      },
      {
       "output_type": "stream",
       "stream": "stdout",
       "text": [
        "\n",
        "Idx:1,Rt:25412.1 Csigma:2.35722e-13 Tp:0.0286707 res:0.00640616"
       ]
      },
      {
       "output_type": "stream",
       "stream": "stdout",
       "text": [
        "\n",
        "Idx:2,Rt:25412.1 Csigma:2.35722e-13 Tp:0.0376146 res:0.0097185"
       ]
      },
      {
       "output_type": "stream",
       "stream": "stdout",
       "text": [
        "\n",
        "Idx:3,Rt:25412.1 Csigma:2.35722e-13 Tp:0.0465072 res:0.0111692"
       ]
      },
      {
       "output_type": "stream",
       "stream": "stdout",
       "text": [
        "\n",
        "Idx:4,Rt:25412.1 Csigma:2.35722e-13 Tp:0.054735 res:0.0131229"
       ]
      },
      {
       "output_type": "stream",
       "stream": "stdout",
       "text": [
        "\n",
        "Idx:0,Rt:25412.1 Csigma:2.35722e-13 Tp:0.0204696 res:0.00346437"
       ]
      },
      {
       "output_type": "stream",
       "stream": "stdout",
       "text": [
        "\n",
        "Idx:1,Rt:25412.1 Csigma:2.35722e-13 Tp:0.0286707 res:0.00640616"
       ]
      },
      {
       "output_type": "stream",
       "stream": "stdout",
       "text": [
        "\n",
        "Idx:2,Rt:25412.1 Csigma:2.35722e-13 Tp:0.0376146 res:0.0097185"
       ]
      },
      {
       "output_type": "stream",
       "stream": "stdout",
       "text": [
        "\n",
        "Idx:3,Rt:25412.1 Csigma:2.35722e-13 Tp:0.0465072 res:0.0111692"
       ]
      },
      {
       "output_type": "stream",
       "stream": "stdout",
       "text": [
        "\n",
        "Idx:4,Rt:25412.1 Csigma:2.35722e-13 Tp:0.054735 res:0.0131229"
       ]
      },
      {
       "output_type": "stream",
       "stream": "stdout",
       "text": [
        "\n",
        "Idx:0,Rt:25412.1 Csigma:2.35722e-13 Tp:0.0204696 res:0.00346437"
       ]
      },
      {
       "output_type": "stream",
       "stream": "stdout",
       "text": [
        "\n",
        "Idx:1,Rt:25412.1 Csigma:2.35722e-13 Tp:0.0286707 res:0.00640616"
       ]
      },
      {
       "output_type": "stream",
       "stream": "stdout",
       "text": [
        "\n",
        "Idx:2,Rt:25412.1 Csigma:2.35722e-13 Tp:0.0376146 res:0.0097185"
       ]
      },
      {
       "output_type": "stream",
       "stream": "stdout",
       "text": [
        "\n",
        "Idx:3,Rt:25412.1 Csigma:2.35722e-13 Tp:0.0465072 res:0.0111692"
       ]
      },
      {
       "output_type": "stream",
       "stream": "stdout",
       "text": [
        "\n",
        "Idx:4,Rt:25412.1 Csigma:2.35722e-13 Tp:0.054735 res:0.0131229"
       ]
      },
      {
       "output_type": "stream",
       "stream": "stdout",
       "text": [
        "\n",
        "Idx:0,Rt:25412.1 Csigma:2.35722e-13 Tp:0.0204696 res:0.00346437"
       ]
      },
      {
       "output_type": "stream",
       "stream": "stdout",
       "text": [
        "\n",
        "Idx:1,Rt:25412.1 Csigma:2.35722e-13 Tp:0.0286707 res:0.00640616"
       ]
      },
      {
       "output_type": "stream",
       "stream": "stdout",
       "text": [
        "\n",
        "Idx:2,Rt:25412.1 Csigma:2.35722e-13 Tp:0.0376146 res:0.0097185"
       ]
      },
      {
       "output_type": "stream",
       "stream": "stdout",
       "text": [
        "\n",
        "Idx:3,Rt:25412.1 Csigma:2.35722e-13 Tp:0.0465072 res:0.0111692"
       ]
      },
      {
       "output_type": "stream",
       "stream": "stdout",
       "text": [
        "\n",
        "Idx:4,Rt:25412.1 Csigma:2.35722e-13 Tp:0.054735 res:0.0131229"
       ]
      },
      {
       "output_type": "stream",
       "stream": "stdout",
       "text": [
        "\n",
        "Idx:0,Rt:25412.1 Csigma:2.35722e-13 Tp:0.0204696 res:0.00346437"
       ]
      },
      {
       "output_type": "stream",
       "stream": "stdout",
       "text": [
        "\n",
        "Idx:1,Rt:25412.1 Csigma:2.35722e-13 Tp:0.0286707 res:0.00640616"
       ]
      },
      {
       "output_type": "stream",
       "stream": "stdout",
       "text": [
        "\n",
        "Idx:2,Rt:25412.1 Csigma:2.35722e-13 Tp:0.0376146 res:0.0097185"
       ]
      },
      {
       "output_type": "stream",
       "stream": "stdout",
       "text": [
        "\n",
        "Idx:3,Rt:25412.1 Csigma:2.35722e-13 Tp:0.0465072 res:0.0111692"
       ]
      },
      {
       "output_type": "stream",
       "stream": "stdout",
       "text": [
        "\n",
        "Idx:4,Rt:25412.1 Csigma:2.35722e-13 Tp:0.054735 res:0.0131229"
       ]
      },
      {
       "output_type": "stream",
       "stream": "stdout",
       "text": [
        "\n",
        "Idx:0,Rt:25412.1 Csigma:2.35722e-13 Tp:0.0204696 res:0.00346437"
       ]
      },
      {
       "output_type": "stream",
       "stream": "stdout",
       "text": [
        "\n",
        "Idx:1,Rt:25412.1 Csigma:2.35722e-13 Tp:0.0286707 res:0.00640616"
       ]
      },
      {
       "output_type": "stream",
       "stream": "stdout",
       "text": [
        "\n",
        "Idx:2,Rt:25412.1 Csigma:2.35722e-13 Tp:0.0376146 res:0.0097185"
       ]
      },
      {
       "output_type": "stream",
       "stream": "stdout",
       "text": [
        "\n",
        "Idx:3,Rt:25412.1 Csigma:2.35722e-13 Tp:0.0465072 res:0.0111692"
       ]
      },
      {
       "output_type": "stream",
       "stream": "stdout",
       "text": [
        "\n",
        "Idx:4,Rt:25412.1 Csigma:2.35722e-13 Tp:0.054735 res:0.0131229"
       ]
      },
      {
       "output_type": "stream",
       "stream": "stdout",
       "text": [
        "\n",
        "Idx:0,Rt:25412.1 Csigma:2.35722e-13 Tp:0.0204696 res:0.00346437"
       ]
      },
      {
       "output_type": "stream",
       "stream": "stdout",
       "text": [
        "\n",
        "Idx:1,Rt:25412.1 Csigma:2.35722e-13 Tp:0.0286707 res:0.00640616"
       ]
      },
      {
       "output_type": "stream",
       "stream": "stdout",
       "text": [
        "\n",
        "Idx:2,Rt:25412.1 Csigma:2.35722e-13 Tp:0.0376146 res:0.0097185"
       ]
      },
      {
       "output_type": "stream",
       "stream": "stdout",
       "text": [
        "\n",
        "Idx:3,Rt:25412.1 Csigma:2.35722e-13 Tp:0.0465072 res:0.0111692"
       ]
      },
      {
       "output_type": "stream",
       "stream": "stdout",
       "text": [
        "\n",
        "Idx:4,Rt:25412.1 Csigma:2.35722e-13 Tp:0.054735 res:0.0131229"
       ]
      },
      {
       "output_type": "stream",
       "stream": "stdout",
       "text": [
        "\n",
        "Idx:0,Rt:25412.1 Csigma:2.35722e-13 Tp:0.0204693 res:0.00346426"
       ]
      },
      {
       "output_type": "stream",
       "stream": "stdout",
       "text": [
        "\n",
        "Idx:1,Rt:25412.1 Csigma:2.35722e-13 Tp:0.0286707 res:0.00640606"
       ]
      },
      {
       "output_type": "stream",
       "stream": "stdout",
       "text": [
        "\n",
        "Idx:2,Rt:25412.1 Csigma:2.35722e-13 Tp:0.0376146 res:0.0097184"
       ]
      },
      {
       "output_type": "stream",
       "stream": "stdout",
       "text": [
        "\n",
        "Idx:3,Rt:25412.1 Csigma:2.35722e-13 Tp:0.0465072 res:0.0111691"
       ]
      },
      {
       "output_type": "stream",
       "stream": "stdout",
       "text": [
        "\n",
        "Idx:4,Rt:25412.1 Csigma:2.35722e-13 Tp:0.054735 res:0.0131228"
       ]
      },
      {
       "output_type": "stream",
       "stream": "stdout",
       "text": [
        "\n",
        "Idx:0,Rt:25412.1 Csigma:2.35722e-13 Tp:0.0204693 res:0.00346426"
       ]
      },
      {
       "output_type": "stream",
       "stream": "stdout",
       "text": [
        "\n",
        "Idx:1,Rt:25412.1 Csigma:2.35722e-13 Tp:0.0286707 res:0.00640606"
       ]
      },
      {
       "output_type": "stream",
       "stream": "stdout",
       "text": [
        "\n",
        "Idx:2,Rt:25412.1 Csigma:2.35722e-13 Tp:0.0376146 res:0.0097184"
       ]
      },
      {
       "output_type": "stream",
       "stream": "stdout",
       "text": [
        "\n",
        "Idx:3,Rt:25412.1 Csigma:2.35722e-13 Tp:0.0465072 res:0.0111691"
       ]
      },
      {
       "output_type": "stream",
       "stream": "stdout",
       "text": [
        "\n",
        "Idx:4,Rt:25412.1 Csigma:2.35722e-13 Tp:0.054735 res:0.0131228"
       ]
      },
      {
       "output_type": "stream",
       "stream": "stdout",
       "text": [
        "\n",
        "Idx:0,Rt:25412.1 Csigma:2.35722e-13 Tp:0.0204693 res:0.00346426"
       ]
      },
      {
       "output_type": "stream",
       "stream": "stdout",
       "text": [
        "\n",
        "Idx:1,Rt:25412.1 Csigma:2.35722e-13 Tp:0.0286707 res:0.00640606"
       ]
      },
      {
       "output_type": "stream",
       "stream": "stdout",
       "text": [
        "\n",
        "Idx:2,Rt:25412.1 Csigma:2.35722e-13 Tp:0.0376146 res:0.0097184"
       ]
      },
      {
       "output_type": "stream",
       "stream": "stdout",
       "text": [
        "\n",
        "Idx:3,Rt:25412.1 Csigma:2.35722e-13 Tp:0.0465072 res:0.0111691"
       ]
      },
      {
       "output_type": "stream",
       "stream": "stdout",
       "text": [
        "\n",
        "Idx:4,Rt:25412.1 Csigma:2.35722e-13 Tp:0.054735 res:0.0131228"
       ]
      },
      {
       "output_type": "stream",
       "stream": "stdout",
       "text": [
        "\n",
        "Idx:0,Rt:25412.1 Csigma:2.35722e-13 Tp:0.0204693 res:0.00346426"
       ]
      },
      {
       "output_type": "stream",
       "stream": "stdout",
       "text": [
        "\n",
        "Idx:1,Rt:25412.1 Csigma:2.35722e-13 Tp:0.0286707 res:0.00640606"
       ]
      },
      {
       "output_type": "stream",
       "stream": "stdout",
       "text": [
        "\n",
        "Idx:2,Rt:25412.1 Csigma:2.35722e-13 Tp:0.0376146 res:0.0097184"
       ]
      },
      {
       "output_type": "stream",
       "stream": "stdout",
       "text": [
        "\n",
        "Idx:3,Rt:25412.1 Csigma:2.35722e-13 Tp:0.0465072 res:0.0111691"
       ]
      },
      {
       "output_type": "stream",
       "stream": "stdout",
       "text": [
        "\n",
        "Idx:4,Rt:25412.1 Csigma:2.35722e-13 Tp:0.054735 res:0.0131228"
       ]
      },
      {
       "output_type": "stream",
       "stream": "stdout",
       "text": [
        "\n",
        "Idx:0,Rt:25412.1 Csigma:2.35722e-13 Tp:0.0204693 res:0.00346426"
       ]
      },
      {
       "output_type": "stream",
       "stream": "stdout",
       "text": [
        "\n",
        "Idx:1,Rt:25412.1 Csigma:2.35722e-13 Tp:0.0286707 res:0.00640606"
       ]
      },
      {
       "output_type": "stream",
       "stream": "stdout",
       "text": [
        "\n",
        "Idx:2,Rt:25412.1 Csigma:2.35722e-13 Tp:0.0376146 res:0.0097184"
       ]
      },
      {
       "output_type": "stream",
       "stream": "stdout",
       "text": [
        "\n",
        "Idx:3,Rt:25412.1 Csigma:2.35722e-13 Tp:0.0465072 res:0.0111691"
       ]
      },
      {
       "output_type": "stream",
       "stream": "stdout",
       "text": [
        "\n",
        "Idx:4,Rt:25412.1 Csigma:2.35722e-13 Tp:0.054735 res:0.0131228"
       ]
      },
      {
       "output_type": "stream",
       "stream": "stdout",
       "text": [
        "\n",
        "Idx:0,Rt:25412.1 Csigma:2.35722e-13 Tp:0.0204693 res:0.00346426"
       ]
      },
      {
       "output_type": "stream",
       "stream": "stdout",
       "text": [
        "\n",
        "Idx:1,Rt:25412.1 Csigma:2.35722e-13 Tp:0.0286707 res:0.00640606"
       ]
      },
      {
       "output_type": "stream",
       "stream": "stdout",
       "text": [
        "\n",
        "Idx:2,Rt:25412.1 Csigma:2.35722e-13 Tp:0.0376146 res:0.0097184"
       ]
      },
      {
       "output_type": "stream",
       "stream": "stdout",
       "text": [
        "\n",
        "Idx:3,Rt:25412.1 Csigma:2.35722e-13 Tp:0.0465072 res:0.0111691"
       ]
      },
      {
       "output_type": "stream",
       "stream": "stdout",
       "text": [
        "\n",
        "Idx:4,Rt:25412.1 Csigma:2.35722e-13 Tp:0.054735 res:0.0131228"
       ]
      },
      {
       "output_type": "stream",
       "stream": "stdout",
       "text": [
        "\n",
        "Idx:0,Rt:25412.1 Csigma:2.35722e-13 Tp:0.0204693 res:0.00346426"
       ]
      },
      {
       "output_type": "stream",
       "stream": "stdout",
       "text": [
        "\n",
        "Idx:1,Rt:25412.1 Csigma:2.35722e-13 Tp:0.0286707 res:0.00640606"
       ]
      },
      {
       "output_type": "stream",
       "stream": "stdout",
       "text": [
        "\n",
        "Idx:2,Rt:25412.1 Csigma:2.35722e-13 Tp:0.0376146 res:0.0097184"
       ]
      },
      {
       "output_type": "stream",
       "stream": "stdout",
       "text": [
        "\n",
        "Idx:3,Rt:25412.1 Csigma:2.35722e-13 Tp:0.0465072 res:0.0111691"
       ]
      },
      {
       "output_type": "stream",
       "stream": "stdout",
       "text": [
        "\n",
        "Idx:4,Rt:25412.1 Csigma:2.35722e-13 Tp:0.054735 res:0.0131228"
       ]
      },
      {
       "output_type": "stream",
       "stream": "stdout",
       "text": [
        "\n",
        "Idx:0,Rt:25412.1 Csigma:2.35722e-13 Tp:0.0204693 res:0.00346426"
       ]
      },
      {
       "output_type": "stream",
       "stream": "stdout",
       "text": [
        "\n",
        "Idx:1,Rt:25412.1 Csigma:2.35722e-13 Tp:0.0286707 res:0.00640606"
       ]
      },
      {
       "output_type": "stream",
       "stream": "stdout",
       "text": [
        "\n",
        "Idx:2,Rt:25412.1 Csigma:2.35722e-13 Tp:0.0376146 res:0.0097184"
       ]
      },
      {
       "output_type": "stream",
       "stream": "stdout",
       "text": [
        "\n",
        "Idx:3,Rt:25412.1 Csigma:2.35722e-13 Tp:0.0465072 res:0.0111691"
       ]
      },
      {
       "output_type": "stream",
       "stream": "stdout",
       "text": [
        "\n",
        "Idx:4,Rt:25412.1 Csigma:2.35722e-13 Tp:0.054735 res:0.0131228"
       ]
      },
      {
       "output_type": "stream",
       "stream": "stdout",
       "text": [
        "\n",
        "Idx:0,Rt:25412.1 Csigma:2.35722e-13 Tp:0.0204693 res:0.00346426"
       ]
      },
      {
       "output_type": "stream",
       "stream": "stdout",
       "text": [
        "\n",
        "Idx:1,Rt:25412.1 Csigma:2.35722e-13 Tp:0.0286707 res:0.00640606"
       ]
      },
      {
       "output_type": "stream",
       "stream": "stdout",
       "text": [
        "\n",
        "Idx:2,Rt:25412.1 Csigma:2.35722e-13 Tp:0.0376146 res:0.0097184"
       ]
      },
      {
       "output_type": "stream",
       "stream": "stdout",
       "text": [
        "\n",
        "Idx:3,Rt:25412.1 Csigma:2.35722e-13 Tp:0.0465072 res:0.0111691"
       ]
      },
      {
       "output_type": "stream",
       "stream": "stdout",
       "text": [
        "\n",
        "Idx:4,Rt:25412.1 Csigma:2.35722e-13 Tp:0.054735 res:0.0131228"
       ]
      },
      {
       "output_type": "stream",
       "stream": "stdout",
       "text": [
        "\n",
        "Idx:0,Rt:25412.1 Csigma:2.35721e-13 Tp:0.020468 res:0.00346386"
       ]
      },
      {
       "output_type": "stream",
       "stream": "stdout",
       "text": [
        "\n",
        "Idx:1,Rt:25412.1 Csigma:2.35721e-13 Tp:0.0286708 res:0.00640565"
       ]
      },
      {
       "output_type": "stream",
       "stream": "stdout",
       "text": [
        "\n",
        "Idx:2,Rt:25412.1 Csigma:2.35721e-13 Tp:0.0376146 res:0.00971799"
       ]
      },
      {
       "output_type": "stream",
       "stream": "stdout",
       "text": [
        "\n",
        "Idx:3,Rt:25412.1 Csigma:2.35721e-13 Tp:0.0465072 res:0.0111687"
       ]
      },
      {
       "output_type": "stream",
       "stream": "stdout",
       "text": [
        "\n",
        "Idx:4,Rt:25412.1 Csigma:2.35721e-13 Tp:0.054735 res:0.0131224"
       ]
      },
      {
       "output_type": "stream",
       "stream": "stdout",
       "text": [
        "\n",
        "Idx:0,Rt:25412.1 Csigma:2.35721e-13 Tp:0.020468 res:0.00346386"
       ]
      },
      {
       "output_type": "stream",
       "stream": "stdout",
       "text": [
        "\n",
        "Idx:1,Rt:25412.1 Csigma:2.35721e-13 Tp:0.0286708 res:0.00640565"
       ]
      },
      {
       "output_type": "stream",
       "stream": "stdout",
       "text": [
        "\n",
        "Idx:2,Rt:25412.1 Csigma:2.35721e-13 Tp:0.0376146 res:0.00971799"
       ]
      },
      {
       "output_type": "stream",
       "stream": "stdout",
       "text": [
        "\n",
        "Idx:3,Rt:25412.1 Csigma:2.35721e-13 Tp:0.0465072 res:0.0111687"
       ]
      },
      {
       "output_type": "stream",
       "stream": "stdout",
       "text": [
        "\n",
        "Idx:4,Rt:25412.1 Csigma:2.35721e-13 Tp:0.054735 res:0.0131224"
       ]
      },
      {
       "output_type": "stream",
       "stream": "stdout",
       "text": [
        "\n",
        "Idx:0,Rt:25412.1 Csigma:2.35721e-13 Tp:0.020468 res:0.00346386"
       ]
      },
      {
       "output_type": "stream",
       "stream": "stdout",
       "text": [
        "\n",
        "Idx:1,Rt:25412.1 Csigma:2.35721e-13 Tp:0.0286708 res:0.00640565"
       ]
      },
      {
       "output_type": "stream",
       "stream": "stdout",
       "text": [
        "\n",
        "Idx:2,Rt:25412.1 Csigma:2.35721e-13 Tp:0.0376146 res:0.00971799"
       ]
      },
      {
       "output_type": "stream",
       "stream": "stdout",
       "text": [
        "\n",
        "Idx:3,Rt:25412.1 Csigma:2.35721e-13 Tp:0.0465072 res:0.0111687"
       ]
      },
      {
       "output_type": "stream",
       "stream": "stdout",
       "text": [
        "\n",
        "Idx:4,Rt:25412.1 Csigma:2.35721e-13 Tp:0.054735 res:0.0131224"
       ]
      },
      {
       "output_type": "stream",
       "stream": "stdout",
       "text": [
        "\n",
        "Idx:0,Rt:25412.1 Csigma:2.35721e-13 Tp:0.020468 res:0.00346386"
       ]
      },
      {
       "output_type": "stream",
       "stream": "stdout",
       "text": [
        "\n",
        "Idx:1,Rt:25412.1 Csigma:2.35721e-13 Tp:0.0286708 res:0.00640565"
       ]
      },
      {
       "output_type": "stream",
       "stream": "stdout",
       "text": [
        "\n",
        "Idx:2,Rt:25412.1 Csigma:2.35721e-13 Tp:0.0376146 res:0.00971799"
       ]
      },
      {
       "output_type": "stream",
       "stream": "stdout",
       "text": [
        "\n",
        "Idx:3,Rt:25412.1 Csigma:2.35721e-13 Tp:0.0465072 res:0.0111687"
       ]
      },
      {
       "output_type": "stream",
       "stream": "stdout",
       "text": [
        "\n",
        "Idx:4,Rt:25412.1 Csigma:2.35721e-13 Tp:0.054735 res:0.0131224"
       ]
      },
      {
       "output_type": "stream",
       "stream": "stdout",
       "text": [
        "\n",
        "Idx:0,Rt:25412.1 Csigma:2.35721e-13 Tp:0.020468 res:0.00346386"
       ]
      },
      {
       "output_type": "stream",
       "stream": "stdout",
       "text": [
        "\n",
        "Idx:1,Rt:25412.1 Csigma:2.35721e-13 Tp:0.0286708 res:0.00640565"
       ]
      },
      {
       "output_type": "stream",
       "stream": "stdout",
       "text": [
        "\n",
        "Idx:2,Rt:25412.1 Csigma:2.35721e-13 Tp:0.0376146 res:0.00971799"
       ]
      },
      {
       "output_type": "stream",
       "stream": "stdout",
       "text": [
        "\n",
        "Idx:3,Rt:25412.1 Csigma:2.35721e-13 Tp:0.0465072 res:0.0111687"
       ]
      },
      {
       "output_type": "stream",
       "stream": "stdout",
       "text": [
        "\n",
        "Idx:4,Rt:25412.1 Csigma:2.35721e-13 Tp:0.054735 res:0.0131224"
       ]
      },
      {
       "output_type": "stream",
       "stream": "stdout",
       "text": [
        "\n",
        "Idx:0,Rt:25412.1 Csigma:2.35721e-13 Tp:0.020468 res:0.00346386"
       ]
      },
      {
       "output_type": "stream",
       "stream": "stdout",
       "text": [
        "\n",
        "Idx:1,Rt:25412.1 Csigma:2.35721e-13 Tp:0.0286708 res:0.00640565"
       ]
      },
      {
       "output_type": "stream",
       "stream": "stdout",
       "text": [
        "\n",
        "Idx:2,Rt:25412.1 Csigma:2.35721e-13 Tp:0.0376146 res:0.00971799"
       ]
      },
      {
       "output_type": "stream",
       "stream": "stdout",
       "text": [
        "\n",
        "Idx:3,Rt:25412.1 Csigma:2.35721e-13 Tp:0.0465072 res:0.0111687"
       ]
      },
      {
       "output_type": "stream",
       "stream": "stdout",
       "text": [
        "\n",
        "Idx:4,Rt:25412.1 Csigma:2.35721e-13 Tp:0.054735 res:0.0131224"
       ]
      },
      {
       "output_type": "stream",
       "stream": "stdout",
       "text": [
        "\n",
        "Idx:0,Rt:25412.1 Csigma:2.35721e-13 Tp:0.020468 res:0.00346386"
       ]
      },
      {
       "output_type": "stream",
       "stream": "stdout",
       "text": [
        "\n",
        "Idx:1,Rt:25412.1 Csigma:2.35721e-13 Tp:0.0286708 res:0.00640565"
       ]
      },
      {
       "output_type": "stream",
       "stream": "stdout",
       "text": [
        "\n",
        "Idx:2,Rt:25412.1 Csigma:2.35721e-13 Tp:0.0376146 res:0.00971799"
       ]
      },
      {
       "output_type": "stream",
       "stream": "stdout",
       "text": [
        "\n",
        "Idx:3,Rt:25412.1 Csigma:2.35721e-13 Tp:0.0465072 res:0.0111687"
       ]
      },
      {
       "output_type": "stream",
       "stream": "stdout",
       "text": [
        "\n",
        "Idx:4,Rt:25412.1 Csigma:2.35721e-13 Tp:0.054735 res:0.0131224"
       ]
      },
      {
       "output_type": "stream",
       "stream": "stdout",
       "text": [
        "\n",
        "Idx:0,Rt:25412.1 Csigma:2.35721e-13 Tp:0.020468 res:0.00346386"
       ]
      },
      {
       "output_type": "stream",
       "stream": "stdout",
       "text": [
        "\n",
        "Idx:1,Rt:25412.1 Csigma:2.35721e-13 Tp:0.0286708 res:0.00640565"
       ]
      },
      {
       "output_type": "stream",
       "stream": "stdout",
       "text": [
        "\n",
        "Idx:2,Rt:25412.1 Csigma:2.35721e-13 Tp:0.0376146 res:0.00971799"
       ]
      },
      {
       "output_type": "stream",
       "stream": "stdout",
       "text": [
        "\n",
        "Idx:3,Rt:25412.1 Csigma:2.35721e-13 Tp:0.0465072 res:0.0111687"
       ]
      },
      {
       "output_type": "stream",
       "stream": "stdout",
       "text": [
        "\n",
        "Idx:4,Rt:25412.1 Csigma:2.35721e-13 Tp:0.054735 res:0.0131224"
       ]
      },
      {
       "output_type": "stream",
       "stream": "stdout",
       "text": [
        "\n",
        "Idx:0,Rt:25412.1 Csigma:2.35721e-13 Tp:0.020468 res:0.00346386"
       ]
      },
      {
       "output_type": "stream",
       "stream": "stdout",
       "text": [
        "\n",
        "Idx:1,Rt:25412.1 Csigma:2.35721e-13 Tp:0.0286708 res:0.00640565"
       ]
      },
      {
       "output_type": "stream",
       "stream": "stdout",
       "text": [
        "\n",
        "Idx:2,Rt:25412.1 Csigma:2.35721e-13 Tp:0.0376146 res:0.00971799"
       ]
      },
      {
       "output_type": "stream",
       "stream": "stdout",
       "text": [
        "\n",
        "Idx:3,Rt:25412.1 Csigma:2.35721e-13 Tp:0.0465072 res:0.0111687"
       ]
      },
      {
       "output_type": "stream",
       "stream": "stdout",
       "text": [
        "\n",
        "Idx:4,Rt:25412.1 Csigma:2.35721e-13 Tp:0.054735 res:0.0131224"
       ]
      },
      {
       "output_type": "stream",
       "stream": "stdout",
       "text": [
        "\n",
        "Idx:0,Rt:25412.1 Csigma:2.35721e-13 Tp:0.020463 res:0.00346225"
       ]
      },
      {
       "output_type": "stream",
       "stream": "stdout",
       "text": [
        "\n",
        "Idx:1,Rt:25412.1 Csigma:2.35721e-13 Tp:0.0286711 res:0.00640405"
       ]
      },
      {
       "output_type": "stream",
       "stream": "stdout",
       "text": [
        "\n",
        "Idx:2,Rt:25412.1 Csigma:2.35721e-13 Tp:0.0376145 res:0.00971637"
       ]
      },
      {
       "output_type": "stream",
       "stream": "stdout",
       "text": [
        "\n",
        "Idx:3,Rt:25412.1 Csigma:2.35721e-13 Tp:0.0465073 res:0.011167"
       ]
      },
      {
       "output_type": "stream",
       "stream": "stdout",
       "text": [
        "\n",
        "Idx:4,Rt:25412.1 Csigma:2.35721e-13 Tp:0.0547353 res:0.0131208"
       ]
      },
      {
       "output_type": "stream",
       "stream": "stdout",
       "text": [
        "\n",
        "Idx:0,Rt:25412.1 Csigma:2.35721e-13 Tp:0.020463 res:0.00346225"
       ]
      },
      {
       "output_type": "stream",
       "stream": "stdout",
       "text": [
        "\n",
        "Idx:1,Rt:25412.1 Csigma:2.35721e-13 Tp:0.0286711 res:0.00640405"
       ]
      },
      {
       "output_type": "stream",
       "stream": "stdout",
       "text": [
        "\n",
        "Idx:2,Rt:25412.1 Csigma:2.35721e-13 Tp:0.0376145 res:0.00971637"
       ]
      },
      {
       "output_type": "stream",
       "stream": "stdout",
       "text": [
        "\n",
        "Idx:3,Rt:25412.1 Csigma:2.35721e-13 Tp:0.0465073 res:0.011167"
       ]
      },
      {
       "output_type": "stream",
       "stream": "stdout",
       "text": [
        "\n",
        "Idx:4,Rt:25412.1 Csigma:2.35721e-13 Tp:0.0547353 res:0.0131208"
       ]
      },
      {
       "output_type": "stream",
       "stream": "stdout",
       "text": [
        "\n",
        "Idx:0,Rt:25412.1 Csigma:2.35721e-13 Tp:0.020463 res:0.00346225"
       ]
      },
      {
       "output_type": "stream",
       "stream": "stdout",
       "text": [
        "\n",
        "Idx:1,Rt:25412.1 Csigma:2.35721e-13 Tp:0.0286711 res:0.00640405"
       ]
      },
      {
       "output_type": "stream",
       "stream": "stdout",
       "text": [
        "\n",
        "Idx:2,Rt:25412.1 Csigma:2.35721e-13 Tp:0.0376145 res:0.00971637"
       ]
      },
      {
       "output_type": "stream",
       "stream": "stdout",
       "text": [
        "\n",
        "Idx:3,Rt:25412.1 Csigma:2.35721e-13 Tp:0.0465073 res:0.011167"
       ]
      },
      {
       "output_type": "stream",
       "stream": "stdout",
       "text": [
        "\n",
        "Idx:4,Rt:25412.1 Csigma:2.35721e-13 Tp:0.0547353 res:0.0131208"
       ]
      },
      {
       "output_type": "stream",
       "stream": "stdout",
       "text": [
        "\n",
        "Idx:0,Rt:25412.1 Csigma:2.35721e-13 Tp:0.020463 res:0.00346225"
       ]
      },
      {
       "output_type": "stream",
       "stream": "stdout",
       "text": [
        "\n",
        "Idx:1,Rt:25412.1 Csigma:2.35721e-13 Tp:0.0286711 res:0.00640405"
       ]
      },
      {
       "output_type": "stream",
       "stream": "stdout",
       "text": [
        "\n",
        "Idx:2,Rt:25412.1 Csigma:2.35721e-13 Tp:0.0376145 res:0.00971637"
       ]
      },
      {
       "output_type": "stream",
       "stream": "stdout",
       "text": [
        "\n",
        "Idx:3,Rt:25412.1 Csigma:2.35721e-13 Tp:0.0465073 res:0.011167"
       ]
      },
      {
       "output_type": "stream",
       "stream": "stdout",
       "text": [
        "\n",
        "Idx:4,Rt:25412.1 Csigma:2.35721e-13 Tp:0.0547353 res:0.0131208"
       ]
      },
      {
       "output_type": "stream",
       "stream": "stdout",
       "text": [
        "\n",
        "Idx:0,Rt:25412.1 Csigma:2.35721e-13 Tp:0.020463 res:0.00346225"
       ]
      },
      {
       "output_type": "stream",
       "stream": "stdout",
       "text": [
        "\n",
        "Idx:1,Rt:25412.1 Csigma:2.35721e-13 Tp:0.0286711 res:0.00640405"
       ]
      },
      {
       "output_type": "stream",
       "stream": "stdout",
       "text": [
        "\n",
        "Idx:2,Rt:25412.1 Csigma:2.35721e-13 Tp:0.0376145 res:0.00971637"
       ]
      },
      {
       "output_type": "stream",
       "stream": "stdout",
       "text": [
        "\n",
        "Idx:3,Rt:25412.1 Csigma:2.35721e-13 Tp:0.0465073 res:0.011167"
       ]
      },
      {
       "output_type": "stream",
       "stream": "stdout",
       "text": [
        "\n",
        "Idx:4,Rt:25412.1 Csigma:2.35721e-13 Tp:0.0547353 res:0.0131208"
       ]
      },
      {
       "output_type": "stream",
       "stream": "stdout",
       "text": [
        "\n",
        "Idx:0,Rt:25412.1 Csigma:2.35721e-13 Tp:0.020463 res:0.00346225"
       ]
      },
      {
       "output_type": "stream",
       "stream": "stdout",
       "text": [
        "\n",
        "Idx:1,Rt:25412.1 Csigma:2.35721e-13 Tp:0.0286711 res:0.00640405"
       ]
      },
      {
       "output_type": "stream",
       "stream": "stdout",
       "text": [
        "\n",
        "Idx:2,Rt:25412.1 Csigma:2.35721e-13 Tp:0.0376145 res:0.00971637"
       ]
      },
      {
       "output_type": "stream",
       "stream": "stdout",
       "text": [
        "\n",
        "Idx:3,Rt:25412.1 Csigma:2.35721e-13 Tp:0.0465073 res:0.011167"
       ]
      },
      {
       "output_type": "stream",
       "stream": "stdout",
       "text": [
        "\n",
        "Idx:4,Rt:25412.1 Csigma:2.35721e-13 Tp:0.0547353 res:0.0131208"
       ]
      },
      {
       "output_type": "stream",
       "stream": "stdout",
       "text": [
        "\n",
        "Idx:0,Rt:25412.1 Csigma:2.35721e-13 Tp:0.020463 res:0.00346225"
       ]
      },
      {
       "output_type": "stream",
       "stream": "stdout",
       "text": [
        "\n",
        "Idx:1,Rt:25412.1 Csigma:2.35721e-13 Tp:0.0286711 res:0.00640405"
       ]
      },
      {
       "output_type": "stream",
       "stream": "stdout",
       "text": [
        "\n",
        "Idx:2,Rt:25412.1 Csigma:2.35721e-13 Tp:0.0376145 res:0.00971637"
       ]
      },
      {
       "output_type": "stream",
       "stream": "stdout",
       "text": [
        "\n",
        "Idx:3,Rt:25412.1 Csigma:2.35721e-13 Tp:0.0465073 res:0.011167"
       ]
      },
      {
       "output_type": "stream",
       "stream": "stdout",
       "text": [
        "\n",
        "Idx:4,Rt:25412.1 Csigma:2.35721e-13 Tp:0.0547353 res:0.0131208"
       ]
      },
      {
       "output_type": "stream",
       "stream": "stdout",
       "text": [
        "\n",
        "Idx:0,Rt:25412.1 Csigma:2.35721e-13 Tp:0.020463 res:0.00346225"
       ]
      },
      {
       "output_type": "stream",
       "stream": "stdout",
       "text": [
        "\n",
        "Idx:1,Rt:25412.1 Csigma:2.35721e-13 Tp:0.0286711 res:0.00640405"
       ]
      },
      {
       "output_type": "stream",
       "stream": "stdout",
       "text": [
        "\n",
        "Idx:2,Rt:25412.1 Csigma:2.35721e-13 Tp:0.0376145 res:0.00971637"
       ]
      },
      {
       "output_type": "stream",
       "stream": "stdout",
       "text": [
        "\n",
        "Idx:3,Rt:25412.1 Csigma:2.35721e-13 Tp:0.0465073 res:0.011167"
       ]
      },
      {
       "output_type": "stream",
       "stream": "stdout",
       "text": [
        "\n",
        "Idx:4,Rt:25412.1 Csigma:2.35721e-13 Tp:0.0547353 res:0.0131208"
       ]
      },
      {
       "output_type": "stream",
       "stream": "stdout",
       "text": [
        "\n",
        "Idx:0,Rt:25412.1 Csigma:2.35721e-13 Tp:0.020463 res:0.00346225"
       ]
      },
      {
       "output_type": "stream",
       "stream": "stdout",
       "text": [
        "\n",
        "Idx:1,Rt:25412.1 Csigma:2.35721e-13 Tp:0.0286711 res:0.00640405"
       ]
      },
      {
       "output_type": "stream",
       "stream": "stdout",
       "text": [
        "\n",
        "Idx:2,Rt:25412.1 Csigma:2.35721e-13 Tp:0.0376145 res:0.00971637"
       ]
      },
      {
       "output_type": "stream",
       "stream": "stdout",
       "text": [
        "\n",
        "Idx:3,Rt:25412.1 Csigma:2.35721e-13 Tp:0.0465073 res:0.011167"
       ]
      },
      {
       "output_type": "stream",
       "stream": "stdout",
       "text": [
        "\n",
        "Idx:4,Rt:25412.1 Csigma:2.35721e-13 Tp:0.0547353 res:0.0131208"
       ]
      },
      {
       "output_type": "stream",
       "stream": "stdout",
       "text": [
        "\n",
        "Idx:0,Rt:25412.1 Csigma:2.35719e-13 Tp:0.0204538 res:0.00345942"
       ]
      },
      {
       "output_type": "stream",
       "stream": "stdout",
       "text": [
        "\n",
        "Idx:1,Rt:25412.1 Csigma:2.35719e-13 Tp:0.0286715 res:0.00640121"
       ]
      },
      {
       "output_type": "stream",
       "stream": "stdout",
       "text": [
        "\n",
        "Idx:2,Rt:25412.1 Csigma:2.35719e-13 Tp:0.0376142 res:0.00971353"
       ]
      },
      {
       "output_type": "stream",
       "stream": "stdout",
       "text": [
        "\n",
        "Idx:3,Rt:25412.1 Csigma:2.35719e-13 Tp:0.0465073 res:0.0111642"
       ]
      },
      {
       "output_type": "stream",
       "stream": "stdout",
       "text": [
        "\n",
        "Idx:4,Rt:25412.1 Csigma:2.35719e-13 Tp:0.0547357 res:0.013118"
       ]
      },
      {
       "output_type": "stream",
       "stream": "stdout",
       "text": [
        "\n",
        "Idx:0,Rt:25412.1 Csigma:2.35719e-13 Tp:0.0204538 res:0.00345942"
       ]
      },
      {
       "output_type": "stream",
       "stream": "stdout",
       "text": [
        "\n",
        "Idx:1,Rt:25412.1 Csigma:2.35719e-13 Tp:0.0286715 res:0.00640121"
       ]
      },
      {
       "output_type": "stream",
       "stream": "stdout",
       "text": [
        "\n",
        "Idx:2,Rt:25412.1 Csigma:2.35719e-13 Tp:0.0376142 res:0.00971353"
       ]
      },
      {
       "output_type": "stream",
       "stream": "stdout",
       "text": [
        "\n",
        "Idx:3,Rt:25412.1 Csigma:2.35719e-13 Tp:0.0465073 res:0.0111642"
       ]
      },
      {
       "output_type": "stream",
       "stream": "stdout",
       "text": [
        "\n",
        "Idx:4,Rt:25412.1 Csigma:2.35719e-13 Tp:0.0547357 res:0.013118"
       ]
      },
      {
       "output_type": "stream",
       "stream": "stdout",
       "text": [
        "\n",
        "Idx:0,Rt:25412.1 Csigma:2.35719e-13 Tp:0.0204538 res:0.00345942"
       ]
      },
      {
       "output_type": "stream",
       "stream": "stdout",
       "text": [
        "\n",
        "Idx:1,Rt:25412.1 Csigma:2.35719e-13 Tp:0.0286715 res:0.00640121"
       ]
      },
      {
       "output_type": "stream",
       "stream": "stdout",
       "text": [
        "\n",
        "Idx:2,Rt:25412.1 Csigma:2.35719e-13 Tp:0.0376142 res:0.00971353"
       ]
      },
      {
       "output_type": "stream",
       "stream": "stdout",
       "text": [
        "\n",
        "Idx:3,Rt:25412.1 Csigma:2.35719e-13 Tp:0.0465073 res:0.0111642"
       ]
      },
      {
       "output_type": "stream",
       "stream": "stdout",
       "text": [
        "\n",
        "Idx:4,Rt:25412.1 Csigma:2.35719e-13 Tp:0.0547357 res:0.013118"
       ]
      },
      {
       "output_type": "stream",
       "stream": "stdout",
       "text": [
        "\n",
        "Idx:0,Rt:25412.1 Csigma:2.35719e-13 Tp:0.0204538 res:0.00345942"
       ]
      },
      {
       "output_type": "stream",
       "stream": "stdout",
       "text": [
        "\n",
        "Idx:1,Rt:25412.1 Csigma:2.35719e-13 Tp:0.0286715 res:0.00640121"
       ]
      },
      {
       "output_type": "stream",
       "stream": "stdout",
       "text": [
        "\n",
        "Idx:2,Rt:25412.1 Csigma:2.35719e-13 Tp:0.0376142 res:0.00971353"
       ]
      },
      {
       "output_type": "stream",
       "stream": "stdout",
       "text": [
        "\n",
        "Idx:3,Rt:25412.1 Csigma:2.35719e-13 Tp:0.0465073 res:0.0111642"
       ]
      },
      {
       "output_type": "stream",
       "stream": "stdout",
       "text": [
        "\n",
        "Idx:4,Rt:25412.1 Csigma:2.35719e-13 Tp:0.0547357 res:0.013118"
       ]
      },
      {
       "output_type": "stream",
       "stream": "stdout",
       "text": [
        "\n",
        "Idx:0,Rt:25412.1 Csigma:2.35719e-13 Tp:0.0204538 res:0.00345942"
       ]
      },
      {
       "output_type": "stream",
       "stream": "stdout",
       "text": [
        "\n",
        "Idx:1,Rt:25412.1 Csigma:2.35719e-13 Tp:0.0286715 res:0.00640121"
       ]
      },
      {
       "output_type": "stream",
       "stream": "stdout",
       "text": [
        "\n",
        "Idx:2,Rt:25412.1 Csigma:2.35719e-13 Tp:0.0376142 res:0.00971353"
       ]
      },
      {
       "output_type": "stream",
       "stream": "stdout",
       "text": [
        "\n",
        "Idx:3,Rt:25412.1 Csigma:2.35719e-13 Tp:0.0465073 res:0.0111642"
       ]
      },
      {
       "output_type": "stream",
       "stream": "stdout",
       "text": [
        "\n",
        "Idx:4,Rt:25412.1 Csigma:2.35719e-13 Tp:0.0547357 res:0.013118"
       ]
      },
      {
       "output_type": "stream",
       "stream": "stdout",
       "text": [
        "\n",
        "Idx:0,Rt:25412.1 Csigma:2.35719e-13 Tp:0.0204538 res:0.00345942"
       ]
      },
      {
       "output_type": "stream",
       "stream": "stdout",
       "text": [
        "\n",
        "Idx:1,Rt:25412.1 Csigma:2.35719e-13 Tp:0.0286715 res:0.00640121"
       ]
      },
      {
       "output_type": "stream",
       "stream": "stdout",
       "text": [
        "\n",
        "Idx:2,Rt:25412.1 Csigma:2.35719e-13 Tp:0.0376142 res:0.00971353"
       ]
      },
      {
       "output_type": "stream",
       "stream": "stdout",
       "text": [
        "\n",
        "Idx:3,Rt:25412.1 Csigma:2.35719e-13 Tp:0.0465073 res:0.0111642"
       ]
      },
      {
       "output_type": "stream",
       "stream": "stdout",
       "text": [
        "\n",
        "Idx:4,Rt:25412.1 Csigma:2.35719e-13 Tp:0.0547357 res:0.013118"
       ]
      },
      {
       "output_type": "stream",
       "stream": "stdout",
       "text": [
        "\n",
        "Idx:0,Rt:25412.1 Csigma:2.35719e-13 Tp:0.0204538 res:0.00345942"
       ]
      },
      {
       "output_type": "stream",
       "stream": "stdout",
       "text": [
        "\n",
        "Idx:1,Rt:25412.1 Csigma:2.35719e-13 Tp:0.0286715 res:0.00640121"
       ]
      },
      {
       "output_type": "stream",
       "stream": "stdout",
       "text": [
        "\n",
        "Idx:2,Rt:25412.1 Csigma:2.35719e-13 Tp:0.0376142 res:0.00971353"
       ]
      },
      {
       "output_type": "stream",
       "stream": "stdout",
       "text": [
        "\n",
        "Idx:3,Rt:25412.1 Csigma:2.35719e-13 Tp:0.0465073 res:0.0111642"
       ]
      },
      {
       "output_type": "stream",
       "stream": "stdout",
       "text": [
        "\n",
        "Idx:4,Rt:25412.1 Csigma:2.35719e-13 Tp:0.0547357 res:0.013118"
       ]
      },
      {
       "output_type": "stream",
       "stream": "stdout",
       "text": [
        "\n",
        "Idx:0,Rt:25412.1 Csigma:2.35719e-13 Tp:0.0204538 res:0.00345942"
       ]
      },
      {
       "output_type": "stream",
       "stream": "stdout",
       "text": [
        "\n",
        "Idx:1,Rt:25412.1 Csigma:2.35719e-13 Tp:0.0286715 res:0.00640121"
       ]
      },
      {
       "output_type": "stream",
       "stream": "stdout",
       "text": [
        "\n",
        "Idx:2,Rt:25412.1 Csigma:2.35719e-13 Tp:0.0376142 res:0.00971353"
       ]
      },
      {
       "output_type": "stream",
       "stream": "stdout",
       "text": [
        "\n",
        "Idx:3,Rt:25412.1 Csigma:2.35719e-13 Tp:0.0465073 res:0.0111642"
       ]
      },
      {
       "output_type": "stream",
       "stream": "stdout",
       "text": [
        "\n",
        "Idx:4,Rt:25412.1 Csigma:2.35719e-13 Tp:0.0547357 res:0.013118"
       ]
      },
      {
       "output_type": "stream",
       "stream": "stdout",
       "text": [
        "\n",
        "Idx:0,Rt:25412.1 Csigma:2.35719e-13 Tp:0.0204538 res:0.00345942"
       ]
      },
      {
       "output_type": "stream",
       "stream": "stdout",
       "text": [
        "\n",
        "Idx:1,Rt:25412.1 Csigma:2.35719e-13 Tp:0.0286715 res:0.00640121"
       ]
      },
      {
       "output_type": "stream",
       "stream": "stdout",
       "text": [
        "\n",
        "Idx:2,Rt:25412.1 Csigma:2.35719e-13 Tp:0.0376142 res:0.00971353"
       ]
      },
      {
       "output_type": "stream",
       "stream": "stdout",
       "text": [
        "\n",
        "Idx:3,Rt:25412.1 Csigma:2.35719e-13 Tp:0.0465073 res:0.0111642"
       ]
      },
      {
       "output_type": "stream",
       "stream": "stdout",
       "text": [
        "\n",
        "Idx:4,Rt:25412.1 Csigma:2.35719e-13 Tp:0.0547357 res:0.013118"
       ]
      },
      {
       "output_type": "stream",
       "stream": "stdout",
       "text": [
        "\n",
        "Idx:0,Rt:25412.1 Csigma:2.35722e-13 Tp:0.0204693 res:0.00346426"
       ]
      },
      {
       "output_type": "stream",
       "stream": "stdout",
       "text": [
        "\n",
        "Idx:1,Rt:25412.1 Csigma:2.35722e-13 Tp:0.0286707 res:0.00640606"
       ]
      },
      {
       "output_type": "stream",
       "stream": "stdout",
       "text": [
        "\n",
        "Idx:2,Rt:25412.1 Csigma:2.35722e-13 Tp:0.0376146 res:0.0097184"
       ]
      },
      {
       "output_type": "stream",
       "stream": "stdout",
       "text": [
        "\n",
        "Idx:3,Rt:25412.1 Csigma:2.35722e-13 Tp:0.0465072 res:0.0111691"
       ]
      },
      {
       "output_type": "stream",
       "stream": "stdout",
       "text": [
        "\n",
        "Idx:4,Rt:25412.1 Csigma:2.35722e-13 Tp:0.054735 res:0.0131228"
       ]
      },
      {
       "output_type": "stream",
       "stream": "stdout",
       "text": [
        "\n",
        "Idx:0,Rt:25412.1 Csigma:2.35722e-13 Tp:0.0204693 res:0.00346426"
       ]
      },
      {
       "output_type": "stream",
       "stream": "stdout",
       "text": [
        "\n",
        "Idx:1,Rt:25412.1 Csigma:2.35722e-13 Tp:0.0286707 res:0.00640606"
       ]
      },
      {
       "output_type": "stream",
       "stream": "stdout",
       "text": [
        "\n",
        "Idx:2,Rt:25412.1 Csigma:2.35722e-13 Tp:0.0376146 res:0.0097184"
       ]
      },
      {
       "output_type": "stream",
       "stream": "stdout",
       "text": [
        "\n",
        "Idx:3,Rt:25412.1 Csigma:2.35722e-13 Tp:0.0465072 res:0.0111691"
       ]
      },
      {
       "output_type": "stream",
       "stream": "stdout",
       "text": [
        "\n",
        "Idx:4,Rt:25412.1 Csigma:2.35722e-13 Tp:0.054735 res:0.0131228"
       ]
      },
      {
       "output_type": "stream",
       "stream": "stdout",
       "text": [
        "\n",
        "Idx:0,Rt:25412.1 Csigma:2.35722e-13 Tp:0.0204693 res:0.00346426"
       ]
      },
      {
       "output_type": "stream",
       "stream": "stdout",
       "text": [
        "\n",
        "Idx:1,Rt:25412.1 Csigma:2.35722e-13 Tp:0.0286707 res:0.00640606"
       ]
      },
      {
       "output_type": "stream",
       "stream": "stdout",
       "text": [
        "\n",
        "Idx:2,Rt:25412.1 Csigma:2.35722e-13 Tp:0.0376146 res:0.0097184"
       ]
      },
      {
       "output_type": "stream",
       "stream": "stdout",
       "text": [
        "\n",
        "Idx:3,Rt:25412.1 Csigma:2.35722e-13 Tp:0.0465072 res:0.0111691"
       ]
      },
      {
       "output_type": "stream",
       "stream": "stdout",
       "text": [
        "\n",
        "Idx:4,Rt:25412.1 Csigma:2.35722e-13 Tp:0.054735 res:0.0131228"
       ]
      },
      {
       "output_type": "stream",
       "stream": "stdout",
       "text": [
        "\n",
        "Idx:0,Rt:25412.1 Csigma:2.35722e-13 Tp:0.0204693 res:0.00346426"
       ]
      },
      {
       "output_type": "stream",
       "stream": "stdout",
       "text": [
        "\n",
        "Idx:1,Rt:25412.1 Csigma:2.35722e-13 Tp:0.0286707 res:0.00640606"
       ]
      },
      {
       "output_type": "stream",
       "stream": "stdout",
       "text": [
        "\n",
        "Idx:2,Rt:25412.1 Csigma:2.35722e-13 Tp:0.0376146 res:0.0097184"
       ]
      },
      {
       "output_type": "stream",
       "stream": "stdout",
       "text": [
        "\n",
        "Idx:3,Rt:25412.1 Csigma:2.35722e-13 Tp:0.0465072 res:0.0111691"
       ]
      },
      {
       "output_type": "stream",
       "stream": "stdout",
       "text": [
        "\n",
        "Idx:4,Rt:25412.1 Csigma:2.35722e-13 Tp:0.054735 res:0.0131228"
       ]
      },
      {
       "output_type": "stream",
       "stream": "stdout",
       "text": [
        "\n",
        "Idx:0,Rt:25412.1 Csigma:2.35722e-13 Tp:0.0204693 res:0.00346426"
       ]
      },
      {
       "output_type": "stream",
       "stream": "stdout",
       "text": [
        "\n",
        "Idx:1,Rt:25412.1 Csigma:2.35722e-13 Tp:0.0286707 res:0.00640606"
       ]
      },
      {
       "output_type": "stream",
       "stream": "stdout",
       "text": [
        "\n",
        "Idx:2,Rt:25412.1 Csigma:2.35722e-13 Tp:0.0376146 res:0.0097184"
       ]
      },
      {
       "output_type": "stream",
       "stream": "stdout",
       "text": [
        "\n",
        "Idx:3,Rt:25412.1 Csigma:2.35722e-13 Tp:0.0465072 res:0.0111691"
       ]
      },
      {
       "output_type": "stream",
       "stream": "stdout",
       "text": [
        "\n",
        "Idx:4,Rt:25412.1 Csigma:2.35722e-13 Tp:0.054735 res:0.0131228"
       ]
      },
      {
       "output_type": "stream",
       "stream": "stdout",
       "text": [
        "\n",
        "Idx:0,Rt:25412.1 Csigma:2.35722e-13 Tp:0.0204693 res:0.00346426"
       ]
      },
      {
       "output_type": "stream",
       "stream": "stdout",
       "text": [
        "\n",
        "Idx:1,Rt:25412.1 Csigma:2.35722e-13 Tp:0.0286707 res:0.00640606"
       ]
      },
      {
       "output_type": "stream",
       "stream": "stdout",
       "text": [
        "\n",
        "Idx:2,Rt:25412.1 Csigma:2.35722e-13 Tp:0.0376146 res:0.0097184"
       ]
      },
      {
       "output_type": "stream",
       "stream": "stdout",
       "text": [
        "\n",
        "Idx:3,Rt:25412.1 Csigma:2.35722e-13 Tp:0.0465072 res:0.0111691"
       ]
      },
      {
       "output_type": "stream",
       "stream": "stdout",
       "text": [
        "\n",
        "Idx:4,Rt:25412.1 Csigma:2.35722e-13 Tp:0.054735 res:0.0131228"
       ]
      },
      {
       "output_type": "stream",
       "stream": "stdout",
       "text": [
        "\n",
        "Idx:0,Rt:25412.1 Csigma:2.35722e-13 Tp:0.0204693 res:0.00346426"
       ]
      },
      {
       "output_type": "stream",
       "stream": "stdout",
       "text": [
        "\n",
        "Idx:1,Rt:25412.1 Csigma:2.35722e-13 Tp:0.0286707 res:0.00640606"
       ]
      },
      {
       "output_type": "stream",
       "stream": "stdout",
       "text": [
        "\n",
        "Idx:2,Rt:25412.1 Csigma:2.35722e-13 Tp:0.0376146 res:0.0097184"
       ]
      },
      {
       "output_type": "stream",
       "stream": "stdout",
       "text": [
        "\n",
        "Idx:3,Rt:25412.1 Csigma:2.35722e-13 Tp:0.0465072 res:0.0111691"
       ]
      },
      {
       "output_type": "stream",
       "stream": "stdout",
       "text": [
        "\n",
        "Idx:4,Rt:25412.1 Csigma:2.35722e-13 Tp:0.054735 res:0.0131228"
       ]
      },
      {
       "output_type": "stream",
       "stream": "stdout",
       "text": [
        "\n",
        "Idx:0,Rt:25412.1 Csigma:2.35722e-13 Tp:0.0204693 res:0.00346426"
       ]
      },
      {
       "output_type": "stream",
       "stream": "stdout",
       "text": [
        "\n",
        "Idx:1,Rt:25412.1 Csigma:2.35722e-13 Tp:0.0286707 res:0.00640606"
       ]
      },
      {
       "output_type": "stream",
       "stream": "stdout",
       "text": [
        "\n",
        "Idx:2,Rt:25412.1 Csigma:2.35722e-13 Tp:0.0376146 res:0.0097184"
       ]
      },
      {
       "output_type": "stream",
       "stream": "stdout",
       "text": [
        "\n",
        "Idx:3,Rt:25412.1 Csigma:2.35722e-13 Tp:0.0465072 res:0.0111691"
       ]
      },
      {
       "output_type": "stream",
       "stream": "stdout",
       "text": [
        "\n",
        "Idx:4,Rt:25412.1 Csigma:2.35722e-13 Tp:0.054735 res:0.0131228"
       ]
      },
      {
       "output_type": "stream",
       "stream": "stdout",
       "text": [
        "\n",
        "Idx:0,Rt:25412.1 Csigma:2.35722e-13 Tp:0.0204693 res:0.00346426"
       ]
      },
      {
       "output_type": "stream",
       "stream": "stdout",
       "text": [
        "\n",
        "Idx:1,Rt:25412.1 Csigma:2.35722e-13 Tp:0.0286707 res:0.00640606"
       ]
      },
      {
       "output_type": "stream",
       "stream": "stdout",
       "text": [
        "\n",
        "Idx:2,Rt:25412.1 Csigma:2.35722e-13 Tp:0.0376146 res:0.0097184"
       ]
      },
      {
       "output_type": "stream",
       "stream": "stdout",
       "text": [
        "\n",
        "Idx:3,Rt:25412.1 Csigma:2.35722e-13 Tp:0.0465072 res:0.0111691"
       ]
      },
      {
       "output_type": "stream",
       "stream": "stdout",
       "text": [
        "\n",
        "Idx:4,Rt:25412.1 Csigma:2.35722e-13 Tp:0.054735 res:0.0131228"
       ]
      },
      {
       "output_type": "stream",
       "stream": "stdout",
       "text": [
        "\n",
        "Idx:0,Rt:25412.1 Csigma:2.35722e-13 Tp:0.0204689 res:0.00346416"
       ]
      },
      {
       "output_type": "stream",
       "stream": "stdout",
       "text": [
        "\n",
        "Idx:1,Rt:25412.1 Csigma:2.35722e-13 Tp:0.0286707 res:0.00640596"
       ]
      },
      {
       "output_type": "stream",
       "stream": "stdout",
       "text": [
        "\n",
        "Idx:2,Rt:25412.1 Csigma:2.35722e-13 Tp:0.0376146 res:0.00971829"
       ]
      },
      {
       "output_type": "stream",
       "stream": "stdout",
       "text": [
        "\n",
        "Idx:3,Rt:25412.1 Csigma:2.35722e-13 Tp:0.0465072 res:0.011169"
       ]
      },
      {
       "output_type": "stream",
       "stream": "stdout",
       "text": [
        "\n",
        "Idx:4,Rt:25412.1 Csigma:2.35722e-13 Tp:0.054735 res:0.0131227"
       ]
      },
      {
       "output_type": "stream",
       "stream": "stdout",
       "text": [
        "\n",
        "Idx:0,Rt:25412.1 Csigma:2.35722e-13 Tp:0.0204689 res:0.00346416"
       ]
      },
      {
       "output_type": "stream",
       "stream": "stdout",
       "text": [
        "\n",
        "Idx:1,Rt:25412.1 Csigma:2.35722e-13 Tp:0.0286707 res:0.00640596"
       ]
      },
      {
       "output_type": "stream",
       "stream": "stdout",
       "text": [
        "\n",
        "Idx:2,Rt:25412.1 Csigma:2.35722e-13 Tp:0.0376146 res:0.00971829"
       ]
      },
      {
       "output_type": "stream",
       "stream": "stdout",
       "text": [
        "\n",
        "Idx:3,Rt:25412.1 Csigma:2.35722e-13 Tp:0.0465072 res:0.011169"
       ]
      },
      {
       "output_type": "stream",
       "stream": "stdout",
       "text": [
        "\n",
        "Idx:4,Rt:25412.1 Csigma:2.35722e-13 Tp:0.054735 res:0.0131227"
       ]
      },
      {
       "output_type": "stream",
       "stream": "stdout",
       "text": [
        "\n",
        "Idx:0,Rt:25412.1 Csigma:2.35722e-13 Tp:0.0204689 res:0.00346416"
       ]
      },
      {
       "output_type": "stream",
       "stream": "stdout",
       "text": [
        "\n",
        "Idx:1,Rt:25412.1 Csigma:2.35722e-13 Tp:0.0286707 res:0.00640596"
       ]
      },
      {
       "output_type": "stream",
       "stream": "stdout",
       "text": [
        "\n",
        "Idx:2,Rt:25412.1 Csigma:2.35722e-13 Tp:0.0376146 res:0.00971829"
       ]
      },
      {
       "output_type": "stream",
       "stream": "stdout",
       "text": [
        "\n",
        "Idx:3,Rt:25412.1 Csigma:2.35722e-13 Tp:0.0465072 res:0.011169"
       ]
      },
      {
       "output_type": "stream",
       "stream": "stdout",
       "text": [
        "\n",
        "Idx:4,Rt:25412.1 Csigma:2.35722e-13 Tp:0.054735 res:0.0131227"
       ]
      },
      {
       "output_type": "stream",
       "stream": "stdout",
       "text": [
        "\n",
        "Idx:0,Rt:25412.1 Csigma:2.35722e-13 Tp:0.0204689 res:0.00346416"
       ]
      },
      {
       "output_type": "stream",
       "stream": "stdout",
       "text": [
        "\n",
        "Idx:1,Rt:25412.1 Csigma:2.35722e-13 Tp:0.0286707 res:0.00640596"
       ]
      },
      {
       "output_type": "stream",
       "stream": "stdout",
       "text": [
        "\n",
        "Idx:2,Rt:25412.1 Csigma:2.35722e-13 Tp:0.0376146 res:0.00971829"
       ]
      },
      {
       "output_type": "stream",
       "stream": "stdout",
       "text": [
        "\n",
        "Idx:3,Rt:25412.1 Csigma:2.35722e-13 Tp:0.0465072 res:0.011169"
       ]
      },
      {
       "output_type": "stream",
       "stream": "stdout",
       "text": [
        "\n",
        "Idx:4,Rt:25412.1 Csigma:2.35722e-13 Tp:0.054735 res:0.0131227"
       ]
      },
      {
       "output_type": "stream",
       "stream": "stdout",
       "text": [
        "\n",
        "Idx:0,Rt:25412.1 Csigma:2.35722e-13 Tp:0.0204689 res:0.00346416"
       ]
      },
      {
       "output_type": "stream",
       "stream": "stdout",
       "text": [
        "\n",
        "Idx:1,Rt:25412.1 Csigma:2.35722e-13 Tp:0.0286707 res:0.00640596"
       ]
      },
      {
       "output_type": "stream",
       "stream": "stdout",
       "text": [
        "\n",
        "Idx:2,Rt:25412.1 Csigma:2.35722e-13 Tp:0.0376146 res:0.00971829"
       ]
      },
      {
       "output_type": "stream",
       "stream": "stdout",
       "text": [
        "\n",
        "Idx:3,Rt:25412.1 Csigma:2.35722e-13 Tp:0.0465072 res:0.011169"
       ]
      },
      {
       "output_type": "stream",
       "stream": "stdout",
       "text": [
        "\n",
        "Idx:4,Rt:25412.1 Csigma:2.35722e-13 Tp:0.054735 res:0.0131227"
       ]
      },
      {
       "output_type": "stream",
       "stream": "stdout",
       "text": [
        "\n",
        "Idx:0,Rt:25412.1 Csigma:2.35722e-13 Tp:0.0204689 res:0.00346416"
       ]
      },
      {
       "output_type": "stream",
       "stream": "stdout",
       "text": [
        "\n",
        "Idx:1,Rt:25412.1 Csigma:2.35722e-13 Tp:0.0286707 res:0.00640596"
       ]
      },
      {
       "output_type": "stream",
       "stream": "stdout",
       "text": [
        "\n",
        "Idx:2,Rt:25412.1 Csigma:2.35722e-13 Tp:0.0376146 res:0.00971829"
       ]
      },
      {
       "output_type": "stream",
       "stream": "stdout",
       "text": [
        "\n",
        "Idx:3,Rt:25412.1 Csigma:2.35722e-13 Tp:0.0465072 res:0.011169"
       ]
      },
      {
       "output_type": "stream",
       "stream": "stdout",
       "text": [
        "\n",
        "Idx:4,Rt:25412.1 Csigma:2.35722e-13 Tp:0.054735 res:0.0131227"
       ]
      },
      {
       "output_type": "stream",
       "stream": "stdout",
       "text": [
        "\n",
        "Idx:0,Rt:25412.1 Csigma:2.35722e-13 Tp:0.0204689 res:0.00346416"
       ]
      },
      {
       "output_type": "stream",
       "stream": "stdout",
       "text": [
        "\n",
        "Idx:1,Rt:25412.1 Csigma:2.35722e-13 Tp:0.0286707 res:0.00640596"
       ]
      },
      {
       "output_type": "stream",
       "stream": "stdout",
       "text": [
        "\n",
        "Idx:2,Rt:25412.1 Csigma:2.35722e-13 Tp:0.0376146 res:0.00971829"
       ]
      },
      {
       "output_type": "stream",
       "stream": "stdout",
       "text": [
        "\n",
        "Idx:3,Rt:25412.1 Csigma:2.35722e-13 Tp:0.0465072 res:0.011169"
       ]
      },
      {
       "output_type": "stream",
       "stream": "stdout",
       "text": [
        "\n",
        "Idx:4,Rt:25412.1 Csigma:2.35722e-13 Tp:0.054735 res:0.0131227"
       ]
      },
      {
       "output_type": "stream",
       "stream": "stdout",
       "text": [
        "\n",
        "Idx:0,Rt:25412.1 Csigma:2.35722e-13 Tp:0.0204689 res:0.00346416"
       ]
      },
      {
       "output_type": "stream",
       "stream": "stdout",
       "text": [
        "\n",
        "Idx:1,Rt:25412.1 Csigma:2.35722e-13 Tp:0.0286707 res:0.00640596"
       ]
      },
      {
       "output_type": "stream",
       "stream": "stdout",
       "text": [
        "\n",
        "Idx:2,Rt:25412.1 Csigma:2.35722e-13 Tp:0.0376146 res:0.00971829"
       ]
      },
      {
       "output_type": "stream",
       "stream": "stdout",
       "text": [
        "\n",
        "Idx:3,Rt:25412.1 Csigma:2.35722e-13 Tp:0.0465072 res:0.011169"
       ]
      },
      {
       "output_type": "stream",
       "stream": "stdout",
       "text": [
        "\n",
        "Idx:4,Rt:25412.1 Csigma:2.35722e-13 Tp:0.054735 res:0.0131227"
       ]
      },
      {
       "output_type": "stream",
       "stream": "stdout",
       "text": [
        "\n",
        "Idx:0,Rt:25412.1 Csigma:2.35722e-13 Tp:0.0204689 res:0.00346416"
       ]
      },
      {
       "output_type": "stream",
       "stream": "stdout",
       "text": [
        "\n",
        "Idx:1,Rt:25412.1 Csigma:2.35722e-13 Tp:0.0286707 res:0.00640596"
       ]
      },
      {
       "output_type": "stream",
       "stream": "stdout",
       "text": [
        "\n",
        "Idx:2,Rt:25412.1 Csigma:2.35722e-13 Tp:0.0376146 res:0.00971829"
       ]
      },
      {
       "output_type": "stream",
       "stream": "stdout",
       "text": [
        "\n",
        "Idx:3,Rt:25412.1 Csigma:2.35722e-13 Tp:0.0465072 res:0.011169"
       ]
      },
      {
       "output_type": "stream",
       "stream": "stdout",
       "text": [
        "\n",
        "Idx:4,Rt:25412.1 Csigma:2.35722e-13 Tp:0.054735 res:0.0131227"
       ]
      },
      {
       "output_type": "stream",
       "stream": "stdout",
       "text": [
        "\n",
        "Idx:0,Rt:25412.1 Csigma:2.35721e-13 Tp:0.0204683 res:0.00346396"
       ]
      },
      {
       "output_type": "stream",
       "stream": "stdout",
       "text": [
        "\n",
        "Idx:1,Rt:25412.1 Csigma:2.35721e-13 Tp:0.0286708 res:0.00640576"
       ]
      },
      {
       "output_type": "stream",
       "stream": "stdout",
       "text": [
        "\n",
        "Idx:2,Rt:25412.1 Csigma:2.35721e-13 Tp:0.0376146 res:0.00971809"
       ]
      },
      {
       "output_type": "stream",
       "stream": "stdout",
       "text": [
        "\n",
        "Idx:3,Rt:25412.1 Csigma:2.35721e-13 Tp:0.0465072 res:0.0111688"
       ]
      },
      {
       "output_type": "stream",
       "stream": "stdout",
       "text": [
        "\n",
        "Idx:4,Rt:25412.1 Csigma:2.35721e-13 Tp:0.054735 res:0.0131225"
       ]
      },
      {
       "output_type": "stream",
       "stream": "stdout",
       "text": [
        "\n",
        "Idx:0,Rt:25412.1 Csigma:2.35721e-13 Tp:0.0204683 res:0.00346396"
       ]
      },
      {
       "output_type": "stream",
       "stream": "stdout",
       "text": [
        "\n",
        "Idx:1,Rt:25412.1 Csigma:2.35721e-13 Tp:0.0286708 res:0.00640576"
       ]
      },
      {
       "output_type": "stream",
       "stream": "stdout",
       "text": [
        "\n",
        "Idx:2,Rt:25412.1 Csigma:2.35721e-13 Tp:0.0376146 res:0.00971809"
       ]
      },
      {
       "output_type": "stream",
       "stream": "stdout",
       "text": [
        "\n",
        "Idx:3,Rt:25412.1 Csigma:2.35721e-13 Tp:0.0465072 res:0.0111688"
       ]
      },
      {
       "output_type": "stream",
       "stream": "stdout",
       "text": [
        "\n",
        "Idx:4,Rt:25412.1 Csigma:2.35721e-13 Tp:0.054735 res:0.0131225"
       ]
      },
      {
       "output_type": "stream",
       "stream": "stdout",
       "text": [
        "\n",
        "Idx:0,Rt:25412.1 Csigma:2.35721e-13 Tp:0.0204683 res:0.00346396"
       ]
      },
      {
       "output_type": "stream",
       "stream": "stdout",
       "text": [
        "\n",
        "Idx:1,Rt:25412.1 Csigma:2.35721e-13 Tp:0.0286708 res:0.00640576"
       ]
      },
      {
       "output_type": "stream",
       "stream": "stdout",
       "text": [
        "\n",
        "Idx:2,Rt:25412.1 Csigma:2.35721e-13 Tp:0.0376146 res:0.00971809"
       ]
      },
      {
       "output_type": "stream",
       "stream": "stdout",
       "text": [
        "\n",
        "Idx:3,Rt:25412.1 Csigma:2.35721e-13 Tp:0.0465072 res:0.0111688"
       ]
      },
      {
       "output_type": "stream",
       "stream": "stdout",
       "text": [
        "\n",
        "Idx:4,Rt:25412.1 Csigma:2.35721e-13 Tp:0.054735 res:0.0131225"
       ]
      },
      {
       "output_type": "stream",
       "stream": "stdout",
       "text": [
        "\n",
        "Idx:0,Rt:25412.1 Csigma:2.35721e-13 Tp:0.0204683 res:0.00346396"
       ]
      },
      {
       "output_type": "stream",
       "stream": "stdout",
       "text": [
        "\n",
        "Idx:1,Rt:25412.1 Csigma:2.35721e-13 Tp:0.0286708 res:0.00640576"
       ]
      },
      {
       "output_type": "stream",
       "stream": "stdout",
       "text": [
        "\n",
        "Idx:2,Rt:25412.1 Csigma:2.35721e-13 Tp:0.0376146 res:0.00971809"
       ]
      },
      {
       "output_type": "stream",
       "stream": "stdout",
       "text": [
        "\n",
        "Idx:3,Rt:25412.1 Csigma:2.35721e-13 Tp:0.0465072 res:0.0111688"
       ]
      },
      {
       "output_type": "stream",
       "stream": "stdout",
       "text": [
        "\n",
        "Idx:4,Rt:25412.1 Csigma:2.35721e-13 Tp:0.054735 res:0.0131225"
       ]
      },
      {
       "output_type": "stream",
       "stream": "stdout",
       "text": [
        "\n",
        "Idx:0,Rt:25412.1 Csigma:2.35721e-13 Tp:0.0204683 res:0.00346396"
       ]
      },
      {
       "output_type": "stream",
       "stream": "stdout",
       "text": [
        "\n",
        "Idx:1,Rt:25412.1 Csigma:2.35721e-13 Tp:0.0286708 res:0.00640576"
       ]
      },
      {
       "output_type": "stream",
       "stream": "stdout",
       "text": [
        "\n",
        "Idx:2,Rt:25412.1 Csigma:2.35721e-13 Tp:0.0376146 res:0.00971809"
       ]
      },
      {
       "output_type": "stream",
       "stream": "stdout",
       "text": [
        "\n",
        "Idx:3,Rt:25412.1 Csigma:2.35721e-13 Tp:0.0465072 res:0.0111688"
       ]
      },
      {
       "output_type": "stream",
       "stream": "stdout",
       "text": [
        "\n",
        "Idx:4,Rt:25412.1 Csigma:2.35721e-13 Tp:0.054735 res:0.0131225"
       ]
      },
      {
       "output_type": "stream",
       "stream": "stdout",
       "text": [
        "\n",
        "Idx:0,Rt:25412.1 Csigma:2.35721e-13 Tp:0.0204683 res:0.00346396"
       ]
      },
      {
       "output_type": "stream",
       "stream": "stdout",
       "text": [
        "\n",
        "Idx:1,Rt:25412.1 Csigma:2.35721e-13 Tp:0.0286708 res:0.00640576"
       ]
      },
      {
       "output_type": "stream",
       "stream": "stdout",
       "text": [
        "\n",
        "Idx:2,Rt:25412.1 Csigma:2.35721e-13 Tp:0.0376146 res:0.00971809"
       ]
      },
      {
       "output_type": "stream",
       "stream": "stdout",
       "text": [
        "\n",
        "Idx:3,Rt:25412.1 Csigma:2.35721e-13 Tp:0.0465072 res:0.0111688"
       ]
      },
      {
       "output_type": "stream",
       "stream": "stdout",
       "text": [
        "\n",
        "Idx:4,Rt:25412.1 Csigma:2.35721e-13 Tp:0.054735 res:0.0131225"
       ]
      },
      {
       "output_type": "stream",
       "stream": "stdout",
       "text": [
        "\n",
        "Idx:0,Rt:25412.1 Csigma:2.35721e-13 Tp:0.0204683 res:0.00346396"
       ]
      },
      {
       "output_type": "stream",
       "stream": "stdout",
       "text": [
        "\n",
        "Idx:1,Rt:25412.1 Csigma:2.35721e-13 Tp:0.0286708 res:0.00640576"
       ]
      },
      {
       "output_type": "stream",
       "stream": "stdout",
       "text": [
        "\n",
        "Idx:2,Rt:25412.1 Csigma:2.35721e-13 Tp:0.0376146 res:0.00971809"
       ]
      },
      {
       "output_type": "stream",
       "stream": "stdout",
       "text": [
        "\n",
        "Idx:3,Rt:25412.1 Csigma:2.35721e-13 Tp:0.0465072 res:0.0111688"
       ]
      },
      {
       "output_type": "stream",
       "stream": "stdout",
       "text": [
        "\n",
        "Idx:4,Rt:25412.1 Csigma:2.35721e-13 Tp:0.054735 res:0.0131225"
       ]
      },
      {
       "output_type": "stream",
       "stream": "stdout",
       "text": [
        "\n",
        "Idx:0,Rt:25412.1 Csigma:2.35721e-13 Tp:0.0204683 res:0.00346396"
       ]
      },
      {
       "output_type": "stream",
       "stream": "stdout",
       "text": [
        "\n",
        "Idx:1,Rt:25412.1 Csigma:2.35721e-13 Tp:0.0286708 res:0.00640576"
       ]
      },
      {
       "output_type": "stream",
       "stream": "stdout",
       "text": [
        "\n",
        "Idx:2,Rt:25412.1 Csigma:2.35721e-13 Tp:0.0376146 res:0.00971809"
       ]
      },
      {
       "output_type": "stream",
       "stream": "stdout",
       "text": [
        "\n",
        "Idx:3,Rt:25412.1 Csigma:2.35721e-13 Tp:0.0465072 res:0.0111688"
       ]
      },
      {
       "output_type": "stream",
       "stream": "stdout",
       "text": [
        "\n",
        "Idx:4,Rt:25412.1 Csigma:2.35721e-13 Tp:0.054735 res:0.0131225"
       ]
      },
      {
       "output_type": "stream",
       "stream": "stdout",
       "text": [
        "\n",
        "Idx:0,Rt:25412.1 Csigma:2.35721e-13 Tp:0.0204683 res:0.00346396"
       ]
      },
      {
       "output_type": "stream",
       "stream": "stdout",
       "text": [
        "\n",
        "Idx:1,Rt:25412.1 Csigma:2.35721e-13 Tp:0.0286708 res:0.00640576"
       ]
      },
      {
       "output_type": "stream",
       "stream": "stdout",
       "text": [
        "\n",
        "Idx:2,Rt:25412.1 Csigma:2.35721e-13 Tp:0.0376146 res:0.00971809"
       ]
      },
      {
       "output_type": "stream",
       "stream": "stdout",
       "text": [
        "\n",
        "Idx:3,Rt:25412.1 Csigma:2.35721e-13 Tp:0.0465072 res:0.0111688"
       ]
      },
      {
       "output_type": "stream",
       "stream": "stdout",
       "text": [
        "\n",
        "Idx:4,Rt:25412.1 Csigma:2.35721e-13 Tp:0.054735 res:0.0131225"
       ]
      },
      {
       "output_type": "stream",
       "stream": "stdout",
       "text": [
        "\n",
        "Idx:0,Rt:25412.1 Csigma:2.35721e-13 Tp:0.0204671 res:0.00346356"
       ]
      },
      {
       "output_type": "stream",
       "stream": "stdout",
       "text": [
        "\n",
        "Idx:1,Rt:25412.1 Csigma:2.35721e-13 Tp:0.0286708 res:0.00640535"
       ]
      },
      {
       "output_type": "stream",
       "stream": "stdout",
       "text": [
        "\n",
        "Idx:2,Rt:25412.1 Csigma:2.35721e-13 Tp:0.0376146 res:0.00971768"
       ]
      },
      {
       "output_type": "stream",
       "stream": "stdout",
       "text": [
        "\n",
        "Idx:3,Rt:25412.1 Csigma:2.35721e-13 Tp:0.0465072 res:0.0111684"
       ]
      },
      {
       "output_type": "stream",
       "stream": "stdout",
       "text": [
        "\n",
        "Idx:4,Rt:25412.1 Csigma:2.35721e-13 Tp:0.0547351 res:0.0131221"
       ]
      },
      {
       "output_type": "stream",
       "stream": "stdout",
       "text": [
        "\n",
        "Idx:0,Rt:25412.1 Csigma:2.35721e-13 Tp:0.0204671 res:0.00346356"
       ]
      },
      {
       "output_type": "stream",
       "stream": "stdout",
       "text": [
        "\n",
        "Idx:1,Rt:25412.1 Csigma:2.35721e-13 Tp:0.0286708 res:0.00640535"
       ]
      },
      {
       "output_type": "stream",
       "stream": "stdout",
       "text": [
        "\n",
        "Idx:2,Rt:25412.1 Csigma:2.35721e-13 Tp:0.0376146 res:0.00971768"
       ]
      },
      {
       "output_type": "stream",
       "stream": "stdout",
       "text": [
        "\n",
        "Idx:3,Rt:25412.1 Csigma:2.35721e-13 Tp:0.0465072 res:0.0111684"
       ]
      },
      {
       "output_type": "stream",
       "stream": "stdout",
       "text": [
        "\n",
        "Idx:4,Rt:25412.1 Csigma:2.35721e-13 Tp:0.0547351 res:0.0131221"
       ]
      },
      {
       "output_type": "stream",
       "stream": "stdout",
       "text": [
        "\n",
        "Idx:0,Rt:25412.1 Csigma:2.35721e-13 Tp:0.0204671 res:0.00346356"
       ]
      },
      {
       "output_type": "stream",
       "stream": "stdout",
       "text": [
        "\n",
        "Idx:1,Rt:25412.1 Csigma:2.35721e-13 Tp:0.0286708 res:0.00640535"
       ]
      },
      {
       "output_type": "stream",
       "stream": "stdout",
       "text": [
        "\n",
        "Idx:2,Rt:25412.1 Csigma:2.35721e-13 Tp:0.0376146 res:0.00971768"
       ]
      },
      {
       "output_type": "stream",
       "stream": "stdout",
       "text": [
        "\n",
        "Idx:3,Rt:25412.1 Csigma:2.35721e-13 Tp:0.0465072 res:0.0111684"
       ]
      },
      {
       "output_type": "stream",
       "stream": "stdout",
       "text": [
        "\n",
        "Idx:4,Rt:25412.1 Csigma:2.35721e-13 Tp:0.0547351 res:0.0131221"
       ]
      },
      {
       "output_type": "stream",
       "stream": "stdout",
       "text": [
        "\n",
        "Idx:0,Rt:25412.1 Csigma:2.35721e-13 Tp:0.0204671 res:0.00346356"
       ]
      },
      {
       "output_type": "stream",
       "stream": "stdout",
       "text": [
        "\n",
        "Idx:1,Rt:25412.1 Csigma:2.35721e-13 Tp:0.0286708 res:0.00640535"
       ]
      },
      {
       "output_type": "stream",
       "stream": "stdout",
       "text": [
        "\n",
        "Idx:2,Rt:25412.1 Csigma:2.35721e-13 Tp:0.0376146 res:0.00971768"
       ]
      },
      {
       "output_type": "stream",
       "stream": "stdout",
       "text": [
        "\n",
        "Idx:3,Rt:25412.1 Csigma:2.35721e-13 Tp:0.0465072 res:0.0111684"
       ]
      },
      {
       "output_type": "stream",
       "stream": "stdout",
       "text": [
        "\n",
        "Idx:4,Rt:25412.1 Csigma:2.35721e-13 Tp:0.0547351 res:0.0131221"
       ]
      },
      {
       "output_type": "stream",
       "stream": "stdout",
       "text": [
        "\n",
        "Idx:0,Rt:25412.1 Csigma:2.35721e-13 Tp:0.0204671 res:0.00346356"
       ]
      },
      {
       "output_type": "stream",
       "stream": "stdout",
       "text": [
        "\n",
        "Idx:1,Rt:25412.1 Csigma:2.35721e-13 Tp:0.0286708 res:0.00640535"
       ]
      },
      {
       "output_type": "stream",
       "stream": "stdout",
       "text": [
        "\n",
        "Idx:2,Rt:25412.1 Csigma:2.35721e-13 Tp:0.0376146 res:0.00971768"
       ]
      },
      {
       "output_type": "stream",
       "stream": "stdout",
       "text": [
        "\n",
        "Idx:3,Rt:25412.1 Csigma:2.35721e-13 Tp:0.0465072 res:0.0111684"
       ]
      },
      {
       "output_type": "stream",
       "stream": "stdout",
       "text": [
        "\n",
        "Idx:4,Rt:25412.1 Csigma:2.35721e-13 Tp:0.0547351 res:0.0131221"
       ]
      },
      {
       "output_type": "stream",
       "stream": "stdout",
       "text": [
        "\n",
        "Idx:0,Rt:25412.1 Csigma:2.35721e-13 Tp:0.0204671 res:0.00346356"
       ]
      },
      {
       "output_type": "stream",
       "stream": "stdout",
       "text": [
        "\n",
        "Idx:1,Rt:25412.1 Csigma:2.35721e-13 Tp:0.0286708 res:0.00640535"
       ]
      },
      {
       "output_type": "stream",
       "stream": "stdout",
       "text": [
        "\n",
        "Idx:2,Rt:25412.1 Csigma:2.35721e-13 Tp:0.0376146 res:0.00971768"
       ]
      },
      {
       "output_type": "stream",
       "stream": "stdout",
       "text": [
        "\n",
        "Idx:3,Rt:25412.1 Csigma:2.35721e-13 Tp:0.0465072 res:0.0111684"
       ]
      },
      {
       "output_type": "stream",
       "stream": "stdout",
       "text": [
        "\n",
        "Idx:4,Rt:25412.1 Csigma:2.35721e-13 Tp:0.0547351 res:0.0131221"
       ]
      },
      {
       "output_type": "stream",
       "stream": "stdout",
       "text": [
        "\n",
        "Idx:0,Rt:25412.1 Csigma:2.35721e-13 Tp:0.0204671 res:0.00346356"
       ]
      },
      {
       "output_type": "stream",
       "stream": "stdout",
       "text": [
        "\n",
        "Idx:1,Rt:25412.1 Csigma:2.35721e-13 Tp:0.0286708 res:0.00640535"
       ]
      },
      {
       "output_type": "stream",
       "stream": "stdout",
       "text": [
        "\n",
        "Idx:2,Rt:25412.1 Csigma:2.35721e-13 Tp:0.0376146 res:0.00971768"
       ]
      },
      {
       "output_type": "stream",
       "stream": "stdout",
       "text": [
        "\n",
        "Idx:3,Rt:25412.1 Csigma:2.35721e-13 Tp:0.0465072 res:0.0111684"
       ]
      },
      {
       "output_type": "stream",
       "stream": "stdout",
       "text": [
        "\n",
        "Idx:4,Rt:25412.1 Csigma:2.35721e-13 Tp:0.0547351 res:0.0131221"
       ]
      },
      {
       "output_type": "stream",
       "stream": "stdout",
       "text": [
        "\n",
        "Idx:0,Rt:25412.1 Csigma:2.35721e-13 Tp:0.0204671 res:0.00346356"
       ]
      },
      {
       "output_type": "stream",
       "stream": "stdout",
       "text": [
        "\n",
        "Idx:1,Rt:25412.1 Csigma:2.35721e-13 Tp:0.0286708 res:0.00640535"
       ]
      },
      {
       "output_type": "stream",
       "stream": "stdout",
       "text": [
        "\n",
        "Idx:2,Rt:25412.1 Csigma:2.35721e-13 Tp:0.0376146 res:0.00971768"
       ]
      },
      {
       "output_type": "stream",
       "stream": "stdout",
       "text": [
        "\n",
        "Idx:3,Rt:25412.1 Csigma:2.35721e-13 Tp:0.0465072 res:0.0111684"
       ]
      },
      {
       "output_type": "stream",
       "stream": "stdout",
       "text": [
        "\n",
        "Idx:4,Rt:25412.1 Csigma:2.35721e-13 Tp:0.0547351 res:0.0131221"
       ]
      },
      {
       "output_type": "stream",
       "stream": "stdout",
       "text": [
        "\n",
        "Idx:0,Rt:25412.1 Csigma:2.35721e-13 Tp:0.0204671 res:0.00346356"
       ]
      },
      {
       "output_type": "stream",
       "stream": "stdout",
       "text": [
        "\n",
        "Idx:1,Rt:25412.1 Csigma:2.35721e-13 Tp:0.0286708 res:0.00640535"
       ]
      },
      {
       "output_type": "stream",
       "stream": "stdout",
       "text": [
        "\n",
        "Idx:2,Rt:25412.1 Csigma:2.35721e-13 Tp:0.0376146 res:0.00971768"
       ]
      },
      {
       "output_type": "stream",
       "stream": "stdout",
       "text": [
        "\n",
        "Idx:3,Rt:25412.1 Csigma:2.35721e-13 Tp:0.0465072 res:0.0111684"
       ]
      },
      {
       "output_type": "stream",
       "stream": "stdout",
       "text": [
        "\n",
        "Idx:4,Rt:25412.1 Csigma:2.35721e-13 Tp:0.0547351 res:0.0131221"
       ]
      },
      {
       "output_type": "stream",
       "stream": "stdout",
       "text": [
        "\n",
        "Idx:0,Rt:25412.1 Csigma:2.35721e-13 Tp:0.0204645 res:0.00346275"
       ]
      },
      {
       "output_type": "stream",
       "stream": "stdout",
       "text": [
        "\n",
        "Idx:1,Rt:25412.1 Csigma:2.35721e-13 Tp:0.028671 res:0.00640455"
       ]
      },
      {
       "output_type": "stream",
       "stream": "stdout",
       "text": [
        "\n",
        "Idx:2,Rt:25412.1 Csigma:2.35721e-13 Tp:0.0376145 res:0.00971688"
       ]
      },
      {
       "output_type": "stream",
       "stream": "stdout",
       "text": [
        "\n",
        "Idx:3,Rt:25412.1 Csigma:2.35721e-13 Tp:0.0465072 res:0.0111675"
       ]
      },
      {
       "output_type": "stream",
       "stream": "stdout",
       "text": [
        "\n",
        "Idx:4,Rt:25412.1 Csigma:2.35721e-13 Tp:0.0547352 res:0.0131213"
       ]
      },
      {
       "output_type": "stream",
       "stream": "stdout",
       "text": [
        "\n",
        "Idx:0,Rt:25412.1 Csigma:2.35721e-13 Tp:0.0204645 res:0.00346275"
       ]
      },
      {
       "output_type": "stream",
       "stream": "stdout",
       "text": [
        "\n",
        "Idx:1,Rt:25412.1 Csigma:2.35721e-13 Tp:0.028671 res:0.00640455"
       ]
      },
      {
       "output_type": "stream",
       "stream": "stdout",
       "text": [
        "\n",
        "Idx:2,Rt:25412.1 Csigma:2.35721e-13 Tp:0.0376145 res:0.00971688"
       ]
      },
      {
       "output_type": "stream",
       "stream": "stdout",
       "text": [
        "\n",
        "Idx:3,Rt:25412.1 Csigma:2.35721e-13 Tp:0.0465072 res:0.0111675"
       ]
      },
      {
       "output_type": "stream",
       "stream": "stdout",
       "text": [
        "\n",
        "Idx:4,Rt:25412.1 Csigma:2.35721e-13 Tp:0.0547352 res:0.0131213"
       ]
      },
      {
       "output_type": "stream",
       "stream": "stdout",
       "text": [
        "\n",
        "Idx:0,Rt:25412.1 Csigma:2.35721e-13 Tp:0.0204645 res:0.00346275"
       ]
      },
      {
       "output_type": "stream",
       "stream": "stdout",
       "text": [
        "\n",
        "Idx:1,Rt:25412.1 Csigma:2.35721e-13 Tp:0.028671 res:0.00640455"
       ]
      },
      {
       "output_type": "stream",
       "stream": "stdout",
       "text": [
        "\n",
        "Idx:2,Rt:25412.1 Csigma:2.35721e-13 Tp:0.0376145 res:0.00971688"
       ]
      },
      {
       "output_type": "stream",
       "stream": "stdout",
       "text": [
        "\n",
        "Idx:3,Rt:25412.1 Csigma:2.35721e-13 Tp:0.0465072 res:0.0111675"
       ]
      },
      {
       "output_type": "stream",
       "stream": "stdout",
       "text": [
        "\n",
        "Idx:4,Rt:25412.1 Csigma:2.35721e-13 Tp:0.0547352 res:0.0131213"
       ]
      },
      {
       "output_type": "stream",
       "stream": "stdout",
       "text": [
        "\n",
        "Idx:0,Rt:25412.1 Csigma:2.35721e-13 Tp:0.0204645 res:0.00346275"
       ]
      },
      {
       "output_type": "stream",
       "stream": "stdout",
       "text": [
        "\n",
        "Idx:1,Rt:25412.1 Csigma:2.35721e-13 Tp:0.028671 res:0.00640455"
       ]
      },
      {
       "output_type": "stream",
       "stream": "stdout",
       "text": [
        "\n",
        "Idx:2,Rt:25412.1 Csigma:2.35721e-13 Tp:0.0376145 res:0.00971688"
       ]
      },
      {
       "output_type": "stream",
       "stream": "stdout",
       "text": [
        "\n",
        "Idx:3,Rt:25412.1 Csigma:2.35721e-13 Tp:0.0465072 res:0.0111675"
       ]
      },
      {
       "output_type": "stream",
       "stream": "stdout",
       "text": [
        "\n",
        "Idx:4,Rt:25412.1 Csigma:2.35721e-13 Tp:0.0547352 res:0.0131213"
       ]
      },
      {
       "output_type": "stream",
       "stream": "stdout",
       "text": [
        "\n",
        "Idx:0,Rt:25412.1 Csigma:2.35721e-13 Tp:0.0204645 res:0.00346275"
       ]
      },
      {
       "output_type": "stream",
       "stream": "stdout",
       "text": [
        "\n",
        "Idx:1,Rt:25412.1 Csigma:2.35721e-13 Tp:0.028671 res:0.00640455"
       ]
      },
      {
       "output_type": "stream",
       "stream": "stdout",
       "text": [
        "\n",
        "Idx:2,Rt:25412.1 Csigma:2.35721e-13 Tp:0.0376145 res:0.00971688"
       ]
      },
      {
       "output_type": "stream",
       "stream": "stdout",
       "text": [
        "\n",
        "Idx:3,Rt:25412.1 Csigma:2.35721e-13 Tp:0.0465072 res:0.0111675"
       ]
      },
      {
       "output_type": "stream",
       "stream": "stdout",
       "text": [
        "\n",
        "Idx:4,Rt:25412.1 Csigma:2.35721e-13 Tp:0.0547352 res:0.0131213"
       ]
      },
      {
       "output_type": "stream",
       "stream": "stdout",
       "text": [
        "\n",
        "Idx:0,Rt:25412.1 Csigma:2.35721e-13 Tp:0.0204645 res:0.00346275"
       ]
      },
      {
       "output_type": "stream",
       "stream": "stdout",
       "text": [
        "\n",
        "Idx:1,Rt:25412.1 Csigma:2.35721e-13 Tp:0.028671 res:0.00640455"
       ]
      },
      {
       "output_type": "stream",
       "stream": "stdout",
       "text": [
        "\n",
        "Idx:2,Rt:25412.1 Csigma:2.35721e-13 Tp:0.0376145 res:0.00971688"
       ]
      },
      {
       "output_type": "stream",
       "stream": "stdout",
       "text": [
        "\n",
        "Idx:3,Rt:25412.1 Csigma:2.35721e-13 Tp:0.0465072 res:0.0111675"
       ]
      },
      {
       "output_type": "stream",
       "stream": "stdout",
       "text": [
        "\n",
        "Idx:4,Rt:25412.1 Csigma:2.35721e-13 Tp:0.0547352 res:0.0131213"
       ]
      },
      {
       "output_type": "stream",
       "stream": "stdout",
       "text": [
        "\n",
        "Idx:0,Rt:25412.1 Csigma:2.35721e-13 Tp:0.0204645 res:0.00346275"
       ]
      },
      {
       "output_type": "stream",
       "stream": "stdout",
       "text": [
        "\n",
        "Idx:1,Rt:25412.1 Csigma:2.35721e-13 Tp:0.028671 res:0.00640455"
       ]
      },
      {
       "output_type": "stream",
       "stream": "stdout",
       "text": [
        "\n",
        "Idx:2,Rt:25412.1 Csigma:2.35721e-13 Tp:0.0376145 res:0.00971688"
       ]
      },
      {
       "output_type": "stream",
       "stream": "stdout",
       "text": [
        "\n",
        "Idx:3,Rt:25412.1 Csigma:2.35721e-13 Tp:0.0465072 res:0.0111675"
       ]
      },
      {
       "output_type": "stream",
       "stream": "stdout",
       "text": [
        "\n",
        "Idx:4,Rt:25412.1 Csigma:2.35721e-13 Tp:0.0547352 res:0.0131213"
       ]
      },
      {
       "output_type": "stream",
       "stream": "stdout",
       "text": [
        "\n",
        "Idx:0,Rt:25412.1 Csigma:2.35721e-13 Tp:0.0204645 res:0.00346275"
       ]
      },
      {
       "output_type": "stream",
       "stream": "stdout",
       "text": [
        "\n",
        "Idx:1,Rt:25412.1 Csigma:2.35721e-13 Tp:0.028671 res:0.00640455"
       ]
      },
      {
       "output_type": "stream",
       "stream": "stdout",
       "text": [
        "\n",
        "Idx:2,Rt:25412.1 Csigma:2.35721e-13 Tp:0.0376145 res:0.00971688"
       ]
      },
      {
       "output_type": "stream",
       "stream": "stdout",
       "text": [
        "\n",
        "Idx:3,Rt:25412.1 Csigma:2.35721e-13 Tp:0.0465072 res:0.0111675"
       ]
      },
      {
       "output_type": "stream",
       "stream": "stdout",
       "text": [
        "\n",
        "Idx:4,Rt:25412.1 Csigma:2.35721e-13 Tp:0.0547352 res:0.0131213"
       ]
      },
      {
       "output_type": "stream",
       "stream": "stdout",
       "text": [
        "\n",
        "Idx:0,Rt:25412.1 Csigma:2.35721e-13 Tp:0.0204645 res:0.00346275"
       ]
      },
      {
       "output_type": "stream",
       "stream": "stdout",
       "text": [
        "\n",
        "Idx:1,Rt:25412.1 Csigma:2.35721e-13 Tp:0.028671 res:0.00640455"
       ]
      },
      {
       "output_type": "stream",
       "stream": "stdout",
       "text": [
        "\n",
        "Idx:2,Rt:25412.1 Csigma:2.35721e-13 Tp:0.0376145 res:0.00971688"
       ]
      },
      {
       "output_type": "stream",
       "stream": "stdout",
       "text": [
        "\n",
        "Idx:3,Rt:25412.1 Csigma:2.35721e-13 Tp:0.0465072 res:0.0111675"
       ]
      },
      {
       "output_type": "stream",
       "stream": "stdout",
       "text": [
        "\n",
        "Idx:4,Rt:25412.1 Csigma:2.35721e-13 Tp:0.0547352 res:0.0131213"
       ]
      },
      {
       "output_type": "stream",
       "stream": "stdout",
       "text": [
        "\n",
        "Idx:0,Rt:25412.1 Csigma:2.3572e-13 Tp:0.0204595 res:0.00346117"
       ]
      },
      {
       "output_type": "stream",
       "stream": "stdout",
       "text": [
        "\n",
        "Idx:1,Rt:25412.1 Csigma:2.3572e-13 Tp:0.0286712 res:0.00640296"
       ]
      },
      {
       "output_type": "stream",
       "stream": "stdout",
       "text": [
        "\n",
        "Idx:2,Rt:25412.1 Csigma:2.3572e-13 Tp:0.0376144 res:0.00971528"
       ]
      },
      {
       "output_type": "stream",
       "stream": "stdout",
       "text": [
        "\n",
        "Idx:3,Rt:25412.1 Csigma:2.3572e-13 Tp:0.0465073 res:0.011166"
       ]
      },
      {
       "output_type": "stream",
       "stream": "stdout",
       "text": [
        "\n",
        "Idx:4,Rt:25412.1 Csigma:2.3572e-13 Tp:0.0547354 res:0.0131197"
       ]
      },
      {
       "output_type": "stream",
       "stream": "stdout",
       "text": [
        "\n",
        "Idx:0,Rt:25412.1 Csigma:2.3572e-13 Tp:0.0204595 res:0.00346117"
       ]
      },
      {
       "output_type": "stream",
       "stream": "stdout",
       "text": [
        "\n",
        "Idx:1,Rt:25412.1 Csigma:2.3572e-13 Tp:0.0286712 res:0.00640296"
       ]
      },
      {
       "output_type": "stream",
       "stream": "stdout",
       "text": [
        "\n",
        "Idx:2,Rt:25412.1 Csigma:2.3572e-13 Tp:0.0376144 res:0.00971528"
       ]
      },
      {
       "output_type": "stream",
       "stream": "stdout",
       "text": [
        "\n",
        "Idx:3,Rt:25412.1 Csigma:2.3572e-13 Tp:0.0465073 res:0.011166"
       ]
      },
      {
       "output_type": "stream",
       "stream": "stdout",
       "text": [
        "\n",
        "Idx:4,Rt:25412.1 Csigma:2.3572e-13 Tp:0.0547354 res:0.0131197"
       ]
      },
      {
       "output_type": "stream",
       "stream": "stdout",
       "text": [
        "\n",
        "Idx:0,Rt:25412.1 Csigma:2.3572e-13 Tp:0.0204595 res:0.00346117"
       ]
      },
      {
       "output_type": "stream",
       "stream": "stdout",
       "text": [
        "\n",
        "Idx:1,Rt:25412.1 Csigma:2.3572e-13 Tp:0.0286712 res:0.00640296"
       ]
      },
      {
       "output_type": "stream",
       "stream": "stdout",
       "text": [
        "\n",
        "Idx:2,Rt:25412.1 Csigma:2.3572e-13 Tp:0.0376144 res:0.00971528"
       ]
      },
      {
       "output_type": "stream",
       "stream": "stdout",
       "text": [
        "\n",
        "Idx:3,Rt:25412.1 Csigma:2.3572e-13 Tp:0.0465073 res:0.011166"
       ]
      },
      {
       "output_type": "stream",
       "stream": "stdout",
       "text": [
        "\n",
        "Idx:4,Rt:25412.1 Csigma:2.3572e-13 Tp:0.0547354 res:0.0131197"
       ]
      },
      {
       "output_type": "stream",
       "stream": "stdout",
       "text": [
        "\n",
        "Idx:0,Rt:25412.1 Csigma:2.3572e-13 Tp:0.0204595 res:0.00346117"
       ]
      },
      {
       "output_type": "stream",
       "stream": "stdout",
       "text": [
        "\n",
        "Idx:1,Rt:25412.1 Csigma:2.3572e-13 Tp:0.0286712 res:0.00640296"
       ]
      },
      {
       "output_type": "stream",
       "stream": "stdout",
       "text": [
        "\n",
        "Idx:2,Rt:25412.1 Csigma:2.3572e-13 Tp:0.0376144 res:0.00971528"
       ]
      },
      {
       "output_type": "stream",
       "stream": "stdout",
       "text": [
        "\n",
        "Idx:3,Rt:25412.1 Csigma:2.3572e-13 Tp:0.0465073 res:0.011166"
       ]
      },
      {
       "output_type": "stream",
       "stream": "stdout",
       "text": [
        "\n",
        "Idx:4,Rt:25412.1 Csigma:2.3572e-13 Tp:0.0547354 res:0.0131197"
       ]
      },
      {
       "output_type": "stream",
       "stream": "stdout",
       "text": [
        "\n",
        "Idx:0,Rt:25412.1 Csigma:2.3572e-13 Tp:0.0204595 res:0.00346117"
       ]
      },
      {
       "output_type": "stream",
       "stream": "stdout",
       "text": [
        "\n",
        "Idx:1,Rt:25412.1 Csigma:2.3572e-13 Tp:0.0286712 res:0.00640296"
       ]
      },
      {
       "output_type": "stream",
       "stream": "stdout",
       "text": [
        "\n",
        "Idx:2,Rt:25412.1 Csigma:2.3572e-13 Tp:0.0376144 res:0.00971528"
       ]
      },
      {
       "output_type": "stream",
       "stream": "stdout",
       "text": [
        "\n",
        "Idx:3,Rt:25412.1 Csigma:2.3572e-13 Tp:0.0465073 res:0.011166"
       ]
      },
      {
       "output_type": "stream",
       "stream": "stdout",
       "text": [
        "\n",
        "Idx:4,Rt:25412.1 Csigma:2.3572e-13 Tp:0.0547354 res:0.0131197"
       ]
      },
      {
       "output_type": "stream",
       "stream": "stdout",
       "text": [
        "\n",
        "Idx:0,Rt:25412.1 Csigma:2.3572e-13 Tp:0.0204595 res:0.00346117"
       ]
      },
      {
       "output_type": "stream",
       "stream": "stdout",
       "text": [
        "\n",
        "Idx:1,Rt:25412.1 Csigma:2.3572e-13 Tp:0.0286712 res:0.00640296"
       ]
      },
      {
       "output_type": "stream",
       "stream": "stdout",
       "text": [
        "\n",
        "Idx:2,Rt:25412.1 Csigma:2.3572e-13 Tp:0.0376144 res:0.00971528"
       ]
      },
      {
       "output_type": "stream",
       "stream": "stdout",
       "text": [
        "\n",
        "Idx:3,Rt:25412.1 Csigma:2.3572e-13 Tp:0.0465073 res:0.011166"
       ]
      },
      {
       "output_type": "stream",
       "stream": "stdout",
       "text": [
        "\n",
        "Idx:4,Rt:25412.1 Csigma:2.3572e-13 Tp:0.0547354 res:0.0131197"
       ]
      },
      {
       "output_type": "stream",
       "stream": "stdout",
       "text": [
        "\n",
        "Idx:0,Rt:25412.1 Csigma:2.3572e-13 Tp:0.0204595 res:0.00346117"
       ]
      },
      {
       "output_type": "stream",
       "stream": "stdout",
       "text": [
        "\n",
        "Idx:1,Rt:25412.1 Csigma:2.3572e-13 Tp:0.0286712 res:0.00640296"
       ]
      },
      {
       "output_type": "stream",
       "stream": "stdout",
       "text": [
        "\n",
        "Idx:2,Rt:25412.1 Csigma:2.3572e-13 Tp:0.0376144 res:0.00971528"
       ]
      },
      {
       "output_type": "stream",
       "stream": "stdout",
       "text": [
        "\n",
        "Idx:3,Rt:25412.1 Csigma:2.3572e-13 Tp:0.0465073 res:0.011166"
       ]
      },
      {
       "output_type": "stream",
       "stream": "stdout",
       "text": [
        "\n",
        "Idx:4,Rt:25412.1 Csigma:2.3572e-13 Tp:0.0547354 res:0.0131197"
       ]
      },
      {
       "output_type": "stream",
       "stream": "stdout",
       "text": [
        "\n",
        "Idx:0,Rt:25412.1 Csigma:2.3572e-13 Tp:0.0204595 res:0.00346117"
       ]
      },
      {
       "output_type": "stream",
       "stream": "stdout",
       "text": [
        "\n",
        "Idx:1,Rt:25412.1 Csigma:2.3572e-13 Tp:0.0286712 res:0.00640296"
       ]
      },
      {
       "output_type": "stream",
       "stream": "stdout",
       "text": [
        "\n",
        "Idx:2,Rt:25412.1 Csigma:2.3572e-13 Tp:0.0376144 res:0.00971528"
       ]
      },
      {
       "output_type": "stream",
       "stream": "stdout",
       "text": [
        "\n",
        "Idx:3,Rt:25412.1 Csigma:2.3572e-13 Tp:0.0465073 res:0.011166"
       ]
      },
      {
       "output_type": "stream",
       "stream": "stdout",
       "text": [
        "\n",
        "Idx:4,Rt:25412.1 Csigma:2.3572e-13 Tp:0.0547354 res:0.0131197"
       ]
      },
      {
       "output_type": "stream",
       "stream": "stdout",
       "text": [
        "\n",
        "Idx:0,Rt:25412.1 Csigma:2.3572e-13 Tp:0.0204595 res:0.00346117"
       ]
      },
      {
       "output_type": "stream",
       "stream": "stdout",
       "text": [
        "\n",
        "Idx:1,Rt:25412.1 Csigma:2.3572e-13 Tp:0.0286712 res:0.00640296"
       ]
      },
      {
       "output_type": "stream",
       "stream": "stdout",
       "text": [
        "\n",
        "Idx:2,Rt:25412.1 Csigma:2.3572e-13 Tp:0.0376144 res:0.00971528"
       ]
      },
      {
       "output_type": "stream",
       "stream": "stdout",
       "text": [
        "\n",
        "Idx:3,Rt:25412.1 Csigma:2.3572e-13 Tp:0.0465073 res:0.011166"
       ]
      },
      {
       "output_type": "stream",
       "stream": "stdout",
       "text": [
        "\n",
        "Idx:4,Rt:25412.1 Csigma:2.3572e-13 Tp:0.0547354 res:0.0131197"
       ]
      },
      {
       "output_type": "stream",
       "stream": "stdout",
       "text": [
        "\n",
        "Idx:0,Rt:25412.1 Csigma:2.35718e-13 Tp:0.0204494 res:0.00345809"
       ]
      },
      {
       "output_type": "stream",
       "stream": "stdout",
       "text": [
        "\n",
        "Idx:1,Rt:25412.1 Csigma:2.35718e-13 Tp:0.0286717 res:0.00639988"
       ]
      },
      {
       "output_type": "stream",
       "stream": "stdout",
       "text": [
        "\n",
        "Idx:2,Rt:25412.1 Csigma:2.35718e-13 Tp:0.0376141 res:0.00971219"
       ]
      },
      {
       "output_type": "stream",
       "stream": "stdout",
       "text": [
        "\n",
        "Idx:3,Rt:25412.1 Csigma:2.35718e-13 Tp:0.0465073 res:0.0111629"
       ]
      },
      {
       "output_type": "stream",
       "stream": "stdout",
       "text": [
        "\n",
        "Idx:4,Rt:25412.1 Csigma:2.35718e-13 Tp:0.0547359 res:0.0131166"
       ]
      },
      {
       "output_type": "stream",
       "stream": "stdout",
       "text": [
        "\n",
        "Idx:0,Rt:25412.1 Csigma:2.35718e-13 Tp:0.0204494 res:0.00345809"
       ]
      },
      {
       "output_type": "stream",
       "stream": "stdout",
       "text": [
        "\n",
        "Idx:1,Rt:25412.1 Csigma:2.35718e-13 Tp:0.0286717 res:0.00639988"
       ]
      },
      {
       "output_type": "stream",
       "stream": "stdout",
       "text": [
        "\n",
        "Idx:2,Rt:25412.1 Csigma:2.35718e-13 Tp:0.0376141 res:0.00971219"
       ]
      },
      {
       "output_type": "stream",
       "stream": "stdout",
       "text": [
        "\n",
        "Idx:3,Rt:25412.1 Csigma:2.35718e-13 Tp:0.0465073 res:0.0111629"
       ]
      },
      {
       "output_type": "stream",
       "stream": "stdout",
       "text": [
        "\n",
        "Idx:4,Rt:25412.1 Csigma:2.35718e-13 Tp:0.0547359 res:0.0131166"
       ]
      },
      {
       "output_type": "stream",
       "stream": "stdout",
       "text": [
        "\n",
        "Idx:0,Rt:25412.1 Csigma:2.35718e-13 Tp:0.0204494 res:0.00345809"
       ]
      },
      {
       "output_type": "stream",
       "stream": "stdout",
       "text": [
        "\n",
        "Idx:1,Rt:25412.1 Csigma:2.35718e-13 Tp:0.0286717 res:0.00639988"
       ]
      },
      {
       "output_type": "stream",
       "stream": "stdout",
       "text": [
        "\n",
        "Idx:2,Rt:25412.1 Csigma:2.35718e-13 Tp:0.0376141 res:0.00971219"
       ]
      },
      {
       "output_type": "stream",
       "stream": "stdout",
       "text": [
        "\n",
        "Idx:3,Rt:25412.1 Csigma:2.35718e-13 Tp:0.0465073 res:0.0111629"
       ]
      },
      {
       "output_type": "stream",
       "stream": "stdout",
       "text": [
        "\n",
        "Idx:4,Rt:25412.1 Csigma:2.35718e-13 Tp:0.0547359 res:0.0131166"
       ]
      },
      {
       "output_type": "stream",
       "stream": "stdout",
       "text": [
        "\n",
        "Idx:0,Rt:25412.1 Csigma:2.35718e-13 Tp:0.0204494 res:0.00345809"
       ]
      },
      {
       "output_type": "stream",
       "stream": "stdout",
       "text": [
        "\n",
        "Idx:1,Rt:25412.1 Csigma:2.35718e-13 Tp:0.0286717 res:0.00639988"
       ]
      },
      {
       "output_type": "stream",
       "stream": "stdout",
       "text": [
        "\n",
        "Idx:2,Rt:25412.1 Csigma:2.35718e-13 Tp:0.0376141 res:0.00971219"
       ]
      },
      {
       "output_type": "stream",
       "stream": "stdout",
       "text": [
        "\n",
        "Idx:3,Rt:25412.1 Csigma:2.35718e-13 Tp:0.0465073 res:0.0111629"
       ]
      },
      {
       "output_type": "stream",
       "stream": "stdout",
       "text": [
        "\n",
        "Idx:4,Rt:25412.1 Csigma:2.35718e-13 Tp:0.0547359 res:0.0131166"
       ]
      },
      {
       "output_type": "stream",
       "stream": "stdout",
       "text": [
        "\n",
        "Idx:0,Rt:25412.1 Csigma:2.35718e-13 Tp:0.0204494 res:0.00345809"
       ]
      },
      {
       "output_type": "stream",
       "stream": "stdout",
       "text": [
        "\n",
        "Idx:1,Rt:25412.1 Csigma:2.35718e-13 Tp:0.0286717 res:0.00639988"
       ]
      },
      {
       "output_type": "stream",
       "stream": "stdout",
       "text": [
        "\n",
        "Idx:2,Rt:25412.1 Csigma:2.35718e-13 Tp:0.0376141 res:0.00971219"
       ]
      },
      {
       "output_type": "stream",
       "stream": "stdout",
       "text": [
        "\n",
        "Idx:3,Rt:25412.1 Csigma:2.35718e-13 Tp:0.0465073 res:0.0111629"
       ]
      },
      {
       "output_type": "stream",
       "stream": "stdout",
       "text": [
        "\n",
        "Idx:4,Rt:25412.1 Csigma:2.35718e-13 Tp:0.0547359 res:0.0131166"
       ]
      },
      {
       "output_type": "stream",
       "stream": "stdout",
       "text": [
        "\n",
        "Idx:0,Rt:25412.1 Csigma:2.35718e-13 Tp:0.0204494 res:0.00345809"
       ]
      },
      {
       "output_type": "stream",
       "stream": "stdout",
       "text": [
        "\n",
        "Idx:1,Rt:25412.1 Csigma:2.35718e-13 Tp:0.0286717 res:0.00639988"
       ]
      },
      {
       "output_type": "stream",
       "stream": "stdout",
       "text": [
        "\n",
        "Idx:2,Rt:25412.1 Csigma:2.35718e-13 Tp:0.0376141 res:0.00971219"
       ]
      },
      {
       "output_type": "stream",
       "stream": "stdout",
       "text": [
        "\n",
        "Idx:3,Rt:25412.1 Csigma:2.35718e-13 Tp:0.0465073 res:0.0111629"
       ]
      },
      {
       "output_type": "stream",
       "stream": "stdout",
       "text": [
        "\n",
        "Idx:4,Rt:25412.1 Csigma:2.35718e-13 Tp:0.0547359 res:0.0131166"
       ]
      },
      {
       "output_type": "stream",
       "stream": "stdout",
       "text": [
        "\n",
        "Idx:0,Rt:25412.1 Csigma:2.35718e-13 Tp:0.0204494 res:0.00345809"
       ]
      },
      {
       "output_type": "stream",
       "stream": "stdout",
       "text": [
        "\n",
        "Idx:1,Rt:25412.1 Csigma:2.35718e-13 Tp:0.0286717 res:0.00639988"
       ]
      },
      {
       "output_type": "stream",
       "stream": "stdout",
       "text": [
        "\n",
        "Idx:2,Rt:25412.1 Csigma:2.35718e-13 Tp:0.0376141 res:0.00971219"
       ]
      },
      {
       "output_type": "stream",
       "stream": "stdout",
       "text": [
        "\n",
        "Idx:3,Rt:25412.1 Csigma:2.35718e-13 Tp:0.0465073 res:0.0111629"
       ]
      },
      {
       "output_type": "stream",
       "stream": "stdout",
       "text": [
        "\n",
        "Idx:4,Rt:25412.1 Csigma:2.35718e-13 Tp:0.0547359 res:0.0131166"
       ]
      },
      {
       "output_type": "stream",
       "stream": "stdout",
       "text": [
        "\n",
        "Idx:0,Rt:25412.1 Csigma:2.35718e-13 Tp:0.0204494 res:0.00345809"
       ]
      },
      {
       "output_type": "stream",
       "stream": "stdout",
       "text": [
        "\n",
        "Idx:1,Rt:25412.1 Csigma:2.35718e-13 Tp:0.0286717 res:0.00639988"
       ]
      },
      {
       "output_type": "stream",
       "stream": "stdout",
       "text": [
        "\n",
        "Idx:2,Rt:25412.1 Csigma:2.35718e-13 Tp:0.0376141 res:0.00971219"
       ]
      },
      {
       "output_type": "stream",
       "stream": "stdout",
       "text": [
        "\n",
        "Idx:3,Rt:25412.1 Csigma:2.35718e-13 Tp:0.0465073 res:0.0111629"
       ]
      },
      {
       "output_type": "stream",
       "stream": "stdout",
       "text": [
        "\n",
        "Idx:4,Rt:25412.1 Csigma:2.35718e-13 Tp:0.0547359 res:0.0131166"
       ]
      },
      {
       "output_type": "stream",
       "stream": "stdout",
       "text": [
        "\n",
        "Idx:0,Rt:25412.1 Csigma:2.35718e-13 Tp:0.0204494 res:0.00345809"
       ]
      },
      {
       "output_type": "stream",
       "stream": "stdout",
       "text": [
        "\n",
        "Idx:1,Rt:25412.1 Csigma:2.35718e-13 Tp:0.0286717 res:0.00639988"
       ]
      },
      {
       "output_type": "stream",
       "stream": "stdout",
       "text": [
        "\n",
        "Idx:2,Rt:25412.1 Csigma:2.35718e-13 Tp:0.0376141 res:0.00971219"
       ]
      },
      {
       "output_type": "stream",
       "stream": "stdout",
       "text": [
        "\n",
        "Idx:3,Rt:25412.1 Csigma:2.35718e-13 Tp:0.0465073 res:0.0111629"
       ]
      },
      {
       "output_type": "stream",
       "stream": "stdout",
       "text": [
        "\n",
        "Idx:4,Rt:25412.1 Csigma:2.35718e-13 Tp:0.0547359 res:0.0131166"
       ]
      },
      {
       "output_type": "stream",
       "stream": "stdout",
       "text": [
        "\n",
        "Idx:0,Rt:25412.1 Csigma:2.35715e-13 Tp:0.0204292 res:0.0034523"
       ]
      },
      {
       "output_type": "stream",
       "stream": "stdout",
       "text": [
        "\n",
        "Idx:1,Rt:25412.1 Csigma:2.35715e-13 Tp:0.0286728 res:0.00639407"
       ]
      },
      {
       "output_type": "stream",
       "stream": "stdout",
       "text": [
        "\n",
        "Idx:2,Rt:25412.1 Csigma:2.35715e-13 Tp:0.0376136 res:0.00970636"
       ]
      },
      {
       "output_type": "stream",
       "stream": "stdout",
       "text": [
        "\n",
        "Idx:3,Rt:25412.1 Csigma:2.35715e-13 Tp:0.0465073 res:0.011157"
       ]
      },
      {
       "output_type": "stream",
       "stream": "stdout",
       "text": [
        "\n",
        "Idx:4,Rt:25412.1 Csigma:2.35715e-13 Tp:0.0547368 res:0.0131108"
       ]
      },
      {
       "output_type": "stream",
       "stream": "stdout",
       "text": [
        "\n",
        "Idx:0,Rt:25412.1 Csigma:2.35715e-13 Tp:0.0204292 res:0.0034523"
       ]
      },
      {
       "output_type": "stream",
       "stream": "stdout",
       "text": [
        "\n",
        "Idx:1,Rt:25412.1 Csigma:2.35715e-13 Tp:0.0286728 res:0.00639407"
       ]
      },
      {
       "output_type": "stream",
       "stream": "stdout",
       "text": [
        "\n",
        "Idx:2,Rt:25412.1 Csigma:2.35715e-13 Tp:0.0376136 res:0.00970636"
       ]
      },
      {
       "output_type": "stream",
       "stream": "stdout",
       "text": [
        "\n",
        "Idx:3,Rt:25412.1 Csigma:2.35715e-13 Tp:0.0465073 res:0.011157"
       ]
      },
      {
       "output_type": "stream",
       "stream": "stdout",
       "text": [
        "\n",
        "Idx:4,Rt:25412.1 Csigma:2.35715e-13 Tp:0.0547368 res:0.0131108"
       ]
      },
      {
       "output_type": "stream",
       "stream": "stdout",
       "text": [
        "\n",
        "Idx:0,Rt:25412.1 Csigma:2.35715e-13 Tp:0.0204292 res:0.0034523"
       ]
      },
      {
       "output_type": "stream",
       "stream": "stdout",
       "text": [
        "\n",
        "Idx:1,Rt:25412.1 Csigma:2.35715e-13 Tp:0.0286728 res:0.00639407"
       ]
      },
      {
       "output_type": "stream",
       "stream": "stdout",
       "text": [
        "\n",
        "Idx:2,Rt:25412.1 Csigma:2.35715e-13 Tp:0.0376136 res:0.00970636"
       ]
      },
      {
       "output_type": "stream",
       "stream": "stdout",
       "text": [
        "\n",
        "Idx:3,Rt:25412.1 Csigma:2.35715e-13 Tp:0.0465073 res:0.011157"
       ]
      },
      {
       "output_type": "stream",
       "stream": "stdout",
       "text": [
        "\n",
        "Idx:4,Rt:25412.1 Csigma:2.35715e-13 Tp:0.0547368 res:0.0131108"
       ]
      },
      {
       "output_type": "stream",
       "stream": "stdout",
       "text": [
        "\n",
        "Idx:0,Rt:25412.1 Csigma:2.35715e-13 Tp:0.0204292 res:0.0034523"
       ]
      },
      {
       "output_type": "stream",
       "stream": "stdout",
       "text": [
        "\n",
        "Idx:1,Rt:25412.1 Csigma:2.35715e-13 Tp:0.0286728 res:0.00639407"
       ]
      },
      {
       "output_type": "stream",
       "stream": "stdout",
       "text": [
        "\n",
        "Idx:2,Rt:25412.1 Csigma:2.35715e-13 Tp:0.0376136 res:0.00970636"
       ]
      },
      {
       "output_type": "stream",
       "stream": "stdout",
       "text": [
        "\n",
        "Idx:3,Rt:25412.1 Csigma:2.35715e-13 Tp:0.0465073 res:0.011157"
       ]
      },
      {
       "output_type": "stream",
       "stream": "stdout",
       "text": [
        "\n",
        "Idx:4,Rt:25412.1 Csigma:2.35715e-13 Tp:0.0547368 res:0.0131108"
       ]
      },
      {
       "output_type": "stream",
       "stream": "stdout",
       "text": [
        "\n",
        "Idx:0,Rt:25412.1 Csigma:2.35715e-13 Tp:0.0204292 res:0.0034523"
       ]
      },
      {
       "output_type": "stream",
       "stream": "stdout",
       "text": [
        "\n",
        "Idx:1,Rt:25412.1 Csigma:2.35715e-13 Tp:0.0286728 res:0.00639407"
       ]
      },
      {
       "output_type": "stream",
       "stream": "stdout",
       "text": [
        "\n",
        "Idx:2,Rt:25412.1 Csigma:2.35715e-13 Tp:0.0376136 res:0.00970636"
       ]
      },
      {
       "output_type": "stream",
       "stream": "stdout",
       "text": [
        "\n",
        "Idx:3,Rt:25412.1 Csigma:2.35715e-13 Tp:0.0465073 res:0.011157"
       ]
      },
      {
       "output_type": "stream",
       "stream": "stdout",
       "text": [
        "\n",
        "Idx:4,Rt:25412.1 Csigma:2.35715e-13 Tp:0.0547368 res:0.0131108"
       ]
      },
      {
       "output_type": "stream",
       "stream": "stdout",
       "text": [
        "\n",
        "Idx:0,Rt:25412.1 Csigma:2.35715e-13 Tp:0.0204292 res:0.0034523"
       ]
      },
      {
       "output_type": "stream",
       "stream": "stdout",
       "text": [
        "\n",
        "Idx:1,Rt:25412.1 Csigma:2.35715e-13 Tp:0.0286728 res:0.00639407"
       ]
      },
      {
       "output_type": "stream",
       "stream": "stdout",
       "text": [
        "\n",
        "Idx:2,Rt:25412.1 Csigma:2.35715e-13 Tp:0.0376136 res:0.00970636"
       ]
      },
      {
       "output_type": "stream",
       "stream": "stdout",
       "text": [
        "\n",
        "Idx:3,Rt:25412.1 Csigma:2.35715e-13 Tp:0.0465073 res:0.011157"
       ]
      },
      {
       "output_type": "stream",
       "stream": "stdout",
       "text": [
        "\n",
        "Idx:4,Rt:25412.1 Csigma:2.35715e-13 Tp:0.0547368 res:0.0131108"
       ]
      },
      {
       "output_type": "stream",
       "stream": "stdout",
       "text": [
        "\n",
        "Idx:0,Rt:25412.1 Csigma:2.35715e-13 Tp:0.0204292 res:0.0034523"
       ]
      },
      {
       "output_type": "stream",
       "stream": "stdout",
       "text": [
        "\n",
        "Idx:1,Rt:25412.1 Csigma:2.35715e-13 Tp:0.0286728 res:0.00639407"
       ]
      },
      {
       "output_type": "stream",
       "stream": "stdout",
       "text": [
        "\n",
        "Idx:2,Rt:25412.1 Csigma:2.35715e-13 Tp:0.0376136 res:0.00970636"
       ]
      },
      {
       "output_type": "stream",
       "stream": "stdout",
       "text": [
        "\n",
        "Idx:3,Rt:25412.1 Csigma:2.35715e-13 Tp:0.0465073 res:0.011157"
       ]
      },
      {
       "output_type": "stream",
       "stream": "stdout",
       "text": [
        "\n",
        "Idx:4,Rt:25412.1 Csigma:2.35715e-13 Tp:0.0547368 res:0.0131108"
       ]
      },
      {
       "output_type": "stream",
       "stream": "stdout",
       "text": [
        "\n",
        "Idx:0,Rt:25412.1 Csigma:2.35715e-13 Tp:0.0204292 res:0.0034523"
       ]
      },
      {
       "output_type": "stream",
       "stream": "stdout",
       "text": [
        "\n",
        "Idx:1,Rt:25412.1 Csigma:2.35715e-13 Tp:0.0286728 res:0.00639407"
       ]
      },
      {
       "output_type": "stream",
       "stream": "stdout",
       "text": [
        "\n",
        "Idx:2,Rt:25412.1 Csigma:2.35715e-13 Tp:0.0376136 res:0.00970636"
       ]
      },
      {
       "output_type": "stream",
       "stream": "stdout",
       "text": [
        "\n",
        "Idx:3,Rt:25412.1 Csigma:2.35715e-13 Tp:0.0465073 res:0.011157"
       ]
      },
      {
       "output_type": "stream",
       "stream": "stdout",
       "text": [
        "\n",
        "Idx:4,Rt:25412.1 Csigma:2.35715e-13 Tp:0.0547368 res:0.0131108"
       ]
      },
      {
       "output_type": "stream",
       "stream": "stdout",
       "text": [
        "\n",
        "Idx:0,Rt:25412.1 Csigma:2.35715e-13 Tp:0.0204292 res:0.0034523"
       ]
      },
      {
       "output_type": "stream",
       "stream": "stdout",
       "text": [
        "\n",
        "Idx:1,Rt:25412.1 Csigma:2.35715e-13 Tp:0.0286728 res:0.00639407"
       ]
      },
      {
       "output_type": "stream",
       "stream": "stdout",
       "text": [
        "\n",
        "Idx:2,Rt:25412.1 Csigma:2.35715e-13 Tp:0.0376136 res:0.00970636"
       ]
      },
      {
       "output_type": "stream",
       "stream": "stdout",
       "text": [
        "\n",
        "Idx:3,Rt:25412.1 Csigma:2.35715e-13 Tp:0.0465073 res:0.011157"
       ]
      },
      {
       "output_type": "stream",
       "stream": "stdout",
       "text": [
        "\n",
        "Idx:4,Rt:25412.1 Csigma:2.35715e-13 Tp:0.0547368 res:0.0131108"
       ]
      },
      {
       "output_type": "stream",
       "stream": "stdout",
       "text": [
        "\n",
        "Idx:0,Rt:25412.1 Csigma:2.35701e-13 Tp:0.020341 res:0.00343271"
       ]
      },
      {
       "output_type": "stream",
       "stream": "stdout",
       "text": [
        "\n",
        "Idx:1,Rt:25412.1 Csigma:2.35701e-13 Tp:0.0286773 res:0.00637443"
       ]
      },
      {
       "output_type": "stream",
       "stream": "stdout",
       "text": [
        "\n",
        "Idx:2,Rt:25412.1 Csigma:2.35701e-13 Tp:0.0376112 res:0.00968664"
       ]
      },
      {
       "output_type": "stream",
       "stream": "stdout",
       "text": [
        "\n",
        "Idx:3,Rt:25412.1 Csigma:2.35701e-13 Tp:0.0465076 res:0.0111373"
       ]
      },
      {
       "output_type": "stream",
       "stream": "stdout",
       "text": [
        "\n",
        "Idx:4,Rt:25412.1 Csigma:2.35701e-13 Tp:0.054741 res:0.0130911"
       ]
      },
      {
       "output_type": "stream",
       "stream": "stdout",
       "text": [
        "\n",
        "Idx:0,Rt:25412.1 Csigma:2.35701e-13 Tp:0.020341 res:0.00343271"
       ]
      },
      {
       "output_type": "stream",
       "stream": "stdout",
       "text": [
        "\n",
        "Idx:1,Rt:25412.1 Csigma:2.35701e-13 Tp:0.0286773 res:0.00637443"
       ]
      },
      {
       "output_type": "stream",
       "stream": "stdout",
       "text": [
        "\n",
        "Idx:2,Rt:25412.1 Csigma:2.35701e-13 Tp:0.0376112 res:0.00968664"
       ]
      },
      {
       "output_type": "stream",
       "stream": "stdout",
       "text": [
        "\n",
        "Idx:3,Rt:25412.1 Csigma:2.35701e-13 Tp:0.0465076 res:0.0111373"
       ]
      },
      {
       "output_type": "stream",
       "stream": "stdout",
       "text": [
        "\n",
        "Idx:4,Rt:25412.1 Csigma:2.35701e-13 Tp:0.054741 res:0.0130911"
       ]
      },
      {
       "output_type": "stream",
       "stream": "stdout",
       "text": [
        "\n",
        "Idx:0,Rt:25412.1 Csigma:2.35701e-13 Tp:0.020341 res:0.00343271"
       ]
      },
      {
       "output_type": "stream",
       "stream": "stdout",
       "text": [
        "\n",
        "Idx:1,Rt:25412.1 Csigma:2.35701e-13 Tp:0.0286773 res:0.00637443"
       ]
      },
      {
       "output_type": "stream",
       "stream": "stdout",
       "text": [
        "\n",
        "Idx:2,Rt:25412.1 Csigma:2.35701e-13 Tp:0.0376112 res:0.00968664"
       ]
      },
      {
       "output_type": "stream",
       "stream": "stdout",
       "text": [
        "\n",
        "Idx:3,Rt:25412.1 Csigma:2.35701e-13 Tp:0.0465076 res:0.0111373"
       ]
      },
      {
       "output_type": "stream",
       "stream": "stdout",
       "text": [
        "\n",
        "Idx:4,Rt:25412.1 Csigma:2.35701e-13 Tp:0.054741 res:0.0130911"
       ]
      },
      {
       "output_type": "stream",
       "stream": "stdout",
       "text": [
        "\n",
        "Idx:0,Rt:25412.1 Csigma:2.35701e-13 Tp:0.020341 res:0.00343271"
       ]
      },
      {
       "output_type": "stream",
       "stream": "stdout",
       "text": [
        "\n",
        "Idx:1,Rt:25412.1 Csigma:2.35701e-13 Tp:0.0286773 res:0.00637443"
       ]
      },
      {
       "output_type": "stream",
       "stream": "stdout",
       "text": [
        "\n",
        "Idx:2,Rt:25412.1 Csigma:2.35701e-13 Tp:0.0376112 res:0.00968664"
       ]
      },
      {
       "output_type": "stream",
       "stream": "stdout",
       "text": [
        "\n",
        "Idx:3,Rt:25412.1 Csigma:2.35701e-13 Tp:0.0465076 res:0.0111373"
       ]
      },
      {
       "output_type": "stream",
       "stream": "stdout",
       "text": [
        "\n",
        "Idx:4,Rt:25412.1 Csigma:2.35701e-13 Tp:0.054741 res:0.0130911"
       ]
      },
      {
       "output_type": "stream",
       "stream": "stdout",
       "text": [
        "\n",
        "Idx:0,Rt:25412.1 Csigma:2.35701e-13 Tp:0.020341 res:0.00343271"
       ]
      },
      {
       "output_type": "stream",
       "stream": "stdout",
       "text": [
        "\n",
        "Idx:1,Rt:25412.1 Csigma:2.35701e-13 Tp:0.0286773 res:0.00637443"
       ]
      },
      {
       "output_type": "stream",
       "stream": "stdout",
       "text": [
        "\n",
        "Idx:2,Rt:25412.1 Csigma:2.35701e-13 Tp:0.0376112 res:0.00968664"
       ]
      },
      {
       "output_type": "stream",
       "stream": "stdout",
       "text": [
        "\n",
        "Idx:3,Rt:25412.1 Csigma:2.35701e-13 Tp:0.0465076 res:0.0111373"
       ]
      },
      {
       "output_type": "stream",
       "stream": "stdout",
       "text": [
        "\n",
        "Idx:4,Rt:25412.1 Csigma:2.35701e-13 Tp:0.054741 res:0.0130911"
       ]
      },
      {
       "output_type": "stream",
       "stream": "stdout",
       "text": [
        "\n",
        "Idx:0,Rt:25412.1 Csigma:2.35701e-13 Tp:0.020341 res:0.00343271"
       ]
      },
      {
       "output_type": "stream",
       "stream": "stdout",
       "text": [
        "\n",
        "Idx:1,Rt:25412.1 Csigma:2.35701e-13 Tp:0.0286773 res:0.00637443"
       ]
      },
      {
       "output_type": "stream",
       "stream": "stdout",
       "text": [
        "\n",
        "Idx:2,Rt:25412.1 Csigma:2.35701e-13 Tp:0.0376112 res:0.00968664"
       ]
      },
      {
       "output_type": "stream",
       "stream": "stdout",
       "text": [
        "\n",
        "Idx:3,Rt:25412.1 Csigma:2.35701e-13 Tp:0.0465076 res:0.0111373"
       ]
      },
      {
       "output_type": "stream",
       "stream": "stdout",
       "text": [
        "\n",
        "Idx:4,Rt:25412.1 Csigma:2.35701e-13 Tp:0.054741 res:0.0130911"
       ]
      },
      {
       "output_type": "stream",
       "stream": "stdout",
       "text": [
        "\n",
        "Idx:0,Rt:25412.1 Csigma:2.35701e-13 Tp:0.020341 res:0.00343271"
       ]
      },
      {
       "output_type": "stream",
       "stream": "stdout",
       "text": [
        "\n",
        "Idx:1,Rt:25412.1 Csigma:2.35701e-13 Tp:0.0286773 res:0.00637443"
       ]
      },
      {
       "output_type": "stream",
       "stream": "stdout",
       "text": [
        "\n",
        "Idx:2,Rt:25412.1 Csigma:2.35701e-13 Tp:0.0376112 res:0.00968664"
       ]
      },
      {
       "output_type": "stream",
       "stream": "stdout",
       "text": [
        "\n",
        "Idx:3,Rt:25412.1 Csigma:2.35701e-13 Tp:0.0465076 res:0.0111373"
       ]
      },
      {
       "output_type": "stream",
       "stream": "stdout",
       "text": [
        "\n",
        "Idx:4,Rt:25412.1 Csigma:2.35701e-13 Tp:0.054741 res:0.0130911"
       ]
      },
      {
       "output_type": "stream",
       "stream": "stdout",
       "text": [
        "\n",
        "Idx:0,Rt:25412.1 Csigma:2.35701e-13 Tp:0.020341 res:0.00343271"
       ]
      },
      {
       "output_type": "stream",
       "stream": "stdout",
       "text": [
        "\n",
        "Idx:1,Rt:25412.1 Csigma:2.35701e-13 Tp:0.0286773 res:0.00637443"
       ]
      },
      {
       "output_type": "stream",
       "stream": "stdout",
       "text": [
        "\n",
        "Idx:2,Rt:25412.1 Csigma:2.35701e-13 Tp:0.0376112 res:0.00968664"
       ]
      },
      {
       "output_type": "stream",
       "stream": "stdout",
       "text": [
        "\n",
        "Idx:3,Rt:25412.1 Csigma:2.35701e-13 Tp:0.0465076 res:0.0111373"
       ]
      },
      {
       "output_type": "stream",
       "stream": "stdout",
       "text": [
        "\n",
        "Idx:4,Rt:25412.1 Csigma:2.35701e-13 Tp:0.054741 res:0.0130911"
       ]
      },
      {
       "output_type": "stream",
       "stream": "stdout",
       "text": [
        "\n",
        "Idx:0,Rt:25412.1 Csigma:2.35701e-13 Tp:0.020341 res:0.00343271"
       ]
      },
      {
       "output_type": "stream",
       "stream": "stdout",
       "text": [
        "\n",
        "Idx:1,Rt:25412.1 Csigma:2.35701e-13 Tp:0.0286773 res:0.00637443"
       ]
      },
      {
       "output_type": "stream",
       "stream": "stdout",
       "text": [
        "\n",
        "Idx:2,Rt:25412.1 Csigma:2.35701e-13 Tp:0.0376112 res:0.00968664"
       ]
      },
      {
       "output_type": "stream",
       "stream": "stdout",
       "text": [
        "\n",
        "Idx:3,Rt:25412.1 Csigma:2.35701e-13 Tp:0.0465076 res:0.0111373"
       ]
      },
      {
       "output_type": "stream",
       "stream": "stdout",
       "text": [
        "\n",
        "Idx:4,Rt:25412.1 Csigma:2.35701e-13 Tp:0.054741 res:0.0130911"
       ]
      },
      {
       "output_type": "stream",
       "stream": "stdout",
       "text": [
        "\n",
        "Idx:0,Rt:25412.1 Csigma:2.35678e-13 Tp:0.0202014 res:0.00342112"
       ]
      },
      {
       "output_type": "stream",
       "stream": "stdout",
       "text": [
        "\n",
        "Idx:1,Rt:25412.1 Csigma:2.35678e-13 Tp:0.0286844 res:0.00636277"
       ]
      },
      {
       "output_type": "stream",
       "stream": "stdout",
       "text": [
        "\n",
        "Idx:2,Rt:25412.1 Csigma:2.35678e-13 Tp:0.0376074 res:0.00967484"
       ]
      },
      {
       "output_type": "stream",
       "stream": "stdout",
       "text": [
        "\n",
        "Idx:3,Rt:25412.1 Csigma:2.35678e-13 Tp:0.046508 res:0.0111255"
       ]
      },
      {
       "output_type": "stream",
       "stream": "stdout",
       "text": [
        "\n",
        "Idx:4,Rt:25412.1 Csigma:2.35678e-13 Tp:0.0547475 res:0.0130794"
       ]
      },
      {
       "output_type": "stream",
       "stream": "stdout",
       "text": [
        "\n",
        "Idx:0,Rt:25412.1 Csigma:2.35678e-13 Tp:0.0202014 res:0.00342112"
       ]
      },
      {
       "output_type": "stream",
       "stream": "stdout",
       "text": [
        "\n",
        "Idx:1,Rt:25412.1 Csigma:2.35678e-13 Tp:0.0286844 res:0.00636277"
       ]
      },
      {
       "output_type": "stream",
       "stream": "stdout",
       "text": [
        "\n",
        "Idx:2,Rt:25412.1 Csigma:2.35678e-13 Tp:0.0376074 res:0.00967484"
       ]
      },
      {
       "output_type": "stream",
       "stream": "stdout",
       "text": [
        "\n",
        "Idx:3,Rt:25412.1 Csigma:2.35678e-13 Tp:0.046508 res:0.0111255"
       ]
      },
      {
       "output_type": "stream",
       "stream": "stdout",
       "text": [
        "\n",
        "Idx:4,Rt:25412.1 Csigma:2.35678e-13 Tp:0.0547475 res:0.0130794"
       ]
      },
      {
       "output_type": "stream",
       "stream": "stdout",
       "text": [
        "\n",
        "Idx:0,Rt:25412.1 Csigma:2.35678e-13 Tp:0.0202014 res:0.00342112"
       ]
      },
      {
       "output_type": "stream",
       "stream": "stdout",
       "text": [
        "\n",
        "Idx:1,Rt:25412.1 Csigma:2.35678e-13 Tp:0.0286844 res:0.00636277"
       ]
      },
      {
       "output_type": "stream",
       "stream": "stdout",
       "text": [
        "\n",
        "Idx:2,Rt:25412.1 Csigma:2.35678e-13 Tp:0.0376074 res:0.00967484"
       ]
      },
      {
       "output_type": "stream",
       "stream": "stdout",
       "text": [
        "\n",
        "Idx:3,Rt:25412.1 Csigma:2.35678e-13 Tp:0.046508 res:0.0111255"
       ]
      },
      {
       "output_type": "stream",
       "stream": "stdout",
       "text": [
        "\n",
        "Idx:4,Rt:25412.1 Csigma:2.35678e-13 Tp:0.0547475 res:0.0130794"
       ]
      },
      {
       "output_type": "stream",
       "stream": "stdout",
       "text": [
        "\n",
        "Idx:0,Rt:25412.1 Csigma:2.35678e-13 Tp:0.0202014 res:0.00342112"
       ]
      },
      {
       "output_type": "stream",
       "stream": "stdout",
       "text": [
        "\n",
        "Idx:1,Rt:25412.1 Csigma:2.35678e-13 Tp:0.0286844 res:0.00636277"
       ]
      },
      {
       "output_type": "stream",
       "stream": "stdout",
       "text": [
        "\n",
        "Idx:2,Rt:25412.1 Csigma:2.35678e-13 Tp:0.0376074 res:0.00967484"
       ]
      },
      {
       "output_type": "stream",
       "stream": "stdout",
       "text": [
        "\n",
        "Idx:3,Rt:25412.1 Csigma:2.35678e-13 Tp:0.046508 res:0.0111255"
       ]
      },
      {
       "output_type": "stream",
       "stream": "stdout",
       "text": [
        "\n",
        "Idx:4,Rt:25412.1 Csigma:2.35678e-13 Tp:0.0547475 res:0.0130794"
       ]
      },
      {
       "output_type": "stream",
       "stream": "stdout",
       "text": [
        "\n",
        "Idx:0,Rt:25412.1 Csigma:2.35678e-13 Tp:0.0202014 res:0.00342112"
       ]
      },
      {
       "output_type": "stream",
       "stream": "stdout",
       "text": [
        "\n",
        "Idx:1,Rt:25412.1 Csigma:2.35678e-13 Tp:0.0286844 res:0.00636277"
       ]
      },
      {
       "output_type": "stream",
       "stream": "stdout",
       "text": [
        "\n",
        "Idx:2,Rt:25412.1 Csigma:2.35678e-13 Tp:0.0376074 res:0.00967484"
       ]
      },
      {
       "output_type": "stream",
       "stream": "stdout",
       "text": [
        "\n",
        "Idx:3,Rt:25412.1 Csigma:2.35678e-13 Tp:0.046508 res:0.0111255"
       ]
      },
      {
       "output_type": "stream",
       "stream": "stdout",
       "text": [
        "\n",
        "Idx:4,Rt:25412.1 Csigma:2.35678e-13 Tp:0.0547475 res:0.0130794"
       ]
      },
      {
       "output_type": "stream",
       "stream": "stdout",
       "text": [
        "\n",
        "Idx:0,Rt:25412.1 Csigma:2.35678e-13 Tp:0.0202014 res:0.00342112"
       ]
      },
      {
       "output_type": "stream",
       "stream": "stdout",
       "text": [
        "\n",
        "Idx:1,Rt:25412.1 Csigma:2.35678e-13 Tp:0.0286844 res:0.00636277"
       ]
      },
      {
       "output_type": "stream",
       "stream": "stdout",
       "text": [
        "\n",
        "Idx:2,Rt:25412.1 Csigma:2.35678e-13 Tp:0.0376074 res:0.00967484"
       ]
      },
      {
       "output_type": "stream",
       "stream": "stdout",
       "text": [
        "\n",
        "Idx:3,Rt:25412.1 Csigma:2.35678e-13 Tp:0.046508 res:0.0111255"
       ]
      },
      {
       "output_type": "stream",
       "stream": "stdout",
       "text": [
        "\n",
        "Idx:4,Rt:25412.1 Csigma:2.35678e-13 Tp:0.0547475 res:0.0130794"
       ]
      },
      {
       "output_type": "stream",
       "stream": "stdout",
       "text": [
        "\n",
        "Idx:0,Rt:25412.1 Csigma:2.35678e-13 Tp:0.0202014 res:0.00342112"
       ]
      },
      {
       "output_type": "stream",
       "stream": "stdout",
       "text": [
        "\n",
        "Idx:1,Rt:25412.1 Csigma:2.35678e-13 Tp:0.0286844 res:0.00636277"
       ]
      },
      {
       "output_type": "stream",
       "stream": "stdout",
       "text": [
        "\n",
        "Idx:2,Rt:25412.1 Csigma:2.35678e-13 Tp:0.0376074 res:0.00967484"
       ]
      },
      {
       "output_type": "stream",
       "stream": "stdout",
       "text": [
        "\n",
        "Idx:3,Rt:25412.1 Csigma:2.35678e-13 Tp:0.046508 res:0.0111255"
       ]
      },
      {
       "output_type": "stream",
       "stream": "stdout",
       "text": [
        "\n",
        "Idx:4,Rt:25412.1 Csigma:2.35678e-13 Tp:0.0547475 res:0.0130794"
       ]
      },
      {
       "output_type": "stream",
       "stream": "stdout",
       "text": [
        "\n",
        "Idx:0,Rt:25412.1 Csigma:2.35678e-13 Tp:0.0202014 res:0.00342112"
       ]
      },
      {
       "output_type": "stream",
       "stream": "stdout",
       "text": [
        "\n",
        "Idx:1,Rt:25412.1 Csigma:2.35678e-13 Tp:0.0286844 res:0.00636277"
       ]
      },
      {
       "output_type": "stream",
       "stream": "stdout",
       "text": [
        "\n",
        "Idx:2,Rt:25412.1 Csigma:2.35678e-13 Tp:0.0376074 res:0.00967484"
       ]
      },
      {
       "output_type": "stream",
       "stream": "stdout",
       "text": [
        "\n",
        "Idx:3,Rt:25412.1 Csigma:2.35678e-13 Tp:0.046508 res:0.0111255"
       ]
      },
      {
       "output_type": "stream",
       "stream": "stdout",
       "text": [
        "\n",
        "Idx:4,Rt:25412.1 Csigma:2.35678e-13 Tp:0.0547475 res:0.0130794"
       ]
      },
      {
       "output_type": "stream",
       "stream": "stdout",
       "text": [
        "\n",
        "Idx:0,Rt:25412.1 Csigma:2.35678e-13 Tp:0.0202014 res:0.00342112"
       ]
      },
      {
       "output_type": "stream",
       "stream": "stdout",
       "text": [
        "\n",
        "Idx:1,Rt:25412.1 Csigma:2.35678e-13 Tp:0.0286844 res:0.00636277"
       ]
      },
      {
       "output_type": "stream",
       "stream": "stdout",
       "text": [
        "\n",
        "Idx:2,Rt:25412.1 Csigma:2.35678e-13 Tp:0.0376074 res:0.00967484"
       ]
      },
      {
       "output_type": "stream",
       "stream": "stdout",
       "text": [
        "\n",
        "Idx:3,Rt:25412.1 Csigma:2.35678e-13 Tp:0.046508 res:0.0111255"
       ]
      },
      {
       "output_type": "stream",
       "stream": "stdout",
       "text": [
        "\n",
        "Idx:4,Rt:25412.1 Csigma:2.35678e-13 Tp:0.0547475 res:0.0130794"
       ]
      },
      {
       "output_type": "stream",
       "stream": "stdout",
       "text": [
        "\n",
        "Optimization terminated successfully.\n",
        "         Current function value: 0.013079\n",
        "         Iterations: 4\n",
        "         Function evaluations: 153\n",
        "         Gradient evaluations: 17\n",
        "xopt:\n",
        "(array([  25.41205773,  235.67775399,   20.2014102 ,   28.68438493,\n",
        "         37.60738285,   46.50796783,   54.74750381]), 0.013079403687294038, array([  1.90665014e-06,   3.06954607e-05,  -8.62381421e-06,\n",
        "        -1.31465495e-05,   8.20728019e-06,  -1.35391019e-06,\n",
        "        -1.52465655e-05]), array([[  8.41844047e-02,   5.31084044e-03,   2.81746382e-02,\n",
        "         -1.50579641e-03,   8.32170845e-04,  -8.19216739e-05,\n",
        "         -1.39082774e-03],\n",
        "       [  5.31084044e-03,   2.30030540e+01,   1.34296567e+02,\n",
        "         -6.84647370e+00,   3.63752689e+00,  -3.68694875e-01,\n",
        "         -6.28410698e+00],\n",
        "       [  2.81746382e-02,   1.34296567e+02,   8.20683871e+02,\n",
        "         -4.17877559e+01,   2.22018262e+01,  -2.25036182e+00,\n",
        "         -3.83553654e+01],\n",
        "       [ -1.50579641e-03,  -6.84647370e+00,  -4.17877559e+01,\n",
        "          3.13034888e+00,  -1.13185314e+00,   1.14722805e-01,\n",
        "          1.95536237e+00],\n",
        "       [  8.32170845e-04,   3.63752689e+00,   2.22018262e+01,\n",
        "         -1.13185314e+00,   1.60135200e+00,  -6.09517956e-02,\n",
        "         -1.03888179e+00],\n",
        "       [ -8.19216739e-05,  -3.68694875e-01,  -2.25036182e+00,\n",
        "          1.14722805e-01,  -6.09517956e-02,   1.00617770e+00,\n",
        "          1.05298742e-01],\n",
        "       [ -1.39082774e-03,  -6.28410698e+00,  -3.83553654e+01,\n",
        "          1.95536237e+00,  -1.03888179e+00,   1.05298742e-01,\n",
        "          2.79474729e+00]]), 153, 17, 0)\n",
        "==== After multi optimization: ====\n",
        "R_T = 25.4121\n",
        "C_sigma = 235.678 \n",
        "T1 = 20.2014 mK\n",
        "T2 = 28.6844 mK\n",
        "T3 = 37.6074 mK\n",
        "T4 = 46.508 mK\n",
        "T5 = 54.7475 mK\n",
        "====================\n",
        "     Final results  \n",
        "file:../src/data/sample_T2.txt\n",
        "R_T(0):25.4059 R_T(multi):25.4121\n",
        "C_sigma(0):231.52 C_sigma(multi):235.678\n",
        "T(0):20.4696 T(multi):20.2014\n",
        "file:../src/data/sample_T3.txt\n",
        "R_T(0):25.4112 R_T(multi):25.4121\n",
        "C_sigma(0):236.32 C_sigma(multi):235.678\n",
        "T(0):28.6707 T(multi):28.6844\n",
        "file:../src/data/sample_T4.txt\n",
        "R_T(0):25.4122 R_T(multi):25.4121\n",
        "C_sigma(0):234.931 C_sigma(multi):235.678\n",
        "T(0):37.6146 T(multi):37.6074\n",
        "file:../src/data/sample_T5.txt\n",
        "R_T(0):25.4124 R_T(multi):25.4121\n",
        "C_sigma(0):235.838 C_sigma(multi):235.678\n",
        "T(0):46.5072 T(multi):46.508\n",
        "file:../src/data/sample_T6.txt\n",
        "R_T(0):25.4149 R_T(multi):25.4121\n",
        "C_sigma(0):240 C_sigma(multi):235.678\n",
        "T(0):54.735 T(multi):54.7475\n"
       ]
      }
     ],
     "prompt_number": 6
    },
    {
     "cell_type": "markdown",
     "metadata": {},
     "source": [
      "And plot the results."
     ]
    },
    {
     "cell_type": "code",
     "collapsed": false,
     "input": [
      "cc = CBT_plot_data_pyx(fitters)\n",
      "cc.plot_multi_data(filename=result_pdf_1)  #  multi-fitted curves\n",
      "cc.plot_data(filename=result_pdf_2)   #  single-fitted curves\n",
      "print \"it took\", time.time() - start, \"seconds.\"  #  total time"
     ],
     "language": "python",
     "metadata": {},
     "outputs": [
      {
       "output_type": "stream",
       "stream": "stdout",
       "text": [
        "it took 2402.40999985 seconds.\n"
       ]
      }
     ],
     "prompt_number": 7
    },
    {
     "cell_type": "code",
     "collapsed": false,
     "input": [],
     "language": "python",
     "metadata": {},
     "outputs": []
    }
   ],
   "metadata": {}
  }
 ]
}