{
 "metadata": {
  "name": "",
  "signature": "sha256:2b58bc99ab94e551b628ab5daf4b362e0fd98b1b17ff10c5ecaedcfafb4cb2a4"
 },
 "nbformat": 3,
 "nbformat_minor": 0,
 "worksheets": [
  {
   "cells": [
    {
     "cell_type": "heading",
     "level": 1,
     "metadata": {},
     "source": [
      "pyCBT Multi-Fit tutorial"
     ]
    },
    {
     "cell_type": "markdown",
     "metadata": {},
     "source": [
      "*30.05.2014 Angelo Di Marco/LPMMC - Grenoble (France)*\n",
      "\n",
      "\n",
      ">**Note: this document is written with [ipython notebook](http://ipython.org/notebook.html) . You can install ipython, download this document and run it with your own computer.**\n",
      "\n",
      "The *Multi-Fit* capability of the python library [pyCBT](https://github.com/AivonOy/pyCBT/src) allows one to calibrate the Coulomb Blockade Thermometer (CBT). In other words, it calculates the tunnel resistance $R_T$ of the single junction and the charging energy $E_C=e^2/2C_\\Sigma$ of the single island from the simultaneous numerical fit from a number of CBT conductance curves $G^\\textrm{meas}(V^\\textrm{meas})$ measured at different temperatures (for further discussions about the calibration method see the IPython notebook [On CBT measurement.ipynb](https://github.com/AivonOy/pyCBT/src)). By using the calibration, it generates a data file containing the calculated values of the zero-bias resistance as a function of temperature $R(T)$ for a range of temperatures that can be used in CBT measurement in secondary mode.\n",
      "\n",
      "\n",
      "The main python file used for the calibration is **multi_fit.py** that is found in /src folder as a single file. In the following, we explain how it works."
     ]
    },
    {
     "cell_type": "markdown",
     "metadata": {},
     "source": [
      "First of all, the folder containing the needed libraries is added to the path"
     ]
    },
    {
     "cell_type": "code",
     "collapsed": false,
     "input": [
      "import sys, time\n",
      "sys.path.append( '../src' ) # path indicating the folder where the libraries is\n",
      "# this makes figures to pop up in this notebook\n",
      "%pylab inline "
     ],
     "language": "python",
     "metadata": {},
     "outputs": [
      {
       "output_type": "stream",
       "stream": "stdout",
       "text": [
        "Populating the interactive namespace from numpy and matplotlib\n"
       ]
      }
     ],
     "prompt_number": 1
    },
    {
     "cell_type": "markdown",
     "metadata": {},
     "source": [
      "and we import the needed libraries"
     ]
    },
    {
     "cell_type": "code",
     "collapsed": false,
     "input": [
      "from CBT_lib import * # main lib # it contains the functions used to calculate numerically the current (Eq. (4) of the  \n",
      "                                 # paper [1]) and its first derivative, i.e., the conductance, through one symmetric double \n",
      "                                 # junction array (one island case)\n",
      "from CBT_fit_lib import * # lib for fitting the measured data\n",
      "from CBT_plot_data_pyx import * # lib for plotting with pyx\n",
      "from CBT_fit_multi_T import * # lib for fitting multiple curves simultaneously\n",
      "import time       #  it imports the current time which is used to calculate the time of the single fit and the total \n",
      "                  #  time of the calibration\n",
      "start = time.time()  #  and sets it as starting time"
     ],
     "language": "python",
     "metadata": {},
     "outputs": [],
     "prompt_number": 2
    },
    {
     "cell_type": "markdown",
     "metadata": {},
     "source": [
      "Then we load the $M$ files containing the real measured data, $G^\\textrm{meas}(V^\\textrm{meas})$, (all the data files have one voltage column $(V^\\textrm{meas})$ and one resistance column $(1/G^\\textrm{meas})$)"
     ]
    },
    {
     "cell_type": "code",
     "collapsed": false,
     "input": [
      "filenames = [                # REMARK: in order to use your own measured data modify the paths and the file names!!!\n",
      "\"../src/data/sample_T2.txt\",\n",
      "\"../src/data/sample_T3.txt\",\n",
      "\"../src/data/sample_T4.txt\",\n",
      "\"../src/data/sample_T5.txt\",\n",
      "\"../src/data/sample_T6.txt\",\n",
      "]"
     ],
     "language": "python",
     "metadata": {},
     "outputs": [],
     "prompt_number": 3
    },
    {
     "cell_type": "markdown",
     "metadata": {},
     "source": [
      "and we define the files where the final results will be stored"
     ]
    },
    {
     "cell_type": "code",
     "collapsed": false,
     "input": [
      "results_txt_file = \"mfit_results_41A4_t.txt\" # C_sigma and R_T of fit\n",
      "result_pdf_1=\"41A4_multifit1.pdf\" # conductance curves and fitting curves obtained with the multi-fit procedure\n",
      "result_pdf_2=\"41A4_multifit2.pdf\" # conductance curves and fitting curves obtained with the single-fit procedure\n",
      "interpolation_filename=\"41A4_interpolation_table.txt\""
     ],
     "language": "python",
     "metadata": {},
     "outputs": [],
     "prompt_number": 4
    },
    {
     "cell_type": "markdown",
     "metadata": {},
     "source": [
      "Nest step is to set the main parameters that we use in the calibration"
     ]
    },
    {
     "cell_type": "code",
     "collapsed": false,
     "input": [
      "N_junctions = 33.0        # number of junctions in each array\n",
      "parallel_arrays = 20.0  # number of arrays in parallel \n",
      "island_size_init = 400.0  # 1e-15 m^3 # island size used to evaluate its heating due to the electron-phonon coupling\n",
      "excitation = 30e-6/N_junctions  # AC voltage excitation of measurement"
     ],
     "language": "python",
     "metadata": {},
     "outputs": [],
     "prompt_number": 5
    },
    {
     "cell_type": "markdown",
     "metadata": {},
     "source": [
      "as well as the initial values of the variables used in the optimization"
     ]
    },
    {
     "cell_type": "code",
     "collapsed": false,
     "input": [
      "T_init = 10e-3 # K  # initial guess for the temperature\n",
      "R_tunnel_init = 28.0 # kOhm # initial guess for the tunnel resistance of the single junction\n",
      "TEC_init = 5e-3 # K # double charging energy of the single island\n",
      "# If bounds given, they are used to limit optimization\n",
      "#R,C,T\n",
      "bounds = [(1.0,100.0),(230.0,240.0),(5.0,250.0)] #(min,max)"
     ],
     "language": "python",
     "metadata": {},
     "outputs": [],
     "prompt_number": 6
    },
    {
     "cell_type": "markdown",
     "metadata": {},
     "source": [
      "Before the calibration starts, each measured curve is fitted separately following the procedure described in the IPython notebook [pyCBT tutorial.ipynb](https://github.com/AivonOy/pyCBT/src), and the results of each fit is stored in the list **fitters[ ]**. In particular, the latter contains the optimal tunnel resistance $R_{T, \\ j}^\\textrm{opt}$, total capacitance $C_{\\Sigma, \\ j}^\\textrm{opt}$ and phonon temperature $T_{\\textrm{ph}, \\ j}^\\textrm{opt}$ of the $j$-th curve, with $j$ from 1 to $M$."
     ]
    },
    {
     "cell_type": "code",
     "collapsed": false,
     "input": [
      "fitters=[] # list of classes CBT_fitter that also store results\n",
      "for i,filename in enumerate(filenames):\n",
      "    fitter=CBT_fitter(filename=filename,T_init=T_init,island_size_init=island_size_init,\n",
      "                      R_tunnel_init=R_tunnel_init,TEC_init=TEC_init,\n",
      "                        bounds=bounds,const_P=500e-18,\n",
      "                        excitation=excitation,parallel_arrays=parallel_arrays,\n",
      "                        junctions_in_series = N_junctions)\n",
      "    fitter.find_offset(5) # finds offset with 5 points from minimum each direction\n",
      "    #fitter.print_offset_curve()\n",
      "    fitter.fit_classic_curve() # fit analytic curve to get starting point for nonlin fit\n",
      "    #fitter.plot_result_initial()\n",
      "    fitter.fit_full_curve() # nonlin fitting\n",
      "    fitter.print_elapset_time()\n",
      "    #fitter.plot_nonlin_results()\n",
      "    fitters.append(fitter) # save results"
     ],
     "language": "python",
     "metadata": {},
     "outputs": [
      {
       "output_type": "stream",
       "stream": "stdout",
       "text": [
        "N is obsolete\n",
        "============================================"
       ]
      },
      {
       "output_type": "stream",
       "stream": "stdout",
       "text": [
        "\n",
        " Calculated Voltage Offset = 1.51966e-06\n",
        "============================================\n",
        "=================================================\n",
        "==============  Starting Values   ===============\n",
        "=================================================\n",
        "Rt_init: 28 KOhm T_init: 10 mK E_C_init: 5 mK\n",
        "=================================================\n",
        "[ 0.03915237  0.01001382  0.0048053 ]"
       ]
      },
      {
       "output_type": "stream",
       "stream": "stdout",
       "text": [
        "\n",
        "[ 0.03911708  0.01139047  0.00411879]"
       ]
      },
      {
       "output_type": "stream",
       "stream": "stdout",
       "text": [
        "\n",
        "[ 0.03916552  0.01324601  0.00497188]\n",
        "[ 0.03928882  0.01792405  0.00689606]"
       ]
      },
      {
       "output_type": "stream",
       "stream": "stdout",
       "text": [
        "\n",
        "[ 0.03934072  0.02011427  0.00771554]\n",
        "[ 0.03935972  0.02106679  0.00801637]"
       ]
      },
      {
       "output_type": "stream",
       "stream": "stdout",
       "text": [
        "\n",
        "[ 0.03936319  0.02135113  0.00807008]\n",
        "[ 0.03936275  0.02145242  0.0080618 ]"
       ]
      },
      {
       "output_type": "stream",
       "stream": "stdout",
       "text": [
        "\n",
        "[ 0.0393613   0.0214496   0.00803803]\n",
        "[ 0.03936074  0.02143221  0.00802909]"
       ]
      },
      {
       "output_type": "stream",
       "stream": "stdout",
       "text": [
        "\n",
        "[ 0.03936067  0.02142793  0.00802795]\n",
        "[ 0.03936066  0.02142765  0.00802795]"
       ]
      },
      {
       "output_type": "stream",
       "stream": "stdout",
       "text": [
        "\n",
        "[ 0.03936067  0.02142767  0.00802796]\n",
        "Warning: Desired error not necessarily achieved due to precision loss."
       ]
      },
      {
       "output_type": "stream",
       "stream": "stdout",
       "text": [
        "\n",
        "         Current function value: 0.033274\n",
        "         Iterations: 13\n",
        "         Function evaluations: 201\n",
        "         Gradient evaluations: 38\n",
        "=========================================\n",
        "====== After initial optimization: ======\n",
        "=========================================\n",
        "R_T = 25.4061 kOhm\n",
        "R_T_arrays = 41.92 kOhm\n",
        "T = 21.4277 mK\n",
        "Ec = 4.01398 mK\n",
        "Csigma = 231.597 fF\n",
        "Rt: 25406.1 Csigma: 2.31597e-13 Tp: 0.0214277 res: 0.00384685"
       ]
      },
      {
       "output_type": "stream",
       "stream": "stdout",
       "text": [
        "\n",
        "Rt: 25406.1 Csigma: 2.31597e-13 Tp: 0.0214277 res: 0.00384685"
       ]
      },
      {
       "output_type": "stream",
       "stream": "stdout",
       "text": [
        "\n",
        "Rt: 25406.1 Csigma: 2.31597e-13 Tp: 0.0214277 res: 0.00384685"
       ]
      },
      {
       "output_type": "stream",
       "stream": "stdout",
       "text": [
        "\n",
        "Rt: 25406.1 Csigma: 2.31597e-13 Tp: 0.0214277 res: 0.00384685"
       ]
      },
      {
       "output_type": "stream",
       "stream": "stdout",
       "text": [
        "\n",
        "Rt: 25406.1 Csigma: 2.31597e-13 Tp: 0.0214277 res: 0.00384685"
       ]
      },
      {
       "output_type": "stream",
       "stream": "stdout",
       "text": [
        "\n",
        "Rt: 25405 Csigma: 2.31597e-13 Tp: 0.0214266 res: 0.00384594"
       ]
      },
      {
       "output_type": "stream",
       "stream": "stdout",
       "text": [
        "\n",
        "Rt: 25405 Csigma: 2.31597e-13 Tp: 0.0214266 res: 0.00384594"
       ]
      },
      {
       "output_type": "stream",
       "stream": "stdout",
       "text": [
        "\n",
        "Rt: 25405 Csigma: 2.31597e-13 Tp: 0.0214266 res: 0.00384594"
       ]
      },
      {
       "output_type": "stream",
       "stream": "stdout",
       "text": [
        "\n",
        "Rt: 25405 Csigma: 2.31597e-13 Tp: 0.0214266 res: 0.00384594"
       ]
      },
      {
       "output_type": "stream",
       "stream": "stdout",
       "text": [
        "\n",
        "Rt: 25405 Csigma: 2.31597e-13 Tp: 0.0214266 res: 0.00384594"
       ]
      },
      {
       "output_type": "stream",
       "stream": "stdout",
       "text": [
        "\n",
        "Rt: 25405.2 Csigma: 2.31597e-13 Tp: 0.0214259 res: 0.00384497"
       ]
      },
      {
       "output_type": "stream",
       "stream": "stdout",
       "text": [
        "\n",
        "Rt: 25405.2 Csigma: 2.31597e-13 Tp: 0.0214259 res: 0.00384497"
       ]
      },
      {
       "output_type": "stream",
       "stream": "stdout",
       "text": [
        "\n",
        "Rt: 25405.2 Csigma: 2.31597e-13 Tp: 0.0214259 res: 0.00384497"
       ]
      },
      {
       "output_type": "stream",
       "stream": "stdout",
       "text": [
        "\n",
        "Rt: 25405.2 Csigma: 2.31597e-13 Tp: 0.0214259 res: 0.00384497"
       ]
      },
      {
       "output_type": "stream",
       "stream": "stdout",
       "text": [
        "\n",
        "Rt: 25405.2 Csigma: 2.31597e-13 Tp: 0.0214259 res: 0.00384497"
       ]
      },
      {
       "output_type": "stream",
       "stream": "stdout",
       "text": [
        "\n",
        "Rt: 25406 Csigma: 2.31596e-13 Tp: 0.0214232 res: 0.00384202"
       ]
      },
      {
       "output_type": "stream",
       "stream": "stdout",
       "text": [
        "\n",
        "Rt: 25406 Csigma: 2.31596e-13 Tp: 0.0214232 res: 0.00384202"
       ]
      },
      {
       "output_type": "stream",
       "stream": "stdout",
       "text": [
        "\n",
        "Rt: 25406 Csigma: 2.31596e-13 Tp: 0.0214232 res: 0.00384202"
       ]
      },
      {
       "output_type": "stream",
       "stream": "stdout",
       "text": [
        "\n",
        "Rt: 25406 Csigma: 2.31596e-13 Tp: 0.0214232 res: 0.00384202"
       ]
      },
      {
       "output_type": "stream",
       "stream": "stdout",
       "text": [
        "\n",
        "Rt: 25406 Csigma: 2.31596e-13 Tp: 0.0214232 res: 0.00384202"
       ]
      },
      {
       "output_type": "stream",
       "stream": "stdout",
       "text": [
        "\n",
        "Rt: 25407.1 Csigma: 2.31595e-13 Tp: 0.0214096 res: 0.00383031"
       ]
      },
      {
       "output_type": "stream",
       "stream": "stdout",
       "text": [
        "\n",
        "Rt: 25407.1 Csigma: 2.31595e-13 Tp: 0.0214096 res: 0.00383031"
       ]
      },
      {
       "output_type": "stream",
       "stream": "stdout",
       "text": [
        "\n",
        "Rt: 25407.1 Csigma: 2.31595e-13 Tp: 0.0214096 res: 0.00383031"
       ]
      },
      {
       "output_type": "stream",
       "stream": "stdout",
       "text": [
        "\n",
        "Rt: 25407.1 Csigma: 2.31595e-13 Tp: 0.0214096 res: 0.00383031"
       ]
      },
      {
       "output_type": "stream",
       "stream": "stdout",
       "text": [
        "\n",
        "Rt: 25407.1 Csigma: 2.31595e-13 Tp: 0.0214096 res: 0.00383031"
       ]
      },
      {
       "output_type": "stream",
       "stream": "stdout",
       "text": [
        "\n",
        "Rt: 25410.4 Csigma: 2.31589e-13 Tp: 0.0213347 res: 0.00377879"
       ]
      },
      {
       "output_type": "stream",
       "stream": "stdout",
       "text": [
        "\n",
        "Rt: 25410.4 Csigma: 2.31589e-13 Tp: 0.0213347 res: 0.00377879"
       ]
      },
      {
       "output_type": "stream",
       "stream": "stdout",
       "text": [
        "\n",
        "Rt: 25410.4 Csigma: 2.31589e-13 Tp: 0.0213347 res: 0.00377879"
       ]
      },
      {
       "output_type": "stream",
       "stream": "stdout",
       "text": [
        "\n",
        "Rt: 25410.4 Csigma: 2.31589e-13 Tp: 0.0213347 res: 0.00377879"
       ]
      },
      {
       "output_type": "stream",
       "stream": "stdout",
       "text": [
        "\n",
        "Rt: 25410.4 Csigma: 2.31589e-13 Tp: 0.0213347 res: 0.00377879"
       ]
      },
      {
       "output_type": "stream",
       "stream": "stdout",
       "text": [
        "\n",
        "Rt: 25413.6 Csigma: 2.31577e-13 Tp: 0.0211771 res: 0.00368656"
       ]
      },
      {
       "output_type": "stream",
       "stream": "stdout",
       "text": [
        "\n",
        "Rt: 25413.6 Csigma: 2.31577e-13 Tp: 0.0211771 res: 0.00368656"
       ]
      },
      {
       "output_type": "stream",
       "stream": "stdout",
       "text": [
        "\n",
        "Rt: 25413.6 Csigma: 2.31577e-13 Tp: 0.0211771 res: 0.00368656"
       ]
      },
      {
       "output_type": "stream",
       "stream": "stdout",
       "text": [
        "\n",
        "Rt: 25413.6 Csigma: 2.31577e-13 Tp: 0.0211771 res: 0.00368656"
       ]
      },
      {
       "output_type": "stream",
       "stream": "stdout",
       "text": [
        "\n",
        "Rt: 25413.6 Csigma: 2.31577e-13 Tp: 0.0211771 res: 0.00368656"
       ]
      },
      {
       "output_type": "stream",
       "stream": "stdout",
       "text": [
        "\n",
        "Rt: 25415.7 Csigma: 2.31551e-13 Tp: 0.0208583 res: 0.00352605"
       ]
      },
      {
       "output_type": "stream",
       "stream": "stdout",
       "text": [
        "\n",
        "Rt: 25415.7 Csigma: 2.31551e-13 Tp: 0.0208583 res: 0.00352605"
       ]
      },
      {
       "output_type": "stream",
       "stream": "stdout",
       "text": [
        "\n",
        "Rt: 25415.7 Csigma: 2.31551e-13 Tp: 0.0208583 res: 0.00352605"
       ]
      },
      {
       "output_type": "stream",
       "stream": "stdout",
       "text": [
        "\n",
        "Rt: 25415.7 Csigma: 2.31551e-13 Tp: 0.0208583 res: 0.00352605"
       ]
      },
      {
       "output_type": "stream",
       "stream": "stdout",
       "text": [
        "\n",
        "Rt: 25415.7 Csigma: 2.31551e-13 Tp: 0.0208583 res: 0.00352605"
       ]
      },
      {
       "output_type": "stream",
       "stream": "stdout",
       "text": [
        "\n",
        "Rt: 25413.2 Csigma: 2.31526e-13 Tp: 0.0205363 res: 0.00338516"
       ]
      },
      {
       "output_type": "stream",
       "stream": "stdout",
       "text": [
        "\n",
        "Rt: 25413.2 Csigma: 2.31526e-13 Tp: 0.0205363 res: 0.00338516"
       ]
      },
      {
       "output_type": "stream",
       "stream": "stdout",
       "text": [
        "\n",
        "Rt: 25413.2 Csigma: 2.31526e-13 Tp: 0.0205363 res: 0.00338516"
       ]
      },
      {
       "output_type": "stream",
       "stream": "stdout",
       "text": [
        "\n",
        "Rt: 25413.2 Csigma: 2.31526e-13 Tp: 0.0205363 res: 0.00338516"
       ]
      },
      {
       "output_type": "stream",
       "stream": "stdout",
       "text": [
        "\n",
        "Rt: 25413.2 Csigma: 2.31526e-13 Tp: 0.0205363 res: 0.00338516"
       ]
      },
      {
       "output_type": "stream",
       "stream": "stdout",
       "text": [
        "\n",
        "Rt: 25408.3 Csigma: 2.31517e-13 Tp: 0.0204272 res: 0.00332786"
       ]
      },
      {
       "output_type": "stream",
       "stream": "stdout",
       "text": [
        "\n",
        "Rt: 25408.3 Csigma: 2.31517e-13 Tp: 0.0204272 res: 0.00332786"
       ]
      },
      {
       "output_type": "stream",
       "stream": "stdout",
       "text": [
        "\n",
        "Rt: 25408.3 Csigma: 2.31517e-13 Tp: 0.0204272 res: 0.00332786"
       ]
      },
      {
       "output_type": "stream",
       "stream": "stdout",
       "text": [
        "\n",
        "Rt: 25408.3 Csigma: 2.31517e-13 Tp: 0.0204272 res: 0.00332786"
       ]
      },
      {
       "output_type": "stream",
       "stream": "stdout",
       "text": [
        "\n",
        "Rt: 25408.3 Csigma: 2.31517e-13 Tp: 0.0204272 res: 0.00332786"
       ]
      },
      {
       "output_type": "stream",
       "stream": "stdout",
       "text": [
        "\n",
        "Rt: 25406.1 Csigma: 2.31519e-13 Tp: 0.0204556 res: 0.0033204"
       ]
      },
      {
       "output_type": "stream",
       "stream": "stdout",
       "text": [
        "\n",
        "Rt: 25406.1 Csigma: 2.31519e-13 Tp: 0.0204556 res: 0.0033204"
       ]
      },
      {
       "output_type": "stream",
       "stream": "stdout",
       "text": [
        "\n",
        "Rt: 25406.1 Csigma: 2.31519e-13 Tp: 0.0204556 res: 0.0033204"
       ]
      },
      {
       "output_type": "stream",
       "stream": "stdout",
       "text": [
        "\n",
        "Rt: 25406.1 Csigma: 2.31519e-13 Tp: 0.0204556 res: 0.0033204"
       ]
      },
      {
       "output_type": "stream",
       "stream": "stdout",
       "text": [
        "\n",
        "Rt: 25406.1 Csigma: 2.31519e-13 Tp: 0.0204556 res: 0.0033204"
       ]
      },
      {
       "output_type": "stream",
       "stream": "stdout",
       "text": [
        "\n",
        "Rt: 25405.9 Csigma: 2.3152e-13 Tp: 0.0204688 res: 0.00332025"
       ]
      },
      {
       "output_type": "stream",
       "stream": "stdout",
       "text": [
        "\n",
        "Rt: 25405.9 Csigma: 2.3152e-13 Tp: 0.0204688 res: 0.00332025"
       ]
      },
      {
       "output_type": "stream",
       "stream": "stdout",
       "text": [
        "\n",
        "Rt: 25405.9 Csigma: 2.3152e-13 Tp: 0.0204688 res: 0.00332025"
       ]
      },
      {
       "output_type": "stream",
       "stream": "stdout",
       "text": [
        "\n",
        "Rt: 25405.9 Csigma: 2.3152e-13 Tp: 0.0204688 res: 0.00332025"
       ]
      },
      {
       "output_type": "stream",
       "stream": "stdout",
       "text": [
        "\n",
        "Rt: 25405.9 Csigma: 2.3152e-13 Tp: 0.0204688 res: 0.00332025"
       ]
      },
      {
       "output_type": "stream",
       "stream": "stdout",
       "text": [
        "\n",
        "Rt: 25405.9 Csigma: 2.3152e-13 Tp: 0.0204696 res: 0.00332025"
       ]
      },
      {
       "output_type": "stream",
       "stream": "stdout",
       "text": [
        "\n",
        "Rt: 25405.9 Csigma: 2.3152e-13 Tp: 0.0204696 res: 0.00332025"
       ]
      },
      {
       "output_type": "stream",
       "stream": "stdout",
       "text": [
        "\n",
        "Rt: 25405.9 Csigma: 2.3152e-13 Tp: 0.0204696 res: 0.00332025"
       ]
      },
      {
       "output_type": "stream",
       "stream": "stdout",
       "text": [
        "\n",
        "Rt: 25405.9 Csigma: 2.3152e-13 Tp: 0.0204696 res: 0.00332025"
       ]
      },
      {
       "output_type": "stream",
       "stream": "stdout",
       "text": [
        "\n",
        "Rt: 25405.9 Csigma: 2.3152e-13 Tp: 0.0204696 res: 0.00332025"
       ]
      },
      {
       "output_type": "stream",
       "stream": "stdout",
       "text": [
        "\n",
        "==========================================\n",
        "======   After main optimization:   ======\n",
        "==========================================\n",
        "R_T = 25.4059\n",
        "T = 20.4696 mK\n",
        "C_sigma = 231.52 \n",
        "It has taken 85.1475 seconds = 1.41913 minutes\n",
        "N is obsolete\n",
        "============================================\n",
        " Calculated Voltage Offset = 8.77639e-07\n",
        "============================================\n",
        "=================================================\n",
        "==============  Starting Values   ===============\n",
        "=================================================\n",
        "Rt_init: 28 KOhm T_init: 10 mK E_C_init: 5 mK\n",
        "=================================================\n",
        "[ 0.03921878  0.010014    0.00484839]"
       ]
      },
      {
       "output_type": "stream",
       "stream": "stdout",
       "text": [
        "\n",
        "[ 0.03915953  0.01112273  0.00314859]"
       ]
      },
      {
       "output_type": "stream",
       "stream": "stdout",
       "text": [
        "\n",
        "[ 0.03927712  0.0190609   0.00622555]\n",
        "[ 0.0393353   0.02382065  0.00748713]\n",
        "[ 0.03935863  0.02689384  0.00802116]"
       ]
      },
      {
       "output_type": "stream",
       "stream": "stdout",
       "text": [
        "\n",
        "[ 0.03936381  0.02883543  0.00813707]\n",
        "[ 0.03935935  0.02966826  0.00802795]\n",
        "[ 0.03935477  0.02974837  0.00791895]"
       ]
      },
      {
       "output_type": "stream",
       "stream": "stdout",
       "text": [
        "\n",
        "[ 0.03935306  0.02966309  0.00787865]\n",
        "[ 0.03935248  0.02960353  0.00786492]\n",
        "[ 0.03935244  0.02959159  0.00786401]"
       ]
      },
      {
       "output_type": "stream",
       "stream": "stdout",
       "text": [
        "\n",
        "[ 0.03935245  0.02959119  0.00786421]\n",
        "[ 0.03935245  0.02959123  0.00786423]\n",
        "[ 0.03935245  0.02959123  0.00786423]"
       ]
      },
      {
       "output_type": "stream",
       "stream": "stdout",
       "text": [
        "\n",
        "Warning: Desired error not necessarily achieved due to precision loss."
       ]
      },
      {
       "output_type": "stream",
       "stream": "stdout",
       "text": [
        "\n",
        "         Current function value: 0.028808\n",
        "         Iterations: 14\n",
        "         Function evaluations: 164\n",
        "         Gradient evaluations: 31\n",
        "=========================================\n",
        "====== After initial optimization: ======\n",
        "=========================================\n",
        "R_T = 25.4114 kOhm\n",
        "R_T_arrays = 41.9288 kOhm\n",
        "T = 29.5912 mK\n",
        "Ec = 3.93211 mK\n",
        "Csigma = 236.419 fF\n",
        "Rt: 25411.4 Csigma: 2.36419e-13 Tp: 0.0295912 res: 0.00306865"
       ]
      },
      {
       "output_type": "stream",
       "stream": "stdout",
       "text": [
        "\n",
        "Rt: 25411.4 Csigma: 2.36419e-13 Tp: 0.0295912 res: 0.00306865"
       ]
      },
      {
       "output_type": "stream",
       "stream": "stdout",
       "text": [
        "\n",
        "Rt: 25411.4 Csigma: 2.36419e-13 Tp: 0.0295912 res: 0.00306865"
       ]
      },
      {
       "output_type": "stream",
       "stream": "stdout",
       "text": [
        "\n",
        "Rt: 25411.4 Csigma: 2.36419e-13 Tp: 0.0295912 res: 0.00306865"
       ]
      },
      {
       "output_type": "stream",
       "stream": "stdout",
       "text": [
        "\n",
        "Rt: 25411.4 Csigma: 2.36419e-13 Tp: 0.0295912 res: 0.00306865"
       ]
      },
      {
       "output_type": "stream",
       "stream": "stdout",
       "text": [
        "\n",
        "Rt: 25411 Csigma: 2.36418e-13 Tp: 0.029591 res: 0.0030686"
       ]
      },
      {
       "output_type": "stream",
       "stream": "stdout",
       "text": [
        "\n",
        "Rt: 25411 Csigma: 2.36418e-13 Tp: 0.029591 res: 0.0030686"
       ]
      },
      {
       "output_type": "stream",
       "stream": "stdout",
       "text": [
        "\n",
        "Rt: 25411 Csigma: 2.36418e-13 Tp: 0.029591 res: 0.0030686"
       ]
      },
      {
       "output_type": "stream",
       "stream": "stdout",
       "text": [
        "\n",
        "Rt: 25411 Csigma: 2.36418e-13 Tp: 0.029591 res: 0.0030686"
       ]
      },
      {
       "output_type": "stream",
       "stream": "stdout",
       "text": [
        "\n",
        "Rt: 25411 Csigma: 2.36418e-13 Tp: 0.029591 res: 0.0030686"
       ]
      },
      {
       "output_type": "stream",
       "stream": "stdout",
       "text": [
        "\n",
        "Rt: 25411.1 Csigma: 2.36418e-13 Tp: 0.0295909 res: 0.00306853"
       ]
      },
      {
       "output_type": "stream",
       "stream": "stdout",
       "text": [
        "\n",
        "Rt: 25411.1 Csigma: 2.36418e-13 Tp: 0.0295909 res: 0.00306853"
       ]
      },
      {
       "output_type": "stream",
       "stream": "stdout",
       "text": [
        "\n",
        "Rt: 25411.1 Csigma: 2.36418e-13 Tp: 0.0295909 res: 0.00306853"
       ]
      },
      {
       "output_type": "stream",
       "stream": "stdout",
       "text": [
        "\n",
        "Rt: 25411.1 Csigma: 2.36418e-13 Tp: 0.0295909 res: 0.00306853"
       ]
      },
      {
       "output_type": "stream",
       "stream": "stdout",
       "text": [
        "\n",
        "Rt: 25411.1 Csigma: 2.36418e-13 Tp: 0.0295909 res: 0.00306853"
       ]
      },
      {
       "output_type": "stream",
       "stream": "stdout",
       "text": [
        "\n",
        "Rt: 25411.3 Csigma: 2.36418e-13 Tp: 0.0295905 res: 0.00306843"
       ]
      },
      {
       "output_type": "stream",
       "stream": "stdout",
       "text": [
        "\n",
        "Rt: 25411.3 Csigma: 2.36418e-13 Tp: 0.0295905 res: 0.00306843"
       ]
      },
      {
       "output_type": "stream",
       "stream": "stdout",
       "text": [
        "\n",
        "Rt: 25411.3 Csigma: 2.36418e-13 Tp: 0.0295905 res: 0.00306843"
       ]
      },
      {
       "output_type": "stream",
       "stream": "stdout",
       "text": [
        "\n",
        "Rt: 25411.3 Csigma: 2.36418e-13 Tp: 0.0295905 res: 0.00306843"
       ]
      },
      {
       "output_type": "stream",
       "stream": "stdout",
       "text": [
        "\n",
        "Rt: 25411.3 Csigma: 2.36418e-13 Tp: 0.0295905 res: 0.00306843"
       ]
      },
      {
       "output_type": "stream",
       "stream": "stdout",
       "text": [
        "\n",
        "Rt: 25411.5 Csigma: 2.36418e-13 Tp: 0.0295888 res: 0.00306807"
       ]
      },
      {
       "output_type": "stream",
       "stream": "stdout",
       "text": [
        "\n",
        "Rt: 25411.5 Csigma: 2.36418e-13 Tp: 0.0295888 res: 0.00306807"
       ]
      },
      {
       "output_type": "stream",
       "stream": "stdout",
       "text": [
        "\n",
        "Rt: 25411.5 Csigma: 2.36418e-13 Tp: 0.0295888 res: 0.00306807"
       ]
      },
      {
       "output_type": "stream",
       "stream": "stdout",
       "text": [
        "\n",
        "Rt: 25411.5 Csigma: 2.36418e-13 Tp: 0.0295888 res: 0.00306807"
       ]
      },
      {
       "output_type": "stream",
       "stream": "stdout",
       "text": [
        "\n",
        "Rt: 25411.5 Csigma: 2.36418e-13 Tp: 0.0295888 res: 0.00306807"
       ]
      },
      {
       "output_type": "stream",
       "stream": "stdout",
       "text": [
        "\n",
        "Rt: 25411.9 Csigma: 2.36418e-13 Tp: 0.0295839 res: 0.00306723"
       ]
      },
      {
       "output_type": "stream",
       "stream": "stdout",
       "text": [
        "\n",
        "Rt: 25411.9 Csigma: 2.36418e-13 Tp: 0.0295839 res: 0.00306723"
       ]
      },
      {
       "output_type": "stream",
       "stream": "stdout",
       "text": [
        "\n",
        "Rt: 25411.9 Csigma: 2.36418e-13 Tp: 0.0295839 res: 0.00306723"
       ]
      },
      {
       "output_type": "stream",
       "stream": "stdout",
       "text": [
        "\n",
        "Rt: 25411.9 Csigma: 2.36418e-13 Tp: 0.0295839 res: 0.00306723"
       ]
      },
      {
       "output_type": "stream",
       "stream": "stdout",
       "text": [
        "\n",
        "Rt: 25411.9 Csigma: 2.36418e-13 Tp: 0.0295839 res: 0.00306723"
       ]
      },
      {
       "output_type": "stream",
       "stream": "stdout",
       "text": [
        "\n",
        "Rt: 25412.7 Csigma: 2.36416e-13 Tp: 0.0295676 res: 0.0030648"
       ]
      },
      {
       "output_type": "stream",
       "stream": "stdout",
       "text": [
        "\n",
        "Rt: 25412.7 Csigma: 2.36416e-13 Tp: 0.0295676 res: 0.0030648"
       ]
      },
      {
       "output_type": "stream",
       "stream": "stdout",
       "text": [
        "\n",
        "Rt: 25412.7 Csigma: 2.36416e-13 Tp: 0.0295676 res: 0.0030648"
       ]
      },
      {
       "output_type": "stream",
       "stream": "stdout",
       "text": [
        "\n",
        "Rt: 25412.7 Csigma: 2.36416e-13 Tp: 0.0295676 res: 0.0030648"
       ]
      },
      {
       "output_type": "stream",
       "stream": "stdout",
       "text": [
        "\n",
        "Rt: 25412.7 Csigma: 2.36416e-13 Tp: 0.0295676 res: 0.0030648"
       ]
      },
      {
       "output_type": "stream",
       "stream": "stdout",
       "text": [
        "\n",
        "Rt: 25413.6 Csigma: 2.36412e-13 Tp: 0.0295329 res: 0.00305972"
       ]
      },
      {
       "output_type": "stream",
       "stream": "stdout",
       "text": [
        "\n",
        "Rt: 25413.6 Csigma: 2.36412e-13 Tp: 0.0295329 res: 0.00305972"
       ]
      },
      {
       "output_type": "stream",
       "stream": "stdout",
       "text": [
        "\n",
        "Rt: 25413.6 Csigma: 2.36412e-13 Tp: 0.0295329 res: 0.00305972"
       ]
      },
      {
       "output_type": "stream",
       "stream": "stdout",
       "text": [
        "\n",
        "Rt: 25413.6 Csigma: 2.36412e-13 Tp: 0.0295329 res: 0.00305972"
       ]
      },
      {
       "output_type": "stream",
       "stream": "stdout",
       "text": [
        "\n",
        "Rt: 25413.6 Csigma: 2.36412e-13 Tp: 0.0295329 res: 0.00305972"
       ]
      },
      {
       "output_type": "stream",
       "stream": "stdout",
       "text": [
        "\n",
        "Rt: 25415 Csigma: 2.36402e-13 Tp: 0.0294317 res: 0.0030454"
       ]
      },
      {
       "output_type": "stream",
       "stream": "stdout",
       "text": [
        "\n",
        "Rt: 25415 Csigma: 2.36402e-13 Tp: 0.0294317 res: 0.0030454"
       ]
      },
      {
       "output_type": "stream",
       "stream": "stdout",
       "text": [
        "\n",
        "Rt: 25415 Csigma: 2.36402e-13 Tp: 0.0294317 res: 0.0030454"
       ]
      },
      {
       "output_type": "stream",
       "stream": "stdout",
       "text": [
        "\n",
        "Rt: 25415 Csigma: 2.36402e-13 Tp: 0.0294317 res: 0.0030454"
       ]
      },
      {
       "output_type": "stream",
       "stream": "stdout",
       "text": [
        "\n",
        "Rt: 25415 Csigma: 2.36402e-13 Tp: 0.0294317 res: 0.0030454"
       ]
      },
      {
       "output_type": "stream",
       "stream": "stdout",
       "text": [
        "\n",
        "Rt: 25416.4 Csigma: 2.3638e-13 Tp: 0.0292138 res: 0.00301738"
       ]
      },
      {
       "output_type": "stream",
       "stream": "stdout",
       "text": [
        "\n",
        "Rt: 25416.4 Csigma: 2.3638e-13 Tp: 0.0292138 res: 0.00301738"
       ]
      },
      {
       "output_type": "stream",
       "stream": "stdout",
       "text": [
        "\n",
        "Rt: 25416.4 Csigma: 2.3638e-13 Tp: 0.0292138 res: 0.00301738"
       ]
      },
      {
       "output_type": "stream",
       "stream": "stdout",
       "text": [
        "\n",
        "Rt: 25416.4 Csigma: 2.3638e-13 Tp: 0.0292138 res: 0.00301738"
       ]
      },
      {
       "output_type": "stream",
       "stream": "stdout",
       "text": [
        "\n",
        "Rt: 25416.4 Csigma: 2.3638e-13 Tp: 0.0292138 res: 0.00301738"
       ]
      },
      {
       "output_type": "stream",
       "stream": "stdout",
       "text": [
        "\n",
        "Rt: 25416.3 Csigma: 2.36349e-13 Tp: 0.0289149 res: 0.00298033"
       ]
      },
      {
       "output_type": "stream",
       "stream": "stdout",
       "text": [
        "\n",
        "Rt: 25416.3 Csigma: 2.36349e-13 Tp: 0.0289149 res: 0.00298033"
       ]
      },
      {
       "output_type": "stream",
       "stream": "stdout",
       "text": [
        "\n",
        "Rt: 25416.3 Csigma: 2.36349e-13 Tp: 0.0289149 res: 0.00298033"
       ]
      },
      {
       "output_type": "stream",
       "stream": "stdout",
       "text": [
        "\n",
        "Rt: 25416.3 Csigma: 2.36349e-13 Tp: 0.0289149 res: 0.00298033"
       ]
      },
      {
       "output_type": "stream",
       "stream": "stdout",
       "text": [
        "\n",
        "Rt: 25416.3 Csigma: 2.36349e-13 Tp: 0.0289149 res: 0.00298033"
       ]
      },
      {
       "output_type": "stream",
       "stream": "stdout",
       "text": [
        "\n",
        "Rt: 25413.5 Csigma: 2.36319e-13 Tp: 0.0286467 res: 0.00294698"
       ]
      },
      {
       "output_type": "stream",
       "stream": "stdout",
       "text": [
        "\n",
        "Rt: 25413.5 Csigma: 2.36319e-13 Tp: 0.0286467 res: 0.00294698"
       ]
      },
      {
       "output_type": "stream",
       "stream": "stdout",
       "text": [
        "\n",
        "Rt: 25413.5 Csigma: 2.36319e-13 Tp: 0.0286467 res: 0.00294698"
       ]
      },
      {
       "output_type": "stream",
       "stream": "stdout",
       "text": [
        "\n",
        "Rt: 25413.5 Csigma: 2.36319e-13 Tp: 0.0286467 res: 0.00294698"
       ]
      },
      {
       "output_type": "stream",
       "stream": "stdout",
       "text": [
        "\n",
        "Rt: 25413.5 Csigma: 2.36319e-13 Tp: 0.0286467 res: 0.00294698"
       ]
      },
      {
       "output_type": "stream",
       "stream": "stdout",
       "text": [
        "\n",
        "Rt: 25411.6 Csigma: 2.36318e-13 Tp: 0.0286412 res: 0.00294133"
       ]
      },
      {
       "output_type": "stream",
       "stream": "stdout",
       "text": [
        "\n",
        "Rt: 25411.6 Csigma: 2.36318e-13 Tp: 0.0286412 res: 0.00294133"
       ]
      },
      {
       "output_type": "stream",
       "stream": "stdout",
       "text": [
        "\n",
        "Rt: 25411.6 Csigma: 2.36318e-13 Tp: 0.0286412 res: 0.00294133"
       ]
      },
      {
       "output_type": "stream",
       "stream": "stdout",
       "text": [
        "\n",
        "Rt: 25411.6 Csigma: 2.36318e-13 Tp: 0.0286412 res: 0.00294133"
       ]
      },
      {
       "output_type": "stream",
       "stream": "stdout",
       "text": [
        "\n",
        "Rt: 25411.6 Csigma: 2.36318e-13 Tp: 0.0286412 res: 0.00294133"
       ]
      },
      {
       "output_type": "stream",
       "stream": "stdout",
       "text": [
        "\n",
        "Rt: 25411.3 Csigma: 2.36321e-13 Tp: 0.028668 res: 0.002941"
       ]
      },
      {
       "output_type": "stream",
       "stream": "stdout",
       "text": [
        "\n",
        "Rt: 25411.3 Csigma: 2.36321e-13 Tp: 0.028668 res: 0.002941"
       ]
      },
      {
       "output_type": "stream",
       "stream": "stdout",
       "text": [
        "\n",
        "Rt: 25411.3 Csigma: 2.36321e-13 Tp: 0.028668 res: 0.002941"
       ]
      },
      {
       "output_type": "stream",
       "stream": "stdout",
       "text": [
        "\n",
        "Rt: 25411.3 Csigma: 2.36321e-13 Tp: 0.028668 res: 0.002941"
       ]
      },
      {
       "output_type": "stream",
       "stream": "stdout",
       "text": [
        "\n",
        "Rt: 25411.3 Csigma: 2.36321e-13 Tp: 0.028668 res: 0.002941"
       ]
      },
      {
       "output_type": "stream",
       "stream": "stdout",
       "text": [
        "\n",
        "==========================================\n",
        "======   After main optimization:   ======\n",
        "==========================================\n",
        "R_T = 25.4113\n",
        "T = 28.668 mK\n",
        "C_sigma = 236.321 \n",
        "It has taken 110.727 seconds = 1.84545 minutes\n",
        "N is obsolete\n",
        "============================================\n",
        " Calculated Voltage Offset = -2.21378e-08\n",
        "============================================\n",
        "=================================================\n",
        "==============  Starting Values   ===============\n",
        "=================================================\n",
        "Rt_init: 28 KOhm T_init: 10 mK E_C_init: 5 mK\n",
        "=================================================\n",
        "[ 0.03924834  0.01001196  0.00487675]"
       ]
      },
      {
       "output_type": "stream",
       "stream": "stdout",
       "text": [
        "\n",
        "[ 0.03919009  0.01111368  0.00262623]"
       ]
      },
      {
       "output_type": "stream",
       "stream": "stdout",
       "text": [
        "\n",
        "[ 0.03941575  0.03266316  0.01054066]\n",
        "[ 0.03936704  0.02900887  0.00851368]"
       ]
      },
      {
       "output_type": "stream",
       "stream": "stdout",
       "text": [
        "\n",
        "[ 0.03930037  0.02667862  0.00620288]\n",
        "[ 0.03932352  0.02993509  0.00693993]"
       ]
      },
      {
       "output_type": "stream",
       "stream": "stdout",
       "text": [
        "\n",
        "[ 0.03934486  0.03550784  0.00770711]\n",
        "[ 0.03934987  0.03755552  0.00787463]"
       ]
      },
      {
       "output_type": "stream",
       "stream": "stdout",
       "text": [
        "\n",
        "[ 0.03935114  0.03839173  0.00791316]\n",
        "[ 0.03935112  0.03851608  0.00791222]\n",
        "[ 0.03935106  0.03851849  0.0079104 ]"
       ]
      },
      {
       "output_type": "stream",
       "stream": "stdout",
       "text": [
        "\n",
        "[ 0.03935104  0.03851668  0.00790982]\n",
        "Warning: Desired error not necessarily achieved due to precision loss."
       ]
      },
      {
       "output_type": "stream",
       "stream": "stdout",
       "text": [
        "\n",
        "         Current function value: 0.032912\n",
        "         Iterations: 12\n",
        "         Function evaluations: 256\n",
        "         Gradient evaluations: 49\n",
        "=========================================\n",
        "====== After initial optimization: ======\n",
        "=========================================\n",
        "R_T = 25.4123 kOhm\n",
        "R_T_arrays = 41.9303 kOhm\n",
        "T = 38.5167 mK\n",
        "Ec = 3.95491 mK\n",
        "Csigma = 235.056 fF\n",
        "Rt: 25412.3 Csigma: 2.35056e-13 Tp: 0.0385167 res: 0.00335254"
       ]
      },
      {
       "output_type": "stream",
       "stream": "stdout",
       "text": [
        "\n",
        "Rt: 25412.3 Csigma: 2.35056e-13 Tp: 0.0385167 res: 0.00335254"
       ]
      },
      {
       "output_type": "stream",
       "stream": "stdout",
       "text": [
        "\n",
        "Rt: 25412.3 Csigma: 2.35056e-13 Tp: 0.0385167 res: 0.00335254"
       ]
      },
      {
       "output_type": "stream",
       "stream": "stdout",
       "text": [
        "\n",
        "Rt: 25412.3 Csigma: 2.35056e-13 Tp: 0.0385167 res: 0.00335254"
       ]
      },
      {
       "output_type": "stream",
       "stream": "stdout",
       "text": [
        "\n",
        "Rt: 25412.3 Csigma: 2.35056e-13 Tp: 0.0385167 res: 0.00335254"
       ]
      },
      {
       "output_type": "stream",
       "stream": "stdout",
       "text": [
        "\n",
        "Rt: 25412 Csigma: 2.35056e-13 Tp: 0.0385166 res: 0.00335255"
       ]
      },
      {
       "output_type": "stream",
       "stream": "stdout",
       "text": [
        "\n",
        "Rt: 25412 Csigma: 2.35056e-13 Tp: 0.0385166 res: 0.00335255"
       ]
      },
      {
       "output_type": "stream",
       "stream": "stdout",
       "text": [
        "\n",
        "Rt: 25412 Csigma: 2.35056e-13 Tp: 0.0385166 res: 0.00335255"
       ]
      },
      {
       "output_type": "stream",
       "stream": "stdout",
       "text": [
        "\n",
        "Rt: 25412 Csigma: 2.35056e-13 Tp: 0.0385166 res: 0.00335255"
       ]
      },
      {
       "output_type": "stream",
       "stream": "stdout",
       "text": [
        "\n",
        "Rt: 25412 Csigma: 2.35056e-13 Tp: 0.0385166 res: 0.00335255"
       ]
      },
      {
       "output_type": "stream",
       "stream": "stdout",
       "text": [
        "\n",
        "Rt: 25412.2 Csigma: 2.35056e-13 Tp: 0.0385166 res: 0.00335252"
       ]
      },
      {
       "output_type": "stream",
       "stream": "stdout",
       "text": [
        "\n",
        "Rt: 25412.2 Csigma: 2.35056e-13 Tp: 0.0385166 res: 0.00335252"
       ]
      },
      {
       "output_type": "stream",
       "stream": "stdout",
       "text": [
        "\n",
        "Rt: 25412.2 Csigma: 2.35056e-13 Tp: 0.0385166 res: 0.00335252"
       ]
      },
      {
       "output_type": "stream",
       "stream": "stdout",
       "text": [
        "\n",
        "Rt: 25412.2 Csigma: 2.35056e-13 Tp: 0.0385166 res: 0.00335252"
       ]
      },
      {
       "output_type": "stream",
       "stream": "stdout",
       "text": [
        "\n",
        "Rt: 25412.2 Csigma: 2.35056e-13 Tp: 0.0385166 res: 0.00335252"
       ]
      },
      {
       "output_type": "stream",
       "stream": "stdout",
       "text": [
        "\n",
        "Rt: 25412.2 Csigma: 2.35056e-13 Tp: 0.0385166 res: 0.00335252"
       ]
      },
      {
       "output_type": "stream",
       "stream": "stdout",
       "text": [
        "\n",
        "Rt: 25412.2 Csigma: 2.35056e-13 Tp: 0.0385166 res: 0.00335252"
       ]
      },
      {
       "output_type": "stream",
       "stream": "stdout",
       "text": [
        "\n",
        "Rt: 25412.2 Csigma: 2.35056e-13 Tp: 0.0385166 res: 0.00335252"
       ]
      },
      {
       "output_type": "stream",
       "stream": "stdout",
       "text": [
        "\n",
        "Rt: 25412.2 Csigma: 2.35056e-13 Tp: 0.0385166 res: 0.00335252"
       ]
      },
      {
       "output_type": "stream",
       "stream": "stdout",
       "text": [
        "\n",
        "Rt: 25412.2 Csigma: 2.35056e-13 Tp: 0.0385166 res: 0.00335252"
       ]
      },
      {
       "output_type": "stream",
       "stream": "stdout",
       "text": [
        "\n",
        "Rt: 25412.2 Csigma: 2.35056e-13 Tp: 0.0385164 res: 0.0033525"
       ]
      },
      {
       "output_type": "stream",
       "stream": "stdout",
       "text": [
        "\n",
        "Rt: 25412.2 Csigma: 2.35056e-13 Tp: 0.0385164 res: 0.0033525"
       ]
      },
      {
       "output_type": "stream",
       "stream": "stdout",
       "text": [
        "\n",
        "Rt: 25412.2 Csigma: 2.35056e-13 Tp: 0.0385164 res: 0.0033525"
       ]
      },
      {
       "output_type": "stream",
       "stream": "stdout",
       "text": [
        "\n",
        "Rt: 25412.2 Csigma: 2.35056e-13 Tp: 0.0385164 res: 0.0033525"
       ]
      },
      {
       "output_type": "stream",
       "stream": "stdout",
       "text": [
        "\n",
        "Rt: 25412.2 Csigma: 2.35056e-13 Tp: 0.0385164 res: 0.0033525"
       ]
      },
      {
       "output_type": "stream",
       "stream": "stdout",
       "text": [
        "\n",
        "Rt: 25412.1 Csigma: 2.35056e-13 Tp: 0.0385157 res: 0.00335244"
       ]
      },
      {
       "output_type": "stream",
       "stream": "stdout",
       "text": [
        "\n",
        "Rt: 25412.1 Csigma: 2.35056e-13 Tp: 0.0385157 res: 0.00335244"
       ]
      },
      {
       "output_type": "stream",
       "stream": "stdout",
       "text": [
        "\n",
        "Rt: 25412.1 Csigma: 2.35056e-13 Tp: 0.0385157 res: 0.00335244"
       ]
      },
      {
       "output_type": "stream",
       "stream": "stdout",
       "text": [
        "\n",
        "Rt: 25412.1 Csigma: 2.35056e-13 Tp: 0.0385157 res: 0.00335244"
       ]
      },
      {
       "output_type": "stream",
       "stream": "stdout",
       "text": [
        "\n",
        "Rt: 25412.1 Csigma: 2.35056e-13 Tp: 0.0385157 res: 0.00335244"
       ]
      },
      {
       "output_type": "stream",
       "stream": "stdout",
       "text": [
        "\n",
        "Rt: 25412 Csigma: 2.35055e-13 Tp: 0.0385128 res: 0.00335218"
       ]
      },
      {
       "output_type": "stream",
       "stream": "stdout",
       "text": [
        "\n",
        "Rt: 25412 Csigma: 2.35055e-13 Tp: 0.0385128 res: 0.00335218"
       ]
      },
      {
       "output_type": "stream",
       "stream": "stdout",
       "text": [
        "\n",
        "Rt: 25412 Csigma: 2.35055e-13 Tp: 0.0385128 res: 0.00335218"
       ]
      },
      {
       "output_type": "stream",
       "stream": "stdout",
       "text": [
        "\n",
        "Rt: 25412 Csigma: 2.35055e-13 Tp: 0.0385128 res: 0.00335218"
       ]
      },
      {
       "output_type": "stream",
       "stream": "stdout",
       "text": [
        "\n",
        "Rt: 25412 Csigma: 2.35055e-13 Tp: 0.0385128 res: 0.00335218"
       ]
      },
      {
       "output_type": "stream",
       "stream": "stdout",
       "text": [
        "\n",
        "Rt: 25411.5 Csigma: 2.35049e-13 Tp: 0.0384653 res: 0.00334839"
       ]
      },
      {
       "output_type": "stream",
       "stream": "stdout",
       "text": [
        "\n",
        "Rt: 25411.5 Csigma: 2.35049e-13 Tp: 0.0384653 res: 0.00334839"
       ]
      },
      {
       "output_type": "stream",
       "stream": "stdout",
       "text": [
        "\n",
        "Rt: 25411.5 Csigma: 2.35049e-13 Tp: 0.0384653 res: 0.00334839"
       ]
      },
      {
       "output_type": "stream",
       "stream": "stdout",
       "text": [
        "\n",
        "Rt: 25411.5 Csigma: 2.35049e-13 Tp: 0.0384653 res: 0.00334839"
       ]
      },
      {
       "output_type": "stream",
       "stream": "stdout",
       "text": [
        "\n",
        "Rt: 25411.5 Csigma: 2.35049e-13 Tp: 0.0384653 res: 0.00334839"
       ]
      },
      {
       "output_type": "stream",
       "stream": "stdout",
       "text": [
        "\n",
        "Rt: 25409.4 Csigma: 2.35004e-13 Tp: 0.0381435 res: 0.00333337"
       ]
      },
      {
       "output_type": "stream",
       "stream": "stdout",
       "text": [
        "\n",
        "Rt: 25409.4 Csigma: 2.35004e-13 Tp: 0.0381435 res: 0.00333337"
       ]
      },
      {
       "output_type": "stream",
       "stream": "stdout",
       "text": [
        "\n",
        "Rt: 25409.4 Csigma: 2.35004e-13 Tp: 0.0381435 res: 0.00333337"
       ]
      },
      {
       "output_type": "stream",
       "stream": "stdout",
       "text": [
        "\n",
        "Rt: 25409.4 Csigma: 2.35004e-13 Tp: 0.0381435 res: 0.00333337"
       ]
      },
      {
       "output_type": "stream",
       "stream": "stdout",
       "text": [
        "\n",
        "Rt: 25409.4 Csigma: 2.35004e-13 Tp: 0.0381435 res: 0.00333337"
       ]
      },
      {
       "output_type": "stream",
       "stream": "stdout",
       "text": [
        "\n",
        "Rt: 25409.6 Csigma: 2.34982e-13 Tp: 0.0379813 res: 0.00332436"
       ]
      },
      {
       "output_type": "stream",
       "stream": "stdout",
       "text": [
        "\n",
        "Rt: 25409.6 Csigma: 2.34982e-13 Tp: 0.0379813 res: 0.00332436"
       ]
      },
      {
       "output_type": "stream",
       "stream": "stdout",
       "text": [
        "\n",
        "Rt: 25409.6 Csigma: 2.34982e-13 Tp: 0.0379813 res: 0.00332436"
       ]
      },
      {
       "output_type": "stream",
       "stream": "stdout",
       "text": [
        "\n",
        "Rt: 25409.6 Csigma: 2.34982e-13 Tp: 0.0379813 res: 0.00332436"
       ]
      },
      {
       "output_type": "stream",
       "stream": "stdout",
       "text": [
        "\n",
        "Rt: 25409.6 Csigma: 2.34982e-13 Tp: 0.0379813 res: 0.00332436"
       ]
      },
      {
       "output_type": "stream",
       "stream": "stdout",
       "text": [
        "\n",
        "Rt: 25411.6 Csigma: 2.34924e-13 Tp: 0.0375651 res: 0.00331005"
       ]
      },
      {
       "output_type": "stream",
       "stream": "stdout",
       "text": [
        "\n",
        "Rt: 25411.6 Csigma: 2.34924e-13 Tp: 0.0375651 res: 0.00331005"
       ]
      },
      {
       "output_type": "stream",
       "stream": "stdout",
       "text": [
        "\n",
        "Rt: 25411.6 Csigma: 2.34924e-13 Tp: 0.0375651 res: 0.00331005"
       ]
      },
      {
       "output_type": "stream",
       "stream": "stdout",
       "text": [
        "\n",
        "Rt: 25411.6 Csigma: 2.34924e-13 Tp: 0.0375651 res: 0.00331005"
       ]
      },
      {
       "output_type": "stream",
       "stream": "stdout",
       "text": [
        "\n",
        "Rt: 25411.6 Csigma: 2.34924e-13 Tp: 0.0375651 res: 0.00331005"
       ]
      },
      {
       "output_type": "stream",
       "stream": "stdout",
       "text": [
        "\n",
        "Rt: 25412.1 Csigma: 2.3493e-13 Tp: 0.0376081 res: 0.00330957"
       ]
      },
      {
       "output_type": "stream",
       "stream": "stdout",
       "text": [
        "\n",
        "Rt: 25412.1 Csigma: 2.3493e-13 Tp: 0.0376081 res: 0.00330957"
       ]
      },
      {
       "output_type": "stream",
       "stream": "stdout",
       "text": [
        "\n",
        "Rt: 25412.1 Csigma: 2.3493e-13 Tp: 0.0376081 res: 0.00330957"
       ]
      },
      {
       "output_type": "stream",
       "stream": "stdout",
       "text": [
        "\n",
        "Rt: 25412.1 Csigma: 2.3493e-13 Tp: 0.0376081 res: 0.00330957"
       ]
      },
      {
       "output_type": "stream",
       "stream": "stdout",
       "text": [
        "\n",
        "Rt: 25412.1 Csigma: 2.3493e-13 Tp: 0.0376081 res: 0.00330957"
       ]
      },
      {
       "output_type": "stream",
       "stream": "stdout",
       "text": [
        "\n",
        "Rt: 25412.2 Csigma: 2.34931e-13 Tp: 0.0376146 res: 0.00330955"
       ]
      },
      {
       "output_type": "stream",
       "stream": "stdout",
       "text": [
        "\n",
        "Rt: 25412.2 Csigma: 2.34931e-13 Tp: 0.0376146 res: 0.00330955"
       ]
      },
      {
       "output_type": "stream",
       "stream": "stdout",
       "text": [
        "\n",
        "Rt: 25412.2 Csigma: 2.34931e-13 Tp: 0.0376146 res: 0.00330955"
       ]
      },
      {
       "output_type": "stream",
       "stream": "stdout",
       "text": [
        "\n",
        "Rt: 25412.2 Csigma: 2.34931e-13 Tp: 0.0376146 res: 0.00330955"
       ]
      },
      {
       "output_type": "stream",
       "stream": "stdout",
       "text": [
        "\n",
        "Rt: 25412.2 Csigma: 2.34931e-13 Tp: 0.0376146 res: 0.00330955"
       ]
      },
      {
       "output_type": "stream",
       "stream": "stdout",
       "text": [
        "\n",
        "==========================================\n",
        "======   After main optimization:   ======\n",
        "==========================================\n",
        "R_T = 25.4122\n",
        "T = 37.6146 mK\n",
        "C_sigma = 234.931 \n",
        "It has taken 121.245 seconds = 2.02074 minutes\n",
        "N is obsolete\n",
        "============================================\n",
        " Calculated Voltage Offset = 7.67849e-07\n",
        "============================================\n",
        "=================================================\n",
        "==============  Starting Values   ===============\n",
        "=================================================\n",
        "Rt_init: 28 KOhm T_init: 10 mK E_C_init: 5 mK\n",
        "=================================================\n",
        "[ 0.03650152  0.0100023   0.00497662]"
       ]
      },
      {
       "output_type": "stream",
       "stream": "stdout",
       "text": [
        "\n",
        "[ 0.03642465  0.01138732  0.00097695]"
       ]
      },
      {
       "output_type": "stream",
       "stream": "stdout",
       "text": [
        "\n",
        "[ 0.03652799  0.0278936   0.00565095]\n",
        "[ 0.03758116  0.0276196   0.00533286]"
       ]
      },
      {
       "output_type": "stream",
       "stream": "stdout",
       "text": [
        "\n",
        "[ 0.03928364  0.02944957  0.00515881]\n",
        "[ 0.03932103  0.03625809  0.00676252]\n",
        "[ 0.03934576  0.04079869  0.00768272]"
       ]
      },
      {
       "output_type": "stream",
       "stream": "stdout",
       "text": [
        "\n",
        "[ 0.03935527  0.04324006  0.00805095]\n",
        "[ 0.03936088  0.04572175  0.00827013]\n",
        "[ 0.03936011  0.04754344  0.0082419 ]"
       ]
      },
      {
       "output_type": "stream",
       "stream": "stdout",
       "text": [
        "\n",
        "[ 0.03935494  0.04799197  0.00804201]\n",
        "[ 0.03935177  0.04770641  0.0079198 ]\n",
        "[ 0.03935087  0.04748975  0.00788504]"
       ]
      },
      {
       "output_type": "stream",
       "stream": "stdout",
       "text": [
        "\n",
        "[ 0.03935071  0.04741119  0.00787898]\n",
        "[ 0.03935073  0.04740806  0.00787955]\n",
        "[ 0.03935073  0.04740827  0.00787965]"
       ]
      },
      {
       "output_type": "stream",
       "stream": "stdout",
       "text": [
        "\n",
        "[ 0.03935073  0.04740828  0.00787965]\n",
        "Optimization terminated successfully.\n",
        "         Current function value: 0.014466\n",
        "         Iterations: 17\n",
        "         Function evaluations: 125\n",
        "         Gradient evaluations: 25\n",
        "=========================================\n",
        "====== After initial optimization: ======\n",
        "=========================================\n",
        "R_T = 25.4125 kOhm\n",
        "R_T_arrays = 41.9306 kOhm\n",
        "T = 47.4083 mK\n",
        "Ec = 3.93982 mK\n",
        "Csigma = 235.956 fF\n",
        "Rt: 25412.5 Csigma: 2.35956e-13 Tp: 0.0474083 res: 0.00146885"
       ]
      },
      {
       "output_type": "stream",
       "stream": "stdout",
       "text": [
        "\n",
        "Rt: 25412.5 Csigma: 2.35956e-13 Tp: 0.0474083 res: 0.00146885"
       ]
      },
      {
       "output_type": "stream",
       "stream": "stdout",
       "text": [
        "\n",
        "Rt: 25412.5 Csigma: 2.35956e-13 Tp: 0.0474083 res: 0.00146885"
       ]
      },
      {
       "output_type": "stream",
       "stream": "stdout",
       "text": [
        "\n",
        "Rt: 25412.5 Csigma: 2.35956e-13 Tp: 0.0474083 res: 0.00146885"
       ]
      },
      {
       "output_type": "stream",
       "stream": "stdout",
       "text": [
        "\n",
        "Rt: 25412.5 Csigma: 2.35956e-13 Tp: 0.0474083 res: 0.00146885"
       ]
      },
      {
       "output_type": "stream",
       "stream": "stdout",
       "text": [
        "\n",
        "Rt: 25412.4 Csigma: 2.35956e-13 Tp: 0.0474082 res: 0.00146885"
       ]
      },
      {
       "output_type": "stream",
       "stream": "stdout",
       "text": [
        "\n",
        "Rt: 25412.4 Csigma: 2.35956e-13 Tp: 0.0474082 res: 0.00146885"
       ]
      },
      {
       "output_type": "stream",
       "stream": "stdout",
       "text": [
        "\n",
        "Rt: 25412.4 Csigma: 2.35956e-13 Tp: 0.0474082 res: 0.00146885"
       ]
      },
      {
       "output_type": "stream",
       "stream": "stdout",
       "text": [
        "\n",
        "Rt: 25412.4 Csigma: 2.35956e-13 Tp: 0.0474082 res: 0.00146885"
       ]
      },
      {
       "output_type": "stream",
       "stream": "stdout",
       "text": [
        "\n",
        "Rt: 25412.4 Csigma: 2.35956e-13 Tp: 0.0474082 res: 0.00146885"
       ]
      },
      {
       "output_type": "stream",
       "stream": "stdout",
       "text": [
        "\n",
        "Rt: 25412.4 Csigma: 2.35956e-13 Tp: 0.0474083 res: 0.00146884"
       ]
      },
      {
       "output_type": "stream",
       "stream": "stdout",
       "text": [
        "\n",
        "Rt: 25412.4 Csigma: 2.35956e-13 Tp: 0.0474083 res: 0.00146884"
       ]
      },
      {
       "output_type": "stream",
       "stream": "stdout",
       "text": [
        "\n",
        "Rt: 25412.4 Csigma: 2.35956e-13 Tp: 0.0474083 res: 0.00146884"
       ]
      },
      {
       "output_type": "stream",
       "stream": "stdout",
       "text": [
        "\n",
        "Rt: 25412.4 Csigma: 2.35956e-13 Tp: 0.0474083 res: 0.00146884"
       ]
      },
      {
       "output_type": "stream",
       "stream": "stdout",
       "text": [
        "\n",
        "Rt: 25412.4 Csigma: 2.35956e-13 Tp: 0.0474083 res: 0.00146884"
       ]
      },
      {
       "output_type": "stream",
       "stream": "stdout",
       "text": [
        "\n",
        "Rt: 25412.4 Csigma: 2.35956e-13 Tp: 0.0474082 res: 0.00146884"
       ]
      },
      {
       "output_type": "stream",
       "stream": "stdout",
       "text": [
        "\n",
        "Rt: 25412.4 Csigma: 2.35956e-13 Tp: 0.0474082 res: 0.00146884"
       ]
      },
      {
       "output_type": "stream",
       "stream": "stdout",
       "text": [
        "\n",
        "Rt: 25412.4 Csigma: 2.35956e-13 Tp: 0.0474082 res: 0.00146884"
       ]
      },
      {
       "output_type": "stream",
       "stream": "stdout",
       "text": [
        "\n",
        "Rt: 25412.4 Csigma: 2.35956e-13 Tp: 0.0474082 res: 0.00146884"
       ]
      },
      {
       "output_type": "stream",
       "stream": "stdout",
       "text": [
        "\n",
        "Rt: 25412.4 Csigma: 2.35956e-13 Tp: 0.0474082 res: 0.00146884"
       ]
      },
      {
       "output_type": "stream",
       "stream": "stdout",
       "text": [
        "\n",
        "Rt: 25412.4 Csigma: 2.35956e-13 Tp: 0.0474082 res: 0.00146884"
       ]
      },
      {
       "output_type": "stream",
       "stream": "stdout",
       "text": [
        "\n",
        "Rt: 25412.4 Csigma: 2.35956e-13 Tp: 0.0474082 res: 0.00146884"
       ]
      },
      {
       "output_type": "stream",
       "stream": "stdout",
       "text": [
        "\n",
        "Rt: 25412.4 Csigma: 2.35956e-13 Tp: 0.0474082 res: 0.00146884"
       ]
      },
      {
       "output_type": "stream",
       "stream": "stdout",
       "text": [
        "\n",
        "Rt: 25412.4 Csigma: 2.35956e-13 Tp: 0.0474082 res: 0.00146884"
       ]
      },
      {
       "output_type": "stream",
       "stream": "stdout",
       "text": [
        "\n",
        "Rt: 25412.4 Csigma: 2.35956e-13 Tp: 0.0474082 res: 0.00146884"
       ]
      },
      {
       "output_type": "stream",
       "stream": "stdout",
       "text": [
        "\n",
        "Rt: 25412.4 Csigma: 2.35956e-13 Tp: 0.0474079 res: 0.00146883"
       ]
      },
      {
       "output_type": "stream",
       "stream": "stdout",
       "text": [
        "\n",
        "Rt: 25412.4 Csigma: 2.35956e-13 Tp: 0.0474079 res: 0.00146883"
       ]
      },
      {
       "output_type": "stream",
       "stream": "stdout",
       "text": [
        "\n",
        "Rt: 25412.4 Csigma: 2.35956e-13 Tp: 0.0474079 res: 0.00146883"
       ]
      },
      {
       "output_type": "stream",
       "stream": "stdout",
       "text": [
        "\n",
        "Rt: 25412.4 Csigma: 2.35956e-13 Tp: 0.0474079 res: 0.00146883"
       ]
      },
      {
       "output_type": "stream",
       "stream": "stdout",
       "text": [
        "\n",
        "Rt: 25412.4 Csigma: 2.35956e-13 Tp: 0.0474079 res: 0.00146883"
       ]
      },
      {
       "output_type": "stream",
       "stream": "stdout",
       "text": [
        "\n",
        "Rt: 25412.4 Csigma: 2.35955e-13 Tp: 0.0474032 res: 0.00146864"
       ]
      },
      {
       "output_type": "stream",
       "stream": "stdout",
       "text": [
        "\n",
        "Rt: 25412.4 Csigma: 2.35955e-13 Tp: 0.0474032 res: 0.00146864"
       ]
      },
      {
       "output_type": "stream",
       "stream": "stdout",
       "text": [
        "\n",
        "Rt: 25412.4 Csigma: 2.35955e-13 Tp: 0.0474032 res: 0.00146864"
       ]
      },
      {
       "output_type": "stream",
       "stream": "stdout",
       "text": [
        "\n",
        "Rt: 25412.4 Csigma: 2.35955e-13 Tp: 0.0474032 res: 0.00146864"
       ]
      },
      {
       "output_type": "stream",
       "stream": "stdout",
       "text": [
        "\n",
        "Rt: 25412.4 Csigma: 2.35955e-13 Tp: 0.0474032 res: 0.00146864"
       ]
      },
      {
       "output_type": "stream",
       "stream": "stdout",
       "text": [
        "\n",
        "Rt: 25412.2 Csigma: 2.35953e-13 Tp: 0.0473843 res: 0.00146797"
       ]
      },
      {
       "output_type": "stream",
       "stream": "stdout",
       "text": [
        "\n",
        "Rt: 25412.2 Csigma: 2.35953e-13 Tp: 0.0473843 res: 0.00146797"
       ]
      },
      {
       "output_type": "stream",
       "stream": "stdout",
       "text": [
        "\n",
        "Rt: 25412.2 Csigma: 2.35953e-13 Tp: 0.0473843 res: 0.00146797"
       ]
      },
      {
       "output_type": "stream",
       "stream": "stdout",
       "text": [
        "\n",
        "Rt: 25412.2 Csigma: 2.35953e-13 Tp: 0.0473843 res: 0.00146797"
       ]
      },
      {
       "output_type": "stream",
       "stream": "stdout",
       "text": [
        "\n",
        "Rt: 25412.2 Csigma: 2.35953e-13 Tp: 0.0473843 res: 0.00146797"
       ]
      },
      {
       "output_type": "stream",
       "stream": "stdout",
       "text": [
        "\n",
        "Rt: 25409.3 Csigma: 2.35897e-13 Tp: 0.0469566 res: 0.00146669"
       ]
      },
      {
       "output_type": "stream",
       "stream": "stdout",
       "text": [
        "\n",
        "Rt: 25409.3 Csigma: 2.35897e-13 Tp: 0.0469566 res: 0.00146669"
       ]
      },
      {
       "output_type": "stream",
       "stream": "stdout",
       "text": [
        "\n",
        "Rt: 25409.3 Csigma: 2.35897e-13 Tp: 0.0469566 res: 0.00146669"
       ]
      },
      {
       "output_type": "stream",
       "stream": "stdout",
       "text": [
        "\n",
        "Rt: 25409.3 Csigma: 2.35897e-13 Tp: 0.0469566 res: 0.00146669"
       ]
      },
      {
       "output_type": "stream",
       "stream": "stdout",
       "text": [
        "\n",
        "Rt: 25409.3 Csigma: 2.35897e-13 Tp: 0.0469566 res: 0.00146669"
       ]
      },
      {
       "output_type": "stream",
       "stream": "stdout",
       "text": [
        "\n",
        "Rt: 25410.8 Csigma: 2.35913e-13 Tp: 0.0470833 res: 0.00146128"
       ]
      },
      {
       "output_type": "stream",
       "stream": "stdout",
       "text": [
        "\n",
        "Rt: 25410.8 Csigma: 2.35913e-13 Tp: 0.0470833 res: 0.00146128"
       ]
      },
      {
       "output_type": "stream",
       "stream": "stdout",
       "text": [
        "\n",
        "Rt: 25410.8 Csigma: 2.35913e-13 Tp: 0.0470833 res: 0.00146128"
       ]
      },
      {
       "output_type": "stream",
       "stream": "stdout",
       "text": [
        "\n",
        "Rt: 25410.8 Csigma: 2.35913e-13 Tp: 0.0470833 res: 0.00146128"
       ]
      },
      {
       "output_type": "stream",
       "stream": "stdout",
       "text": [
        "\n",
        "Rt: 25410.8 Csigma: 2.35913e-13 Tp: 0.0470833 res: 0.00146128"
       ]
      },
      {
       "output_type": "stream",
       "stream": "stdout",
       "text": [
        "\n",
        "Rt: 25411.5 Csigma: 2.35907e-13 Tp: 0.0470382 res: 0.0014579"
       ]
      },
      {
       "output_type": "stream",
       "stream": "stdout",
       "text": [
        "\n",
        "Rt: 25411.5 Csigma: 2.35907e-13 Tp: 0.0470382 res: 0.0014579"
       ]
      },
      {
       "output_type": "stream",
       "stream": "stdout",
       "text": [
        "\n",
        "Rt: 25411.5 Csigma: 2.35907e-13 Tp: 0.0470382 res: 0.0014579"
       ]
      },
      {
       "output_type": "stream",
       "stream": "stdout",
       "text": [
        "\n",
        "Rt: 25411.5 Csigma: 2.35907e-13 Tp: 0.0470382 res: 0.0014579"
       ]
      },
      {
       "output_type": "stream",
       "stream": "stdout",
       "text": [
        "\n",
        "Rt: 25411.5 Csigma: 2.35907e-13 Tp: 0.0470382 res: 0.0014579"
       ]
      },
      {
       "output_type": "stream",
       "stream": "stdout",
       "text": [
        "\n",
        "Rt: 25412.7 Csigma: 2.35873e-13 Tp: 0.0467748 res: 0.00145228"
       ]
      },
      {
       "output_type": "stream",
       "stream": "stdout",
       "text": [
        "\n",
        "Rt: 25412.7 Csigma: 2.35873e-13 Tp: 0.0467748 res: 0.00145228"
       ]
      },
      {
       "output_type": "stream",
       "stream": "stdout",
       "text": [
        "\n",
        "Rt: 25412.7 Csigma: 2.35873e-13 Tp: 0.0467748 res: 0.00145228"
       ]
      },
      {
       "output_type": "stream",
       "stream": "stdout",
       "text": [
        "\n",
        "Rt: 25412.7 Csigma: 2.35873e-13 Tp: 0.0467748 res: 0.00145228"
       ]
      },
      {
       "output_type": "stream",
       "stream": "stdout",
       "text": [
        "\n",
        "Rt: 25412.7 Csigma: 2.35873e-13 Tp: 0.0467748 res: 0.00145228"
       ]
      },
      {
       "output_type": "stream",
       "stream": "stdout",
       "text": [
        "\n",
        "Rt: 25412.7 Csigma: 2.35845e-13 Tp: 0.0465596 res: 0.00145084"
       ]
      },
      {
       "output_type": "stream",
       "stream": "stdout",
       "text": [
        "\n",
        "Rt: 25412.7 Csigma: 2.35845e-13 Tp: 0.0465596 res: 0.00145084"
       ]
      },
      {
       "output_type": "stream",
       "stream": "stdout",
       "text": [
        "\n",
        "Rt: 25412.7 Csigma: 2.35845e-13 Tp: 0.0465596 res: 0.00145084"
       ]
      },
      {
       "output_type": "stream",
       "stream": "stdout",
       "text": [
        "\n",
        "Rt: 25412.7 Csigma: 2.35845e-13 Tp: 0.0465596 res: 0.00145084"
       ]
      },
      {
       "output_type": "stream",
       "stream": "stdout",
       "text": [
        "\n",
        "Rt: 25412.7 Csigma: 2.35845e-13 Tp: 0.0465596 res: 0.00145084"
       ]
      },
      {
       "output_type": "stream",
       "stream": "stdout",
       "text": [
        "\n",
        "Rt: 25412.5 Csigma: 2.35834e-13 Tp: 0.0464811 res: 0.00145071"
       ]
      },
      {
       "output_type": "stream",
       "stream": "stdout",
       "text": [
        "\n",
        "Rt: 25412.5 Csigma: 2.35834e-13 Tp: 0.0464811 res: 0.00145071"
       ]
      },
      {
       "output_type": "stream",
       "stream": "stdout",
       "text": [
        "\n",
        "Rt: 25412.5 Csigma: 2.35834e-13 Tp: 0.0464811 res: 0.00145071"
       ]
      },
      {
       "output_type": "stream",
       "stream": "stdout",
       "text": [
        "\n",
        "Rt: 25412.5 Csigma: 2.35834e-13 Tp: 0.0464811 res: 0.00145071"
       ]
      },
      {
       "output_type": "stream",
       "stream": "stdout",
       "text": [
        "\n",
        "Rt: 25412.5 Csigma: 2.35834e-13 Tp: 0.0464811 res: 0.00145071"
       ]
      },
      {
       "output_type": "stream",
       "stream": "stdout",
       "text": [
        "\n",
        "Rt: 25412.4 Csigma: 2.35836e-13 Tp: 0.0464968 res: 0.00145068"
       ]
      },
      {
       "output_type": "stream",
       "stream": "stdout",
       "text": [
        "\n",
        "Rt: 25412.4 Csigma: 2.35836e-13 Tp: 0.0464968 res: 0.00145068"
       ]
      },
      {
       "output_type": "stream",
       "stream": "stdout",
       "text": [
        "\n",
        "Rt: 25412.4 Csigma: 2.35836e-13 Tp: 0.0464968 res: 0.00145068"
       ]
      },
      {
       "output_type": "stream",
       "stream": "stdout",
       "text": [
        "\n",
        "Rt: 25412.4 Csigma: 2.35836e-13 Tp: 0.0464968 res: 0.00145068"
       ]
      },
      {
       "output_type": "stream",
       "stream": "stdout",
       "text": [
        "\n",
        "Rt: 25412.4 Csigma: 2.35836e-13 Tp: 0.0464968 res: 0.00145068"
       ]
      },
      {
       "output_type": "stream",
       "stream": "stdout",
       "text": [
        "\n",
        "Rt: 25412.1 Csigma: 2.35845e-13 Tp: 0.0465594 res: 0.00145083"
       ]
      },
      {
       "output_type": "stream",
       "stream": "stdout",
       "text": [
        "\n",
        "Rt: 25412.1 Csigma: 2.35845e-13 Tp: 0.0465594 res: 0.00145083"
       ]
      },
      {
       "output_type": "stream",
       "stream": "stdout",
       "text": [
        "\n",
        "Rt: 25412.1 Csigma: 2.35845e-13 Tp: 0.0465594 res: 0.00145083"
       ]
      },
      {
       "output_type": "stream",
       "stream": "stdout",
       "text": [
        "\n",
        "Rt: 25412.1 Csigma: 2.35845e-13 Tp: 0.0465594 res: 0.00145083"
       ]
      },
      {
       "output_type": "stream",
       "stream": "stdout",
       "text": [
        "\n",
        "Rt: 25412.1 Csigma: 2.35845e-13 Tp: 0.0465594 res: 0.00145083"
       ]
      },
      {
       "output_type": "stream",
       "stream": "stdout",
       "text": [
        "\n",
        "Rt: 25412.4 Csigma: 2.35838e-13 Tp: 0.0465081 res: 0.00145067"
       ]
      },
      {
       "output_type": "stream",
       "stream": "stdout",
       "text": [
        "\n",
        "Rt: 25412.4 Csigma: 2.35838e-13 Tp: 0.0465081 res: 0.00145067"
       ]
      },
      {
       "output_type": "stream",
       "stream": "stdout",
       "text": [
        "\n",
        "Rt: 25412.4 Csigma: 2.35838e-13 Tp: 0.0465081 res: 0.00145067"
       ]
      },
      {
       "output_type": "stream",
       "stream": "stdout",
       "text": [
        "\n",
        "Rt: 25412.4 Csigma: 2.35838e-13 Tp: 0.0465081 res: 0.00145067"
       ]
      },
      {
       "output_type": "stream",
       "stream": "stdout",
       "text": [
        "\n",
        "Rt: 25412.4 Csigma: 2.35838e-13 Tp: 0.0465081 res: 0.00145067"
       ]
      },
      {
       "output_type": "stream",
       "stream": "stdout",
       "text": [
        "\n",
        "Rt: 25412.4 Csigma: 2.35836e-13 Tp: 0.0464972 res: 0.00145068"
       ]
      },
      {
       "output_type": "stream",
       "stream": "stdout",
       "text": [
        "\n",
        "Rt: 25412.4 Csigma: 2.35836e-13 Tp: 0.0464972 res: 0.00145068"
       ]
      },
      {
       "output_type": "stream",
       "stream": "stdout",
       "text": [
        "\n",
        "Rt: 25412.4 Csigma: 2.35836e-13 Tp: 0.0464972 res: 0.00145068"
       ]
      },
      {
       "output_type": "stream",
       "stream": "stdout",
       "text": [
        "\n",
        "Rt: 25412.4 Csigma: 2.35836e-13 Tp: 0.0464972 res: 0.00145068"
       ]
      },
      {
       "output_type": "stream",
       "stream": "stdout",
       "text": [
        "\n",
        "Rt: 25412.4 Csigma: 2.35836e-13 Tp: 0.0464972 res: 0.00145068"
       ]
      },
      {
       "output_type": "stream",
       "stream": "stdout",
       "text": [
        "\n",
        "Rt: 25412.4 Csigma: 2.35838e-13 Tp: 0.0465056 res: 0.00145067"
       ]
      },
      {
       "output_type": "stream",
       "stream": "stdout",
       "text": [
        "\n",
        "Rt: 25412.4 Csigma: 2.35838e-13 Tp: 0.0465056 res: 0.00145067"
       ]
      },
      {
       "output_type": "stream",
       "stream": "stdout",
       "text": [
        "\n",
        "Rt: 25412.4 Csigma: 2.35838e-13 Tp: 0.0465056 res: 0.00145067"
       ]
      },
      {
       "output_type": "stream",
       "stream": "stdout",
       "text": [
        "\n",
        "Rt: 25412.4 Csigma: 2.35838e-13 Tp: 0.0465056 res: 0.00145067"
       ]
      },
      {
       "output_type": "stream",
       "stream": "stdout",
       "text": [
        "\n",
        "Rt: 25412.4 Csigma: 2.35838e-13 Tp: 0.0465056 res: 0.00145067"
       ]
      },
      {
       "output_type": "stream",
       "stream": "stdout",
       "text": [
        "\n",
        "Rt: 25412.4 Csigma: 2.35838e-13 Tp: 0.0465075 res: 0.00145067"
       ]
      },
      {
       "output_type": "stream",
       "stream": "stdout",
       "text": [
        "\n",
        "Rt: 25412.4 Csigma: 2.35838e-13 Tp: 0.0465075 res: 0.00145067"
       ]
      },
      {
       "output_type": "stream",
       "stream": "stdout",
       "text": [
        "\n",
        "Rt: 25412.4 Csigma: 2.35838e-13 Tp: 0.0465075 res: 0.00145067"
       ]
      },
      {
       "output_type": "stream",
       "stream": "stdout",
       "text": [
        "\n",
        "Rt: 25412.4 Csigma: 2.35838e-13 Tp: 0.0465075 res: 0.00145067"
       ]
      },
      {
       "output_type": "stream",
       "stream": "stdout",
       "text": [
        "\n",
        "Rt: 25412.4 Csigma: 2.35838e-13 Tp: 0.0465075 res: 0.00145067"
       ]
      },
      {
       "output_type": "stream",
       "stream": "stdout",
       "text": [
        "\n",
        "Rt: 25412.4 Csigma: 2.35838e-13 Tp: 0.0465078 res: 0.00145067"
       ]
      },
      {
       "output_type": "stream",
       "stream": "stdout",
       "text": [
        "\n",
        "Rt: 25412.4 Csigma: 2.35838e-13 Tp: 0.0465078 res: 0.00145067"
       ]
      },
      {
       "output_type": "stream",
       "stream": "stdout",
       "text": [
        "\n",
        "Rt: 25412.4 Csigma: 2.35838e-13 Tp: 0.0465078 res: 0.00145067"
       ]
      },
      {
       "output_type": "stream",
       "stream": "stdout",
       "text": [
        "\n",
        "Rt: 25412.4 Csigma: 2.35838e-13 Tp: 0.0465078 res: 0.00145067"
       ]
      },
      {
       "output_type": "stream",
       "stream": "stdout",
       "text": [
        "\n",
        "Rt: 25412.4 Csigma: 2.35838e-13 Tp: 0.0465078 res: 0.00145067"
       ]
      },
      {
       "output_type": "stream",
       "stream": "stdout",
       "text": [
        "\n",
        "==========================================\n",
        "======   After main optimization:   ======\n",
        "==========================================\n",
        "R_T = 25.4124\n",
        "T = 46.5078 mK\n",
        "C_sigma = 235.838 \n",
        "It has taken 214.213 seconds = 3.57022 minutes\n",
        "N is obsolete\n",
        "============================================\n",
        " Calculated Voltage Offset = -5.95347e-07\n",
        "============================================\n",
        "=================================================\n",
        "==============  Starting Values   ===============\n",
        "=================================================\n",
        "Rt_init: 28 KOhm T_init: 10 mK E_C_init: 5 mK\n",
        "=================================================\n",
        "[ 0.03615224  0.01000102  0.00498894]"
       ]
      },
      {
       "output_type": "stream",
       "stream": "stdout",
       "text": [
        "\n",
        "[ 0.03601963  0.01265821 -0.00351831]\n",
        "[ 0.0360371   0.02105239 -0.00276264]"
       ]
      },
      {
       "output_type": "stream",
       "stream": "stdout",
       "text": [
        "\n",
        "[ 0.03665856  0.02201573 -0.0025448 ]"
       ]
      },
      {
       "output_type": "stream",
       "stream": "stdout",
       "text": [
        "\n",
        "[ 0.03807842  0.0236649  -0.00131376]\n",
        "[ 0.03920807  0.02260567  0.00090838]\n",
        "[ 0.03924057  0.02087617  0.00194466]"
       ]
      },
      {
       "output_type": "stream",
       "stream": "stdout",
       "text": [
        "\n",
        "[ 0.03925826  0.02007821  0.00336687]\n",
        "[ 0.03925923  0.02314301  0.00362209]\n",
        "[ 0.03927514  0.02962174  0.0045059 ]"
       ]
      },
      {
       "output_type": "stream",
       "stream": "stdout",
       "text": [
        "\n",
        "[ 0.03932352  0.04520225  0.00671332]\n",
        "[ 0.03933915  0.05034457  0.00736507]\n",
        "[ 0.03934579  0.05326806  0.0076653 ]"
       ]
      },
      {
       "output_type": "stream",
       "stream": "stdout",
       "text": [
        "\n",
        "[ 0.0393469   0.05442406  0.00772377]\n",
        "[ 0.03934593  0.05502984  0.00768791]\n",
        "[ 0.03934434  0.05497115  0.00761948]"
       ]
      },
      {
       "output_type": "stream",
       "stream": "stdout",
       "text": [
        "\n",
        "[ 0.03934364  0.05479908  0.00758814]\n",
        "[ 0.03934353  0.05474051  0.00758284]\n",
        "[ 0.03934353  0.05473492  0.00758286]"
       ]
      },
      {
       "output_type": "stream",
       "stream": "stdout",
       "text": [
        "\n",
        "[ 0.03934353  0.0547349   0.0075829 ]\n",
        "[ 0.03934353  0.05473496  0.00758291]\n",
        "Warning: Desired error not necessarily achieved due to precision loss."
       ]
      },
      {
       "output_type": "stream",
       "stream": "stdout",
       "text": [
        "\n",
        "         Current function value: 0.019289\n",
        "         Iterations: 21\n",
        "         Function evaluations: 300\n",
        "         Gradient evaluations: 58\n",
        "=========================================\n",
        "====== After initial optimization: ======\n",
        "=========================================\n",
        "R_T = 25.4171 kOhm\n",
        "R_T_arrays = 41.9383 kOhm\n",
        "T = 54.735 mK\n",
        "Ec = 3.79145 mK\n",
        "Csigma = 245.189 fF\n",
        "Rt: 25417.1 Csigma: 2.4e-13 Tp: 0.054735 res: 0.00193513"
       ]
      },
      {
       "output_type": "stream",
       "stream": "stdout",
       "text": [
        "\n",
        "Rt: 25417.1 Csigma: 2.4e-13 Tp: 0.054735 res: 0.00193513"
       ]
      },
      {
       "output_type": "stream",
       "stream": "stdout",
       "text": [
        "\n",
        "Rt: 25417.1 Csigma: 2.4e-13 Tp: 0.054735 res: 0.00193513"
       ]
      },
      {
       "output_type": "stream",
       "stream": "stdout",
       "text": [
        "\n",
        "Rt: 25417.1 Csigma: 2.4e-13 Tp: 0.054735 res: 0.00193513"
       ]
      },
      {
       "output_type": "stream",
       "stream": "stdout",
       "text": [
        "\n",
        "Rt: 25417.1 Csigma: 2.4e-13 Tp: 0.054735 res: 0.00193513"
       ]
      },
      {
       "output_type": "stream",
       "stream": "stdout",
       "text": [
        "\n",
        "Rt: 25411.8 Csigma: 2.4e-13 Tp: 0.054735 res: 0.00194066"
       ]
      },
      {
       "output_type": "stream",
       "stream": "stdout",
       "text": [
        "\n",
        "Rt: 25411.8 Csigma: 2.4e-13 Tp: 0.054735 res: 0.00194066"
       ]
      },
      {
       "output_type": "stream",
       "stream": "stdout",
       "text": [
        "\n",
        "Rt: 25411.8 Csigma: 2.4e-13 Tp: 0.054735 res: 0.00194066"
       ]
      },
      {
       "output_type": "stream",
       "stream": "stdout",
       "text": [
        "\n",
        "Rt: 25411.8 Csigma: 2.4e-13 Tp: 0.054735 res: 0.00194066"
       ]
      },
      {
       "output_type": "stream",
       "stream": "stdout",
       "text": [
        "\n",
        "Rt: 25411.8 Csigma: 2.4e-13 Tp: 0.054735 res: 0.00194066"
       ]
      },
      {
       "output_type": "stream",
       "stream": "stdout",
       "text": [
        "\n",
        "Rt: 25414.9 Csigma: 2.4e-13 Tp: 0.054735 res: 0.00192916"
       ]
      },
      {
       "output_type": "stream",
       "stream": "stdout",
       "text": [
        "\n",
        "Rt: 25414.9 Csigma: 2.4e-13 Tp: 0.054735 res: 0.00192916"
       ]
      },
      {
       "output_type": "stream",
       "stream": "stdout",
       "text": [
        "\n",
        "Rt: 25414.9 Csigma: 2.4e-13 Tp: 0.054735 res: 0.00192916"
       ]
      },
      {
       "output_type": "stream",
       "stream": "stdout",
       "text": [
        "\n",
        "Rt: 25414.9 Csigma: 2.4e-13 Tp: 0.054735 res: 0.00192916"
       ]
      },
      {
       "output_type": "stream",
       "stream": "stdout",
       "text": [
        "\n",
        "Rt: 25414.9 Csigma: 2.4e-13 Tp: 0.054735 res: 0.00192916"
       ]
      },
      {
       "output_type": "stream",
       "stream": "stdout",
       "text": [
        "\n",
        "==========================================\n",
        "======   After main optimization:   ======\n",
        "==========================================\n",
        "R_T = 25.4149\n",
        "T = 54.735 mK\n",
        "C_sigma = 240 \n",
        "It has taken 36.3116 seconds = 0.605193 minutes\n"
       ]
      }
     ],
     "prompt_number": 7
    },
    {
     "cell_type": "markdown",
     "metadata": {},
     "source": [
      "The calibration of the CBT sensor starts when the class *CBT_multi_fitter* is instantiated (see below). Then, the following operations are performed:\n",
      "\n",
      "(1) the average tunnel resistance $R_T^\\textrm{av}$ and total capacitance $C_\\Sigma^\\textrm{av}$,\n",
      "\n",
      "\\begin{equation}\n",
      "R_T^\\textrm{av}=\\frac{1}{M}\\sum_{j=1}^M R_{T, \\ j}^\\textrm{opt} \\qquad  C_\\Sigma^\\textrm{av}=\\frac{1}{M}\\sum_{j=1}^M C_{\\Sigma, \\ j}^\\textrm{opt} \\ ,\n",
      "\\end{equation}\n",
      "are calculated;\n",
      "\n",
      "(2) the initial vector of optimized parameters  $x_\\textrm{init}=$ [ $R_T^\\textrm{av}$ , $C_\\Sigma^\\textrm{av}$ , $T_{\\textrm{ph}, \\ 1}^\\textrm{opt}$ , ... , $T_{\\textrm{ph}, \\ M}^\\textrm{opt}$ ]  is created and the initial sum of quadratic errors $\\varepsilon$\n",
      "\n",
      "\\begin{equation}\n",
      "\\varepsilon=\\sum_{j=1}^M \\varepsilon_j \\qquad\\textrm{with}\\qquad\\varepsilon_j=\\sum_{i=1}^{n_\\textrm{points}} \\left[ G_i^{meas}-G_\\textrm{all}(V_i^{meas},R_T^\\textrm{av},C_\\Sigma^\\textrm{av},T_{\\textrm{ph}, \\ j}^\\textrm{opt})\\right]^2\n",
      "\\end{equation}\n",
      "\n",
      "is calculated. Here $n_\\textrm{points}$ is the number of the measured data points, $G_i^{meas}$ the $i$-th measured conductance, $V_i^{meas}$ the $i$-th measured voltage, and $G_\\textrm{all}$ the first derivative of the current $I$ given by Eq.(4) of the paper (1) (see IPython notebook [pyCBT tutorial.ipynb](https://github.com/AivonOy/pyCBT/src));\n",
      "\n",
      "(3) the errors in the vector $\\varepsilon$ are minimized by means of the Broyden-Fletcher-Goldfarb-Shanno (BFGS) method using the parameters of the vector $x_\\textrm{init}$. During the optimization, the vector $x_\\textrm{init}$ is updated and the tunnel resistance per junction $R_T$ (Rt), the total capacitance $C_\\Sigma$ (Csigma), the phonon temperature $T_\\textrm{ph}$ (Tp) and the error function (res) are shown per each conductance curve $\\textrm{Idx}=j-1=0,1,2,...,M-1$ (see below). At the end of the multi-fitting process, the calculated optimal parameters $R_T$, $C_\\Sigma$, $T_{\\textrm{ph},1}$, ..., $T_{\\textrm{ph},M}$ are printed;\n",
      "\n",
      "(4) the results obtained without and with multi-fitting, [ $R_T(0)$, $C_\\Sigma(0)$, $T_\\textrm{ph}(0)$ ] and [ $R_T(multi)$, $C_\\Sigma(multi)$, $T_\\textrm{ph}(multi)$ ] respectively, are printed per each measured conductance curve (see below);\n",
      "\n",
      "(5) using the tunnel resistance $R_T$ and the total capacitance $C_\\Sigma$ resulting from the multi-fitting, the characteristic zero-bias resistance $R(T)$ of the CBT is calculated and printed for the range of temperatures going from $5 \\ mK$ to $200 \\ mK$;\n",
      "\n",
      "(6) the values of the zero-bias resistance $R(T)$ are saved in a text file."
     ]
    },
    {
     "cell_type": "code",
     "collapsed": false,
     "input": [
      "multi_fitter = CBT_multi_fitter(fitters,             #  calibration class defined in CBT_fit_multi_T.py\n",
      "                                result_text_filename=results_txt_file,\n",
      "                                interpolation_table_file=interpolation_filename)"
     ],
     "language": "python",
     "metadata": {},
     "outputs": [
      {
       "output_type": "stream",
       "stream": "stdout",
       "text": [
        "Average C_sigma:235.722\n",
        "Average R_T:25.4113\n",
        "Initial vector\n",
        "[25.411321873864768, 235.72188802789947, 20.469601228531815, 28.668027147005049, 37.614645717008912, 46.507822053903084, 54.734957845658883]\n",
        "Idx:0,Rt:25411.3 Csigma:2.35722e-13 Tp:0.0204696 res:0.0034641"
       ]
      },
      {
       "output_type": "stream",
       "stream": "stdout",
       "text": [
        "\n",
        "Idx:1,Rt:25411.3 Csigma:2.35722e-13 Tp:0.028668 res:0.00640423"
       ]
      },
      {
       "output_type": "stream",
       "stream": "stdout",
       "text": [
        "\n",
        "Idx:2,Rt:25411.3 Csigma:2.35722e-13 Tp:0.0376146 res:0.00971834"
       ]
      },
      {
       "output_type": "stream",
       "stream": "stdout",
       "text": [
        "\n",
        "Idx:3,Rt:25411.3 Csigma:2.35722e-13 Tp:0.0465078 res:0.0111702"
       ]
      },
      {
       "output_type": "stream",
       "stream": "stdout",
       "text": [
        "\n",
        "Idx:4,Rt:25411.3 Csigma:2.35722e-13 Tp:0.054735 res:0.0131263"
       ]
      },
      {
       "output_type": "stream",
       "stream": "stdout",
       "text": [
        "\n",
        "Idx:0,Rt:25411.3 Csigma:2.35722e-13 Tp:0.0204696 res:0.0034641"
       ]
      },
      {
       "output_type": "stream",
       "stream": "stdout",
       "text": [
        "\n",
        "Idx:1,Rt:25411.3 Csigma:2.35722e-13 Tp:0.028668 res:0.00640423"
       ]
      },
      {
       "output_type": "stream",
       "stream": "stdout",
       "text": [
        "\n",
        "Idx:2,Rt:25411.3 Csigma:2.35722e-13 Tp:0.0376146 res:0.00971834"
       ]
      },
      {
       "output_type": "stream",
       "stream": "stdout",
       "text": [
        "\n",
        "Idx:3,Rt:25411.3 Csigma:2.35722e-13 Tp:0.0465078 res:0.0111702"
       ]
      },
      {
       "output_type": "stream",
       "stream": "stdout",
       "text": [
        "\n",
        "Idx:4,Rt:25411.3 Csigma:2.35722e-13 Tp:0.054735 res:0.0131263"
       ]
      },
      {
       "output_type": "stream",
       "stream": "stdout",
       "text": [
        "\n",
        "Idx:0,Rt:25411.3 Csigma:2.35722e-13 Tp:0.0204696 res:0.0034641"
       ]
      },
      {
       "output_type": "stream",
       "stream": "stdout",
       "text": [
        "\n",
        "Idx:1,Rt:25411.3 Csigma:2.35722e-13 Tp:0.028668 res:0.00640423"
       ]
      },
      {
       "output_type": "stream",
       "stream": "stdout",
       "text": [
        "\n",
        "Idx:2,Rt:25411.3 Csigma:2.35722e-13 Tp:0.0376146 res:0.00971834"
       ]
      },
      {
       "output_type": "stream",
       "stream": "stdout",
       "text": [
        "\n",
        "Idx:3,Rt:25411.3 Csigma:2.35722e-13 Tp:0.0465078 res:0.0111702"
       ]
      },
      {
       "output_type": "stream",
       "stream": "stdout",
       "text": [
        "\n",
        "Idx:4,Rt:25411.3 Csigma:2.35722e-13 Tp:0.054735 res:0.0131263"
       ]
      },
      {
       "output_type": "stream",
       "stream": "stdout",
       "text": [
        "\n",
        "Idx:0,Rt:25411.3 Csigma:2.35722e-13 Tp:0.0204696 res:0.0034641"
       ]
      },
      {
       "output_type": "stream",
       "stream": "stdout",
       "text": [
        "\n",
        "Idx:1,Rt:25411.3 Csigma:2.35722e-13 Tp:0.028668 res:0.00640423"
       ]
      },
      {
       "output_type": "stream",
       "stream": "stdout",
       "text": [
        "\n",
        "Idx:2,Rt:25411.3 Csigma:2.35722e-13 Tp:0.0376146 res:0.00971834"
       ]
      },
      {
       "output_type": "stream",
       "stream": "stdout",
       "text": [
        "\n",
        "Idx:3,Rt:25411.3 Csigma:2.35722e-13 Tp:0.0465078 res:0.0111702"
       ]
      },
      {
       "output_type": "stream",
       "stream": "stdout",
       "text": [
        "\n",
        "Idx:4,Rt:25411.3 Csigma:2.35722e-13 Tp:0.054735 res:0.0131263"
       ]
      },
      {
       "output_type": "stream",
       "stream": "stdout",
       "text": [
        "\n",
        "Idx:0,Rt:25411.3 Csigma:2.35722e-13 Tp:0.0204696 res:0.0034641"
       ]
      },
      {
       "output_type": "stream",
       "stream": "stdout",
       "text": [
        "\n",
        "Idx:1,Rt:25411.3 Csigma:2.35722e-13 Tp:0.028668 res:0.00640423"
       ]
      },
      {
       "output_type": "stream",
       "stream": "stdout",
       "text": [
        "\n",
        "Idx:2,Rt:25411.3 Csigma:2.35722e-13 Tp:0.0376146 res:0.00971834"
       ]
      },
      {
       "output_type": "stream",
       "stream": "stdout",
       "text": [
        "\n",
        "Idx:3,Rt:25411.3 Csigma:2.35722e-13 Tp:0.0465078 res:0.0111702"
       ]
      },
      {
       "output_type": "stream",
       "stream": "stdout",
       "text": [
        "\n",
        "Idx:4,Rt:25411.3 Csigma:2.35722e-13 Tp:0.054735 res:0.0131263"
       ]
      },
      {
       "output_type": "stream",
       "stream": "stdout",
       "text": [
        "\n",
        "Idx:0,Rt:25411.3 Csigma:2.35722e-13 Tp:0.0204696 res:0.0034641"
       ]
      },
      {
       "output_type": "stream",
       "stream": "stdout",
       "text": [
        "\n",
        "Idx:1,Rt:25411.3 Csigma:2.35722e-13 Tp:0.028668 res:0.00640423"
       ]
      },
      {
       "output_type": "stream",
       "stream": "stdout",
       "text": [
        "\n",
        "Idx:2,Rt:25411.3 Csigma:2.35722e-13 Tp:0.0376146 res:0.00971834"
       ]
      },
      {
       "output_type": "stream",
       "stream": "stdout",
       "text": [
        "\n",
        "Idx:3,Rt:25411.3 Csigma:2.35722e-13 Tp:0.0465078 res:0.0111702"
       ]
      },
      {
       "output_type": "stream",
       "stream": "stdout",
       "text": [
        "\n",
        "Idx:4,Rt:25411.3 Csigma:2.35722e-13 Tp:0.054735 res:0.0131263"
       ]
      },
      {
       "output_type": "stream",
       "stream": "stdout",
       "text": [
        "\n",
        "Idx:0,Rt:25411.3 Csigma:2.35722e-13 Tp:0.0204696 res:0.0034641"
       ]
      },
      {
       "output_type": "stream",
       "stream": "stdout",
       "text": [
        "\n",
        "Idx:1,Rt:25411.3 Csigma:2.35722e-13 Tp:0.028668 res:0.00640423"
       ]
      },
      {
       "output_type": "stream",
       "stream": "stdout",
       "text": [
        "\n",
        "Idx:2,Rt:25411.3 Csigma:2.35722e-13 Tp:0.0376146 res:0.00971834"
       ]
      },
      {
       "output_type": "stream",
       "stream": "stdout",
       "text": [
        "\n",
        "Idx:3,Rt:25411.3 Csigma:2.35722e-13 Tp:0.0465078 res:0.0111702"
       ]
      },
      {
       "output_type": "stream",
       "stream": "stdout",
       "text": [
        "\n",
        "Idx:4,Rt:25411.3 Csigma:2.35722e-13 Tp:0.054735 res:0.0131263"
       ]
      },
      {
       "output_type": "stream",
       "stream": "stdout",
       "text": [
        "\n",
        "Idx:0,Rt:25411.3 Csigma:2.35722e-13 Tp:0.0204696 res:0.0034641"
       ]
      },
      {
       "output_type": "stream",
       "stream": "stdout",
       "text": [
        "\n",
        "Idx:1,Rt:25411.3 Csigma:2.35722e-13 Tp:0.028668 res:0.00640423"
       ]
      },
      {
       "output_type": "stream",
       "stream": "stdout",
       "text": [
        "\n",
        "Idx:2,Rt:25411.3 Csigma:2.35722e-13 Tp:0.0376146 res:0.00971834"
       ]
      },
      {
       "output_type": "stream",
       "stream": "stdout",
       "text": [
        "\n",
        "Idx:3,Rt:25411.3 Csigma:2.35722e-13 Tp:0.0465078 res:0.0111702"
       ]
      },
      {
       "output_type": "stream",
       "stream": "stdout",
       "text": [
        "\n",
        "Idx:4,Rt:25411.3 Csigma:2.35722e-13 Tp:0.054735 res:0.0131263"
       ]
      },
      {
       "output_type": "stream",
       "stream": "stdout",
       "text": [
        "\n",
        "Idx:0,Rt:25411.3 Csigma:2.35722e-13 Tp:0.0204696 res:0.0034641"
       ]
      },
      {
       "output_type": "stream",
       "stream": "stdout",
       "text": [
        "\n",
        "Idx:1,Rt:25411.3 Csigma:2.35722e-13 Tp:0.028668 res:0.00640423"
       ]
      },
      {
       "output_type": "stream",
       "stream": "stdout",
       "text": [
        "\n",
        "Idx:2,Rt:25411.3 Csigma:2.35722e-13 Tp:0.0376146 res:0.00971834"
       ]
      },
      {
       "output_type": "stream",
       "stream": "stdout",
       "text": [
        "\n",
        "Idx:3,Rt:25411.3 Csigma:2.35722e-13 Tp:0.0465078 res:0.0111702"
       ]
      },
      {
       "output_type": "stream",
       "stream": "stdout",
       "text": [
        "\n",
        "Idx:4,Rt:25411.3 Csigma:2.35722e-13 Tp:0.054735 res:0.0131263"
       ]
      },
      {
       "output_type": "stream",
       "stream": "stdout",
       "text": [
        "\n",
        "Idx:0,Rt:25420.2 Csigma:2.35722e-13 Tp:0.0204693 res:0.00355171"
       ]
      },
      {
       "output_type": "stream",
       "stream": "stdout",
       "text": [
        "\n",
        "Idx:1,Rt:25420.2 Csigma:2.35722e-13 Tp:0.028668 res:0.0065973"
       ]
      },
      {
       "output_type": "stream",
       "stream": "stdout",
       "text": [
        "\n",
        "Idx:2,Rt:25420.2 Csigma:2.35722e-13 Tp:0.0376146 res:0.00997568"
       ]
      },
      {
       "output_type": "stream",
       "stream": "stdout",
       "text": [
        "\n",
        "Idx:3,Rt:25420.2 Csigma:2.35722e-13 Tp:0.0465078 res:0.0114994"
       ]
      },
      {
       "output_type": "stream",
       "stream": "stdout",
       "text": [
        "\n",
        "Idx:4,Rt:25420.2 Csigma:2.35722e-13 Tp:0.054735 res:0.0135133"
       ]
      },
      {
       "output_type": "stream",
       "stream": "stdout",
       "text": [
        "\n",
        "Idx:0,Rt:25420.2 Csigma:2.35722e-13 Tp:0.0204693 res:0.00355171"
       ]
      },
      {
       "output_type": "stream",
       "stream": "stdout",
       "text": [
        "\n",
        "Idx:1,Rt:25420.2 Csigma:2.35722e-13 Tp:0.028668 res:0.0065973"
       ]
      },
      {
       "output_type": "stream",
       "stream": "stdout",
       "text": [
        "\n",
        "Idx:2,Rt:25420.2 Csigma:2.35722e-13 Tp:0.0376146 res:0.00997568"
       ]
      },
      {
       "output_type": "stream",
       "stream": "stdout",
       "text": [
        "\n",
        "Idx:3,Rt:25420.2 Csigma:2.35722e-13 Tp:0.0465078 res:0.0114994"
       ]
      },
      {
       "output_type": "stream",
       "stream": "stdout",
       "text": [
        "\n",
        "Idx:4,Rt:25420.2 Csigma:2.35722e-13 Tp:0.054735 res:0.0135133"
       ]
      },
      {
       "output_type": "stream",
       "stream": "stdout",
       "text": [
        "\n",
        "Idx:0,Rt:25420.2 Csigma:2.35722e-13 Tp:0.0204693 res:0.00355171"
       ]
      },
      {
       "output_type": "stream",
       "stream": "stdout",
       "text": [
        "\n",
        "Idx:1,Rt:25420.2 Csigma:2.35722e-13 Tp:0.028668 res:0.0065973"
       ]
      },
      {
       "output_type": "stream",
       "stream": "stdout",
       "text": [
        "\n",
        "Idx:2,Rt:25420.2 Csigma:2.35722e-13 Tp:0.0376146 res:0.00997568"
       ]
      },
      {
       "output_type": "stream",
       "stream": "stdout",
       "text": [
        "\n",
        "Idx:3,Rt:25420.2 Csigma:2.35722e-13 Tp:0.0465078 res:0.0114994"
       ]
      },
      {
       "output_type": "stream",
       "stream": "stdout",
       "text": [
        "\n",
        "Idx:4,Rt:25420.2 Csigma:2.35722e-13 Tp:0.054735 res:0.0135133"
       ]
      },
      {
       "output_type": "stream",
       "stream": "stdout",
       "text": [
        "\n",
        "Idx:0,Rt:25420.2 Csigma:2.35722e-13 Tp:0.0204693 res:0.00355171"
       ]
      },
      {
       "output_type": "stream",
       "stream": "stdout",
       "text": [
        "\n",
        "Idx:1,Rt:25420.2 Csigma:2.35722e-13 Tp:0.028668 res:0.0065973"
       ]
      },
      {
       "output_type": "stream",
       "stream": "stdout",
       "text": [
        "\n",
        "Idx:2,Rt:25420.2 Csigma:2.35722e-13 Tp:0.0376146 res:0.00997568"
       ]
      },
      {
       "output_type": "stream",
       "stream": "stdout",
       "text": [
        "\n",
        "Idx:3,Rt:25420.2 Csigma:2.35722e-13 Tp:0.0465078 res:0.0114994"
       ]
      },
      {
       "output_type": "stream",
       "stream": "stdout",
       "text": [
        "\n",
        "Idx:4,Rt:25420.2 Csigma:2.35722e-13 Tp:0.054735 res:0.0135133"
       ]
      },
      {
       "output_type": "stream",
       "stream": "stdout",
       "text": [
        "\n",
        "Idx:0,Rt:25420.2 Csigma:2.35722e-13 Tp:0.0204693 res:0.00355171"
       ]
      },
      {
       "output_type": "stream",
       "stream": "stdout",
       "text": [
        "\n",
        "Idx:1,Rt:25420.2 Csigma:2.35722e-13 Tp:0.028668 res:0.0065973"
       ]
      },
      {
       "output_type": "stream",
       "stream": "stdout",
       "text": [
        "\n",
        "Idx:2,Rt:25420.2 Csigma:2.35722e-13 Tp:0.0376146 res:0.00997568"
       ]
      },
      {
       "output_type": "stream",
       "stream": "stdout",
       "text": [
        "\n",
        "Idx:3,Rt:25420.2 Csigma:2.35722e-13 Tp:0.0465078 res:0.0114994"
       ]
      },
      {
       "output_type": "stream",
       "stream": "stdout",
       "text": [
        "\n",
        "Idx:4,Rt:25420.2 Csigma:2.35722e-13 Tp:0.054735 res:0.0135133"
       ]
      },
      {
       "output_type": "stream",
       "stream": "stdout",
       "text": [
        "\n",
        "Idx:0,Rt:25420.2 Csigma:2.35722e-13 Tp:0.0204693 res:0.00355171"
       ]
      },
      {
       "output_type": "stream",
       "stream": "stdout",
       "text": [
        "\n",
        "Idx:1,Rt:25420.2 Csigma:2.35722e-13 Tp:0.028668 res:0.0065973"
       ]
      },
      {
       "output_type": "stream",
       "stream": "stdout",
       "text": [
        "\n",
        "Idx:2,Rt:25420.2 Csigma:2.35722e-13 Tp:0.0376146 res:0.00997568"
       ]
      },
      {
       "output_type": "stream",
       "stream": "stdout",
       "text": [
        "\n",
        "Idx:3,Rt:25420.2 Csigma:2.35722e-13 Tp:0.0465078 res:0.0114994"
       ]
      },
      {
       "output_type": "stream",
       "stream": "stdout",
       "text": [
        "\n",
        "Idx:4,Rt:25420.2 Csigma:2.35722e-13 Tp:0.054735 res:0.0135133"
       ]
      },
      {
       "output_type": "stream",
       "stream": "stdout",
       "text": [
        "\n",
        "Idx:0,Rt:25420.2 Csigma:2.35722e-13 Tp:0.0204693 res:0.00355171"
       ]
      },
      {
       "output_type": "stream",
       "stream": "stdout",
       "text": [
        "\n",
        "Idx:1,Rt:25420.2 Csigma:2.35722e-13 Tp:0.028668 res:0.0065973"
       ]
      },
      {
       "output_type": "stream",
       "stream": "stdout",
       "text": [
        "\n",
        "Idx:2,Rt:25420.2 Csigma:2.35722e-13 Tp:0.0376146 res:0.00997568"
       ]
      },
      {
       "output_type": "stream",
       "stream": "stdout",
       "text": [
        "\n",
        "Idx:3,Rt:25420.2 Csigma:2.35722e-13 Tp:0.0465078 res:0.0114994"
       ]
      },
      {
       "output_type": "stream",
       "stream": "stdout",
       "text": [
        "\n",
        "Idx:4,Rt:25420.2 Csigma:2.35722e-13 Tp:0.054735 res:0.0135133"
       ]
      },
      {
       "output_type": "stream",
       "stream": "stdout",
       "text": [
        "\n",
        "Idx:0,Rt:25420.2 Csigma:2.35722e-13 Tp:0.0204693 res:0.00355171"
       ]
      },
      {
       "output_type": "stream",
       "stream": "stdout",
       "text": [
        "\n",
        "Idx:1,Rt:25420.2 Csigma:2.35722e-13 Tp:0.028668 res:0.0065973"
       ]
      },
      {
       "output_type": "stream",
       "stream": "stdout",
       "text": [
        "\n",
        "Idx:2,Rt:25420.2 Csigma:2.35722e-13 Tp:0.0376146 res:0.00997568"
       ]
      },
      {
       "output_type": "stream",
       "stream": "stdout",
       "text": [
        "\n",
        "Idx:3,Rt:25420.2 Csigma:2.35722e-13 Tp:0.0465078 res:0.0114994"
       ]
      },
      {
       "output_type": "stream",
       "stream": "stdout",
       "text": [
        "\n",
        "Idx:4,Rt:25420.2 Csigma:2.35722e-13 Tp:0.054735 res:0.0135133"
       ]
      },
      {
       "output_type": "stream",
       "stream": "stdout",
       "text": [
        "\n",
        "Idx:0,Rt:25420.2 Csigma:2.35722e-13 Tp:0.0204693 res:0.00355171"
       ]
      },
      {
       "output_type": "stream",
       "stream": "stdout",
       "text": [
        "\n",
        "Idx:1,Rt:25420.2 Csigma:2.35722e-13 Tp:0.028668 res:0.0065973"
       ]
      },
      {
       "output_type": "stream",
       "stream": "stdout",
       "text": [
        "\n",
        "Idx:2,Rt:25420.2 Csigma:2.35722e-13 Tp:0.0376146 res:0.00997568"
       ]
      },
      {
       "output_type": "stream",
       "stream": "stdout",
       "text": [
        "\n",
        "Idx:3,Rt:25420.2 Csigma:2.35722e-13 Tp:0.0465078 res:0.0114994"
       ]
      },
      {
       "output_type": "stream",
       "stream": "stdout",
       "text": [
        "\n",
        "Idx:4,Rt:25420.2 Csigma:2.35722e-13 Tp:0.054735 res:0.0135133"
       ]
      },
      {
       "output_type": "stream",
       "stream": "stdout",
       "text": [
        "\n",
        "Idx:0,Rt:25412.1 Csigma:2.35722e-13 Tp:0.0204696 res:0.00346438"
       ]
      },
      {
       "output_type": "stream",
       "stream": "stdout",
       "text": [
        "\n",
        "Idx:1,Rt:25412.1 Csigma:2.35722e-13 Tp:0.028668 res:0.00640622"
       ]
      },
      {
       "output_type": "stream",
       "stream": "stdout",
       "text": [
        "\n",
        "Idx:2,Rt:25412.1 Csigma:2.35722e-13 Tp:0.0376146 res:0.00971856"
       ]
      },
      {
       "output_type": "stream",
       "stream": "stdout",
       "text": [
        "\n",
        "Idx:3,Rt:25412.1 Csigma:2.35722e-13 Tp:0.0465078 res:0.0111692"
       ]
      },
      {
       "output_type": "stream",
       "stream": "stdout",
       "text": [
        "\n",
        "Idx:4,Rt:25412.1 Csigma:2.35722e-13 Tp:0.054735 res:0.013123"
       ]
      },
      {
       "output_type": "stream",
       "stream": "stdout",
       "text": [
        "\n",
        "Idx:0,Rt:25412.1 Csigma:2.35722e-13 Tp:0.0204696 res:0.00346438"
       ]
      },
      {
       "output_type": "stream",
       "stream": "stdout",
       "text": [
        "\n",
        "Idx:1,Rt:25412.1 Csigma:2.35722e-13 Tp:0.028668 res:0.00640622"
       ]
      },
      {
       "output_type": "stream",
       "stream": "stdout",
       "text": [
        "\n",
        "Idx:2,Rt:25412.1 Csigma:2.35722e-13 Tp:0.0376146 res:0.00971856"
       ]
      },
      {
       "output_type": "stream",
       "stream": "stdout",
       "text": [
        "\n",
        "Idx:3,Rt:25412.1 Csigma:2.35722e-13 Tp:0.0465078 res:0.0111692"
       ]
      },
      {
       "output_type": "stream",
       "stream": "stdout",
       "text": [
        "\n",
        "Idx:4,Rt:25412.1 Csigma:2.35722e-13 Tp:0.054735 res:0.013123"
       ]
      },
      {
       "output_type": "stream",
       "stream": "stdout",
       "text": [
        "\n",
        "Idx:0,Rt:25412.1 Csigma:2.35722e-13 Tp:0.0204696 res:0.00346438"
       ]
      },
      {
       "output_type": "stream",
       "stream": "stdout",
       "text": [
        "\n",
        "Idx:1,Rt:25412.1 Csigma:2.35722e-13 Tp:0.028668 res:0.00640622"
       ]
      },
      {
       "output_type": "stream",
       "stream": "stdout",
       "text": [
        "\n",
        "Idx:2,Rt:25412.1 Csigma:2.35722e-13 Tp:0.0376146 res:0.00971856"
       ]
      },
      {
       "output_type": "stream",
       "stream": "stdout",
       "text": [
        "\n",
        "Idx:3,Rt:25412.1 Csigma:2.35722e-13 Tp:0.0465078 res:0.0111692"
       ]
      },
      {
       "output_type": "stream",
       "stream": "stdout",
       "text": [
        "\n",
        "Idx:4,Rt:25412.1 Csigma:2.35722e-13 Tp:0.054735 res:0.013123"
       ]
      },
      {
       "output_type": "stream",
       "stream": "stdout",
       "text": [
        "\n",
        "Idx:0,Rt:25412.1 Csigma:2.35722e-13 Tp:0.0204696 res:0.00346438"
       ]
      },
      {
       "output_type": "stream",
       "stream": "stdout",
       "text": [
        "\n",
        "Idx:1,Rt:25412.1 Csigma:2.35722e-13 Tp:0.028668 res:0.00640622"
       ]
      },
      {
       "output_type": "stream",
       "stream": "stdout",
       "text": [
        "\n",
        "Idx:2,Rt:25412.1 Csigma:2.35722e-13 Tp:0.0376146 res:0.00971856"
       ]
      },
      {
       "output_type": "stream",
       "stream": "stdout",
       "text": [
        "\n",
        "Idx:3,Rt:25412.1 Csigma:2.35722e-13 Tp:0.0465078 res:0.0111692"
       ]
      },
      {
       "output_type": "stream",
       "stream": "stdout",
       "text": [
        "\n",
        "Idx:4,Rt:25412.1 Csigma:2.35722e-13 Tp:0.054735 res:0.013123"
       ]
      },
      {
       "output_type": "stream",
       "stream": "stdout",
       "text": [
        "\n",
        "Idx:0,Rt:25412.1 Csigma:2.35722e-13 Tp:0.0204696 res:0.00346438"
       ]
      },
      {
       "output_type": "stream",
       "stream": "stdout",
       "text": [
        "\n",
        "Idx:1,Rt:25412.1 Csigma:2.35722e-13 Tp:0.028668 res:0.00640622"
       ]
      },
      {
       "output_type": "stream",
       "stream": "stdout",
       "text": [
        "\n",
        "Idx:2,Rt:25412.1 Csigma:2.35722e-13 Tp:0.0376146 res:0.00971856"
       ]
      },
      {
       "output_type": "stream",
       "stream": "stdout",
       "text": [
        "\n",
        "Idx:3,Rt:25412.1 Csigma:2.35722e-13 Tp:0.0465078 res:0.0111692"
       ]
      },
      {
       "output_type": "stream",
       "stream": "stdout",
       "text": [
        "\n",
        "Idx:4,Rt:25412.1 Csigma:2.35722e-13 Tp:0.054735 res:0.013123"
       ]
      },
      {
       "output_type": "stream",
       "stream": "stdout",
       "text": [
        "\n",
        "Idx:0,Rt:25412.1 Csigma:2.35722e-13 Tp:0.0204696 res:0.00346438"
       ]
      },
      {
       "output_type": "stream",
       "stream": "stdout",
       "text": [
        "\n",
        "Idx:1,Rt:25412.1 Csigma:2.35722e-13 Tp:0.028668 res:0.00640622"
       ]
      },
      {
       "output_type": "stream",
       "stream": "stdout",
       "text": [
        "\n",
        "Idx:2,Rt:25412.1 Csigma:2.35722e-13 Tp:0.0376146 res:0.00971856"
       ]
      },
      {
       "output_type": "stream",
       "stream": "stdout",
       "text": [
        "\n",
        "Idx:3,Rt:25412.1 Csigma:2.35722e-13 Tp:0.0465078 res:0.0111692"
       ]
      },
      {
       "output_type": "stream",
       "stream": "stdout",
       "text": [
        "\n",
        "Idx:4,Rt:25412.1 Csigma:2.35722e-13 Tp:0.054735 res:0.013123"
       ]
      },
      {
       "output_type": "stream",
       "stream": "stdout",
       "text": [
        "\n",
        "Idx:0,Rt:25412.1 Csigma:2.35722e-13 Tp:0.0204696 res:0.00346438"
       ]
      },
      {
       "output_type": "stream",
       "stream": "stdout",
       "text": [
        "\n",
        "Idx:1,Rt:25412.1 Csigma:2.35722e-13 Tp:0.028668 res:0.00640622"
       ]
      },
      {
       "output_type": "stream",
       "stream": "stdout",
       "text": [
        "\n",
        "Idx:2,Rt:25412.1 Csigma:2.35722e-13 Tp:0.0376146 res:0.00971856"
       ]
      },
      {
       "output_type": "stream",
       "stream": "stdout",
       "text": [
        "\n",
        "Idx:3,Rt:25412.1 Csigma:2.35722e-13 Tp:0.0465078 res:0.0111692"
       ]
      },
      {
       "output_type": "stream",
       "stream": "stdout",
       "text": [
        "\n",
        "Idx:4,Rt:25412.1 Csigma:2.35722e-13 Tp:0.054735 res:0.013123"
       ]
      },
      {
       "output_type": "stream",
       "stream": "stdout",
       "text": [
        "\n",
        "Idx:0,Rt:25412.1 Csigma:2.35722e-13 Tp:0.0204696 res:0.00346438"
       ]
      },
      {
       "output_type": "stream",
       "stream": "stdout",
       "text": [
        "\n",
        "Idx:1,Rt:25412.1 Csigma:2.35722e-13 Tp:0.028668 res:0.00640622"
       ]
      },
      {
       "output_type": "stream",
       "stream": "stdout",
       "text": [
        "\n",
        "Idx:2,Rt:25412.1 Csigma:2.35722e-13 Tp:0.0376146 res:0.00971856"
       ]
      },
      {
       "output_type": "stream",
       "stream": "stdout",
       "text": [
        "\n",
        "Idx:3,Rt:25412.1 Csigma:2.35722e-13 Tp:0.0465078 res:0.0111692"
       ]
      },
      {
       "output_type": "stream",
       "stream": "stdout",
       "text": [
        "\n",
        "Idx:4,Rt:25412.1 Csigma:2.35722e-13 Tp:0.054735 res:0.013123"
       ]
      },
      {
       "output_type": "stream",
       "stream": "stdout",
       "text": [
        "\n",
        "Idx:0,Rt:25412.1 Csigma:2.35722e-13 Tp:0.0204696 res:0.00346438"
       ]
      },
      {
       "output_type": "stream",
       "stream": "stdout",
       "text": [
        "\n",
        "Idx:1,Rt:25412.1 Csigma:2.35722e-13 Tp:0.028668 res:0.00640622"
       ]
      },
      {
       "output_type": "stream",
       "stream": "stdout",
       "text": [
        "\n",
        "Idx:2,Rt:25412.1 Csigma:2.35722e-13 Tp:0.0376146 res:0.00971856"
       ]
      },
      {
       "output_type": "stream",
       "stream": "stdout",
       "text": [
        "\n",
        "Idx:3,Rt:25412.1 Csigma:2.35722e-13 Tp:0.0465078 res:0.0111692"
       ]
      },
      {
       "output_type": "stream",
       "stream": "stdout",
       "text": [
        "\n",
        "Idx:4,Rt:25412.1 Csigma:2.35722e-13 Tp:0.054735 res:0.013123"
       ]
      },
      {
       "output_type": "stream",
       "stream": "stdout",
       "text": [
        "\n",
        "Idx:0,Rt:25412.1 Csigma:2.35722e-13 Tp:0.0204693 res:0.00346428"
       ]
      },
      {
       "output_type": "stream",
       "stream": "stdout",
       "text": [
        "\n",
        "Idx:1,Rt:25412.1 Csigma:2.35722e-13 Tp:0.028668 res:0.00640612"
       ]
      },
      {
       "output_type": "stream",
       "stream": "stdout",
       "text": [
        "\n",
        "Idx:2,Rt:25412.1 Csigma:2.35722e-13 Tp:0.0376146 res:0.00971845"
       ]
      },
      {
       "output_type": "stream",
       "stream": "stdout",
       "text": [
        "\n",
        "Idx:3,Rt:25412.1 Csigma:2.35722e-13 Tp:0.0465078 res:0.0111691"
       ]
      },
      {
       "output_type": "stream",
       "stream": "stdout",
       "text": [
        "\n",
        "Idx:4,Rt:25412.1 Csigma:2.35722e-13 Tp:0.054735 res:0.0131229"
       ]
      },
      {
       "output_type": "stream",
       "stream": "stdout",
       "text": [
        "\n",
        "Idx:0,Rt:25412.1 Csigma:2.35722e-13 Tp:0.0204693 res:0.00346428"
       ]
      },
      {
       "output_type": "stream",
       "stream": "stdout",
       "text": [
        "\n",
        "Idx:1,Rt:25412.1 Csigma:2.35722e-13 Tp:0.028668 res:0.00640612"
       ]
      },
      {
       "output_type": "stream",
       "stream": "stdout",
       "text": [
        "\n",
        "Idx:2,Rt:25412.1 Csigma:2.35722e-13 Tp:0.0376146 res:0.00971845"
       ]
      },
      {
       "output_type": "stream",
       "stream": "stdout",
       "text": [
        "\n",
        "Idx:3,Rt:25412.1 Csigma:2.35722e-13 Tp:0.0465078 res:0.0111691"
       ]
      },
      {
       "output_type": "stream",
       "stream": "stdout",
       "text": [
        "\n",
        "Idx:4,Rt:25412.1 Csigma:2.35722e-13 Tp:0.054735 res:0.0131229"
       ]
      },
      {
       "output_type": "stream",
       "stream": "stdout",
       "text": [
        "\n",
        "Idx:0,Rt:25412.1 Csigma:2.35722e-13 Tp:0.0204693 res:0.00346428"
       ]
      },
      {
       "output_type": "stream",
       "stream": "stdout",
       "text": [
        "\n",
        "Idx:1,Rt:25412.1 Csigma:2.35722e-13 Tp:0.028668 res:0.00640612"
       ]
      },
      {
       "output_type": "stream",
       "stream": "stdout",
       "text": [
        "\n",
        "Idx:2,Rt:25412.1 Csigma:2.35722e-13 Tp:0.0376146 res:0.00971845"
       ]
      },
      {
       "output_type": "stream",
       "stream": "stdout",
       "text": [
        "\n",
        "Idx:3,Rt:25412.1 Csigma:2.35722e-13 Tp:0.0465078 res:0.0111691"
       ]
      },
      {
       "output_type": "stream",
       "stream": "stdout",
       "text": [
        "\n",
        "Idx:4,Rt:25412.1 Csigma:2.35722e-13 Tp:0.054735 res:0.0131229"
       ]
      },
      {
       "output_type": "stream",
       "stream": "stdout",
       "text": [
        "\n",
        "Idx:0,Rt:25412.1 Csigma:2.35722e-13 Tp:0.0204693 res:0.00346428"
       ]
      },
      {
       "output_type": "stream",
       "stream": "stdout",
       "text": [
        "\n",
        "Idx:1,Rt:25412.1 Csigma:2.35722e-13 Tp:0.028668 res:0.00640612"
       ]
      },
      {
       "output_type": "stream",
       "stream": "stdout",
       "text": [
        "\n",
        "Idx:2,Rt:25412.1 Csigma:2.35722e-13 Tp:0.0376146 res:0.00971845"
       ]
      },
      {
       "output_type": "stream",
       "stream": "stdout",
       "text": [
        "\n",
        "Idx:3,Rt:25412.1 Csigma:2.35722e-13 Tp:0.0465078 res:0.0111691"
       ]
      },
      {
       "output_type": "stream",
       "stream": "stdout",
       "text": [
        "\n",
        "Idx:4,Rt:25412.1 Csigma:2.35722e-13 Tp:0.054735 res:0.0131229"
       ]
      },
      {
       "output_type": "stream",
       "stream": "stdout",
       "text": [
        "\n",
        "Idx:0,Rt:25412.1 Csigma:2.35722e-13 Tp:0.0204693 res:0.00346428"
       ]
      },
      {
       "output_type": "stream",
       "stream": "stdout",
       "text": [
        "\n",
        "Idx:1,Rt:25412.1 Csigma:2.35722e-13 Tp:0.028668 res:0.00640612"
       ]
      },
      {
       "output_type": "stream",
       "stream": "stdout",
       "text": [
        "\n",
        "Idx:2,Rt:25412.1 Csigma:2.35722e-13 Tp:0.0376146 res:0.00971845"
       ]
      },
      {
       "output_type": "stream",
       "stream": "stdout",
       "text": [
        "\n",
        "Idx:3,Rt:25412.1 Csigma:2.35722e-13 Tp:0.0465078 res:0.0111691"
       ]
      },
      {
       "output_type": "stream",
       "stream": "stdout",
       "text": [
        "\n",
        "Idx:4,Rt:25412.1 Csigma:2.35722e-13 Tp:0.054735 res:0.0131229"
       ]
      },
      {
       "output_type": "stream",
       "stream": "stdout",
       "text": [
        "\n",
        "Idx:0,Rt:25412.1 Csigma:2.35722e-13 Tp:0.0204693 res:0.00346428"
       ]
      },
      {
       "output_type": "stream",
       "stream": "stdout",
       "text": [
        "\n",
        "Idx:1,Rt:25412.1 Csigma:2.35722e-13 Tp:0.028668 res:0.00640612"
       ]
      },
      {
       "output_type": "stream",
       "stream": "stdout",
       "text": [
        "\n",
        "Idx:2,Rt:25412.1 Csigma:2.35722e-13 Tp:0.0376146 res:0.00971845"
       ]
      },
      {
       "output_type": "stream",
       "stream": "stdout",
       "text": [
        "\n",
        "Idx:3,Rt:25412.1 Csigma:2.35722e-13 Tp:0.0465078 res:0.0111691"
       ]
      },
      {
       "output_type": "stream",
       "stream": "stdout",
       "text": [
        "\n",
        "Idx:4,Rt:25412.1 Csigma:2.35722e-13 Tp:0.054735 res:0.0131229"
       ]
      },
      {
       "output_type": "stream",
       "stream": "stdout",
       "text": [
        "\n",
        "Idx:0,Rt:25412.1 Csigma:2.35722e-13 Tp:0.0204693 res:0.00346428"
       ]
      },
      {
       "output_type": "stream",
       "stream": "stdout",
       "text": [
        "\n",
        "Idx:1,Rt:25412.1 Csigma:2.35722e-13 Tp:0.028668 res:0.00640612"
       ]
      },
      {
       "output_type": "stream",
       "stream": "stdout",
       "text": [
        "\n",
        "Idx:2,Rt:25412.1 Csigma:2.35722e-13 Tp:0.0376146 res:0.00971845"
       ]
      },
      {
       "output_type": "stream",
       "stream": "stdout",
       "text": [
        "\n",
        "Idx:3,Rt:25412.1 Csigma:2.35722e-13 Tp:0.0465078 res:0.0111691"
       ]
      },
      {
       "output_type": "stream",
       "stream": "stdout",
       "text": [
        "\n",
        "Idx:4,Rt:25412.1 Csigma:2.35722e-13 Tp:0.054735 res:0.0131229"
       ]
      },
      {
       "output_type": "stream",
       "stream": "stdout",
       "text": [
        "\n",
        "Idx:0,Rt:25412.1 Csigma:2.35722e-13 Tp:0.0204693 res:0.00346428"
       ]
      },
      {
       "output_type": "stream",
       "stream": "stdout",
       "text": [
        "\n",
        "Idx:1,Rt:25412.1 Csigma:2.35722e-13 Tp:0.028668 res:0.00640612"
       ]
      },
      {
       "output_type": "stream",
       "stream": "stdout",
       "text": [
        "\n",
        "Idx:2,Rt:25412.1 Csigma:2.35722e-13 Tp:0.0376146 res:0.00971845"
       ]
      },
      {
       "output_type": "stream",
       "stream": "stdout",
       "text": [
        "\n",
        "Idx:3,Rt:25412.1 Csigma:2.35722e-13 Tp:0.0465078 res:0.0111691"
       ]
      },
      {
       "output_type": "stream",
       "stream": "stdout",
       "text": [
        "\n",
        "Idx:4,Rt:25412.1 Csigma:2.35722e-13 Tp:0.054735 res:0.0131229"
       ]
      },
      {
       "output_type": "stream",
       "stream": "stdout",
       "text": [
        "\n",
        "Idx:0,Rt:25412.1 Csigma:2.35722e-13 Tp:0.0204693 res:0.00346428"
       ]
      },
      {
       "output_type": "stream",
       "stream": "stdout",
       "text": [
        "\n",
        "Idx:1,Rt:25412.1 Csigma:2.35722e-13 Tp:0.028668 res:0.00640612"
       ]
      },
      {
       "output_type": "stream",
       "stream": "stdout",
       "text": [
        "\n",
        "Idx:2,Rt:25412.1 Csigma:2.35722e-13 Tp:0.0376146 res:0.00971845"
       ]
      },
      {
       "output_type": "stream",
       "stream": "stdout",
       "text": [
        "\n",
        "Idx:3,Rt:25412.1 Csigma:2.35722e-13 Tp:0.0465078 res:0.0111691"
       ]
      },
      {
       "output_type": "stream",
       "stream": "stdout",
       "text": [
        "\n",
        "Idx:4,Rt:25412.1 Csigma:2.35722e-13 Tp:0.054735 res:0.0131229"
       ]
      },
      {
       "output_type": "stream",
       "stream": "stdout",
       "text": [
        "\n",
        "Idx:0,Rt:25412.1 Csigma:2.35722e-13 Tp:0.020468 res:0.00346387"
       ]
      },
      {
       "output_type": "stream",
       "stream": "stdout",
       "text": [
        "\n",
        "Idx:1,Rt:25412.1 Csigma:2.35722e-13 Tp:0.0286681 res:0.00640572"
       ]
      },
      {
       "output_type": "stream",
       "stream": "stdout",
       "text": [
        "\n",
        "Idx:2,Rt:25412.1 Csigma:2.35722e-13 Tp:0.0376146 res:0.00971805"
       ]
      },
      {
       "output_type": "stream",
       "stream": "stdout",
       "text": [
        "\n",
        "Idx:3,Rt:25412.1 Csigma:2.35722e-13 Tp:0.0465078 res:0.0111687"
       ]
      },
      {
       "output_type": "stream",
       "stream": "stdout",
       "text": [
        "\n",
        "Idx:4,Rt:25412.1 Csigma:2.35722e-13 Tp:0.054735 res:0.0131225"
       ]
      },
      {
       "output_type": "stream",
       "stream": "stdout",
       "text": [
        "\n",
        "Idx:0,Rt:25412.1 Csigma:2.35722e-13 Tp:0.020468 res:0.00346387"
       ]
      },
      {
       "output_type": "stream",
       "stream": "stdout",
       "text": [
        "\n",
        "Idx:1,Rt:25412.1 Csigma:2.35722e-13 Tp:0.0286681 res:0.00640572"
       ]
      },
      {
       "output_type": "stream",
       "stream": "stdout",
       "text": [
        "\n",
        "Idx:2,Rt:25412.1 Csigma:2.35722e-13 Tp:0.0376146 res:0.00971805"
       ]
      },
      {
       "output_type": "stream",
       "stream": "stdout",
       "text": [
        "\n",
        "Idx:3,Rt:25412.1 Csigma:2.35722e-13 Tp:0.0465078 res:0.0111687"
       ]
      },
      {
       "output_type": "stream",
       "stream": "stdout",
       "text": [
        "\n",
        "Idx:4,Rt:25412.1 Csigma:2.35722e-13 Tp:0.054735 res:0.0131225"
       ]
      },
      {
       "output_type": "stream",
       "stream": "stdout",
       "text": [
        "\n",
        "Idx:0,Rt:25412.1 Csigma:2.35722e-13 Tp:0.020468 res:0.00346387"
       ]
      },
      {
       "output_type": "stream",
       "stream": "stdout",
       "text": [
        "\n",
        "Idx:1,Rt:25412.1 Csigma:2.35722e-13 Tp:0.0286681 res:0.00640572"
       ]
      },
      {
       "output_type": "stream",
       "stream": "stdout",
       "text": [
        "\n",
        "Idx:2,Rt:25412.1 Csigma:2.35722e-13 Tp:0.0376146 res:0.00971805"
       ]
      },
      {
       "output_type": "stream",
       "stream": "stdout",
       "text": [
        "\n",
        "Idx:3,Rt:25412.1 Csigma:2.35722e-13 Tp:0.0465078 res:0.0111687"
       ]
      },
      {
       "output_type": "stream",
       "stream": "stdout",
       "text": [
        "\n",
        "Idx:4,Rt:25412.1 Csigma:2.35722e-13 Tp:0.054735 res:0.0131225"
       ]
      },
      {
       "output_type": "stream",
       "stream": "stdout",
       "text": [
        "\n",
        "Idx:0,Rt:25412.1 Csigma:2.35722e-13 Tp:0.020468 res:0.00346387"
       ]
      },
      {
       "output_type": "stream",
       "stream": "stdout",
       "text": [
        "\n",
        "Idx:1,Rt:25412.1 Csigma:2.35722e-13 Tp:0.0286681 res:0.00640572"
       ]
      },
      {
       "output_type": "stream",
       "stream": "stdout",
       "text": [
        "\n",
        "Idx:2,Rt:25412.1 Csigma:2.35722e-13 Tp:0.0376146 res:0.00971805"
       ]
      },
      {
       "output_type": "stream",
       "stream": "stdout",
       "text": [
        "\n",
        "Idx:3,Rt:25412.1 Csigma:2.35722e-13 Tp:0.0465078 res:0.0111687"
       ]
      },
      {
       "output_type": "stream",
       "stream": "stdout",
       "text": [
        "\n",
        "Idx:4,Rt:25412.1 Csigma:2.35722e-13 Tp:0.054735 res:0.0131225"
       ]
      },
      {
       "output_type": "stream",
       "stream": "stdout",
       "text": [
        "\n",
        "Idx:0,Rt:25412.1 Csigma:2.35722e-13 Tp:0.020468 res:0.00346387"
       ]
      },
      {
       "output_type": "stream",
       "stream": "stdout",
       "text": [
        "\n",
        "Idx:1,Rt:25412.1 Csigma:2.35722e-13 Tp:0.0286681 res:0.00640572"
       ]
      },
      {
       "output_type": "stream",
       "stream": "stdout",
       "text": [
        "\n",
        "Idx:2,Rt:25412.1 Csigma:2.35722e-13 Tp:0.0376146 res:0.00971805"
       ]
      },
      {
       "output_type": "stream",
       "stream": "stdout",
       "text": [
        "\n",
        "Idx:3,Rt:25412.1 Csigma:2.35722e-13 Tp:0.0465078 res:0.0111687"
       ]
      },
      {
       "output_type": "stream",
       "stream": "stdout",
       "text": [
        "\n",
        "Idx:4,Rt:25412.1 Csigma:2.35722e-13 Tp:0.054735 res:0.0131225"
       ]
      },
      {
       "output_type": "stream",
       "stream": "stdout",
       "text": [
        "\n",
        "Idx:0,Rt:25412.1 Csigma:2.35722e-13 Tp:0.020468 res:0.00346387"
       ]
      },
      {
       "output_type": "stream",
       "stream": "stdout",
       "text": [
        "\n",
        "Idx:1,Rt:25412.1 Csigma:2.35722e-13 Tp:0.0286681 res:0.00640572"
       ]
      },
      {
       "output_type": "stream",
       "stream": "stdout",
       "text": [
        "\n",
        "Idx:2,Rt:25412.1 Csigma:2.35722e-13 Tp:0.0376146 res:0.00971805"
       ]
      },
      {
       "output_type": "stream",
       "stream": "stdout",
       "text": [
        "\n",
        "Idx:3,Rt:25412.1 Csigma:2.35722e-13 Tp:0.0465078 res:0.0111687"
       ]
      },
      {
       "output_type": "stream",
       "stream": "stdout",
       "text": [
        "\n",
        "Idx:4,Rt:25412.1 Csigma:2.35722e-13 Tp:0.054735 res:0.0131225"
       ]
      },
      {
       "output_type": "stream",
       "stream": "stdout",
       "text": [
        "\n",
        "Idx:0,Rt:25412.1 Csigma:2.35722e-13 Tp:0.020468 res:0.00346387"
       ]
      },
      {
       "output_type": "stream",
       "stream": "stdout",
       "text": [
        "\n",
        "Idx:1,Rt:25412.1 Csigma:2.35722e-13 Tp:0.0286681 res:0.00640572"
       ]
      },
      {
       "output_type": "stream",
       "stream": "stdout",
       "text": [
        "\n",
        "Idx:2,Rt:25412.1 Csigma:2.35722e-13 Tp:0.0376146 res:0.00971805"
       ]
      },
      {
       "output_type": "stream",
       "stream": "stdout",
       "text": [
        "\n",
        "Idx:3,Rt:25412.1 Csigma:2.35722e-13 Tp:0.0465078 res:0.0111687"
       ]
      },
      {
       "output_type": "stream",
       "stream": "stdout",
       "text": [
        "\n",
        "Idx:4,Rt:25412.1 Csigma:2.35722e-13 Tp:0.054735 res:0.0131225"
       ]
      },
      {
       "output_type": "stream",
       "stream": "stdout",
       "text": [
        "\n",
        "Idx:0,Rt:25412.1 Csigma:2.35722e-13 Tp:0.020468 res:0.00346387"
       ]
      },
      {
       "output_type": "stream",
       "stream": "stdout",
       "text": [
        "\n",
        "Idx:1,Rt:25412.1 Csigma:2.35722e-13 Tp:0.0286681 res:0.00640572"
       ]
      },
      {
       "output_type": "stream",
       "stream": "stdout",
       "text": [
        "\n",
        "Idx:2,Rt:25412.1 Csigma:2.35722e-13 Tp:0.0376146 res:0.00971805"
       ]
      },
      {
       "output_type": "stream",
       "stream": "stdout",
       "text": [
        "\n",
        "Idx:3,Rt:25412.1 Csigma:2.35722e-13 Tp:0.0465078 res:0.0111687"
       ]
      },
      {
       "output_type": "stream",
       "stream": "stdout",
       "text": [
        "\n",
        "Idx:4,Rt:25412.1 Csigma:2.35722e-13 Tp:0.054735 res:0.0131225"
       ]
      },
      {
       "output_type": "stream",
       "stream": "stdout",
       "text": [
        "\n",
        "Idx:0,Rt:25412.1 Csigma:2.35722e-13 Tp:0.020468 res:0.00346387"
       ]
      },
      {
       "output_type": "stream",
       "stream": "stdout",
       "text": [
        "\n",
        "Idx:1,Rt:25412.1 Csigma:2.35722e-13 Tp:0.0286681 res:0.00640572"
       ]
      },
      {
       "output_type": "stream",
       "stream": "stdout",
       "text": [
        "\n",
        "Idx:2,Rt:25412.1 Csigma:2.35722e-13 Tp:0.0376146 res:0.00971805"
       ]
      },
      {
       "output_type": "stream",
       "stream": "stdout",
       "text": [
        "\n",
        "Idx:3,Rt:25412.1 Csigma:2.35722e-13 Tp:0.0465078 res:0.0111687"
       ]
      },
      {
       "output_type": "stream",
       "stream": "stdout",
       "text": [
        "\n",
        "Idx:4,Rt:25412.1 Csigma:2.35722e-13 Tp:0.054735 res:0.0131225"
       ]
      },
      {
       "output_type": "stream",
       "stream": "stdout",
       "text": [
        "\n",
        "Idx:0,Rt:25412.1 Csigma:2.35721e-13 Tp:0.020463 res:0.00346227"
       ]
      },
      {
       "output_type": "stream",
       "stream": "stdout",
       "text": [
        "\n",
        "Idx:1,Rt:25412.1 Csigma:2.35721e-13 Tp:0.0286684 res:0.00640412"
       ]
      },
      {
       "output_type": "stream",
       "stream": "stdout",
       "text": [
        "\n",
        "Idx:2,Rt:25412.1 Csigma:2.35721e-13 Tp:0.0376145 res:0.00971645"
       ]
      },
      {
       "output_type": "stream",
       "stream": "stdout",
       "text": [
        "\n",
        "Idx:3,Rt:25412.1 Csigma:2.35721e-13 Tp:0.0465079 res:0.0111671"
       ]
      },
      {
       "output_type": "stream",
       "stream": "stdout",
       "text": [
        "\n",
        "Idx:4,Rt:25412.1 Csigma:2.35721e-13 Tp:0.0547353 res:0.0131209"
       ]
      },
      {
       "output_type": "stream",
       "stream": "stdout",
       "text": [
        "\n",
        "Idx:0,Rt:25412.1 Csigma:2.35721e-13 Tp:0.020463 res:0.00346227"
       ]
      },
      {
       "output_type": "stream",
       "stream": "stdout",
       "text": [
        "\n",
        "Idx:1,Rt:25412.1 Csigma:2.35721e-13 Tp:0.0286684 res:0.00640412"
       ]
      },
      {
       "output_type": "stream",
       "stream": "stdout",
       "text": [
        "\n",
        "Idx:2,Rt:25412.1 Csigma:2.35721e-13 Tp:0.0376145 res:0.00971645"
       ]
      },
      {
       "output_type": "stream",
       "stream": "stdout",
       "text": [
        "\n",
        "Idx:3,Rt:25412.1 Csigma:2.35721e-13 Tp:0.0465079 res:0.0111671"
       ]
      },
      {
       "output_type": "stream",
       "stream": "stdout",
       "text": [
        "\n",
        "Idx:4,Rt:25412.1 Csigma:2.35721e-13 Tp:0.0547353 res:0.0131209"
       ]
      },
      {
       "output_type": "stream",
       "stream": "stdout",
       "text": [
        "\n",
        "Idx:0,Rt:25412.1 Csigma:2.35721e-13 Tp:0.020463 res:0.00346227"
       ]
      },
      {
       "output_type": "stream",
       "stream": "stdout",
       "text": [
        "\n",
        "Idx:1,Rt:25412.1 Csigma:2.35721e-13 Tp:0.0286684 res:0.00640412"
       ]
      },
      {
       "output_type": "stream",
       "stream": "stdout",
       "text": [
        "\n",
        "Idx:2,Rt:25412.1 Csigma:2.35721e-13 Tp:0.0376145 res:0.00971645"
       ]
      },
      {
       "output_type": "stream",
       "stream": "stdout",
       "text": [
        "\n",
        "Idx:3,Rt:25412.1 Csigma:2.35721e-13 Tp:0.0465079 res:0.0111671"
       ]
      },
      {
       "output_type": "stream",
       "stream": "stdout",
       "text": [
        "\n",
        "Idx:4,Rt:25412.1 Csigma:2.35721e-13 Tp:0.0547353 res:0.0131209"
       ]
      },
      {
       "output_type": "stream",
       "stream": "stdout",
       "text": [
        "\n",
        "Idx:0,Rt:25412.1 Csigma:2.35721e-13 Tp:0.020463 res:0.00346227"
       ]
      },
      {
       "output_type": "stream",
       "stream": "stdout",
       "text": [
        "\n",
        "Idx:1,Rt:25412.1 Csigma:2.35721e-13 Tp:0.0286684 res:0.00640412"
       ]
      },
      {
       "output_type": "stream",
       "stream": "stdout",
       "text": [
        "\n",
        "Idx:2,Rt:25412.1 Csigma:2.35721e-13 Tp:0.0376145 res:0.00971645"
       ]
      },
      {
       "output_type": "stream",
       "stream": "stdout",
       "text": [
        "\n",
        "Idx:3,Rt:25412.1 Csigma:2.35721e-13 Tp:0.0465079 res:0.0111671"
       ]
      },
      {
       "output_type": "stream",
       "stream": "stdout",
       "text": [
        "\n",
        "Idx:4,Rt:25412.1 Csigma:2.35721e-13 Tp:0.0547353 res:0.0131209"
       ]
      },
      {
       "output_type": "stream",
       "stream": "stdout",
       "text": [
        "\n",
        "Idx:0,Rt:25412.1 Csigma:2.35721e-13 Tp:0.020463 res:0.00346227"
       ]
      },
      {
       "output_type": "stream",
       "stream": "stdout",
       "text": [
        "\n",
        "Idx:1,Rt:25412.1 Csigma:2.35721e-13 Tp:0.0286684 res:0.00640412"
       ]
      },
      {
       "output_type": "stream",
       "stream": "stdout",
       "text": [
        "\n",
        "Idx:2,Rt:25412.1 Csigma:2.35721e-13 Tp:0.0376145 res:0.00971645"
       ]
      },
      {
       "output_type": "stream",
       "stream": "stdout",
       "text": [
        "\n",
        "Idx:3,Rt:25412.1 Csigma:2.35721e-13 Tp:0.0465079 res:0.0111671"
       ]
      },
      {
       "output_type": "stream",
       "stream": "stdout",
       "text": [
        "\n",
        "Idx:4,Rt:25412.1 Csigma:2.35721e-13 Tp:0.0547353 res:0.0131209"
       ]
      },
      {
       "output_type": "stream",
       "stream": "stdout",
       "text": [
        "\n",
        "Idx:0,Rt:25412.1 Csigma:2.35721e-13 Tp:0.020463 res:0.00346227"
       ]
      },
      {
       "output_type": "stream",
       "stream": "stdout",
       "text": [
        "\n",
        "Idx:1,Rt:25412.1 Csigma:2.35721e-13 Tp:0.0286684 res:0.00640412"
       ]
      },
      {
       "output_type": "stream",
       "stream": "stdout",
       "text": [
        "\n",
        "Idx:2,Rt:25412.1 Csigma:2.35721e-13 Tp:0.0376145 res:0.00971645"
       ]
      },
      {
       "output_type": "stream",
       "stream": "stdout",
       "text": [
        "\n",
        "Idx:3,Rt:25412.1 Csigma:2.35721e-13 Tp:0.0465079 res:0.0111671"
       ]
      },
      {
       "output_type": "stream",
       "stream": "stdout",
       "text": [
        "\n",
        "Idx:4,Rt:25412.1 Csigma:2.35721e-13 Tp:0.0547353 res:0.0131209"
       ]
      },
      {
       "output_type": "stream",
       "stream": "stdout",
       "text": [
        "\n",
        "Idx:0,Rt:25412.1 Csigma:2.35721e-13 Tp:0.020463 res:0.00346227"
       ]
      },
      {
       "output_type": "stream",
       "stream": "stdout",
       "text": [
        "\n",
        "Idx:1,Rt:25412.1 Csigma:2.35721e-13 Tp:0.0286684 res:0.00640412"
       ]
      },
      {
       "output_type": "stream",
       "stream": "stdout",
       "text": [
        "\n",
        "Idx:2,Rt:25412.1 Csigma:2.35721e-13 Tp:0.0376145 res:0.00971645"
       ]
      },
      {
       "output_type": "stream",
       "stream": "stdout",
       "text": [
        "\n",
        "Idx:3,Rt:25412.1 Csigma:2.35721e-13 Tp:0.0465079 res:0.0111671"
       ]
      },
      {
       "output_type": "stream",
       "stream": "stdout",
       "text": [
        "\n",
        "Idx:4,Rt:25412.1 Csigma:2.35721e-13 Tp:0.0547353 res:0.0131209"
       ]
      },
      {
       "output_type": "stream",
       "stream": "stdout",
       "text": [
        "\n",
        "Idx:0,Rt:25412.1 Csigma:2.35721e-13 Tp:0.020463 res:0.00346227"
       ]
      },
      {
       "output_type": "stream",
       "stream": "stdout",
       "text": [
        "\n",
        "Idx:1,Rt:25412.1 Csigma:2.35721e-13 Tp:0.0286684 res:0.00640412"
       ]
      },
      {
       "output_type": "stream",
       "stream": "stdout",
       "text": [
        "\n",
        "Idx:2,Rt:25412.1 Csigma:2.35721e-13 Tp:0.0376145 res:0.00971645"
       ]
      },
      {
       "output_type": "stream",
       "stream": "stdout",
       "text": [
        "\n",
        "Idx:3,Rt:25412.1 Csigma:2.35721e-13 Tp:0.0465079 res:0.0111671"
       ]
      },
      {
       "output_type": "stream",
       "stream": "stdout",
       "text": [
        "\n",
        "Idx:4,Rt:25412.1 Csigma:2.35721e-13 Tp:0.0547353 res:0.0131209"
       ]
      },
      {
       "output_type": "stream",
       "stream": "stdout",
       "text": [
        "\n",
        "Idx:0,Rt:25412.1 Csigma:2.35721e-13 Tp:0.020463 res:0.00346227"
       ]
      },
      {
       "output_type": "stream",
       "stream": "stdout",
       "text": [
        "\n",
        "Idx:1,Rt:25412.1 Csigma:2.35721e-13 Tp:0.0286684 res:0.00640412"
       ]
      },
      {
       "output_type": "stream",
       "stream": "stdout",
       "text": [
        "\n",
        "Idx:2,Rt:25412.1 Csigma:2.35721e-13 Tp:0.0376145 res:0.00971645"
       ]
      },
      {
       "output_type": "stream",
       "stream": "stdout",
       "text": [
        "\n",
        "Idx:3,Rt:25412.1 Csigma:2.35721e-13 Tp:0.0465079 res:0.0111671"
       ]
      },
      {
       "output_type": "stream",
       "stream": "stdout",
       "text": [
        "\n",
        "Idx:4,Rt:25412.1 Csigma:2.35721e-13 Tp:0.0547353 res:0.0131209"
       ]
      },
      {
       "output_type": "stream",
       "stream": "stdout",
       "text": [
        "\n",
        "Idx:0,Rt:25412.1 Csigma:2.35719e-13 Tp:0.0204538 res:0.00345945"
       ]
      },
      {
       "output_type": "stream",
       "stream": "stdout",
       "text": [
        "\n",
        "Idx:1,Rt:25412.1 Csigma:2.35719e-13 Tp:0.0286689 res:0.00640132"
       ]
      },
      {
       "output_type": "stream",
       "stream": "stdout",
       "text": [
        "\n",
        "Idx:2,Rt:25412.1 Csigma:2.35719e-13 Tp:0.0376143 res:0.00971362"
       ]
      },
      {
       "output_type": "stream",
       "stream": "stdout",
       "text": [
        "\n",
        "Idx:3,Rt:25412.1 Csigma:2.35719e-13 Tp:0.0465079 res:0.0111643"
       ]
      },
      {
       "output_type": "stream",
       "stream": "stdout",
       "text": [
        "\n",
        "Idx:4,Rt:25412.1 Csigma:2.35719e-13 Tp:0.0547358 res:0.013118"
       ]
      },
      {
       "output_type": "stream",
       "stream": "stdout",
       "text": [
        "\n",
        "Idx:0,Rt:25412.1 Csigma:2.35719e-13 Tp:0.0204538 res:0.00345945"
       ]
      },
      {
       "output_type": "stream",
       "stream": "stdout",
       "text": [
        "\n",
        "Idx:1,Rt:25412.1 Csigma:2.35719e-13 Tp:0.0286689 res:0.00640132"
       ]
      },
      {
       "output_type": "stream",
       "stream": "stdout",
       "text": [
        "\n",
        "Idx:2,Rt:25412.1 Csigma:2.35719e-13 Tp:0.0376143 res:0.00971362"
       ]
      },
      {
       "output_type": "stream",
       "stream": "stdout",
       "text": [
        "\n",
        "Idx:3,Rt:25412.1 Csigma:2.35719e-13 Tp:0.0465079 res:0.0111643"
       ]
      },
      {
       "output_type": "stream",
       "stream": "stdout",
       "text": [
        "\n",
        "Idx:4,Rt:25412.1 Csigma:2.35719e-13 Tp:0.0547358 res:0.013118"
       ]
      },
      {
       "output_type": "stream",
       "stream": "stdout",
       "text": [
        "\n",
        "Idx:0,Rt:25412.1 Csigma:2.35719e-13 Tp:0.0204538 res:0.00345945"
       ]
      },
      {
       "output_type": "stream",
       "stream": "stdout",
       "text": [
        "\n",
        "Idx:1,Rt:25412.1 Csigma:2.35719e-13 Tp:0.0286689 res:0.00640132"
       ]
      },
      {
       "output_type": "stream",
       "stream": "stdout",
       "text": [
        "\n",
        "Idx:2,Rt:25412.1 Csigma:2.35719e-13 Tp:0.0376143 res:0.00971362"
       ]
      },
      {
       "output_type": "stream",
       "stream": "stdout",
       "text": [
        "\n",
        "Idx:3,Rt:25412.1 Csigma:2.35719e-13 Tp:0.0465079 res:0.0111643"
       ]
      },
      {
       "output_type": "stream",
       "stream": "stdout",
       "text": [
        "\n",
        "Idx:4,Rt:25412.1 Csigma:2.35719e-13 Tp:0.0547358 res:0.013118"
       ]
      },
      {
       "output_type": "stream",
       "stream": "stdout",
       "text": [
        "\n",
        "Idx:0,Rt:25412.1 Csigma:2.35719e-13 Tp:0.0204538 res:0.00345945"
       ]
      },
      {
       "output_type": "stream",
       "stream": "stdout",
       "text": [
        "\n",
        "Idx:1,Rt:25412.1 Csigma:2.35719e-13 Tp:0.0286689 res:0.00640132"
       ]
      },
      {
       "output_type": "stream",
       "stream": "stdout",
       "text": [
        "\n",
        "Idx:2,Rt:25412.1 Csigma:2.35719e-13 Tp:0.0376143 res:0.00971362"
       ]
      },
      {
       "output_type": "stream",
       "stream": "stdout",
       "text": [
        "\n",
        "Idx:3,Rt:25412.1 Csigma:2.35719e-13 Tp:0.0465079 res:0.0111643"
       ]
      },
      {
       "output_type": "stream",
       "stream": "stdout",
       "text": [
        "\n",
        "Idx:4,Rt:25412.1 Csigma:2.35719e-13 Tp:0.0547358 res:0.013118"
       ]
      },
      {
       "output_type": "stream",
       "stream": "stdout",
       "text": [
        "\n",
        "Idx:0,Rt:25412.1 Csigma:2.35719e-13 Tp:0.0204538 res:0.00345945"
       ]
      },
      {
       "output_type": "stream",
       "stream": "stdout",
       "text": [
        "\n",
        "Idx:1,Rt:25412.1 Csigma:2.35719e-13 Tp:0.0286689 res:0.00640132"
       ]
      },
      {
       "output_type": "stream",
       "stream": "stdout",
       "text": [
        "\n",
        "Idx:2,Rt:25412.1 Csigma:2.35719e-13 Tp:0.0376143 res:0.00971362"
       ]
      },
      {
       "output_type": "stream",
       "stream": "stdout",
       "text": [
        "\n",
        "Idx:3,Rt:25412.1 Csigma:2.35719e-13 Tp:0.0465079 res:0.0111643"
       ]
      },
      {
       "output_type": "stream",
       "stream": "stdout",
       "text": [
        "\n",
        "Idx:4,Rt:25412.1 Csigma:2.35719e-13 Tp:0.0547358 res:0.013118"
       ]
      },
      {
       "output_type": "stream",
       "stream": "stdout",
       "text": [
        "\n",
        "Idx:0,Rt:25412.1 Csigma:2.35719e-13 Tp:0.0204538 res:0.00345945"
       ]
      },
      {
       "output_type": "stream",
       "stream": "stdout",
       "text": [
        "\n",
        "Idx:1,Rt:25412.1 Csigma:2.35719e-13 Tp:0.0286689 res:0.00640132"
       ]
      },
      {
       "output_type": "stream",
       "stream": "stdout",
       "text": [
        "\n",
        "Idx:2,Rt:25412.1 Csigma:2.35719e-13 Tp:0.0376143 res:0.00971362"
       ]
      },
      {
       "output_type": "stream",
       "stream": "stdout",
       "text": [
        "\n",
        "Idx:3,Rt:25412.1 Csigma:2.35719e-13 Tp:0.0465079 res:0.0111643"
       ]
      },
      {
       "output_type": "stream",
       "stream": "stdout",
       "text": [
        "\n",
        "Idx:4,Rt:25412.1 Csigma:2.35719e-13 Tp:0.0547358 res:0.013118"
       ]
      },
      {
       "output_type": "stream",
       "stream": "stdout",
       "text": [
        "\n",
        "Idx:0,Rt:25412.1 Csigma:2.35719e-13 Tp:0.0204538 res:0.00345945"
       ]
      },
      {
       "output_type": "stream",
       "stream": "stdout",
       "text": [
        "\n",
        "Idx:1,Rt:25412.1 Csigma:2.35719e-13 Tp:0.0286689 res:0.00640132"
       ]
      },
      {
       "output_type": "stream",
       "stream": "stdout",
       "text": [
        "\n",
        "Idx:2,Rt:25412.1 Csigma:2.35719e-13 Tp:0.0376143 res:0.00971362"
       ]
      },
      {
       "output_type": "stream",
       "stream": "stdout",
       "text": [
        "\n",
        "Idx:3,Rt:25412.1 Csigma:2.35719e-13 Tp:0.0465079 res:0.0111643"
       ]
      },
      {
       "output_type": "stream",
       "stream": "stdout",
       "text": [
        "\n",
        "Idx:4,Rt:25412.1 Csigma:2.35719e-13 Tp:0.0547358 res:0.013118"
       ]
      },
      {
       "output_type": "stream",
       "stream": "stdout",
       "text": [
        "\n",
        "Idx:0,Rt:25412.1 Csigma:2.35719e-13 Tp:0.0204538 res:0.00345945"
       ]
      },
      {
       "output_type": "stream",
       "stream": "stdout",
       "text": [
        "\n",
        "Idx:1,Rt:25412.1 Csigma:2.35719e-13 Tp:0.0286689 res:0.00640132"
       ]
      },
      {
       "output_type": "stream",
       "stream": "stdout",
       "text": [
        "\n",
        "Idx:2,Rt:25412.1 Csigma:2.35719e-13 Tp:0.0376143 res:0.00971362"
       ]
      },
      {
       "output_type": "stream",
       "stream": "stdout",
       "text": [
        "\n",
        "Idx:3,Rt:25412.1 Csigma:2.35719e-13 Tp:0.0465079 res:0.0111643"
       ]
      },
      {
       "output_type": "stream",
       "stream": "stdout",
       "text": [
        "\n",
        "Idx:4,Rt:25412.1 Csigma:2.35719e-13 Tp:0.0547358 res:0.013118"
       ]
      },
      {
       "output_type": "stream",
       "stream": "stdout",
       "text": [
        "\n",
        "Idx:0,Rt:25412.1 Csigma:2.35719e-13 Tp:0.0204538 res:0.00345945"
       ]
      },
      {
       "output_type": "stream",
       "stream": "stdout",
       "text": [
        "\n",
        "Idx:1,Rt:25412.1 Csigma:2.35719e-13 Tp:0.0286689 res:0.00640132"
       ]
      },
      {
       "output_type": "stream",
       "stream": "stdout",
       "text": [
        "\n",
        "Idx:2,Rt:25412.1 Csigma:2.35719e-13 Tp:0.0376143 res:0.00971362"
       ]
      },
      {
       "output_type": "stream",
       "stream": "stdout",
       "text": [
        "\n",
        "Idx:3,Rt:25412.1 Csigma:2.35719e-13 Tp:0.0465079 res:0.0111643"
       ]
      },
      {
       "output_type": "stream",
       "stream": "stdout",
       "text": [
        "\n",
        "Idx:4,Rt:25412.1 Csigma:2.35719e-13 Tp:0.0547358 res:0.013118"
       ]
      },
      {
       "output_type": "stream",
       "stream": "stdout",
       "text": [
        "\n",
        "Idx:0,Rt:25412.1 Csigma:2.35722e-13 Tp:0.0204693 res:0.00346428"
       ]
      },
      {
       "output_type": "stream",
       "stream": "stdout",
       "text": [
        "\n",
        "Idx:1,Rt:25412.1 Csigma:2.35722e-13 Tp:0.028668 res:0.00640612"
       ]
      },
      {
       "output_type": "stream",
       "stream": "stdout",
       "text": [
        "\n",
        "Idx:2,Rt:25412.1 Csigma:2.35722e-13 Tp:0.0376146 res:0.00971845"
       ]
      },
      {
       "output_type": "stream",
       "stream": "stdout",
       "text": [
        "\n",
        "Idx:3,Rt:25412.1 Csigma:2.35722e-13 Tp:0.0465078 res:0.0111691"
       ]
      },
      {
       "output_type": "stream",
       "stream": "stdout",
       "text": [
        "\n",
        "Idx:4,Rt:25412.1 Csigma:2.35722e-13 Tp:0.054735 res:0.0131229"
       ]
      },
      {
       "output_type": "stream",
       "stream": "stdout",
       "text": [
        "\n",
        "Idx:0,Rt:25412.1 Csigma:2.35722e-13 Tp:0.0204693 res:0.00346428"
       ]
      },
      {
       "output_type": "stream",
       "stream": "stdout",
       "text": [
        "\n",
        "Idx:1,Rt:25412.1 Csigma:2.35722e-13 Tp:0.028668 res:0.00640612"
       ]
      },
      {
       "output_type": "stream",
       "stream": "stdout",
       "text": [
        "\n",
        "Idx:2,Rt:25412.1 Csigma:2.35722e-13 Tp:0.0376146 res:0.00971845"
       ]
      },
      {
       "output_type": "stream",
       "stream": "stdout",
       "text": [
        "\n",
        "Idx:3,Rt:25412.1 Csigma:2.35722e-13 Tp:0.0465078 res:0.0111691"
       ]
      },
      {
       "output_type": "stream",
       "stream": "stdout",
       "text": [
        "\n",
        "Idx:4,Rt:25412.1 Csigma:2.35722e-13 Tp:0.054735 res:0.0131229"
       ]
      },
      {
       "output_type": "stream",
       "stream": "stdout",
       "text": [
        "\n",
        "Idx:0,Rt:25412.1 Csigma:2.35722e-13 Tp:0.0204693 res:0.00346428"
       ]
      },
      {
       "output_type": "stream",
       "stream": "stdout",
       "text": [
        "\n",
        "Idx:1,Rt:25412.1 Csigma:2.35722e-13 Tp:0.028668 res:0.00640612"
       ]
      },
      {
       "output_type": "stream",
       "stream": "stdout",
       "text": [
        "\n",
        "Idx:2,Rt:25412.1 Csigma:2.35722e-13 Tp:0.0376146 res:0.00971845"
       ]
      },
      {
       "output_type": "stream",
       "stream": "stdout",
       "text": [
        "\n",
        "Idx:3,Rt:25412.1 Csigma:2.35722e-13 Tp:0.0465078 res:0.0111691"
       ]
      },
      {
       "output_type": "stream",
       "stream": "stdout",
       "text": [
        "\n",
        "Idx:4,Rt:25412.1 Csigma:2.35722e-13 Tp:0.054735 res:0.0131229"
       ]
      },
      {
       "output_type": "stream",
       "stream": "stdout",
       "text": [
        "\n",
        "Idx:0,Rt:25412.1 Csigma:2.35722e-13 Tp:0.0204693 res:0.00346428"
       ]
      },
      {
       "output_type": "stream",
       "stream": "stdout",
       "text": [
        "\n",
        "Idx:1,Rt:25412.1 Csigma:2.35722e-13 Tp:0.028668 res:0.00640612"
       ]
      },
      {
       "output_type": "stream",
       "stream": "stdout",
       "text": [
        "\n",
        "Idx:2,Rt:25412.1 Csigma:2.35722e-13 Tp:0.0376146 res:0.00971845"
       ]
      },
      {
       "output_type": "stream",
       "stream": "stdout",
       "text": [
        "\n",
        "Idx:3,Rt:25412.1 Csigma:2.35722e-13 Tp:0.0465078 res:0.0111691"
       ]
      },
      {
       "output_type": "stream",
       "stream": "stdout",
       "text": [
        "\n",
        "Idx:4,Rt:25412.1 Csigma:2.35722e-13 Tp:0.054735 res:0.0131229"
       ]
      },
      {
       "output_type": "stream",
       "stream": "stdout",
       "text": [
        "\n",
        "Idx:0,Rt:25412.1 Csigma:2.35722e-13 Tp:0.0204693 res:0.00346428"
       ]
      },
      {
       "output_type": "stream",
       "stream": "stdout",
       "text": [
        "\n",
        "Idx:1,Rt:25412.1 Csigma:2.35722e-13 Tp:0.028668 res:0.00640612"
       ]
      },
      {
       "output_type": "stream",
       "stream": "stdout",
       "text": [
        "\n",
        "Idx:2,Rt:25412.1 Csigma:2.35722e-13 Tp:0.0376146 res:0.00971845"
       ]
      },
      {
       "output_type": "stream",
       "stream": "stdout",
       "text": [
        "\n",
        "Idx:3,Rt:25412.1 Csigma:2.35722e-13 Tp:0.0465078 res:0.0111691"
       ]
      },
      {
       "output_type": "stream",
       "stream": "stdout",
       "text": [
        "\n",
        "Idx:4,Rt:25412.1 Csigma:2.35722e-13 Tp:0.054735 res:0.0131229"
       ]
      },
      {
       "output_type": "stream",
       "stream": "stdout",
       "text": [
        "\n",
        "Idx:0,Rt:25412.1 Csigma:2.35722e-13 Tp:0.0204693 res:0.00346428"
       ]
      },
      {
       "output_type": "stream",
       "stream": "stdout",
       "text": [
        "\n",
        "Idx:1,Rt:25412.1 Csigma:2.35722e-13 Tp:0.028668 res:0.00640612"
       ]
      },
      {
       "output_type": "stream",
       "stream": "stdout",
       "text": [
        "\n",
        "Idx:2,Rt:25412.1 Csigma:2.35722e-13 Tp:0.0376146 res:0.00971845"
       ]
      },
      {
       "output_type": "stream",
       "stream": "stdout",
       "text": [
        "\n",
        "Idx:3,Rt:25412.1 Csigma:2.35722e-13 Tp:0.0465078 res:0.0111691"
       ]
      },
      {
       "output_type": "stream",
       "stream": "stdout",
       "text": [
        "\n",
        "Idx:4,Rt:25412.1 Csigma:2.35722e-13 Tp:0.054735 res:0.0131229"
       ]
      },
      {
       "output_type": "stream",
       "stream": "stdout",
       "text": [
        "\n",
        "Idx:0,Rt:25412.1 Csigma:2.35722e-13 Tp:0.0204693 res:0.00346428"
       ]
      },
      {
       "output_type": "stream",
       "stream": "stdout",
       "text": [
        "\n",
        "Idx:1,Rt:25412.1 Csigma:2.35722e-13 Tp:0.028668 res:0.00640612"
       ]
      },
      {
       "output_type": "stream",
       "stream": "stdout",
       "text": [
        "\n",
        "Idx:2,Rt:25412.1 Csigma:2.35722e-13 Tp:0.0376146 res:0.00971845"
       ]
      },
      {
       "output_type": "stream",
       "stream": "stdout",
       "text": [
        "\n",
        "Idx:3,Rt:25412.1 Csigma:2.35722e-13 Tp:0.0465078 res:0.0111691"
       ]
      },
      {
       "output_type": "stream",
       "stream": "stdout",
       "text": [
        "\n",
        "Idx:4,Rt:25412.1 Csigma:2.35722e-13 Tp:0.054735 res:0.0131229"
       ]
      },
      {
       "output_type": "stream",
       "stream": "stdout",
       "text": [
        "\n",
        "Idx:0,Rt:25412.1 Csigma:2.35722e-13 Tp:0.0204693 res:0.00346428"
       ]
      },
      {
       "output_type": "stream",
       "stream": "stdout",
       "text": [
        "\n",
        "Idx:1,Rt:25412.1 Csigma:2.35722e-13 Tp:0.028668 res:0.00640612"
       ]
      },
      {
       "output_type": "stream",
       "stream": "stdout",
       "text": [
        "\n",
        "Idx:2,Rt:25412.1 Csigma:2.35722e-13 Tp:0.0376146 res:0.00971845"
       ]
      },
      {
       "output_type": "stream",
       "stream": "stdout",
       "text": [
        "\n",
        "Idx:3,Rt:25412.1 Csigma:2.35722e-13 Tp:0.0465078 res:0.0111691"
       ]
      },
      {
       "output_type": "stream",
       "stream": "stdout",
       "text": [
        "\n",
        "Idx:4,Rt:25412.1 Csigma:2.35722e-13 Tp:0.054735 res:0.0131229"
       ]
      },
      {
       "output_type": "stream",
       "stream": "stdout",
       "text": [
        "\n",
        "Idx:0,Rt:25412.1 Csigma:2.35722e-13 Tp:0.0204693 res:0.00346428"
       ]
      },
      {
       "output_type": "stream",
       "stream": "stdout",
       "text": [
        "\n",
        "Idx:1,Rt:25412.1 Csigma:2.35722e-13 Tp:0.028668 res:0.00640612"
       ]
      },
      {
       "output_type": "stream",
       "stream": "stdout",
       "text": [
        "\n",
        "Idx:2,Rt:25412.1 Csigma:2.35722e-13 Tp:0.0376146 res:0.00971845"
       ]
      },
      {
       "output_type": "stream",
       "stream": "stdout",
       "text": [
        "\n",
        "Idx:3,Rt:25412.1 Csigma:2.35722e-13 Tp:0.0465078 res:0.0111691"
       ]
      },
      {
       "output_type": "stream",
       "stream": "stdout",
       "text": [
        "\n",
        "Idx:4,Rt:25412.1 Csigma:2.35722e-13 Tp:0.054735 res:0.0131229"
       ]
      },
      {
       "output_type": "stream",
       "stream": "stdout",
       "text": [
        "\n",
        "Idx:0,Rt:25412.1 Csigma:2.35722e-13 Tp:0.0204689 res:0.00346417"
       ]
      },
      {
       "output_type": "stream",
       "stream": "stdout",
       "text": [
        "\n",
        "Idx:1,Rt:25412.1 Csigma:2.35722e-13 Tp:0.0286681 res:0.00640602"
       ]
      },
      {
       "output_type": "stream",
       "stream": "stdout",
       "text": [
        "\n",
        "Idx:2,Rt:25412.1 Csigma:2.35722e-13 Tp:0.0376146 res:0.00971835"
       ]
      },
      {
       "output_type": "stream",
       "stream": "stdout",
       "text": [
        "\n",
        "Idx:3,Rt:25412.1 Csigma:2.35722e-13 Tp:0.0465078 res:0.011169"
       ]
      },
      {
       "output_type": "stream",
       "stream": "stdout",
       "text": [
        "\n",
        "Idx:4,Rt:25412.1 Csigma:2.35722e-13 Tp:0.054735 res:0.0131228"
       ]
      },
      {
       "output_type": "stream",
       "stream": "stdout",
       "text": [
        "\n",
        "Idx:0,Rt:25412.1 Csigma:2.35722e-13 Tp:0.0204689 res:0.00346417"
       ]
      },
      {
       "output_type": "stream",
       "stream": "stdout",
       "text": [
        "\n",
        "Idx:1,Rt:25412.1 Csigma:2.35722e-13 Tp:0.0286681 res:0.00640602"
       ]
      },
      {
       "output_type": "stream",
       "stream": "stdout",
       "text": [
        "\n",
        "Idx:2,Rt:25412.1 Csigma:2.35722e-13 Tp:0.0376146 res:0.00971835"
       ]
      },
      {
       "output_type": "stream",
       "stream": "stdout",
       "text": [
        "\n",
        "Idx:3,Rt:25412.1 Csigma:2.35722e-13 Tp:0.0465078 res:0.011169"
       ]
      },
      {
       "output_type": "stream",
       "stream": "stdout",
       "text": [
        "\n",
        "Idx:4,Rt:25412.1 Csigma:2.35722e-13 Tp:0.054735 res:0.0131228"
       ]
      },
      {
       "output_type": "stream",
       "stream": "stdout",
       "text": [
        "\n",
        "Idx:0,Rt:25412.1 Csigma:2.35722e-13 Tp:0.0204689 res:0.00346417"
       ]
      },
      {
       "output_type": "stream",
       "stream": "stdout",
       "text": [
        "\n",
        "Idx:1,Rt:25412.1 Csigma:2.35722e-13 Tp:0.0286681 res:0.00640602"
       ]
      },
      {
       "output_type": "stream",
       "stream": "stdout",
       "text": [
        "\n",
        "Idx:2,Rt:25412.1 Csigma:2.35722e-13 Tp:0.0376146 res:0.00971835"
       ]
      },
      {
       "output_type": "stream",
       "stream": "stdout",
       "text": [
        "\n",
        "Idx:3,Rt:25412.1 Csigma:2.35722e-13 Tp:0.0465078 res:0.011169"
       ]
      },
      {
       "output_type": "stream",
       "stream": "stdout",
       "text": [
        "\n",
        "Idx:4,Rt:25412.1 Csigma:2.35722e-13 Tp:0.054735 res:0.0131228"
       ]
      },
      {
       "output_type": "stream",
       "stream": "stdout",
       "text": [
        "\n",
        "Idx:0,Rt:25412.1 Csigma:2.35722e-13 Tp:0.0204689 res:0.00346417"
       ]
      },
      {
       "output_type": "stream",
       "stream": "stdout",
       "text": [
        "\n",
        "Idx:1,Rt:25412.1 Csigma:2.35722e-13 Tp:0.0286681 res:0.00640602"
       ]
      },
      {
       "output_type": "stream",
       "stream": "stdout",
       "text": [
        "\n",
        "Idx:2,Rt:25412.1 Csigma:2.35722e-13 Tp:0.0376146 res:0.00971835"
       ]
      },
      {
       "output_type": "stream",
       "stream": "stdout",
       "text": [
        "\n",
        "Idx:3,Rt:25412.1 Csigma:2.35722e-13 Tp:0.0465078 res:0.011169"
       ]
      },
      {
       "output_type": "stream",
       "stream": "stdout",
       "text": [
        "\n",
        "Idx:4,Rt:25412.1 Csigma:2.35722e-13 Tp:0.054735 res:0.0131228"
       ]
      },
      {
       "output_type": "stream",
       "stream": "stdout",
       "text": [
        "\n",
        "Idx:0,Rt:25412.1 Csigma:2.35722e-13 Tp:0.0204689 res:0.00346417"
       ]
      },
      {
       "output_type": "stream",
       "stream": "stdout",
       "text": [
        "\n",
        "Idx:1,Rt:25412.1 Csigma:2.35722e-13 Tp:0.0286681 res:0.00640602"
       ]
      },
      {
       "output_type": "stream",
       "stream": "stdout",
       "text": [
        "\n",
        "Idx:2,Rt:25412.1 Csigma:2.35722e-13 Tp:0.0376146 res:0.00971835"
       ]
      },
      {
       "output_type": "stream",
       "stream": "stdout",
       "text": [
        "\n",
        "Idx:3,Rt:25412.1 Csigma:2.35722e-13 Tp:0.0465078 res:0.011169"
       ]
      },
      {
       "output_type": "stream",
       "stream": "stdout",
       "text": [
        "\n",
        "Idx:4,Rt:25412.1 Csigma:2.35722e-13 Tp:0.054735 res:0.0131228"
       ]
      },
      {
       "output_type": "stream",
       "stream": "stdout",
       "text": [
        "\n",
        "Idx:0,Rt:25412.1 Csigma:2.35722e-13 Tp:0.0204689 res:0.00346417"
       ]
      },
      {
       "output_type": "stream",
       "stream": "stdout",
       "text": [
        "\n",
        "Idx:1,Rt:25412.1 Csigma:2.35722e-13 Tp:0.0286681 res:0.00640602"
       ]
      },
      {
       "output_type": "stream",
       "stream": "stdout",
       "text": [
        "\n",
        "Idx:2,Rt:25412.1 Csigma:2.35722e-13 Tp:0.0376146 res:0.00971835"
       ]
      },
      {
       "output_type": "stream",
       "stream": "stdout",
       "text": [
        "\n",
        "Idx:3,Rt:25412.1 Csigma:2.35722e-13 Tp:0.0465078 res:0.011169"
       ]
      },
      {
       "output_type": "stream",
       "stream": "stdout",
       "text": [
        "\n",
        "Idx:4,Rt:25412.1 Csigma:2.35722e-13 Tp:0.054735 res:0.0131228"
       ]
      },
      {
       "output_type": "stream",
       "stream": "stdout",
       "text": [
        "\n",
        "Idx:0,Rt:25412.1 Csigma:2.35722e-13 Tp:0.0204689 res:0.00346417"
       ]
      },
      {
       "output_type": "stream",
       "stream": "stdout",
       "text": [
        "\n",
        "Idx:1,Rt:25412.1 Csigma:2.35722e-13 Tp:0.0286681 res:0.00640602"
       ]
      },
      {
       "output_type": "stream",
       "stream": "stdout",
       "text": [
        "\n",
        "Idx:2,Rt:25412.1 Csigma:2.35722e-13 Tp:0.0376146 res:0.00971835"
       ]
      },
      {
       "output_type": "stream",
       "stream": "stdout",
       "text": [
        "\n",
        "Idx:3,Rt:25412.1 Csigma:2.35722e-13 Tp:0.0465078 res:0.011169"
       ]
      },
      {
       "output_type": "stream",
       "stream": "stdout",
       "text": [
        "\n",
        "Idx:4,Rt:25412.1 Csigma:2.35722e-13 Tp:0.054735 res:0.0131228"
       ]
      },
      {
       "output_type": "stream",
       "stream": "stdout",
       "text": [
        "\n",
        "Idx:0,Rt:25412.1 Csigma:2.35722e-13 Tp:0.0204689 res:0.00346417"
       ]
      },
      {
       "output_type": "stream",
       "stream": "stdout",
       "text": [
        "\n",
        "Idx:1,Rt:25412.1 Csigma:2.35722e-13 Tp:0.0286681 res:0.00640602"
       ]
      },
      {
       "output_type": "stream",
       "stream": "stdout",
       "text": [
        "\n",
        "Idx:2,Rt:25412.1 Csigma:2.35722e-13 Tp:0.0376146 res:0.00971835"
       ]
      },
      {
       "output_type": "stream",
       "stream": "stdout",
       "text": [
        "\n",
        "Idx:3,Rt:25412.1 Csigma:2.35722e-13 Tp:0.0465078 res:0.011169"
       ]
      },
      {
       "output_type": "stream",
       "stream": "stdout",
       "text": [
        "\n",
        "Idx:4,Rt:25412.1 Csigma:2.35722e-13 Tp:0.054735 res:0.0131228"
       ]
      },
      {
       "output_type": "stream",
       "stream": "stdout",
       "text": [
        "\n",
        "Idx:0,Rt:25412.1 Csigma:2.35722e-13 Tp:0.0204689 res:0.00346417"
       ]
      },
      {
       "output_type": "stream",
       "stream": "stdout",
       "text": [
        "\n",
        "Idx:1,Rt:25412.1 Csigma:2.35722e-13 Tp:0.0286681 res:0.00640602"
       ]
      },
      {
       "output_type": "stream",
       "stream": "stdout",
       "text": [
        "\n",
        "Idx:2,Rt:25412.1 Csigma:2.35722e-13 Tp:0.0376146 res:0.00971835"
       ]
      },
      {
       "output_type": "stream",
       "stream": "stdout",
       "text": [
        "\n",
        "Idx:3,Rt:25412.1 Csigma:2.35722e-13 Tp:0.0465078 res:0.011169"
       ]
      },
      {
       "output_type": "stream",
       "stream": "stdout",
       "text": [
        "\n",
        "Idx:4,Rt:25412.1 Csigma:2.35722e-13 Tp:0.054735 res:0.0131228"
       ]
      },
      {
       "output_type": "stream",
       "stream": "stdout",
       "text": [
        "\n",
        "Idx:0,Rt:25412.1 Csigma:2.35722e-13 Tp:0.0204683 res:0.00346397"
       ]
      },
      {
       "output_type": "stream",
       "stream": "stdout",
       "text": [
        "\n",
        "Idx:1,Rt:25412.1 Csigma:2.35722e-13 Tp:0.0286681 res:0.00640582"
       ]
      },
      {
       "output_type": "stream",
       "stream": "stdout",
       "text": [
        "\n",
        "Idx:2,Rt:25412.1 Csigma:2.35722e-13 Tp:0.0376146 res:0.00971815"
       ]
      },
      {
       "output_type": "stream",
       "stream": "stdout",
       "text": [
        "\n",
        "Idx:3,Rt:25412.1 Csigma:2.35722e-13 Tp:0.0465078 res:0.0111688"
       ]
      },
      {
       "output_type": "stream",
       "stream": "stdout",
       "text": [
        "\n",
        "Idx:4,Rt:25412.1 Csigma:2.35722e-13 Tp:0.054735 res:0.0131226"
       ]
      },
      {
       "output_type": "stream",
       "stream": "stdout",
       "text": [
        "\n",
        "Idx:0,Rt:25412.1 Csigma:2.35722e-13 Tp:0.0204683 res:0.00346397"
       ]
      },
      {
       "output_type": "stream",
       "stream": "stdout",
       "text": [
        "\n",
        "Idx:1,Rt:25412.1 Csigma:2.35722e-13 Tp:0.0286681 res:0.00640582"
       ]
      },
      {
       "output_type": "stream",
       "stream": "stdout",
       "text": [
        "\n",
        "Idx:2,Rt:25412.1 Csigma:2.35722e-13 Tp:0.0376146 res:0.00971815"
       ]
      },
      {
       "output_type": "stream",
       "stream": "stdout",
       "text": [
        "\n",
        "Idx:3,Rt:25412.1 Csigma:2.35722e-13 Tp:0.0465078 res:0.0111688"
       ]
      },
      {
       "output_type": "stream",
       "stream": "stdout",
       "text": [
        "\n",
        "Idx:4,Rt:25412.1 Csigma:2.35722e-13 Tp:0.054735 res:0.0131226"
       ]
      },
      {
       "output_type": "stream",
       "stream": "stdout",
       "text": [
        "\n",
        "Idx:0,Rt:25412.1 Csigma:2.35722e-13 Tp:0.0204683 res:0.00346397"
       ]
      },
      {
       "output_type": "stream",
       "stream": "stdout",
       "text": [
        "\n",
        "Idx:1,Rt:25412.1 Csigma:2.35722e-13 Tp:0.0286681 res:0.00640582"
       ]
      },
      {
       "output_type": "stream",
       "stream": "stdout",
       "text": [
        "\n",
        "Idx:2,Rt:25412.1 Csigma:2.35722e-13 Tp:0.0376146 res:0.00971815"
       ]
      },
      {
       "output_type": "stream",
       "stream": "stdout",
       "text": [
        "\n",
        "Idx:3,Rt:25412.1 Csigma:2.35722e-13 Tp:0.0465078 res:0.0111688"
       ]
      },
      {
       "output_type": "stream",
       "stream": "stdout",
       "text": [
        "\n",
        "Idx:4,Rt:25412.1 Csigma:2.35722e-13 Tp:0.054735 res:0.0131226"
       ]
      },
      {
       "output_type": "stream",
       "stream": "stdout",
       "text": [
        "\n",
        "Idx:0,Rt:25412.1 Csigma:2.35722e-13 Tp:0.0204683 res:0.00346397"
       ]
      },
      {
       "output_type": "stream",
       "stream": "stdout",
       "text": [
        "\n",
        "Idx:1,Rt:25412.1 Csigma:2.35722e-13 Tp:0.0286681 res:0.00640582"
       ]
      },
      {
       "output_type": "stream",
       "stream": "stdout",
       "text": [
        "\n",
        "Idx:2,Rt:25412.1 Csigma:2.35722e-13 Tp:0.0376146 res:0.00971815"
       ]
      },
      {
       "output_type": "stream",
       "stream": "stdout",
       "text": [
        "\n",
        "Idx:3,Rt:25412.1 Csigma:2.35722e-13 Tp:0.0465078 res:0.0111688"
       ]
      },
      {
       "output_type": "stream",
       "stream": "stdout",
       "text": [
        "\n",
        "Idx:4,Rt:25412.1 Csigma:2.35722e-13 Tp:0.054735 res:0.0131226"
       ]
      },
      {
       "output_type": "stream",
       "stream": "stdout",
       "text": [
        "\n",
        "Idx:0,Rt:25412.1 Csigma:2.35722e-13 Tp:0.0204683 res:0.00346397"
       ]
      },
      {
       "output_type": "stream",
       "stream": "stdout",
       "text": [
        "\n",
        "Idx:1,Rt:25412.1 Csigma:2.35722e-13 Tp:0.0286681 res:0.00640582"
       ]
      },
      {
       "output_type": "stream",
       "stream": "stdout",
       "text": [
        "\n",
        "Idx:2,Rt:25412.1 Csigma:2.35722e-13 Tp:0.0376146 res:0.00971815"
       ]
      },
      {
       "output_type": "stream",
       "stream": "stdout",
       "text": [
        "\n",
        "Idx:3,Rt:25412.1 Csigma:2.35722e-13 Tp:0.0465078 res:0.0111688"
       ]
      },
      {
       "output_type": "stream",
       "stream": "stdout",
       "text": [
        "\n",
        "Idx:4,Rt:25412.1 Csigma:2.35722e-13 Tp:0.054735 res:0.0131226"
       ]
      },
      {
       "output_type": "stream",
       "stream": "stdout",
       "text": [
        "\n",
        "Idx:0,Rt:25412.1 Csigma:2.35722e-13 Tp:0.0204683 res:0.00346397"
       ]
      },
      {
       "output_type": "stream",
       "stream": "stdout",
       "text": [
        "\n",
        "Idx:1,Rt:25412.1 Csigma:2.35722e-13 Tp:0.0286681 res:0.00640582"
       ]
      },
      {
       "output_type": "stream",
       "stream": "stdout",
       "text": [
        "\n",
        "Idx:2,Rt:25412.1 Csigma:2.35722e-13 Tp:0.0376146 res:0.00971815"
       ]
      },
      {
       "output_type": "stream",
       "stream": "stdout",
       "text": [
        "\n",
        "Idx:3,Rt:25412.1 Csigma:2.35722e-13 Tp:0.0465078 res:0.0111688"
       ]
      },
      {
       "output_type": "stream",
       "stream": "stdout",
       "text": [
        "\n",
        "Idx:4,Rt:25412.1 Csigma:2.35722e-13 Tp:0.054735 res:0.0131226"
       ]
      },
      {
       "output_type": "stream",
       "stream": "stdout",
       "text": [
        "\n",
        "Idx:0,Rt:25412.1 Csigma:2.35722e-13 Tp:0.0204683 res:0.00346397"
       ]
      },
      {
       "output_type": "stream",
       "stream": "stdout",
       "text": [
        "\n",
        "Idx:1,Rt:25412.1 Csigma:2.35722e-13 Tp:0.0286681 res:0.00640582"
       ]
      },
      {
       "output_type": "stream",
       "stream": "stdout",
       "text": [
        "\n",
        "Idx:2,Rt:25412.1 Csigma:2.35722e-13 Tp:0.0376146 res:0.00971815"
       ]
      },
      {
       "output_type": "stream",
       "stream": "stdout",
       "text": [
        "\n",
        "Idx:3,Rt:25412.1 Csigma:2.35722e-13 Tp:0.0465078 res:0.0111688"
       ]
      },
      {
       "output_type": "stream",
       "stream": "stdout",
       "text": [
        "\n",
        "Idx:4,Rt:25412.1 Csigma:2.35722e-13 Tp:0.054735 res:0.0131226"
       ]
      },
      {
       "output_type": "stream",
       "stream": "stdout",
       "text": [
        "\n",
        "Idx:0,Rt:25412.1 Csigma:2.35722e-13 Tp:0.0204683 res:0.00346397"
       ]
      },
      {
       "output_type": "stream",
       "stream": "stdout",
       "text": [
        "\n",
        "Idx:1,Rt:25412.1 Csigma:2.35722e-13 Tp:0.0286681 res:0.00640582"
       ]
      },
      {
       "output_type": "stream",
       "stream": "stdout",
       "text": [
        "\n",
        "Idx:2,Rt:25412.1 Csigma:2.35722e-13 Tp:0.0376146 res:0.00971815"
       ]
      },
      {
       "output_type": "stream",
       "stream": "stdout",
       "text": [
        "\n",
        "Idx:3,Rt:25412.1 Csigma:2.35722e-13 Tp:0.0465078 res:0.0111688"
       ]
      },
      {
       "output_type": "stream",
       "stream": "stdout",
       "text": [
        "\n",
        "Idx:4,Rt:25412.1 Csigma:2.35722e-13 Tp:0.054735 res:0.0131226"
       ]
      },
      {
       "output_type": "stream",
       "stream": "stdout",
       "text": [
        "\n",
        "Idx:0,Rt:25412.1 Csigma:2.35722e-13 Tp:0.0204683 res:0.00346397"
       ]
      },
      {
       "output_type": "stream",
       "stream": "stdout",
       "text": [
        "\n",
        "Idx:1,Rt:25412.1 Csigma:2.35722e-13 Tp:0.0286681 res:0.00640582"
       ]
      },
      {
       "output_type": "stream",
       "stream": "stdout",
       "text": [
        "\n",
        "Idx:2,Rt:25412.1 Csigma:2.35722e-13 Tp:0.0376146 res:0.00971815"
       ]
      },
      {
       "output_type": "stream",
       "stream": "stdout",
       "text": [
        "\n",
        "Idx:3,Rt:25412.1 Csigma:2.35722e-13 Tp:0.0465078 res:0.0111688"
       ]
      },
      {
       "output_type": "stream",
       "stream": "stdout",
       "text": [
        "\n",
        "Idx:4,Rt:25412.1 Csigma:2.35722e-13 Tp:0.054735 res:0.0131226"
       ]
      },
      {
       "output_type": "stream",
       "stream": "stdout",
       "text": [
        "\n",
        "Idx:0,Rt:25412.1 Csigma:2.35721e-13 Tp:0.0204671 res:0.00346357"
       ]
      },
      {
       "output_type": "stream",
       "stream": "stdout",
       "text": [
        "\n",
        "Idx:1,Rt:25412.1 Csigma:2.35721e-13 Tp:0.0286682 res:0.00640542"
       ]
      },
      {
       "output_type": "stream",
       "stream": "stdout",
       "text": [
        "\n",
        "Idx:2,Rt:25412.1 Csigma:2.35721e-13 Tp:0.0376146 res:0.00971775"
       ]
      },
      {
       "output_type": "stream",
       "stream": "stdout",
       "text": [
        "\n",
        "Idx:3,Rt:25412.1 Csigma:2.35721e-13 Tp:0.0465078 res:0.0111684"
       ]
      },
      {
       "output_type": "stream",
       "stream": "stdout",
       "text": [
        "\n",
        "Idx:4,Rt:25412.1 Csigma:2.35721e-13 Tp:0.0547351 res:0.0131222"
       ]
      },
      {
       "output_type": "stream",
       "stream": "stdout",
       "text": [
        "\n",
        "Idx:0,Rt:25412.1 Csigma:2.35721e-13 Tp:0.0204671 res:0.00346357"
       ]
      },
      {
       "output_type": "stream",
       "stream": "stdout",
       "text": [
        "\n",
        "Idx:1,Rt:25412.1 Csigma:2.35721e-13 Tp:0.0286682 res:0.00640542"
       ]
      },
      {
       "output_type": "stream",
       "stream": "stdout",
       "text": [
        "\n",
        "Idx:2,Rt:25412.1 Csigma:2.35721e-13 Tp:0.0376146 res:0.00971775"
       ]
      },
      {
       "output_type": "stream",
       "stream": "stdout",
       "text": [
        "\n",
        "Idx:3,Rt:25412.1 Csigma:2.35721e-13 Tp:0.0465078 res:0.0111684"
       ]
      },
      {
       "output_type": "stream",
       "stream": "stdout",
       "text": [
        "\n",
        "Idx:4,Rt:25412.1 Csigma:2.35721e-13 Tp:0.0547351 res:0.0131222"
       ]
      },
      {
       "output_type": "stream",
       "stream": "stdout",
       "text": [
        "\n",
        "Idx:0,Rt:25412.1 Csigma:2.35721e-13 Tp:0.0204671 res:0.00346357"
       ]
      },
      {
       "output_type": "stream",
       "stream": "stdout",
       "text": [
        "\n",
        "Idx:1,Rt:25412.1 Csigma:2.35721e-13 Tp:0.0286682 res:0.00640542"
       ]
      },
      {
       "output_type": "stream",
       "stream": "stdout",
       "text": [
        "\n",
        "Idx:2,Rt:25412.1 Csigma:2.35721e-13 Tp:0.0376146 res:0.00971775"
       ]
      },
      {
       "output_type": "stream",
       "stream": "stdout",
       "text": [
        "\n",
        "Idx:3,Rt:25412.1 Csigma:2.35721e-13 Tp:0.0465078 res:0.0111684"
       ]
      },
      {
       "output_type": "stream",
       "stream": "stdout",
       "text": [
        "\n",
        "Idx:4,Rt:25412.1 Csigma:2.35721e-13 Tp:0.0547351 res:0.0131222"
       ]
      },
      {
       "output_type": "stream",
       "stream": "stdout",
       "text": [
        "\n",
        "Idx:0,Rt:25412.1 Csigma:2.35721e-13 Tp:0.0204671 res:0.00346357"
       ]
      },
      {
       "output_type": "stream",
       "stream": "stdout",
       "text": [
        "\n",
        "Idx:1,Rt:25412.1 Csigma:2.35721e-13 Tp:0.0286682 res:0.00640542"
       ]
      },
      {
       "output_type": "stream",
       "stream": "stdout",
       "text": [
        "\n",
        "Idx:2,Rt:25412.1 Csigma:2.35721e-13 Tp:0.0376146 res:0.00971775"
       ]
      },
      {
       "output_type": "stream",
       "stream": "stdout",
       "text": [
        "\n",
        "Idx:3,Rt:25412.1 Csigma:2.35721e-13 Tp:0.0465078 res:0.0111684"
       ]
      },
      {
       "output_type": "stream",
       "stream": "stdout",
       "text": [
        "\n",
        "Idx:4,Rt:25412.1 Csigma:2.35721e-13 Tp:0.0547351 res:0.0131222"
       ]
      },
      {
       "output_type": "stream",
       "stream": "stdout",
       "text": [
        "\n",
        "Idx:0,Rt:25412.1 Csigma:2.35721e-13 Tp:0.0204671 res:0.00346357"
       ]
      },
      {
       "output_type": "stream",
       "stream": "stdout",
       "text": [
        "\n",
        "Idx:1,Rt:25412.1 Csigma:2.35721e-13 Tp:0.0286682 res:0.00640542"
       ]
      },
      {
       "output_type": "stream",
       "stream": "stdout",
       "text": [
        "\n",
        "Idx:2,Rt:25412.1 Csigma:2.35721e-13 Tp:0.0376146 res:0.00971775"
       ]
      },
      {
       "output_type": "stream",
       "stream": "stdout",
       "text": [
        "\n",
        "Idx:3,Rt:25412.1 Csigma:2.35721e-13 Tp:0.0465078 res:0.0111684"
       ]
      },
      {
       "output_type": "stream",
       "stream": "stdout",
       "text": [
        "\n",
        "Idx:4,Rt:25412.1 Csigma:2.35721e-13 Tp:0.0547351 res:0.0131222"
       ]
      },
      {
       "output_type": "stream",
       "stream": "stdout",
       "text": [
        "\n",
        "Idx:0,Rt:25412.1 Csigma:2.35721e-13 Tp:0.0204671 res:0.00346357"
       ]
      },
      {
       "output_type": "stream",
       "stream": "stdout",
       "text": [
        "\n",
        "Idx:1,Rt:25412.1 Csigma:2.35721e-13 Tp:0.0286682 res:0.00640542"
       ]
      },
      {
       "output_type": "stream",
       "stream": "stdout",
       "text": [
        "\n",
        "Idx:2,Rt:25412.1 Csigma:2.35721e-13 Tp:0.0376146 res:0.00971775"
       ]
      },
      {
       "output_type": "stream",
       "stream": "stdout",
       "text": [
        "\n",
        "Idx:3,Rt:25412.1 Csigma:2.35721e-13 Tp:0.0465078 res:0.0111684"
       ]
      },
      {
       "output_type": "stream",
       "stream": "stdout",
       "text": [
        "\n",
        "Idx:4,Rt:25412.1 Csigma:2.35721e-13 Tp:0.0547351 res:0.0131222"
       ]
      },
      {
       "output_type": "stream",
       "stream": "stdout",
       "text": [
        "\n",
        "Idx:0,Rt:25412.1 Csigma:2.35721e-13 Tp:0.0204671 res:0.00346357"
       ]
      },
      {
       "output_type": "stream",
       "stream": "stdout",
       "text": [
        "\n",
        "Idx:1,Rt:25412.1 Csigma:2.35721e-13 Tp:0.0286682 res:0.00640542"
       ]
      },
      {
       "output_type": "stream",
       "stream": "stdout",
       "text": [
        "\n",
        "Idx:2,Rt:25412.1 Csigma:2.35721e-13 Tp:0.0376146 res:0.00971775"
       ]
      },
      {
       "output_type": "stream",
       "stream": "stdout",
       "text": [
        "\n",
        "Idx:3,Rt:25412.1 Csigma:2.35721e-13 Tp:0.0465078 res:0.0111684"
       ]
      },
      {
       "output_type": "stream",
       "stream": "stdout",
       "text": [
        "\n",
        "Idx:4,Rt:25412.1 Csigma:2.35721e-13 Tp:0.0547351 res:0.0131222"
       ]
      },
      {
       "output_type": "stream",
       "stream": "stdout",
       "text": [
        "\n",
        "Idx:0,Rt:25412.1 Csigma:2.35721e-13 Tp:0.0204671 res:0.00346357"
       ]
      },
      {
       "output_type": "stream",
       "stream": "stdout",
       "text": [
        "\n",
        "Idx:1,Rt:25412.1 Csigma:2.35721e-13 Tp:0.0286682 res:0.00640542"
       ]
      },
      {
       "output_type": "stream",
       "stream": "stdout",
       "text": [
        "\n",
        "Idx:2,Rt:25412.1 Csigma:2.35721e-13 Tp:0.0376146 res:0.00971775"
       ]
      },
      {
       "output_type": "stream",
       "stream": "stdout",
       "text": [
        "\n",
        "Idx:3,Rt:25412.1 Csigma:2.35721e-13 Tp:0.0465078 res:0.0111684"
       ]
      },
      {
       "output_type": "stream",
       "stream": "stdout",
       "text": [
        "\n",
        "Idx:4,Rt:25412.1 Csigma:2.35721e-13 Tp:0.0547351 res:0.0131222"
       ]
      },
      {
       "output_type": "stream",
       "stream": "stdout",
       "text": [
        "\n",
        "Idx:0,Rt:25412.1 Csigma:2.35721e-13 Tp:0.0204671 res:0.00346357"
       ]
      },
      {
       "output_type": "stream",
       "stream": "stdout",
       "text": [
        "\n",
        "Idx:1,Rt:25412.1 Csigma:2.35721e-13 Tp:0.0286682 res:0.00640542"
       ]
      },
      {
       "output_type": "stream",
       "stream": "stdout",
       "text": [
        "\n",
        "Idx:2,Rt:25412.1 Csigma:2.35721e-13 Tp:0.0376146 res:0.00971775"
       ]
      },
      {
       "output_type": "stream",
       "stream": "stdout",
       "text": [
        "\n",
        "Idx:3,Rt:25412.1 Csigma:2.35721e-13 Tp:0.0465078 res:0.0111684"
       ]
      },
      {
       "output_type": "stream",
       "stream": "stdout",
       "text": [
        "\n",
        "Idx:4,Rt:25412.1 Csigma:2.35721e-13 Tp:0.0547351 res:0.0131222"
       ]
      },
      {
       "output_type": "stream",
       "stream": "stdout",
       "text": [
        "\n",
        "Idx:0,Rt:25412.1 Csigma:2.35721e-13 Tp:0.0204645 res:0.00346277"
       ]
      },
      {
       "output_type": "stream",
       "stream": "stdout",
       "text": [
        "\n",
        "Idx:1,Rt:25412.1 Csigma:2.35721e-13 Tp:0.0286683 res:0.00640462"
       ]
      },
      {
       "output_type": "stream",
       "stream": "stdout",
       "text": [
        "\n",
        "Idx:2,Rt:25412.1 Csigma:2.35721e-13 Tp:0.0376145 res:0.00971694"
       ]
      },
      {
       "output_type": "stream",
       "stream": "stdout",
       "text": [
        "\n",
        "Idx:3,Rt:25412.1 Csigma:2.35721e-13 Tp:0.0465078 res:0.0111676"
       ]
      },
      {
       "output_type": "stream",
       "stream": "stdout",
       "text": [
        "\n",
        "Idx:4,Rt:25412.1 Csigma:2.35721e-13 Tp:0.0547352 res:0.0131214"
       ]
      },
      {
       "output_type": "stream",
       "stream": "stdout",
       "text": [
        "\n",
        "Idx:0,Rt:25412.1 Csigma:2.35721e-13 Tp:0.0204645 res:0.00346277"
       ]
      },
      {
       "output_type": "stream",
       "stream": "stdout",
       "text": [
        "\n",
        "Idx:1,Rt:25412.1 Csigma:2.35721e-13 Tp:0.0286683 res:0.00640462"
       ]
      },
      {
       "output_type": "stream",
       "stream": "stdout",
       "text": [
        "\n",
        "Idx:2,Rt:25412.1 Csigma:2.35721e-13 Tp:0.0376145 res:0.00971694"
       ]
      },
      {
       "output_type": "stream",
       "stream": "stdout",
       "text": [
        "\n",
        "Idx:3,Rt:25412.1 Csigma:2.35721e-13 Tp:0.0465078 res:0.0111676"
       ]
      },
      {
       "output_type": "stream",
       "stream": "stdout",
       "text": [
        "\n",
        "Idx:4,Rt:25412.1 Csigma:2.35721e-13 Tp:0.0547352 res:0.0131214"
       ]
      },
      {
       "output_type": "stream",
       "stream": "stdout",
       "text": [
        "\n",
        "Idx:0,Rt:25412.1 Csigma:2.35721e-13 Tp:0.0204645 res:0.00346277"
       ]
      },
      {
       "output_type": "stream",
       "stream": "stdout",
       "text": [
        "\n",
        "Idx:1,Rt:25412.1 Csigma:2.35721e-13 Tp:0.0286683 res:0.00640462"
       ]
      },
      {
       "output_type": "stream",
       "stream": "stdout",
       "text": [
        "\n",
        "Idx:2,Rt:25412.1 Csigma:2.35721e-13 Tp:0.0376145 res:0.00971694"
       ]
      },
      {
       "output_type": "stream",
       "stream": "stdout",
       "text": [
        "\n",
        "Idx:3,Rt:25412.1 Csigma:2.35721e-13 Tp:0.0465078 res:0.0111676"
       ]
      },
      {
       "output_type": "stream",
       "stream": "stdout",
       "text": [
        "\n",
        "Idx:4,Rt:25412.1 Csigma:2.35721e-13 Tp:0.0547352 res:0.0131214"
       ]
      },
      {
       "output_type": "stream",
       "stream": "stdout",
       "text": [
        "\n",
        "Idx:0,Rt:25412.1 Csigma:2.35721e-13 Tp:0.0204645 res:0.00346277"
       ]
      },
      {
       "output_type": "stream",
       "stream": "stdout",
       "text": [
        "\n",
        "Idx:1,Rt:25412.1 Csigma:2.35721e-13 Tp:0.0286683 res:0.00640462"
       ]
      },
      {
       "output_type": "stream",
       "stream": "stdout",
       "text": [
        "\n",
        "Idx:2,Rt:25412.1 Csigma:2.35721e-13 Tp:0.0376145 res:0.00971694"
       ]
      },
      {
       "output_type": "stream",
       "stream": "stdout",
       "text": [
        "\n",
        "Idx:3,Rt:25412.1 Csigma:2.35721e-13 Tp:0.0465078 res:0.0111676"
       ]
      },
      {
       "output_type": "stream",
       "stream": "stdout",
       "text": [
        "\n",
        "Idx:4,Rt:25412.1 Csigma:2.35721e-13 Tp:0.0547352 res:0.0131214"
       ]
      },
      {
       "output_type": "stream",
       "stream": "stdout",
       "text": [
        "\n",
        "Idx:0,Rt:25412.1 Csigma:2.35721e-13 Tp:0.0204645 res:0.00346277"
       ]
      },
      {
       "output_type": "stream",
       "stream": "stdout",
       "text": [
        "\n",
        "Idx:1,Rt:25412.1 Csigma:2.35721e-13 Tp:0.0286683 res:0.00640462"
       ]
      },
      {
       "output_type": "stream",
       "stream": "stdout",
       "text": [
        "\n",
        "Idx:2,Rt:25412.1 Csigma:2.35721e-13 Tp:0.0376145 res:0.00971694"
       ]
      },
      {
       "output_type": "stream",
       "stream": "stdout",
       "text": [
        "\n",
        "Idx:3,Rt:25412.1 Csigma:2.35721e-13 Tp:0.0465078 res:0.0111676"
       ]
      },
      {
       "output_type": "stream",
       "stream": "stdout",
       "text": [
        "\n",
        "Idx:4,Rt:25412.1 Csigma:2.35721e-13 Tp:0.0547352 res:0.0131214"
       ]
      },
      {
       "output_type": "stream",
       "stream": "stdout",
       "text": [
        "\n",
        "Idx:0,Rt:25412.1 Csigma:2.35721e-13 Tp:0.0204645 res:0.00346277"
       ]
      },
      {
       "output_type": "stream",
       "stream": "stdout",
       "text": [
        "\n",
        "Idx:1,Rt:25412.1 Csigma:2.35721e-13 Tp:0.0286683 res:0.00640462"
       ]
      },
      {
       "output_type": "stream",
       "stream": "stdout",
       "text": [
        "\n",
        "Idx:2,Rt:25412.1 Csigma:2.35721e-13 Tp:0.0376145 res:0.00971694"
       ]
      },
      {
       "output_type": "stream",
       "stream": "stdout",
       "text": [
        "\n",
        "Idx:3,Rt:25412.1 Csigma:2.35721e-13 Tp:0.0465078 res:0.0111676"
       ]
      },
      {
       "output_type": "stream",
       "stream": "stdout",
       "text": [
        "\n",
        "Idx:4,Rt:25412.1 Csigma:2.35721e-13 Tp:0.0547352 res:0.0131214"
       ]
      },
      {
       "output_type": "stream",
       "stream": "stdout",
       "text": [
        "\n",
        "Idx:0,Rt:25412.1 Csigma:2.35721e-13 Tp:0.0204645 res:0.00346277"
       ]
      },
      {
       "output_type": "stream",
       "stream": "stdout",
       "text": [
        "\n",
        "Idx:1,Rt:25412.1 Csigma:2.35721e-13 Tp:0.0286683 res:0.00640462"
       ]
      },
      {
       "output_type": "stream",
       "stream": "stdout",
       "text": [
        "\n",
        "Idx:2,Rt:25412.1 Csigma:2.35721e-13 Tp:0.0376145 res:0.00971694"
       ]
      },
      {
       "output_type": "stream",
       "stream": "stdout",
       "text": [
        "\n",
        "Idx:3,Rt:25412.1 Csigma:2.35721e-13 Tp:0.0465078 res:0.0111676"
       ]
      },
      {
       "output_type": "stream",
       "stream": "stdout",
       "text": [
        "\n",
        "Idx:4,Rt:25412.1 Csigma:2.35721e-13 Tp:0.0547352 res:0.0131214"
       ]
      },
      {
       "output_type": "stream",
       "stream": "stdout",
       "text": [
        "\n",
        "Idx:0,Rt:25412.1 Csigma:2.35721e-13 Tp:0.0204645 res:0.00346277"
       ]
      },
      {
       "output_type": "stream",
       "stream": "stdout",
       "text": [
        "\n",
        "Idx:1,Rt:25412.1 Csigma:2.35721e-13 Tp:0.0286683 res:0.00640462"
       ]
      },
      {
       "output_type": "stream",
       "stream": "stdout",
       "text": [
        "\n",
        "Idx:2,Rt:25412.1 Csigma:2.35721e-13 Tp:0.0376145 res:0.00971694"
       ]
      },
      {
       "output_type": "stream",
       "stream": "stdout",
       "text": [
        "\n",
        "Idx:3,Rt:25412.1 Csigma:2.35721e-13 Tp:0.0465078 res:0.0111676"
       ]
      },
      {
       "output_type": "stream",
       "stream": "stdout",
       "text": [
        "\n",
        "Idx:4,Rt:25412.1 Csigma:2.35721e-13 Tp:0.0547352 res:0.0131214"
       ]
      },
      {
       "output_type": "stream",
       "stream": "stdout",
       "text": [
        "\n",
        "Idx:0,Rt:25412.1 Csigma:2.35721e-13 Tp:0.0204645 res:0.00346277"
       ]
      },
      {
       "output_type": "stream",
       "stream": "stdout",
       "text": [
        "\n",
        "Idx:1,Rt:25412.1 Csigma:2.35721e-13 Tp:0.0286683 res:0.00640462"
       ]
      },
      {
       "output_type": "stream",
       "stream": "stdout",
       "text": [
        "\n",
        "Idx:2,Rt:25412.1 Csigma:2.35721e-13 Tp:0.0376145 res:0.00971694"
       ]
      },
      {
       "output_type": "stream",
       "stream": "stdout",
       "text": [
        "\n",
        "Idx:3,Rt:25412.1 Csigma:2.35721e-13 Tp:0.0465078 res:0.0111676"
       ]
      },
      {
       "output_type": "stream",
       "stream": "stdout",
       "text": [
        "\n",
        "Idx:4,Rt:25412.1 Csigma:2.35721e-13 Tp:0.0547352 res:0.0131214"
       ]
      },
      {
       "output_type": "stream",
       "stream": "stdout",
       "text": [
        "\n",
        "Idx:0,Rt:25412.1 Csigma:2.3572e-13 Tp:0.0204595 res:0.00346119"
       ]
      },
      {
       "output_type": "stream",
       "stream": "stdout",
       "text": [
        "\n",
        "Idx:1,Rt:25412.1 Csigma:2.3572e-13 Tp:0.0286686 res:0.00640305"
       ]
      },
      {
       "output_type": "stream",
       "stream": "stdout",
       "text": [
        "\n",
        "Idx:2,Rt:25412.1 Csigma:2.3572e-13 Tp:0.0376144 res:0.00971536"
       ]
      },
      {
       "output_type": "stream",
       "stream": "stdout",
       "text": [
        "\n",
        "Idx:3,Rt:25412.1 Csigma:2.3572e-13 Tp:0.0465079 res:0.011166"
       ]
      },
      {
       "output_type": "stream",
       "stream": "stdout",
       "text": [
        "\n",
        "Idx:4,Rt:25412.1 Csigma:2.3572e-13 Tp:0.0547355 res:0.0131198"
       ]
      },
      {
       "output_type": "stream",
       "stream": "stdout",
       "text": [
        "\n",
        "Idx:0,Rt:25412.1 Csigma:2.3572e-13 Tp:0.0204595 res:0.00346119"
       ]
      },
      {
       "output_type": "stream",
       "stream": "stdout",
       "text": [
        "\n",
        "Idx:1,Rt:25412.1 Csigma:2.3572e-13 Tp:0.0286686 res:0.00640305"
       ]
      },
      {
       "output_type": "stream",
       "stream": "stdout",
       "text": [
        "\n",
        "Idx:2,Rt:25412.1 Csigma:2.3572e-13 Tp:0.0376144 res:0.00971536"
       ]
      },
      {
       "output_type": "stream",
       "stream": "stdout",
       "text": [
        "\n",
        "Idx:3,Rt:25412.1 Csigma:2.3572e-13 Tp:0.0465079 res:0.011166"
       ]
      },
      {
       "output_type": "stream",
       "stream": "stdout",
       "text": [
        "\n",
        "Idx:4,Rt:25412.1 Csigma:2.3572e-13 Tp:0.0547355 res:0.0131198"
       ]
      },
      {
       "output_type": "stream",
       "stream": "stdout",
       "text": [
        "\n",
        "Idx:0,Rt:25412.1 Csigma:2.3572e-13 Tp:0.0204595 res:0.00346119"
       ]
      },
      {
       "output_type": "stream",
       "stream": "stdout",
       "text": [
        "\n",
        "Idx:1,Rt:25412.1 Csigma:2.3572e-13 Tp:0.0286686 res:0.00640305"
       ]
      },
      {
       "output_type": "stream",
       "stream": "stdout",
       "text": [
        "\n",
        "Idx:2,Rt:25412.1 Csigma:2.3572e-13 Tp:0.0376144 res:0.00971536"
       ]
      },
      {
       "output_type": "stream",
       "stream": "stdout",
       "text": [
        "\n",
        "Idx:3,Rt:25412.1 Csigma:2.3572e-13 Tp:0.0465079 res:0.011166"
       ]
      },
      {
       "output_type": "stream",
       "stream": "stdout",
       "text": [
        "\n",
        "Idx:4,Rt:25412.1 Csigma:2.3572e-13 Tp:0.0547355 res:0.0131198"
       ]
      },
      {
       "output_type": "stream",
       "stream": "stdout",
       "text": [
        "\n",
        "Idx:0,Rt:25412.1 Csigma:2.3572e-13 Tp:0.0204595 res:0.00346119"
       ]
      },
      {
       "output_type": "stream",
       "stream": "stdout",
       "text": [
        "\n",
        "Idx:1,Rt:25412.1 Csigma:2.3572e-13 Tp:0.0286686 res:0.00640305"
       ]
      },
      {
       "output_type": "stream",
       "stream": "stdout",
       "text": [
        "\n",
        "Idx:2,Rt:25412.1 Csigma:2.3572e-13 Tp:0.0376144 res:0.00971536"
       ]
      },
      {
       "output_type": "stream",
       "stream": "stdout",
       "text": [
        "\n",
        "Idx:3,Rt:25412.1 Csigma:2.3572e-13 Tp:0.0465079 res:0.011166"
       ]
      },
      {
       "output_type": "stream",
       "stream": "stdout",
       "text": [
        "\n",
        "Idx:4,Rt:25412.1 Csigma:2.3572e-13 Tp:0.0547355 res:0.0131198"
       ]
      },
      {
       "output_type": "stream",
       "stream": "stdout",
       "text": [
        "\n",
        "Idx:0,Rt:25412.1 Csigma:2.3572e-13 Tp:0.0204595 res:0.00346119"
       ]
      },
      {
       "output_type": "stream",
       "stream": "stdout",
       "text": [
        "\n",
        "Idx:1,Rt:25412.1 Csigma:2.3572e-13 Tp:0.0286686 res:0.00640305"
       ]
      },
      {
       "output_type": "stream",
       "stream": "stdout",
       "text": [
        "\n",
        "Idx:2,Rt:25412.1 Csigma:2.3572e-13 Tp:0.0376144 res:0.00971536"
       ]
      },
      {
       "output_type": "stream",
       "stream": "stdout",
       "text": [
        "\n",
        "Idx:3,Rt:25412.1 Csigma:2.3572e-13 Tp:0.0465079 res:0.011166"
       ]
      },
      {
       "output_type": "stream",
       "stream": "stdout",
       "text": [
        "\n",
        "Idx:4,Rt:25412.1 Csigma:2.3572e-13 Tp:0.0547355 res:0.0131198"
       ]
      },
      {
       "output_type": "stream",
       "stream": "stdout",
       "text": [
        "\n",
        "Idx:0,Rt:25412.1 Csigma:2.3572e-13 Tp:0.0204595 res:0.00346119"
       ]
      },
      {
       "output_type": "stream",
       "stream": "stdout",
       "text": [
        "\n",
        "Idx:1,Rt:25412.1 Csigma:2.3572e-13 Tp:0.0286686 res:0.00640305"
       ]
      },
      {
       "output_type": "stream",
       "stream": "stdout",
       "text": [
        "\n",
        "Idx:2,Rt:25412.1 Csigma:2.3572e-13 Tp:0.0376144 res:0.00971536"
       ]
      },
      {
       "output_type": "stream",
       "stream": "stdout",
       "text": [
        "\n",
        "Idx:3,Rt:25412.1 Csigma:2.3572e-13 Tp:0.0465079 res:0.011166"
       ]
      },
      {
       "output_type": "stream",
       "stream": "stdout",
       "text": [
        "\n",
        "Idx:4,Rt:25412.1 Csigma:2.3572e-13 Tp:0.0547355 res:0.0131198"
       ]
      },
      {
       "output_type": "stream",
       "stream": "stdout",
       "text": [
        "\n",
        "Idx:0,Rt:25412.1 Csigma:2.3572e-13 Tp:0.0204595 res:0.00346119"
       ]
      },
      {
       "output_type": "stream",
       "stream": "stdout",
       "text": [
        "\n",
        "Idx:1,Rt:25412.1 Csigma:2.3572e-13 Tp:0.0286686 res:0.00640305"
       ]
      },
      {
       "output_type": "stream",
       "stream": "stdout",
       "text": [
        "\n",
        "Idx:2,Rt:25412.1 Csigma:2.3572e-13 Tp:0.0376144 res:0.00971536"
       ]
      },
      {
       "output_type": "stream",
       "stream": "stdout",
       "text": [
        "\n",
        "Idx:3,Rt:25412.1 Csigma:2.3572e-13 Tp:0.0465079 res:0.011166"
       ]
      },
      {
       "output_type": "stream",
       "stream": "stdout",
       "text": [
        "\n",
        "Idx:4,Rt:25412.1 Csigma:2.3572e-13 Tp:0.0547355 res:0.0131198"
       ]
      },
      {
       "output_type": "stream",
       "stream": "stdout",
       "text": [
        "\n",
        "Idx:0,Rt:25412.1 Csigma:2.3572e-13 Tp:0.0204595 res:0.00346119"
       ]
      },
      {
       "output_type": "stream",
       "stream": "stdout",
       "text": [
        "\n",
        "Idx:1,Rt:25412.1 Csigma:2.3572e-13 Tp:0.0286686 res:0.00640305"
       ]
      },
      {
       "output_type": "stream",
       "stream": "stdout",
       "text": [
        "\n",
        "Idx:2,Rt:25412.1 Csigma:2.3572e-13 Tp:0.0376144 res:0.00971536"
       ]
      },
      {
       "output_type": "stream",
       "stream": "stdout",
       "text": [
        "\n",
        "Idx:3,Rt:25412.1 Csigma:2.3572e-13 Tp:0.0465079 res:0.011166"
       ]
      },
      {
       "output_type": "stream",
       "stream": "stdout",
       "text": [
        "\n",
        "Idx:4,Rt:25412.1 Csigma:2.3572e-13 Tp:0.0547355 res:0.0131198"
       ]
      },
      {
       "output_type": "stream",
       "stream": "stdout",
       "text": [
        "\n",
        "Idx:0,Rt:25412.1 Csigma:2.3572e-13 Tp:0.0204595 res:0.00346119"
       ]
      },
      {
       "output_type": "stream",
       "stream": "stdout",
       "text": [
        "\n",
        "Idx:1,Rt:25412.1 Csigma:2.3572e-13 Tp:0.0286686 res:0.00640305"
       ]
      },
      {
       "output_type": "stream",
       "stream": "stdout",
       "text": [
        "\n",
        "Idx:2,Rt:25412.1 Csigma:2.3572e-13 Tp:0.0376144 res:0.00971536"
       ]
      },
      {
       "output_type": "stream",
       "stream": "stdout",
       "text": [
        "\n",
        "Idx:3,Rt:25412.1 Csigma:2.3572e-13 Tp:0.0465079 res:0.011166"
       ]
      },
      {
       "output_type": "stream",
       "stream": "stdout",
       "text": [
        "\n",
        "Idx:4,Rt:25412.1 Csigma:2.3572e-13 Tp:0.0547355 res:0.0131198"
       ]
      },
      {
       "output_type": "stream",
       "stream": "stdout",
       "text": [
        "\n",
        "Idx:0,Rt:25412.1 Csigma:2.35719e-13 Tp:0.0204494 res:0.00345813"
       ]
      },
      {
       "output_type": "stream",
       "stream": "stdout",
       "text": [
        "\n",
        "Idx:1,Rt:25412.1 Csigma:2.35719e-13 Tp:0.0286692 res:0.0064"
       ]
      },
      {
       "output_type": "stream",
       "stream": "stdout",
       "text": [
        "\n",
        "Idx:2,Rt:25412.1 Csigma:2.35719e-13 Tp:0.0376142 res:0.00971229"
       ]
      },
      {
       "output_type": "stream",
       "stream": "stdout",
       "text": [
        "\n",
        "Idx:3,Rt:25412.1 Csigma:2.35719e-13 Tp:0.0465079 res:0.0111629"
       ]
      },
      {
       "output_type": "stream",
       "stream": "stdout",
       "text": [
        "\n",
        "Idx:4,Rt:25412.1 Csigma:2.35719e-13 Tp:0.0547361 res:0.0131167"
       ]
      },
      {
       "output_type": "stream",
       "stream": "stdout",
       "text": [
        "\n",
        "Idx:0,Rt:25412.1 Csigma:2.35719e-13 Tp:0.0204494 res:0.00345813"
       ]
      },
      {
       "output_type": "stream",
       "stream": "stdout",
       "text": [
        "\n",
        "Idx:1,Rt:25412.1 Csigma:2.35719e-13 Tp:0.0286692 res:0.0064"
       ]
      },
      {
       "output_type": "stream",
       "stream": "stdout",
       "text": [
        "\n",
        "Idx:2,Rt:25412.1 Csigma:2.35719e-13 Tp:0.0376142 res:0.00971229"
       ]
      },
      {
       "output_type": "stream",
       "stream": "stdout",
       "text": [
        "\n",
        "Idx:3,Rt:25412.1 Csigma:2.35719e-13 Tp:0.0465079 res:0.0111629"
       ]
      },
      {
       "output_type": "stream",
       "stream": "stdout",
       "text": [
        "\n",
        "Idx:4,Rt:25412.1 Csigma:2.35719e-13 Tp:0.0547361 res:0.0131167"
       ]
      },
      {
       "output_type": "stream",
       "stream": "stdout",
       "text": [
        "\n",
        "Idx:0,Rt:25412.1 Csigma:2.35719e-13 Tp:0.0204494 res:0.00345813"
       ]
      },
      {
       "output_type": "stream",
       "stream": "stdout",
       "text": [
        "\n",
        "Idx:1,Rt:25412.1 Csigma:2.35719e-13 Tp:0.0286692 res:0.0064"
       ]
      },
      {
       "output_type": "stream",
       "stream": "stdout",
       "text": [
        "\n",
        "Idx:2,Rt:25412.1 Csigma:2.35719e-13 Tp:0.0376142 res:0.00971229"
       ]
      },
      {
       "output_type": "stream",
       "stream": "stdout",
       "text": [
        "\n",
        "Idx:3,Rt:25412.1 Csigma:2.35719e-13 Tp:0.0465079 res:0.0111629"
       ]
      },
      {
       "output_type": "stream",
       "stream": "stdout",
       "text": [
        "\n",
        "Idx:4,Rt:25412.1 Csigma:2.35719e-13 Tp:0.0547361 res:0.0131167"
       ]
      },
      {
       "output_type": "stream",
       "stream": "stdout",
       "text": [
        "\n",
        "Idx:0,Rt:25412.1 Csigma:2.35719e-13 Tp:0.0204494 res:0.00345813"
       ]
      },
      {
       "output_type": "stream",
       "stream": "stdout",
       "text": [
        "\n",
        "Idx:1,Rt:25412.1 Csigma:2.35719e-13 Tp:0.0286692 res:0.0064"
       ]
      },
      {
       "output_type": "stream",
       "stream": "stdout",
       "text": [
        "\n",
        "Idx:2,Rt:25412.1 Csigma:2.35719e-13 Tp:0.0376142 res:0.00971229"
       ]
      },
      {
       "output_type": "stream",
       "stream": "stdout",
       "text": [
        "\n",
        "Idx:3,Rt:25412.1 Csigma:2.35719e-13 Tp:0.0465079 res:0.0111629"
       ]
      },
      {
       "output_type": "stream",
       "stream": "stdout",
       "text": [
        "\n",
        "Idx:4,Rt:25412.1 Csigma:2.35719e-13 Tp:0.0547361 res:0.0131167"
       ]
      },
      {
       "output_type": "stream",
       "stream": "stdout",
       "text": [
        "\n",
        "Idx:0,Rt:25412.1 Csigma:2.35719e-13 Tp:0.0204494 res:0.00345813"
       ]
      },
      {
       "output_type": "stream",
       "stream": "stdout",
       "text": [
        "\n",
        "Idx:1,Rt:25412.1 Csigma:2.35719e-13 Tp:0.0286692 res:0.0064"
       ]
      },
      {
       "output_type": "stream",
       "stream": "stdout",
       "text": [
        "\n",
        "Idx:2,Rt:25412.1 Csigma:2.35719e-13 Tp:0.0376142 res:0.00971229"
       ]
      },
      {
       "output_type": "stream",
       "stream": "stdout",
       "text": [
        "\n",
        "Idx:3,Rt:25412.1 Csigma:2.35719e-13 Tp:0.0465079 res:0.0111629"
       ]
      },
      {
       "output_type": "stream",
       "stream": "stdout",
       "text": [
        "\n",
        "Idx:4,Rt:25412.1 Csigma:2.35719e-13 Tp:0.0547361 res:0.0131167"
       ]
      },
      {
       "output_type": "stream",
       "stream": "stdout",
       "text": [
        "\n",
        "Idx:0,Rt:25412.1 Csigma:2.35719e-13 Tp:0.0204494 res:0.00345813"
       ]
      },
      {
       "output_type": "stream",
       "stream": "stdout",
       "text": [
        "\n",
        "Idx:1,Rt:25412.1 Csigma:2.35719e-13 Tp:0.0286692 res:0.0064"
       ]
      },
      {
       "output_type": "stream",
       "stream": "stdout",
       "text": [
        "\n",
        "Idx:2,Rt:25412.1 Csigma:2.35719e-13 Tp:0.0376142 res:0.00971229"
       ]
      },
      {
       "output_type": "stream",
       "stream": "stdout",
       "text": [
        "\n",
        "Idx:3,Rt:25412.1 Csigma:2.35719e-13 Tp:0.0465079 res:0.0111629"
       ]
      },
      {
       "output_type": "stream",
       "stream": "stdout",
       "text": [
        "\n",
        "Idx:4,Rt:25412.1 Csigma:2.35719e-13 Tp:0.0547361 res:0.0131167"
       ]
      },
      {
       "output_type": "stream",
       "stream": "stdout",
       "text": [
        "\n",
        "Idx:0,Rt:25412.1 Csigma:2.35719e-13 Tp:0.0204494 res:0.00345813"
       ]
      },
      {
       "output_type": "stream",
       "stream": "stdout",
       "text": [
        "\n",
        "Idx:1,Rt:25412.1 Csigma:2.35719e-13 Tp:0.0286692 res:0.0064"
       ]
      },
      {
       "output_type": "stream",
       "stream": "stdout",
       "text": [
        "\n",
        "Idx:2,Rt:25412.1 Csigma:2.35719e-13 Tp:0.0376142 res:0.00971229"
       ]
      },
      {
       "output_type": "stream",
       "stream": "stdout",
       "text": [
        "\n",
        "Idx:3,Rt:25412.1 Csigma:2.35719e-13 Tp:0.0465079 res:0.0111629"
       ]
      },
      {
       "output_type": "stream",
       "stream": "stdout",
       "text": [
        "\n",
        "Idx:4,Rt:25412.1 Csigma:2.35719e-13 Tp:0.0547361 res:0.0131167"
       ]
      },
      {
       "output_type": "stream",
       "stream": "stdout",
       "text": [
        "\n",
        "Idx:0,Rt:25412.1 Csigma:2.35719e-13 Tp:0.0204494 res:0.00345813"
       ]
      },
      {
       "output_type": "stream",
       "stream": "stdout",
       "text": [
        "\n",
        "Idx:1,Rt:25412.1 Csigma:2.35719e-13 Tp:0.0286692 res:0.0064"
       ]
      },
      {
       "output_type": "stream",
       "stream": "stdout",
       "text": [
        "\n",
        "Idx:2,Rt:25412.1 Csigma:2.35719e-13 Tp:0.0376142 res:0.00971229"
       ]
      },
      {
       "output_type": "stream",
       "stream": "stdout",
       "text": [
        "\n",
        "Idx:3,Rt:25412.1 Csigma:2.35719e-13 Tp:0.0465079 res:0.0111629"
       ]
      },
      {
       "output_type": "stream",
       "stream": "stdout",
       "text": [
        "\n",
        "Idx:4,Rt:25412.1 Csigma:2.35719e-13 Tp:0.0547361 res:0.0131167"
       ]
      },
      {
       "output_type": "stream",
       "stream": "stdout",
       "text": [
        "\n",
        "Idx:0,Rt:25412.1 Csigma:2.35719e-13 Tp:0.0204494 res:0.00345813"
       ]
      },
      {
       "output_type": "stream",
       "stream": "stdout",
       "text": [
        "\n",
        "Idx:1,Rt:25412.1 Csigma:2.35719e-13 Tp:0.0286692 res:0.0064"
       ]
      },
      {
       "output_type": "stream",
       "stream": "stdout",
       "text": [
        "\n",
        "Idx:2,Rt:25412.1 Csigma:2.35719e-13 Tp:0.0376142 res:0.00971229"
       ]
      },
      {
       "output_type": "stream",
       "stream": "stdout",
       "text": [
        "\n",
        "Idx:3,Rt:25412.1 Csigma:2.35719e-13 Tp:0.0465079 res:0.0111629"
       ]
      },
      {
       "output_type": "stream",
       "stream": "stdout",
       "text": [
        "\n",
        "Idx:4,Rt:25412.1 Csigma:2.35719e-13 Tp:0.0547361 res:0.0131167"
       ]
      },
      {
       "output_type": "stream",
       "stream": "stdout",
       "text": [
        "\n",
        "Idx:0,Rt:25412.1 Csigma:2.35715e-13 Tp:0.0204293 res:0.00345236"
       ]
      },
      {
       "output_type": "stream",
       "stream": "stdout",
       "text": [
        "\n",
        "Idx:1,Rt:25412.1 Csigma:2.35715e-13 Tp:0.0286703 res:0.00639425"
       ]
      },
      {
       "output_type": "stream",
       "stream": "stdout",
       "text": [
        "\n",
        "Idx:2,Rt:25412.1 Csigma:2.35715e-13 Tp:0.0376137 res:0.00970651"
       ]
      },
      {
       "output_type": "stream",
       "stream": "stdout",
       "text": [
        "\n",
        "Idx:3,Rt:25412.1 Csigma:2.35715e-13 Tp:0.046508 res:0.0111572"
       ]
      },
      {
       "output_type": "stream",
       "stream": "stdout",
       "text": [
        "\n",
        "Idx:4,Rt:25412.1 Csigma:2.35715e-13 Tp:0.0547372 res:0.0131109"
       ]
      },
      {
       "output_type": "stream",
       "stream": "stdout",
       "text": [
        "\n",
        "Idx:0,Rt:25412.1 Csigma:2.35715e-13 Tp:0.0204293 res:0.00345236"
       ]
      },
      {
       "output_type": "stream",
       "stream": "stdout",
       "text": [
        "\n",
        "Idx:1,Rt:25412.1 Csigma:2.35715e-13 Tp:0.0286703 res:0.00639425"
       ]
      },
      {
       "output_type": "stream",
       "stream": "stdout",
       "text": [
        "\n",
        "Idx:2,Rt:25412.1 Csigma:2.35715e-13 Tp:0.0376137 res:0.00970651"
       ]
      },
      {
       "output_type": "stream",
       "stream": "stdout",
       "text": [
        "\n",
        "Idx:3,Rt:25412.1 Csigma:2.35715e-13 Tp:0.046508 res:0.0111572"
       ]
      },
      {
       "output_type": "stream",
       "stream": "stdout",
       "text": [
        "\n",
        "Idx:4,Rt:25412.1 Csigma:2.35715e-13 Tp:0.0547372 res:0.0131109"
       ]
      },
      {
       "output_type": "stream",
       "stream": "stdout",
       "text": [
        "\n",
        "Idx:0,Rt:25412.1 Csigma:2.35715e-13 Tp:0.0204293 res:0.00345236"
       ]
      },
      {
       "output_type": "stream",
       "stream": "stdout",
       "text": [
        "\n",
        "Idx:1,Rt:25412.1 Csigma:2.35715e-13 Tp:0.0286703 res:0.00639425"
       ]
      },
      {
       "output_type": "stream",
       "stream": "stdout",
       "text": [
        "\n",
        "Idx:2,Rt:25412.1 Csigma:2.35715e-13 Tp:0.0376137 res:0.00970651"
       ]
      },
      {
       "output_type": "stream",
       "stream": "stdout",
       "text": [
        "\n",
        "Idx:3,Rt:25412.1 Csigma:2.35715e-13 Tp:0.046508 res:0.0111572"
       ]
      },
      {
       "output_type": "stream",
       "stream": "stdout",
       "text": [
        "\n",
        "Idx:4,Rt:25412.1 Csigma:2.35715e-13 Tp:0.0547372 res:0.0131109"
       ]
      },
      {
       "output_type": "stream",
       "stream": "stdout",
       "text": [
        "\n",
        "Idx:0,Rt:25412.1 Csigma:2.35715e-13 Tp:0.0204293 res:0.00345236"
       ]
      },
      {
       "output_type": "stream",
       "stream": "stdout",
       "text": [
        "\n",
        "Idx:1,Rt:25412.1 Csigma:2.35715e-13 Tp:0.0286703 res:0.00639425"
       ]
      },
      {
       "output_type": "stream",
       "stream": "stdout",
       "text": [
        "\n",
        "Idx:2,Rt:25412.1 Csigma:2.35715e-13 Tp:0.0376137 res:0.00970651"
       ]
      },
      {
       "output_type": "stream",
       "stream": "stdout",
       "text": [
        "\n",
        "Idx:3,Rt:25412.1 Csigma:2.35715e-13 Tp:0.046508 res:0.0111572"
       ]
      },
      {
       "output_type": "stream",
       "stream": "stdout",
       "text": [
        "\n",
        "Idx:4,Rt:25412.1 Csigma:2.35715e-13 Tp:0.0547372 res:0.0131109"
       ]
      },
      {
       "output_type": "stream",
       "stream": "stdout",
       "text": [
        "\n",
        "Idx:0,Rt:25412.1 Csigma:2.35715e-13 Tp:0.0204293 res:0.00345236"
       ]
      },
      {
       "output_type": "stream",
       "stream": "stdout",
       "text": [
        "\n",
        "Idx:1,Rt:25412.1 Csigma:2.35715e-13 Tp:0.0286703 res:0.00639425"
       ]
      },
      {
       "output_type": "stream",
       "stream": "stdout",
       "text": [
        "\n",
        "Idx:2,Rt:25412.1 Csigma:2.35715e-13 Tp:0.0376137 res:0.00970651"
       ]
      },
      {
       "output_type": "stream",
       "stream": "stdout",
       "text": [
        "\n",
        "Idx:3,Rt:25412.1 Csigma:2.35715e-13 Tp:0.046508 res:0.0111572"
       ]
      },
      {
       "output_type": "stream",
       "stream": "stdout",
       "text": [
        "\n",
        "Idx:4,Rt:25412.1 Csigma:2.35715e-13 Tp:0.0547372 res:0.0131109"
       ]
      },
      {
       "output_type": "stream",
       "stream": "stdout",
       "text": [
        "\n",
        "Idx:0,Rt:25412.1 Csigma:2.35715e-13 Tp:0.0204293 res:0.00345236"
       ]
      },
      {
       "output_type": "stream",
       "stream": "stdout",
       "text": [
        "\n",
        "Idx:1,Rt:25412.1 Csigma:2.35715e-13 Tp:0.0286703 res:0.00639425"
       ]
      },
      {
       "output_type": "stream",
       "stream": "stdout",
       "text": [
        "\n",
        "Idx:2,Rt:25412.1 Csigma:2.35715e-13 Tp:0.0376137 res:0.00970651"
       ]
      },
      {
       "output_type": "stream",
       "stream": "stdout",
       "text": [
        "\n",
        "Idx:3,Rt:25412.1 Csigma:2.35715e-13 Tp:0.046508 res:0.0111572"
       ]
      },
      {
       "output_type": "stream",
       "stream": "stdout",
       "text": [
        "\n",
        "Idx:4,Rt:25412.1 Csigma:2.35715e-13 Tp:0.0547372 res:0.0131109"
       ]
      },
      {
       "output_type": "stream",
       "stream": "stdout",
       "text": [
        "\n",
        "Idx:0,Rt:25412.1 Csigma:2.35715e-13 Tp:0.0204293 res:0.00345236"
       ]
      },
      {
       "output_type": "stream",
       "stream": "stdout",
       "text": [
        "\n",
        "Idx:1,Rt:25412.1 Csigma:2.35715e-13 Tp:0.0286703 res:0.00639425"
       ]
      },
      {
       "output_type": "stream",
       "stream": "stdout",
       "text": [
        "\n",
        "Idx:2,Rt:25412.1 Csigma:2.35715e-13 Tp:0.0376137 res:0.00970651"
       ]
      },
      {
       "output_type": "stream",
       "stream": "stdout",
       "text": [
        "\n",
        "Idx:3,Rt:25412.1 Csigma:2.35715e-13 Tp:0.046508 res:0.0111572"
       ]
      },
      {
       "output_type": "stream",
       "stream": "stdout",
       "text": [
        "\n",
        "Idx:4,Rt:25412.1 Csigma:2.35715e-13 Tp:0.0547372 res:0.0131109"
       ]
      },
      {
       "output_type": "stream",
       "stream": "stdout",
       "text": [
        "\n",
        "Idx:0,Rt:25412.1 Csigma:2.35715e-13 Tp:0.0204293 res:0.00345236"
       ]
      },
      {
       "output_type": "stream",
       "stream": "stdout",
       "text": [
        "\n",
        "Idx:1,Rt:25412.1 Csigma:2.35715e-13 Tp:0.0286703 res:0.00639425"
       ]
      },
      {
       "output_type": "stream",
       "stream": "stdout",
       "text": [
        "\n",
        "Idx:2,Rt:25412.1 Csigma:2.35715e-13 Tp:0.0376137 res:0.00970651"
       ]
      },
      {
       "output_type": "stream",
       "stream": "stdout",
       "text": [
        "\n",
        "Idx:3,Rt:25412.1 Csigma:2.35715e-13 Tp:0.046508 res:0.0111572"
       ]
      },
      {
       "output_type": "stream",
       "stream": "stdout",
       "text": [
        "\n",
        "Idx:4,Rt:25412.1 Csigma:2.35715e-13 Tp:0.0547372 res:0.0131109"
       ]
      },
      {
       "output_type": "stream",
       "stream": "stdout",
       "text": [
        "\n",
        "Idx:0,Rt:25412.1 Csigma:2.35715e-13 Tp:0.0204293 res:0.00345236"
       ]
      },
      {
       "output_type": "stream",
       "stream": "stdout",
       "text": [
        "\n",
        "Idx:1,Rt:25412.1 Csigma:2.35715e-13 Tp:0.0286703 res:0.00639425"
       ]
      },
      {
       "output_type": "stream",
       "stream": "stdout",
       "text": [
        "\n",
        "Idx:2,Rt:25412.1 Csigma:2.35715e-13 Tp:0.0376137 res:0.00970651"
       ]
      },
      {
       "output_type": "stream",
       "stream": "stdout",
       "text": [
        "\n",
        "Idx:3,Rt:25412.1 Csigma:2.35715e-13 Tp:0.046508 res:0.0111572"
       ]
      },
      {
       "output_type": "stream",
       "stream": "stdout",
       "text": [
        "\n",
        "Idx:4,Rt:25412.1 Csigma:2.35715e-13 Tp:0.0547372 res:0.0131109"
       ]
      },
      {
       "output_type": "stream",
       "stream": "stdout",
       "text": [
        "\n",
        "Idx:0,Rt:25412.1 Csigma:2.35701e-13 Tp:0.0203407 res:0.00343271"
       ]
      },
      {
       "output_type": "stream",
       "stream": "stdout",
       "text": [
        "\n",
        "Idx:1,Rt:25412.1 Csigma:2.35701e-13 Tp:0.0286753 res:0.00637451"
       ]
      },
      {
       "output_type": "stream",
       "stream": "stdout",
       "text": [
        "\n",
        "Idx:2,Rt:25412.1 Csigma:2.35701e-13 Tp:0.0376116 res:0.0096867"
       ]
      },
      {
       "output_type": "stream",
       "stream": "stdout",
       "text": [
        "\n",
        "Idx:3,Rt:25412.1 Csigma:2.35701e-13 Tp:0.0465084 res:0.0111373"
       ]
      },
      {
       "output_type": "stream",
       "stream": "stdout",
       "text": [
        "\n",
        "Idx:4,Rt:25412.1 Csigma:2.35701e-13 Tp:0.054742 res:0.0130911"
       ]
      },
      {
       "output_type": "stream",
       "stream": "stdout",
       "text": [
        "\n",
        "Idx:0,Rt:25412.1 Csigma:2.35701e-13 Tp:0.0203407 res:0.00343271"
       ]
      },
      {
       "output_type": "stream",
       "stream": "stdout",
       "text": [
        "\n",
        "Idx:1,Rt:25412.1 Csigma:2.35701e-13 Tp:0.0286753 res:0.00637451"
       ]
      },
      {
       "output_type": "stream",
       "stream": "stdout",
       "text": [
        "\n",
        "Idx:2,Rt:25412.1 Csigma:2.35701e-13 Tp:0.0376116 res:0.0096867"
       ]
      },
      {
       "output_type": "stream",
       "stream": "stdout",
       "text": [
        "\n",
        "Idx:3,Rt:25412.1 Csigma:2.35701e-13 Tp:0.0465084 res:0.0111373"
       ]
      },
      {
       "output_type": "stream",
       "stream": "stdout",
       "text": [
        "\n",
        "Idx:4,Rt:25412.1 Csigma:2.35701e-13 Tp:0.054742 res:0.0130911"
       ]
      },
      {
       "output_type": "stream",
       "stream": "stdout",
       "text": [
        "\n",
        "Idx:0,Rt:25412.1 Csigma:2.35701e-13 Tp:0.0203407 res:0.00343271"
       ]
      },
      {
       "output_type": "stream",
       "stream": "stdout",
       "text": [
        "\n",
        "Idx:1,Rt:25412.1 Csigma:2.35701e-13 Tp:0.0286753 res:0.00637451"
       ]
      },
      {
       "output_type": "stream",
       "stream": "stdout",
       "text": [
        "\n",
        "Idx:2,Rt:25412.1 Csigma:2.35701e-13 Tp:0.0376116 res:0.0096867"
       ]
      },
      {
       "output_type": "stream",
       "stream": "stdout",
       "text": [
        "\n",
        "Idx:3,Rt:25412.1 Csigma:2.35701e-13 Tp:0.0465084 res:0.0111373"
       ]
      },
      {
       "output_type": "stream",
       "stream": "stdout",
       "text": [
        "\n",
        "Idx:4,Rt:25412.1 Csigma:2.35701e-13 Tp:0.054742 res:0.0130911"
       ]
      },
      {
       "output_type": "stream",
       "stream": "stdout",
       "text": [
        "\n",
        "Idx:0,Rt:25412.1 Csigma:2.35701e-13 Tp:0.0203407 res:0.00343271"
       ]
      },
      {
       "output_type": "stream",
       "stream": "stdout",
       "text": [
        "\n",
        "Idx:1,Rt:25412.1 Csigma:2.35701e-13 Tp:0.0286753 res:0.00637451"
       ]
      },
      {
       "output_type": "stream",
       "stream": "stdout",
       "text": [
        "\n",
        "Idx:2,Rt:25412.1 Csigma:2.35701e-13 Tp:0.0376116 res:0.0096867"
       ]
      },
      {
       "output_type": "stream",
       "stream": "stdout",
       "text": [
        "\n",
        "Idx:3,Rt:25412.1 Csigma:2.35701e-13 Tp:0.0465084 res:0.0111373"
       ]
      },
      {
       "output_type": "stream",
       "stream": "stdout",
       "text": [
        "\n",
        "Idx:4,Rt:25412.1 Csigma:2.35701e-13 Tp:0.054742 res:0.0130911"
       ]
      },
      {
       "output_type": "stream",
       "stream": "stdout",
       "text": [
        "\n",
        "Idx:0,Rt:25412.1 Csigma:2.35701e-13 Tp:0.0203407 res:0.00343271"
       ]
      },
      {
       "output_type": "stream",
       "stream": "stdout",
       "text": [
        "\n",
        "Idx:1,Rt:25412.1 Csigma:2.35701e-13 Tp:0.0286753 res:0.00637451"
       ]
      },
      {
       "output_type": "stream",
       "stream": "stdout",
       "text": [
        "\n",
        "Idx:2,Rt:25412.1 Csigma:2.35701e-13 Tp:0.0376116 res:0.0096867"
       ]
      },
      {
       "output_type": "stream",
       "stream": "stdout",
       "text": [
        "\n",
        "Idx:3,Rt:25412.1 Csigma:2.35701e-13 Tp:0.0465084 res:0.0111373"
       ]
      },
      {
       "output_type": "stream",
       "stream": "stdout",
       "text": [
        "\n",
        "Idx:4,Rt:25412.1 Csigma:2.35701e-13 Tp:0.054742 res:0.0130911"
       ]
      },
      {
       "output_type": "stream",
       "stream": "stdout",
       "text": [
        "\n",
        "Idx:0,Rt:25412.1 Csigma:2.35701e-13 Tp:0.0203407 res:0.00343271"
       ]
      },
      {
       "output_type": "stream",
       "stream": "stdout",
       "text": [
        "\n",
        "Idx:1,Rt:25412.1 Csigma:2.35701e-13 Tp:0.0286753 res:0.00637451"
       ]
      },
      {
       "output_type": "stream",
       "stream": "stdout",
       "text": [
        "\n",
        "Idx:2,Rt:25412.1 Csigma:2.35701e-13 Tp:0.0376116 res:0.0096867"
       ]
      },
      {
       "output_type": "stream",
       "stream": "stdout",
       "text": [
        "\n",
        "Idx:3,Rt:25412.1 Csigma:2.35701e-13 Tp:0.0465084 res:0.0111373"
       ]
      },
      {
       "output_type": "stream",
       "stream": "stdout",
       "text": [
        "\n",
        "Idx:4,Rt:25412.1 Csigma:2.35701e-13 Tp:0.054742 res:0.0130911"
       ]
      },
      {
       "output_type": "stream",
       "stream": "stdout",
       "text": [
        "\n",
        "Idx:0,Rt:25412.1 Csigma:2.35701e-13 Tp:0.0203407 res:0.00343271"
       ]
      },
      {
       "output_type": "stream",
       "stream": "stdout",
       "text": [
        "\n",
        "Idx:1,Rt:25412.1 Csigma:2.35701e-13 Tp:0.0286753 res:0.00637451"
       ]
      },
      {
       "output_type": "stream",
       "stream": "stdout",
       "text": [
        "\n",
        "Idx:2,Rt:25412.1 Csigma:2.35701e-13 Tp:0.0376116 res:0.0096867"
       ]
      },
      {
       "output_type": "stream",
       "stream": "stdout",
       "text": [
        "\n",
        "Idx:3,Rt:25412.1 Csigma:2.35701e-13 Tp:0.0465084 res:0.0111373"
       ]
      },
      {
       "output_type": "stream",
       "stream": "stdout",
       "text": [
        "\n",
        "Idx:4,Rt:25412.1 Csigma:2.35701e-13 Tp:0.054742 res:0.0130911"
       ]
      },
      {
       "output_type": "stream",
       "stream": "stdout",
       "text": [
        "\n",
        "Idx:0,Rt:25412.1 Csigma:2.35701e-13 Tp:0.0203407 res:0.00343271"
       ]
      },
      {
       "output_type": "stream",
       "stream": "stdout",
       "text": [
        "\n",
        "Idx:1,Rt:25412.1 Csigma:2.35701e-13 Tp:0.0286753 res:0.00637451"
       ]
      },
      {
       "output_type": "stream",
       "stream": "stdout",
       "text": [
        "\n",
        "Idx:2,Rt:25412.1 Csigma:2.35701e-13 Tp:0.0376116 res:0.0096867"
       ]
      },
      {
       "output_type": "stream",
       "stream": "stdout",
       "text": [
        "\n",
        "Idx:3,Rt:25412.1 Csigma:2.35701e-13 Tp:0.0465084 res:0.0111373"
       ]
      },
      {
       "output_type": "stream",
       "stream": "stdout",
       "text": [
        "\n",
        "Idx:4,Rt:25412.1 Csigma:2.35701e-13 Tp:0.054742 res:0.0130911"
       ]
      },
      {
       "output_type": "stream",
       "stream": "stdout",
       "text": [
        "\n",
        "Idx:0,Rt:25412.1 Csigma:2.35701e-13 Tp:0.0203407 res:0.00343271"
       ]
      },
      {
       "output_type": "stream",
       "stream": "stdout",
       "text": [
        "\n",
        "Idx:1,Rt:25412.1 Csigma:2.35701e-13 Tp:0.0286753 res:0.00637451"
       ]
      },
      {
       "output_type": "stream",
       "stream": "stdout",
       "text": [
        "\n",
        "Idx:2,Rt:25412.1 Csigma:2.35701e-13 Tp:0.0376116 res:0.0096867"
       ]
      },
      {
       "output_type": "stream",
       "stream": "stdout",
       "text": [
        "\n",
        "Idx:3,Rt:25412.1 Csigma:2.35701e-13 Tp:0.0465084 res:0.0111373"
       ]
      },
      {
       "output_type": "stream",
       "stream": "stdout",
       "text": [
        "\n",
        "Idx:4,Rt:25412.1 Csigma:2.35701e-13 Tp:0.054742 res:0.0130911"
       ]
      },
      {
       "output_type": "stream",
       "stream": "stdout",
       "text": [
        "\n",
        "Idx:0,Rt:25412.1 Csigma:2.35679e-13 Tp:0.0202002 res:0.00342117"
       ]
      },
      {
       "output_type": "stream",
       "stream": "stdout",
       "text": [
        "\n",
        "Idx:1,Rt:25412.1 Csigma:2.35679e-13 Tp:0.0286832 res:0.00636283"
       ]
      },
      {
       "output_type": "stream",
       "stream": "stdout",
       "text": [
        "\n",
        "Idx:2,Rt:25412.1 Csigma:2.35679e-13 Tp:0.0376083 res:0.00967492"
       ]
      },
      {
       "output_type": "stream",
       "stream": "stdout",
       "text": [
        "\n",
        "Idx:3,Rt:25412.1 Csigma:2.35679e-13 Tp:0.046509 res:0.0111255"
       ]
      },
      {
       "output_type": "stream",
       "stream": "stdout",
       "text": [
        "\n",
        "Idx:4,Rt:25412.1 Csigma:2.35679e-13 Tp:0.0547498 res:0.0130794"
       ]
      },
      {
       "output_type": "stream",
       "stream": "stdout",
       "text": [
        "\n",
        "Idx:0,Rt:25412.1 Csigma:2.35679e-13 Tp:0.0202002 res:0.00342117"
       ]
      },
      {
       "output_type": "stream",
       "stream": "stdout",
       "text": [
        "\n",
        "Idx:1,Rt:25412.1 Csigma:2.35679e-13 Tp:0.0286832 res:0.00636283"
       ]
      },
      {
       "output_type": "stream",
       "stream": "stdout",
       "text": [
        "\n",
        "Idx:2,Rt:25412.1 Csigma:2.35679e-13 Tp:0.0376083 res:0.00967492"
       ]
      },
      {
       "output_type": "stream",
       "stream": "stdout",
       "text": [
        "\n",
        "Idx:3,Rt:25412.1 Csigma:2.35679e-13 Tp:0.046509 res:0.0111255"
       ]
      },
      {
       "output_type": "stream",
       "stream": "stdout",
       "text": [
        "\n",
        "Idx:4,Rt:25412.1 Csigma:2.35679e-13 Tp:0.0547498 res:0.0130794"
       ]
      },
      {
       "output_type": "stream",
       "stream": "stdout",
       "text": [
        "\n",
        "Idx:0,Rt:25412.1 Csigma:2.35679e-13 Tp:0.0202002 res:0.00342117"
       ]
      },
      {
       "output_type": "stream",
       "stream": "stdout",
       "text": [
        "\n",
        "Idx:1,Rt:25412.1 Csigma:2.35679e-13 Tp:0.0286832 res:0.00636283"
       ]
      },
      {
       "output_type": "stream",
       "stream": "stdout",
       "text": [
        "\n",
        "Idx:2,Rt:25412.1 Csigma:2.35679e-13 Tp:0.0376083 res:0.00967492"
       ]
      },
      {
       "output_type": "stream",
       "stream": "stdout",
       "text": [
        "\n",
        "Idx:3,Rt:25412.1 Csigma:2.35679e-13 Tp:0.046509 res:0.0111255"
       ]
      },
      {
       "output_type": "stream",
       "stream": "stdout",
       "text": [
        "\n",
        "Idx:4,Rt:25412.1 Csigma:2.35679e-13 Tp:0.0547498 res:0.0130794"
       ]
      },
      {
       "output_type": "stream",
       "stream": "stdout",
       "text": [
        "\n",
        "Idx:0,Rt:25412.1 Csigma:2.35679e-13 Tp:0.0202002 res:0.00342117"
       ]
      },
      {
       "output_type": "stream",
       "stream": "stdout",
       "text": [
        "\n",
        "Idx:1,Rt:25412.1 Csigma:2.35679e-13 Tp:0.0286832 res:0.00636283"
       ]
      },
      {
       "output_type": "stream",
       "stream": "stdout",
       "text": [
        "\n",
        "Idx:2,Rt:25412.1 Csigma:2.35679e-13 Tp:0.0376083 res:0.00967492"
       ]
      },
      {
       "output_type": "stream",
       "stream": "stdout",
       "text": [
        "\n",
        "Idx:3,Rt:25412.1 Csigma:2.35679e-13 Tp:0.046509 res:0.0111255"
       ]
      },
      {
       "output_type": "stream",
       "stream": "stdout",
       "text": [
        "\n",
        "Idx:4,Rt:25412.1 Csigma:2.35679e-13 Tp:0.0547498 res:0.0130794"
       ]
      },
      {
       "output_type": "stream",
       "stream": "stdout",
       "text": [
        "\n",
        "Idx:0,Rt:25412.1 Csigma:2.35679e-13 Tp:0.0202002 res:0.00342117"
       ]
      },
      {
       "output_type": "stream",
       "stream": "stdout",
       "text": [
        "\n",
        "Idx:1,Rt:25412.1 Csigma:2.35679e-13 Tp:0.0286832 res:0.00636283"
       ]
      },
      {
       "output_type": "stream",
       "stream": "stdout",
       "text": [
        "\n",
        "Idx:2,Rt:25412.1 Csigma:2.35679e-13 Tp:0.0376083 res:0.00967492"
       ]
      },
      {
       "output_type": "stream",
       "stream": "stdout",
       "text": [
        "\n",
        "Idx:3,Rt:25412.1 Csigma:2.35679e-13 Tp:0.046509 res:0.0111255"
       ]
      },
      {
       "output_type": "stream",
       "stream": "stdout",
       "text": [
        "\n",
        "Idx:4,Rt:25412.1 Csigma:2.35679e-13 Tp:0.0547498 res:0.0130794"
       ]
      },
      {
       "output_type": "stream",
       "stream": "stdout",
       "text": [
        "\n",
        "Idx:0,Rt:25412.1 Csigma:2.35679e-13 Tp:0.0202002 res:0.00342117"
       ]
      },
      {
       "output_type": "stream",
       "stream": "stdout",
       "text": [
        "\n",
        "Idx:1,Rt:25412.1 Csigma:2.35679e-13 Tp:0.0286832 res:0.00636283"
       ]
      },
      {
       "output_type": "stream",
       "stream": "stdout",
       "text": [
        "\n",
        "Idx:2,Rt:25412.1 Csigma:2.35679e-13 Tp:0.0376083 res:0.00967492"
       ]
      },
      {
       "output_type": "stream",
       "stream": "stdout",
       "text": [
        "\n",
        "Idx:3,Rt:25412.1 Csigma:2.35679e-13 Tp:0.046509 res:0.0111255"
       ]
      },
      {
       "output_type": "stream",
       "stream": "stdout",
       "text": [
        "\n",
        "Idx:4,Rt:25412.1 Csigma:2.35679e-13 Tp:0.0547498 res:0.0130794"
       ]
      },
      {
       "output_type": "stream",
       "stream": "stdout",
       "text": [
        "\n",
        "Idx:0,Rt:25412.1 Csigma:2.35679e-13 Tp:0.0202002 res:0.00342117"
       ]
      },
      {
       "output_type": "stream",
       "stream": "stdout",
       "text": [
        "\n",
        "Idx:1,Rt:25412.1 Csigma:2.35679e-13 Tp:0.0286832 res:0.00636283"
       ]
      },
      {
       "output_type": "stream",
       "stream": "stdout",
       "text": [
        "\n",
        "Idx:2,Rt:25412.1 Csigma:2.35679e-13 Tp:0.0376083 res:0.00967492"
       ]
      },
      {
       "output_type": "stream",
       "stream": "stdout",
       "text": [
        "\n",
        "Idx:3,Rt:25412.1 Csigma:2.35679e-13 Tp:0.046509 res:0.0111255"
       ]
      },
      {
       "output_type": "stream",
       "stream": "stdout",
       "text": [
        "\n",
        "Idx:4,Rt:25412.1 Csigma:2.35679e-13 Tp:0.0547498 res:0.0130794"
       ]
      },
      {
       "output_type": "stream",
       "stream": "stdout",
       "text": [
        "\n",
        "Idx:0,Rt:25412.1 Csigma:2.35679e-13 Tp:0.0202002 res:0.00342117"
       ]
      },
      {
       "output_type": "stream",
       "stream": "stdout",
       "text": [
        "\n",
        "Idx:1,Rt:25412.1 Csigma:2.35679e-13 Tp:0.0286832 res:0.00636283"
       ]
      },
      {
       "output_type": "stream",
       "stream": "stdout",
       "text": [
        "\n",
        "Idx:2,Rt:25412.1 Csigma:2.35679e-13 Tp:0.0376083 res:0.00967492"
       ]
      },
      {
       "output_type": "stream",
       "stream": "stdout",
       "text": [
        "\n",
        "Idx:3,Rt:25412.1 Csigma:2.35679e-13 Tp:0.046509 res:0.0111255"
       ]
      },
      {
       "output_type": "stream",
       "stream": "stdout",
       "text": [
        "\n",
        "Idx:4,Rt:25412.1 Csigma:2.35679e-13 Tp:0.0547498 res:0.0130794"
       ]
      },
      {
       "output_type": "stream",
       "stream": "stdout",
       "text": [
        "\n",
        "Idx:0,Rt:25412.1 Csigma:2.35679e-13 Tp:0.0202002 res:0.00342117"
       ]
      },
      {
       "output_type": "stream",
       "stream": "stdout",
       "text": [
        "\n",
        "Idx:1,Rt:25412.1 Csigma:2.35679e-13 Tp:0.0286832 res:0.00636283"
       ]
      },
      {
       "output_type": "stream",
       "stream": "stdout",
       "text": [
        "\n",
        "Idx:2,Rt:25412.1 Csigma:2.35679e-13 Tp:0.0376083 res:0.00967492"
       ]
      },
      {
       "output_type": "stream",
       "stream": "stdout",
       "text": [
        "\n",
        "Idx:3,Rt:25412.1 Csigma:2.35679e-13 Tp:0.046509 res:0.0111255"
       ]
      },
      {
       "output_type": "stream",
       "stream": "stdout",
       "text": [
        "\n",
        "Idx:4,Rt:25412.1 Csigma:2.35679e-13 Tp:0.0547498 res:0.0130794"
       ]
      },
      {
       "output_type": "stream",
       "stream": "stdout",
       "text": [
        "\n",
        "Optimization terminated successfully.\n",
        "         Current function value: 0.013079\n",
        "         Iterations: 4\n",
        "         Function evaluations: 153\n",
        "         Gradient evaluations: 17\n",
        "xopt:\n",
        "(array([  25.41205863,  235.67877558,   20.20017719,   28.68317063,\n",
        "         37.60829767,   46.5090027 ,   54.74975735]), 0.013079431558950305, array([ -1.58627518e-06,   2.60773813e-05,  -1.08107924e-05,\n",
        "        -1.48265390e-05,   8.68877396e-06,  -2.20711809e-06,\n",
        "        -1.52871944e-05]), array([[  8.38898967e-02,   4.78061401e-03,   2.69256795e-02,\n",
        "         -1.45556067e-03,   6.43438463e-04,  -1.66025417e-04,\n",
        "         -1.32651828e-03],\n",
        "       [  4.78061401e-03,   2.22298772e+01,   1.32657287e+02,\n",
        "         -7.45748074e+00,   3.12643162e+00,  -5.81344589e-01,\n",
        "         -7.28836915e+00],\n",
        "       [  2.69256795e-02,   1.32657287e+02,   8.29923462e+02,\n",
        "         -4.65989251e+01,   1.95358805e+01,  -3.63260004e+00,\n",
        "         -4.55422150e+01],\n",
        "       [ -1.45556067e-03,  -7.45748074e+00,  -4.65989251e+01,\n",
        "          3.61960968e+00,  -1.09822951e+00,   2.04209933e-01,\n",
        "          2.56020620e+00],\n",
        "       [  6.43438463e-04,   3.12643162e+00,   1.95358805e+01,\n",
        "         -1.09822951e+00,   1.46041473e+00,  -8.56114912e-02,\n",
        "         -1.07332586e+00],\n",
        "       [ -1.66025417e-04,  -5.81344589e-01,  -3.63260004e+00,\n",
        "          2.04209933e-01,  -8.56114912e-02,   1.01591869e+00,\n",
        "          1.99579762e-01],\n",
        "       [ -1.32651828e-03,  -7.28836915e+00,  -4.55422150e+01,\n",
        "          2.56020620e+00,  -1.07332586e+00,   1.99579762e-01,\n",
        "          3.50214876e+00]]), 153, 17, 0)\n",
        "==== After multi optimization: ====\n",
        "R_T = 25.4121\n",
        "C_sigma = 235.679 \n",
        "T1 = 20.2002 mK\n",
        "T2 = 28.6832 mK\n",
        "T3 = 37.6083 mK\n",
        "T4 = 46.509 mK\n",
        "T5 = 54.7498 mK\n",
        "====================\n",
        "     Final results  \n",
        "file:../src/data/sample_T2.txt\n",
        "R_T(0):25.4059 R_T(multi):25.4121\n",
        "C_sigma(0):231.52 C_sigma(multi):235.679\n",
        "T(0):20.4696 T(multi):20.2002\n",
        "file:../src/data/sample_T3.txt\n",
        "R_T(0):25.4113 R_T(multi):25.4121\n",
        "C_sigma(0):236.321 C_sigma(multi):235.679\n",
        "T(0):28.668 T(multi):28.6832\n",
        "file:../src/data/sample_T4.txt\n",
        "R_T(0):25.4122 R_T(multi):25.4121\n",
        "C_sigma(0):234.931 C_sigma(multi):235.679\n",
        "T(0):37.6146 T(multi):37.6083\n",
        "file:../src/data/sample_T5.txt\n",
        "R_T(0):25.4124 R_T(multi):25.4121\n",
        "C_sigma(0):235.838 C_sigma(multi):235.679\n",
        "T(0):46.5078 T(multi):46.509\n",
        "file:../src/data/sample_T6.txt\n",
        "R_T(0):25.4149 R_T(multi):25.4121\n",
        "C_sigma(0):240 C_sigma(multi):235.679\n",
        "T(0):54.735 T(multi):54.7498\n"
       ]
      }
     ],
     "prompt_number": 8
    },
    {
     "cell_type": "markdown",
     "metadata": {},
     "source": [
      "Finally, the plots of the measured data which have been fitted using the multi-fit and the single-fit procedures are saved as *41A4_multifit1.pdf* and *41A4_multifit2.pdf* respectively. And the total time is printed."
     ]
    },
    {
     "cell_type": "code",
     "collapsed": false,
     "input": [
      "cc = CBT_plot_data_pyx(fitters)\n",
      "cc.plot_multi_data(filename=result_pdf_1)  #  multi-fitted curves\n",
      "cc.plot_data(filename=result_pdf_2)   #  single-fitted curves\n",
      "print \"it took\", time.time() - start, \"seconds.\"  #  total time"
     ],
     "language": "python",
     "metadata": {},
     "outputs": [
      {
       "output_type": "stream",
       "stream": "stdout",
       "text": [
        "it took 2701.95700002 seconds.\n"
       ]
      }
     ],
     "prompt_number": 9
    },
    {
     "cell_type": "markdown",
     "metadata": {},
     "source": [
      "Informations about the python platform used in the notebook:"
     ]
    },
    {
     "cell_type": "code",
     "collapsed": false,
     "input": [
      "import platform\n",
      "print(\"Platform:%s\"%platform.platform())\n",
      "print(\"Processor:%s\"%platform.processor())\n",
      "print(\"Python implementation:%s\"%platform.python_implementation())\n",
      "print(\"Python version:%s\"%platform.python_version())\n",
      "print(\"machine:%s\"%platform.machine())\n",
      "print(\"Python compiler:%s\"%platform.python_compiler())\n",
      "print(\"Version:%s\"%platform.version())"
     ],
     "language": "python",
     "metadata": {},
     "outputs": [
      {
       "output_type": "stream",
       "stream": "stdout",
       "text": [
        "Platform:Windows-7-6.1.7601-SP1\n",
        "Processor:x86 Family 6 Model 37 Stepping 2, GenuineIntel\n",
        "Python implementation:CPython\n",
        "Python version:2.7.6\n",
        "machine:x86\n",
        "Python compiler:MSC v.1500 32 bit (Intel)\n",
        "Version:6.1.7601\n"
       ]
      }
     ],
     "prompt_number": 10
    },
    {
     "cell_type": "code",
     "collapsed": false,
     "input": [],
     "language": "python",
     "metadata": {},
     "outputs": [],
     "prompt_number": 29
    }
   ],
   "metadata": {}
  }
 ]
}